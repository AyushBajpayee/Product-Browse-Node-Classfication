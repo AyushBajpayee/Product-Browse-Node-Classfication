{
  "nbformat": 4,
  "nbformat_minor": 5,
  "metadata": {
    "accelerator": "GPU",
    "colab": {
      "name": "Final_AmazonML.ipynb",
      "provenance": [],
      "collapsed_sections": [
        "1e3d57fa",
        "8cacf0a7",
        "99cb3fa5",
        "693acf61",
        "25d49607",
        "320f9225",
        "fe4cdca6",
        "ba34ea63",
        "da5f8308",
        "e13c347f",
        "925a8218",
        "10b81ddc",
        "313ef482",
        "836bdd4f",
        "ibXyCi7lypNF",
        "1mJKML-QArT7"
      ]
    },
    "kernelspec": {
      "display_name": "Python 3 (ipykernel)",
      "language": "python",
      "name": "python3"
    },
    "language_info": {
      "codemirror_mode": {
        "name": "ipython",
        "version": 3
      },
      "file_extension": ".py",
      "mimetype": "text/x-python",
      "name": "python",
      "nbconvert_exporter": "python",
      "pygments_lexer": "ipython3",
      "version": "3.7.0"
    },
    "toc": {
      "base_numbering": 1,
      "nav_menu": {},
      "number_sections": true,
      "sideBar": true,
      "skip_h1_title": false,
      "title_cell": "Table of Contents",
      "title_sidebar": "Contents",
      "toc_cell": false,
      "toc_position": {
        "height": "calc(100% - 180px)",
        "left": "10px",
        "top": "150px",
        "width": "181px"
      },
      "toc_section_display": true,
      "toc_window_display": false
    },
    "varInspector": {
      "cols": {
        "lenName": 16,
        "lenType": 16,
        "lenVar": 40
      },
      "kernels_config": {
        "python": {
          "delete_cmd_postfix": "",
          "delete_cmd_prefix": "del ",
          "library": "var_list.py",
          "varRefreshCmd": "print(var_dic_list())"
        },
        "r": {
          "delete_cmd_postfix": ") ",
          "delete_cmd_prefix": "rm(",
          "library": "var_list.r",
          "varRefreshCmd": "cat(var_dic_list()) "
        }
      },
      "oldHeight": 122.667,
      "position": {
        "height": "64px",
        "left": "916px",
        "right": "20px",
        "top": "176px",
        "width": "306px"
      },
      "types_to_exclude": [
        "module",
        "function",
        "builtin_function_or_method",
        "instance",
        "_Feature"
      ],
      "varInspector_section_display": "none",
      "window_display": false
    },
    "widgets": {
      "application/vnd.jupyter.widget-state+json": {
        "e8790a198fea4d2ab054fd14789bff01": {
          "model_module": "@jupyter-widgets/controls",
          "model_name": "HBoxModel",
          "model_module_version": "1.5.0",
          "state": {
            "_view_name": "HBoxView",
            "_dom_classes": [],
            "_model_name": "HBoxModel",
            "_view_module": "@jupyter-widgets/controls",
            "_model_module_version": "1.5.0",
            "_view_count": null,
            "_view_module_version": "1.5.0",
            "box_style": "",
            "layout": "IPY_MODEL_70a4051bd1cf43a48ddbb019b67445c4",
            "_model_module": "@jupyter-widgets/controls",
            "children": [
              "IPY_MODEL_058f124bc60742aeba7ccf84f2615bd5",
              "IPY_MODEL_d8fcd3cf496a4f18819a750a804ccb4c",
              "IPY_MODEL_3cb277d5646841c4b8354ed5614478eb"
            ]
          }
        },
        "70a4051bd1cf43a48ddbb019b67445c4": {
          "model_module": "@jupyter-widgets/base",
          "model_name": "LayoutModel",
          "model_module_version": "1.2.0",
          "state": {
            "_view_name": "LayoutView",
            "grid_template_rows": null,
            "right": null,
            "justify_content": null,
            "_view_module": "@jupyter-widgets/base",
            "overflow": null,
            "_model_module_version": "1.2.0",
            "_view_count": null,
            "flex_flow": null,
            "width": null,
            "min_width": null,
            "border": null,
            "align_items": null,
            "bottom": null,
            "_model_module": "@jupyter-widgets/base",
            "top": null,
            "grid_column": null,
            "overflow_y": null,
            "overflow_x": null,
            "grid_auto_flow": null,
            "grid_area": null,
            "grid_template_columns": null,
            "flex": null,
            "_model_name": "LayoutModel",
            "justify_items": null,
            "grid_row": null,
            "max_height": null,
            "align_content": null,
            "visibility": null,
            "align_self": null,
            "height": null,
            "min_height": null,
            "padding": null,
            "grid_auto_rows": null,
            "grid_gap": null,
            "max_width": null,
            "order": null,
            "_view_module_version": "1.2.0",
            "grid_template_areas": null,
            "object_position": null,
            "object_fit": null,
            "grid_auto_columns": null,
            "margin": null,
            "display": null,
            "left": null
          }
        },
        "058f124bc60742aeba7ccf84f2615bd5": {
          "model_module": "@jupyter-widgets/controls",
          "model_name": "HTMLModel",
          "model_module_version": "1.5.0",
          "state": {
            "_view_name": "HTMLView",
            "style": "IPY_MODEL_d83204b9b3704f97bb75063fc0a92fc3",
            "_dom_classes": [],
            "description": "",
            "_model_name": "HTMLModel",
            "placeholder": "​",
            "_view_module": "@jupyter-widgets/controls",
            "_model_module_version": "1.5.0",
            "value": "Downloading: 100%",
            "_view_count": null,
            "_view_module_version": "1.5.0",
            "description_tooltip": null,
            "_model_module": "@jupyter-widgets/controls",
            "layout": "IPY_MODEL_7df0ff072150417883c848f0c308cac0"
          }
        },
        "d8fcd3cf496a4f18819a750a804ccb4c": {
          "model_module": "@jupyter-widgets/controls",
          "model_name": "FloatProgressModel",
          "model_module_version": "1.5.0",
          "state": {
            "_view_name": "ProgressView",
            "style": "IPY_MODEL_24e1f6205ce64804ac1b7f806ad2b29d",
            "_dom_classes": [],
            "description": "",
            "_model_name": "FloatProgressModel",
            "bar_style": "success",
            "max": 231508,
            "_view_module": "@jupyter-widgets/controls",
            "_model_module_version": "1.5.0",
            "value": 231508,
            "_view_count": null,
            "_view_module_version": "1.5.0",
            "orientation": "horizontal",
            "min": 0,
            "description_tooltip": null,
            "_model_module": "@jupyter-widgets/controls",
            "layout": "IPY_MODEL_7a3c0f75430f4e3781a25817869061fd"
          }
        },
        "3cb277d5646841c4b8354ed5614478eb": {
          "model_module": "@jupyter-widgets/controls",
          "model_name": "HTMLModel",
          "model_module_version": "1.5.0",
          "state": {
            "_view_name": "HTMLView",
            "style": "IPY_MODEL_01336451d6204fe38038941cf1fdedf1",
            "_dom_classes": [],
            "description": "",
            "_model_name": "HTMLModel",
            "placeholder": "​",
            "_view_module": "@jupyter-widgets/controls",
            "_model_module_version": "1.5.0",
            "value": " 232k/232k [00:00&lt;00:00, 1.60MB/s]",
            "_view_count": null,
            "_view_module_version": "1.5.0",
            "description_tooltip": null,
            "_model_module": "@jupyter-widgets/controls",
            "layout": "IPY_MODEL_57ca26561d1e437a84b67b42cf229624"
          }
        },
        "d83204b9b3704f97bb75063fc0a92fc3": {
          "model_module": "@jupyter-widgets/controls",
          "model_name": "DescriptionStyleModel",
          "model_module_version": "1.5.0",
          "state": {
            "_view_name": "StyleView",
            "_model_name": "DescriptionStyleModel",
            "description_width": "",
            "_view_module": "@jupyter-widgets/base",
            "_model_module_version": "1.5.0",
            "_view_count": null,
            "_view_module_version": "1.2.0",
            "_model_module": "@jupyter-widgets/controls"
          }
        },
        "7df0ff072150417883c848f0c308cac0": {
          "model_module": "@jupyter-widgets/base",
          "model_name": "LayoutModel",
          "model_module_version": "1.2.0",
          "state": {
            "_view_name": "LayoutView",
            "grid_template_rows": null,
            "right": null,
            "justify_content": null,
            "_view_module": "@jupyter-widgets/base",
            "overflow": null,
            "_model_module_version": "1.2.0",
            "_view_count": null,
            "flex_flow": null,
            "width": null,
            "min_width": null,
            "border": null,
            "align_items": null,
            "bottom": null,
            "_model_module": "@jupyter-widgets/base",
            "top": null,
            "grid_column": null,
            "overflow_y": null,
            "overflow_x": null,
            "grid_auto_flow": null,
            "grid_area": null,
            "grid_template_columns": null,
            "flex": null,
            "_model_name": "LayoutModel",
            "justify_items": null,
            "grid_row": null,
            "max_height": null,
            "align_content": null,
            "visibility": null,
            "align_self": null,
            "height": null,
            "min_height": null,
            "padding": null,
            "grid_auto_rows": null,
            "grid_gap": null,
            "max_width": null,
            "order": null,
            "_view_module_version": "1.2.0",
            "grid_template_areas": null,
            "object_position": null,
            "object_fit": null,
            "grid_auto_columns": null,
            "margin": null,
            "display": null,
            "left": null
          }
        },
        "24e1f6205ce64804ac1b7f806ad2b29d": {
          "model_module": "@jupyter-widgets/controls",
          "model_name": "ProgressStyleModel",
          "model_module_version": "1.5.0",
          "state": {
            "_view_name": "StyleView",
            "_model_name": "ProgressStyleModel",
            "description_width": "",
            "_view_module": "@jupyter-widgets/base",
            "_model_module_version": "1.5.0",
            "_view_count": null,
            "_view_module_version": "1.2.0",
            "bar_color": null,
            "_model_module": "@jupyter-widgets/controls"
          }
        },
        "7a3c0f75430f4e3781a25817869061fd": {
          "model_module": "@jupyter-widgets/base",
          "model_name": "LayoutModel",
          "model_module_version": "1.2.0",
          "state": {
            "_view_name": "LayoutView",
            "grid_template_rows": null,
            "right": null,
            "justify_content": null,
            "_view_module": "@jupyter-widgets/base",
            "overflow": null,
            "_model_module_version": "1.2.0",
            "_view_count": null,
            "flex_flow": null,
            "width": null,
            "min_width": null,
            "border": null,
            "align_items": null,
            "bottom": null,
            "_model_module": "@jupyter-widgets/base",
            "top": null,
            "grid_column": null,
            "overflow_y": null,
            "overflow_x": null,
            "grid_auto_flow": null,
            "grid_area": null,
            "grid_template_columns": null,
            "flex": null,
            "_model_name": "LayoutModel",
            "justify_items": null,
            "grid_row": null,
            "max_height": null,
            "align_content": null,
            "visibility": null,
            "align_self": null,
            "height": null,
            "min_height": null,
            "padding": null,
            "grid_auto_rows": null,
            "grid_gap": null,
            "max_width": null,
            "order": null,
            "_view_module_version": "1.2.0",
            "grid_template_areas": null,
            "object_position": null,
            "object_fit": null,
            "grid_auto_columns": null,
            "margin": null,
            "display": null,
            "left": null
          }
        },
        "01336451d6204fe38038941cf1fdedf1": {
          "model_module": "@jupyter-widgets/controls",
          "model_name": "DescriptionStyleModel",
          "model_module_version": "1.5.0",
          "state": {
            "_view_name": "StyleView",
            "_model_name": "DescriptionStyleModel",
            "description_width": "",
            "_view_module": "@jupyter-widgets/base",
            "_model_module_version": "1.5.0",
            "_view_count": null,
            "_view_module_version": "1.2.0",
            "_model_module": "@jupyter-widgets/controls"
          }
        },
        "57ca26561d1e437a84b67b42cf229624": {
          "model_module": "@jupyter-widgets/base",
          "model_name": "LayoutModel",
          "model_module_version": "1.2.0",
          "state": {
            "_view_name": "LayoutView",
            "grid_template_rows": null,
            "right": null,
            "justify_content": null,
            "_view_module": "@jupyter-widgets/base",
            "overflow": null,
            "_model_module_version": "1.2.0",
            "_view_count": null,
            "flex_flow": null,
            "width": null,
            "min_width": null,
            "border": null,
            "align_items": null,
            "bottom": null,
            "_model_module": "@jupyter-widgets/base",
            "top": null,
            "grid_column": null,
            "overflow_y": null,
            "overflow_x": null,
            "grid_auto_flow": null,
            "grid_area": null,
            "grid_template_columns": null,
            "flex": null,
            "_model_name": "LayoutModel",
            "justify_items": null,
            "grid_row": null,
            "max_height": null,
            "align_content": null,
            "visibility": null,
            "align_self": null,
            "height": null,
            "min_height": null,
            "padding": null,
            "grid_auto_rows": null,
            "grid_gap": null,
            "max_width": null,
            "order": null,
            "_view_module_version": "1.2.0",
            "grid_template_areas": null,
            "object_position": null,
            "object_fit": null,
            "grid_auto_columns": null,
            "margin": null,
            "display": null,
            "left": null
          }
        },
        "c601a82e1b184deb93d47c76ae6acd25": {
          "model_module": "@jupyter-widgets/controls",
          "model_name": "HBoxModel",
          "model_module_version": "1.5.0",
          "state": {
            "_view_name": "HBoxView",
            "_dom_classes": [],
            "_model_name": "HBoxModel",
            "_view_module": "@jupyter-widgets/controls",
            "_model_module_version": "1.5.0",
            "_view_count": null,
            "_view_module_version": "1.5.0",
            "box_style": "",
            "layout": "IPY_MODEL_76f98ef4378e4e6d942ab5caaab3b4ed",
            "_model_module": "@jupyter-widgets/controls",
            "children": [
              "IPY_MODEL_1e79e755940647fda028cb6c560ddd1b",
              "IPY_MODEL_a9142cbf61634aefb9522557b933663f",
              "IPY_MODEL_4023b92f582c4066a75f649deb29ab23"
            ]
          }
        },
        "76f98ef4378e4e6d942ab5caaab3b4ed": {
          "model_module": "@jupyter-widgets/base",
          "model_name": "LayoutModel",
          "model_module_version": "1.2.0",
          "state": {
            "_view_name": "LayoutView",
            "grid_template_rows": null,
            "right": null,
            "justify_content": null,
            "_view_module": "@jupyter-widgets/base",
            "overflow": null,
            "_model_module_version": "1.2.0",
            "_view_count": null,
            "flex_flow": null,
            "width": null,
            "min_width": null,
            "border": null,
            "align_items": null,
            "bottom": null,
            "_model_module": "@jupyter-widgets/base",
            "top": null,
            "grid_column": null,
            "overflow_y": null,
            "overflow_x": null,
            "grid_auto_flow": null,
            "grid_area": null,
            "grid_template_columns": null,
            "flex": null,
            "_model_name": "LayoutModel",
            "justify_items": null,
            "grid_row": null,
            "max_height": null,
            "align_content": null,
            "visibility": null,
            "align_self": null,
            "height": null,
            "min_height": null,
            "padding": null,
            "grid_auto_rows": null,
            "grid_gap": null,
            "max_width": null,
            "order": null,
            "_view_module_version": "1.2.0",
            "grid_template_areas": null,
            "object_position": null,
            "object_fit": null,
            "grid_auto_columns": null,
            "margin": null,
            "display": null,
            "left": null
          }
        },
        "1e79e755940647fda028cb6c560ddd1b": {
          "model_module": "@jupyter-widgets/controls",
          "model_name": "HTMLModel",
          "model_module_version": "1.5.0",
          "state": {
            "_view_name": "HTMLView",
            "style": "IPY_MODEL_4f0428d6976243b688965db1cc18004f",
            "_dom_classes": [],
            "description": "",
            "_model_name": "HTMLModel",
            "placeholder": "​",
            "_view_module": "@jupyter-widgets/controls",
            "_model_module_version": "1.5.0",
            "value": "Downloading: 100%",
            "_view_count": null,
            "_view_module_version": "1.5.0",
            "description_tooltip": null,
            "_model_module": "@jupyter-widgets/controls",
            "layout": "IPY_MODEL_8ba6059f4dae47438e8108c998740264"
          }
        },
        "a9142cbf61634aefb9522557b933663f": {
          "model_module": "@jupyter-widgets/controls",
          "model_name": "FloatProgressModel",
          "model_module_version": "1.5.0",
          "state": {
            "_view_name": "ProgressView",
            "style": "IPY_MODEL_39560a4c72e9467ab0fae90adab7a009",
            "_dom_classes": [],
            "description": "",
            "_model_name": "FloatProgressModel",
            "bar_style": "success",
            "max": 466062,
            "_view_module": "@jupyter-widgets/controls",
            "_model_module_version": "1.5.0",
            "value": 466062,
            "_view_count": null,
            "_view_module_version": "1.5.0",
            "orientation": "horizontal",
            "min": 0,
            "description_tooltip": null,
            "_model_module": "@jupyter-widgets/controls",
            "layout": "IPY_MODEL_357535b02d2c4210831f51de5a5a7ae1"
          }
        },
        "4023b92f582c4066a75f649deb29ab23": {
          "model_module": "@jupyter-widgets/controls",
          "model_name": "HTMLModel",
          "model_module_version": "1.5.0",
          "state": {
            "_view_name": "HTMLView",
            "style": "IPY_MODEL_0f18ed3be90b4486b5f9551edc66b2c9",
            "_dom_classes": [],
            "description": "",
            "_model_name": "HTMLModel",
            "placeholder": "​",
            "_view_module": "@jupyter-widgets/controls",
            "_model_module_version": "1.5.0",
            "value": " 466k/466k [00:00&lt;00:00, 1.53MB/s]",
            "_view_count": null,
            "_view_module_version": "1.5.0",
            "description_tooltip": null,
            "_model_module": "@jupyter-widgets/controls",
            "layout": "IPY_MODEL_bab324408acd4247a9ae794faac801d5"
          }
        },
        "4f0428d6976243b688965db1cc18004f": {
          "model_module": "@jupyter-widgets/controls",
          "model_name": "DescriptionStyleModel",
          "model_module_version": "1.5.0",
          "state": {
            "_view_name": "StyleView",
            "_model_name": "DescriptionStyleModel",
            "description_width": "",
            "_view_module": "@jupyter-widgets/base",
            "_model_module_version": "1.5.0",
            "_view_count": null,
            "_view_module_version": "1.2.0",
            "_model_module": "@jupyter-widgets/controls"
          }
        },
        "8ba6059f4dae47438e8108c998740264": {
          "model_module": "@jupyter-widgets/base",
          "model_name": "LayoutModel",
          "model_module_version": "1.2.0",
          "state": {
            "_view_name": "LayoutView",
            "grid_template_rows": null,
            "right": null,
            "justify_content": null,
            "_view_module": "@jupyter-widgets/base",
            "overflow": null,
            "_model_module_version": "1.2.0",
            "_view_count": null,
            "flex_flow": null,
            "width": null,
            "min_width": null,
            "border": null,
            "align_items": null,
            "bottom": null,
            "_model_module": "@jupyter-widgets/base",
            "top": null,
            "grid_column": null,
            "overflow_y": null,
            "overflow_x": null,
            "grid_auto_flow": null,
            "grid_area": null,
            "grid_template_columns": null,
            "flex": null,
            "_model_name": "LayoutModel",
            "justify_items": null,
            "grid_row": null,
            "max_height": null,
            "align_content": null,
            "visibility": null,
            "align_self": null,
            "height": null,
            "min_height": null,
            "padding": null,
            "grid_auto_rows": null,
            "grid_gap": null,
            "max_width": null,
            "order": null,
            "_view_module_version": "1.2.0",
            "grid_template_areas": null,
            "object_position": null,
            "object_fit": null,
            "grid_auto_columns": null,
            "margin": null,
            "display": null,
            "left": null
          }
        },
        "39560a4c72e9467ab0fae90adab7a009": {
          "model_module": "@jupyter-widgets/controls",
          "model_name": "ProgressStyleModel",
          "model_module_version": "1.5.0",
          "state": {
            "_view_name": "StyleView",
            "_model_name": "ProgressStyleModel",
            "description_width": "",
            "_view_module": "@jupyter-widgets/base",
            "_model_module_version": "1.5.0",
            "_view_count": null,
            "_view_module_version": "1.2.0",
            "bar_color": null,
            "_model_module": "@jupyter-widgets/controls"
          }
        },
        "357535b02d2c4210831f51de5a5a7ae1": {
          "model_module": "@jupyter-widgets/base",
          "model_name": "LayoutModel",
          "model_module_version": "1.2.0",
          "state": {
            "_view_name": "LayoutView",
            "grid_template_rows": null,
            "right": null,
            "justify_content": null,
            "_view_module": "@jupyter-widgets/base",
            "overflow": null,
            "_model_module_version": "1.2.0",
            "_view_count": null,
            "flex_flow": null,
            "width": null,
            "min_width": null,
            "border": null,
            "align_items": null,
            "bottom": null,
            "_model_module": "@jupyter-widgets/base",
            "top": null,
            "grid_column": null,
            "overflow_y": null,
            "overflow_x": null,
            "grid_auto_flow": null,
            "grid_area": null,
            "grid_template_columns": null,
            "flex": null,
            "_model_name": "LayoutModel",
            "justify_items": null,
            "grid_row": null,
            "max_height": null,
            "align_content": null,
            "visibility": null,
            "align_self": null,
            "height": null,
            "min_height": null,
            "padding": null,
            "grid_auto_rows": null,
            "grid_gap": null,
            "max_width": null,
            "order": null,
            "_view_module_version": "1.2.0",
            "grid_template_areas": null,
            "object_position": null,
            "object_fit": null,
            "grid_auto_columns": null,
            "margin": null,
            "display": null,
            "left": null
          }
        },
        "0f18ed3be90b4486b5f9551edc66b2c9": {
          "model_module": "@jupyter-widgets/controls",
          "model_name": "DescriptionStyleModel",
          "model_module_version": "1.5.0",
          "state": {
            "_view_name": "StyleView",
            "_model_name": "DescriptionStyleModel",
            "description_width": "",
            "_view_module": "@jupyter-widgets/base",
            "_model_module_version": "1.5.0",
            "_view_count": null,
            "_view_module_version": "1.2.0",
            "_model_module": "@jupyter-widgets/controls"
          }
        },
        "bab324408acd4247a9ae794faac801d5": {
          "model_module": "@jupyter-widgets/base",
          "model_name": "LayoutModel",
          "model_module_version": "1.2.0",
          "state": {
            "_view_name": "LayoutView",
            "grid_template_rows": null,
            "right": null,
            "justify_content": null,
            "_view_module": "@jupyter-widgets/base",
            "overflow": null,
            "_model_module_version": "1.2.0",
            "_view_count": null,
            "flex_flow": null,
            "width": null,
            "min_width": null,
            "border": null,
            "align_items": null,
            "bottom": null,
            "_model_module": "@jupyter-widgets/base",
            "top": null,
            "grid_column": null,
            "overflow_y": null,
            "overflow_x": null,
            "grid_auto_flow": null,
            "grid_area": null,
            "grid_template_columns": null,
            "flex": null,
            "_model_name": "LayoutModel",
            "justify_items": null,
            "grid_row": null,
            "max_height": null,
            "align_content": null,
            "visibility": null,
            "align_self": null,
            "height": null,
            "min_height": null,
            "padding": null,
            "grid_auto_rows": null,
            "grid_gap": null,
            "max_width": null,
            "order": null,
            "_view_module_version": "1.2.0",
            "grid_template_areas": null,
            "object_position": null,
            "object_fit": null,
            "grid_auto_columns": null,
            "margin": null,
            "display": null,
            "left": null
          }
        },
        "759738ea981b4187aafbf8db955a8485": {
          "model_module": "@jupyter-widgets/controls",
          "model_name": "HBoxModel",
          "model_module_version": "1.5.0",
          "state": {
            "_view_name": "HBoxView",
            "_dom_classes": [],
            "_model_name": "HBoxModel",
            "_view_module": "@jupyter-widgets/controls",
            "_model_module_version": "1.5.0",
            "_view_count": null,
            "_view_module_version": "1.5.0",
            "box_style": "",
            "layout": "IPY_MODEL_f851a42cebf44e56888aa35fd7c3526c",
            "_model_module": "@jupyter-widgets/controls",
            "children": [
              "IPY_MODEL_fa95a08a1141483faf188c6eeda29c42",
              "IPY_MODEL_59bc8bb28346482fbc39cca7ad7a565b",
              "IPY_MODEL_0731ef3c2c4e4be388d81a735108897e"
            ]
          }
        },
        "f851a42cebf44e56888aa35fd7c3526c": {
          "model_module": "@jupyter-widgets/base",
          "model_name": "LayoutModel",
          "model_module_version": "1.2.0",
          "state": {
            "_view_name": "LayoutView",
            "grid_template_rows": null,
            "right": null,
            "justify_content": null,
            "_view_module": "@jupyter-widgets/base",
            "overflow": null,
            "_model_module_version": "1.2.0",
            "_view_count": null,
            "flex_flow": null,
            "width": null,
            "min_width": null,
            "border": null,
            "align_items": null,
            "bottom": null,
            "_model_module": "@jupyter-widgets/base",
            "top": null,
            "grid_column": null,
            "overflow_y": null,
            "overflow_x": null,
            "grid_auto_flow": null,
            "grid_area": null,
            "grid_template_columns": null,
            "flex": null,
            "_model_name": "LayoutModel",
            "justify_items": null,
            "grid_row": null,
            "max_height": null,
            "align_content": null,
            "visibility": null,
            "align_self": null,
            "height": null,
            "min_height": null,
            "padding": null,
            "grid_auto_rows": null,
            "grid_gap": null,
            "max_width": null,
            "order": null,
            "_view_module_version": "1.2.0",
            "grid_template_areas": null,
            "object_position": null,
            "object_fit": null,
            "grid_auto_columns": null,
            "margin": null,
            "display": null,
            "left": null
          }
        },
        "fa95a08a1141483faf188c6eeda29c42": {
          "model_module": "@jupyter-widgets/controls",
          "model_name": "HTMLModel",
          "model_module_version": "1.5.0",
          "state": {
            "_view_name": "HTMLView",
            "style": "IPY_MODEL_47715ec3119848b193e64a465a705f3b",
            "_dom_classes": [],
            "description": "",
            "_model_name": "HTMLModel",
            "placeholder": "​",
            "_view_module": "@jupyter-widgets/controls",
            "_model_module_version": "1.5.0",
            "value": "Downloading: 100%",
            "_view_count": null,
            "_view_module_version": "1.5.0",
            "description_tooltip": null,
            "_model_module": "@jupyter-widgets/controls",
            "layout": "IPY_MODEL_5b0432731b88453ba104ac519609b425"
          }
        },
        "59bc8bb28346482fbc39cca7ad7a565b": {
          "model_module": "@jupyter-widgets/controls",
          "model_name": "FloatProgressModel",
          "model_module_version": "1.5.0",
          "state": {
            "_view_name": "ProgressView",
            "style": "IPY_MODEL_fa6a7831867f4418abe49b541e7d0ea2",
            "_dom_classes": [],
            "description": "",
            "_model_name": "FloatProgressModel",
            "bar_style": "success",
            "max": 28,
            "_view_module": "@jupyter-widgets/controls",
            "_model_module_version": "1.5.0",
            "value": 28,
            "_view_count": null,
            "_view_module_version": "1.5.0",
            "orientation": "horizontal",
            "min": 0,
            "description_tooltip": null,
            "_model_module": "@jupyter-widgets/controls",
            "layout": "IPY_MODEL_e50244b9f7d14d4dbdeec9795ba34078"
          }
        },
        "0731ef3c2c4e4be388d81a735108897e": {
          "model_module": "@jupyter-widgets/controls",
          "model_name": "HTMLModel",
          "model_module_version": "1.5.0",
          "state": {
            "_view_name": "HTMLView",
            "style": "IPY_MODEL_0b67b3f852c1444598c1f8f680c79c66",
            "_dom_classes": [],
            "description": "",
            "_model_name": "HTMLModel",
            "placeholder": "​",
            "_view_module": "@jupyter-widgets/controls",
            "_model_module_version": "1.5.0",
            "value": " 28.0/28.0 [00:00&lt;00:00, 794B/s]",
            "_view_count": null,
            "_view_module_version": "1.5.0",
            "description_tooltip": null,
            "_model_module": "@jupyter-widgets/controls",
            "layout": "IPY_MODEL_a10d76ecc9b248f9b72225c4862f3fc7"
          }
        },
        "47715ec3119848b193e64a465a705f3b": {
          "model_module": "@jupyter-widgets/controls",
          "model_name": "DescriptionStyleModel",
          "model_module_version": "1.5.0",
          "state": {
            "_view_name": "StyleView",
            "_model_name": "DescriptionStyleModel",
            "description_width": "",
            "_view_module": "@jupyter-widgets/base",
            "_model_module_version": "1.5.0",
            "_view_count": null,
            "_view_module_version": "1.2.0",
            "_model_module": "@jupyter-widgets/controls"
          }
        },
        "5b0432731b88453ba104ac519609b425": {
          "model_module": "@jupyter-widgets/base",
          "model_name": "LayoutModel",
          "model_module_version": "1.2.0",
          "state": {
            "_view_name": "LayoutView",
            "grid_template_rows": null,
            "right": null,
            "justify_content": null,
            "_view_module": "@jupyter-widgets/base",
            "overflow": null,
            "_model_module_version": "1.2.0",
            "_view_count": null,
            "flex_flow": null,
            "width": null,
            "min_width": null,
            "border": null,
            "align_items": null,
            "bottom": null,
            "_model_module": "@jupyter-widgets/base",
            "top": null,
            "grid_column": null,
            "overflow_y": null,
            "overflow_x": null,
            "grid_auto_flow": null,
            "grid_area": null,
            "grid_template_columns": null,
            "flex": null,
            "_model_name": "LayoutModel",
            "justify_items": null,
            "grid_row": null,
            "max_height": null,
            "align_content": null,
            "visibility": null,
            "align_self": null,
            "height": null,
            "min_height": null,
            "padding": null,
            "grid_auto_rows": null,
            "grid_gap": null,
            "max_width": null,
            "order": null,
            "_view_module_version": "1.2.0",
            "grid_template_areas": null,
            "object_position": null,
            "object_fit": null,
            "grid_auto_columns": null,
            "margin": null,
            "display": null,
            "left": null
          }
        },
        "fa6a7831867f4418abe49b541e7d0ea2": {
          "model_module": "@jupyter-widgets/controls",
          "model_name": "ProgressStyleModel",
          "model_module_version": "1.5.0",
          "state": {
            "_view_name": "StyleView",
            "_model_name": "ProgressStyleModel",
            "description_width": "",
            "_view_module": "@jupyter-widgets/base",
            "_model_module_version": "1.5.0",
            "_view_count": null,
            "_view_module_version": "1.2.0",
            "bar_color": null,
            "_model_module": "@jupyter-widgets/controls"
          }
        },
        "e50244b9f7d14d4dbdeec9795ba34078": {
          "model_module": "@jupyter-widgets/base",
          "model_name": "LayoutModel",
          "model_module_version": "1.2.0",
          "state": {
            "_view_name": "LayoutView",
            "grid_template_rows": null,
            "right": null,
            "justify_content": null,
            "_view_module": "@jupyter-widgets/base",
            "overflow": null,
            "_model_module_version": "1.2.0",
            "_view_count": null,
            "flex_flow": null,
            "width": null,
            "min_width": null,
            "border": null,
            "align_items": null,
            "bottom": null,
            "_model_module": "@jupyter-widgets/base",
            "top": null,
            "grid_column": null,
            "overflow_y": null,
            "overflow_x": null,
            "grid_auto_flow": null,
            "grid_area": null,
            "grid_template_columns": null,
            "flex": null,
            "_model_name": "LayoutModel",
            "justify_items": null,
            "grid_row": null,
            "max_height": null,
            "align_content": null,
            "visibility": null,
            "align_self": null,
            "height": null,
            "min_height": null,
            "padding": null,
            "grid_auto_rows": null,
            "grid_gap": null,
            "max_width": null,
            "order": null,
            "_view_module_version": "1.2.0",
            "grid_template_areas": null,
            "object_position": null,
            "object_fit": null,
            "grid_auto_columns": null,
            "margin": null,
            "display": null,
            "left": null
          }
        },
        "0b67b3f852c1444598c1f8f680c79c66": {
          "model_module": "@jupyter-widgets/controls",
          "model_name": "DescriptionStyleModel",
          "model_module_version": "1.5.0",
          "state": {
            "_view_name": "StyleView",
            "_model_name": "DescriptionStyleModel",
            "description_width": "",
            "_view_module": "@jupyter-widgets/base",
            "_model_module_version": "1.5.0",
            "_view_count": null,
            "_view_module_version": "1.2.0",
            "_model_module": "@jupyter-widgets/controls"
          }
        },
        "a10d76ecc9b248f9b72225c4862f3fc7": {
          "model_module": "@jupyter-widgets/base",
          "model_name": "LayoutModel",
          "model_module_version": "1.2.0",
          "state": {
            "_view_name": "LayoutView",
            "grid_template_rows": null,
            "right": null,
            "justify_content": null,
            "_view_module": "@jupyter-widgets/base",
            "overflow": null,
            "_model_module_version": "1.2.0",
            "_view_count": null,
            "flex_flow": null,
            "width": null,
            "min_width": null,
            "border": null,
            "align_items": null,
            "bottom": null,
            "_model_module": "@jupyter-widgets/base",
            "top": null,
            "grid_column": null,
            "overflow_y": null,
            "overflow_x": null,
            "grid_auto_flow": null,
            "grid_area": null,
            "grid_template_columns": null,
            "flex": null,
            "_model_name": "LayoutModel",
            "justify_items": null,
            "grid_row": null,
            "max_height": null,
            "align_content": null,
            "visibility": null,
            "align_self": null,
            "height": null,
            "min_height": null,
            "padding": null,
            "grid_auto_rows": null,
            "grid_gap": null,
            "max_width": null,
            "order": null,
            "_view_module_version": "1.2.0",
            "grid_template_areas": null,
            "object_position": null,
            "object_fit": null,
            "grid_auto_columns": null,
            "margin": null,
            "display": null,
            "left": null
          }
        },
        "9526794b56af480a924c62707e51a590": {
          "model_module": "@jupyter-widgets/controls",
          "model_name": "HBoxModel",
          "model_module_version": "1.5.0",
          "state": {
            "_view_name": "HBoxView",
            "_dom_classes": [],
            "_model_name": "HBoxModel",
            "_view_module": "@jupyter-widgets/controls",
            "_model_module_version": "1.5.0",
            "_view_count": null,
            "_view_module_version": "1.5.0",
            "box_style": "",
            "layout": "IPY_MODEL_6b4007d7864b4c4aa345be848980fc4e",
            "_model_module": "@jupyter-widgets/controls",
            "children": [
              "IPY_MODEL_73d49a906ac74ec4a31240154de58acf",
              "IPY_MODEL_8b242c29d42942a5ba913427c2127af7",
              "IPY_MODEL_efd2f7f5652e44dd81fe248900cb1191"
            ]
          }
        },
        "6b4007d7864b4c4aa345be848980fc4e": {
          "model_module": "@jupyter-widgets/base",
          "model_name": "LayoutModel",
          "model_module_version": "1.2.0",
          "state": {
            "_view_name": "LayoutView",
            "grid_template_rows": null,
            "right": null,
            "justify_content": null,
            "_view_module": "@jupyter-widgets/base",
            "overflow": null,
            "_model_module_version": "1.2.0",
            "_view_count": null,
            "flex_flow": null,
            "width": null,
            "min_width": null,
            "border": null,
            "align_items": null,
            "bottom": null,
            "_model_module": "@jupyter-widgets/base",
            "top": null,
            "grid_column": null,
            "overflow_y": null,
            "overflow_x": null,
            "grid_auto_flow": null,
            "grid_area": null,
            "grid_template_columns": null,
            "flex": null,
            "_model_name": "LayoutModel",
            "justify_items": null,
            "grid_row": null,
            "max_height": null,
            "align_content": null,
            "visibility": null,
            "align_self": null,
            "height": null,
            "min_height": null,
            "padding": null,
            "grid_auto_rows": null,
            "grid_gap": null,
            "max_width": null,
            "order": null,
            "_view_module_version": "1.2.0",
            "grid_template_areas": null,
            "object_position": null,
            "object_fit": null,
            "grid_auto_columns": null,
            "margin": null,
            "display": null,
            "left": null
          }
        },
        "73d49a906ac74ec4a31240154de58acf": {
          "model_module": "@jupyter-widgets/controls",
          "model_name": "HTMLModel",
          "model_module_version": "1.5.0",
          "state": {
            "_view_name": "HTMLView",
            "style": "IPY_MODEL_eb6ba9afa87a4796978b4b0214f69361",
            "_dom_classes": [],
            "description": "",
            "_model_name": "HTMLModel",
            "placeholder": "​",
            "_view_module": "@jupyter-widgets/controls",
            "_model_module_version": "1.5.0",
            "value": "Downloading: 100%",
            "_view_count": null,
            "_view_module_version": "1.5.0",
            "description_tooltip": null,
            "_model_module": "@jupyter-widgets/controls",
            "layout": "IPY_MODEL_d15a50982c7346ad865630af098acdfc"
          }
        },
        "8b242c29d42942a5ba913427c2127af7": {
          "model_module": "@jupyter-widgets/controls",
          "model_name": "FloatProgressModel",
          "model_module_version": "1.5.0",
          "state": {
            "_view_name": "ProgressView",
            "style": "IPY_MODEL_afc99c3cba874068ad3d1a6e370650c0",
            "_dom_classes": [],
            "description": "",
            "_model_name": "FloatProgressModel",
            "bar_style": "success",
            "max": 442,
            "_view_module": "@jupyter-widgets/controls",
            "_model_module_version": "1.5.0",
            "value": 442,
            "_view_count": null,
            "_view_module_version": "1.5.0",
            "orientation": "horizontal",
            "min": 0,
            "description_tooltip": null,
            "_model_module": "@jupyter-widgets/controls",
            "layout": "IPY_MODEL_cd55c857044b4164a8f35a3d980edf25"
          }
        },
        "efd2f7f5652e44dd81fe248900cb1191": {
          "model_module": "@jupyter-widgets/controls",
          "model_name": "HTMLModel",
          "model_module_version": "1.5.0",
          "state": {
            "_view_name": "HTMLView",
            "style": "IPY_MODEL_eb2050a28a1b4e5ea1290a22d92625f6",
            "_dom_classes": [],
            "description": "",
            "_model_name": "HTMLModel",
            "placeholder": "​",
            "_view_module": "@jupyter-widgets/controls",
            "_model_module_version": "1.5.0",
            "value": " 442/442 [00:00&lt;00:00, 13.0kB/s]",
            "_view_count": null,
            "_view_module_version": "1.5.0",
            "description_tooltip": null,
            "_model_module": "@jupyter-widgets/controls",
            "layout": "IPY_MODEL_7876ce0cafb14902859be792e4a4f3cb"
          }
        },
        "eb6ba9afa87a4796978b4b0214f69361": {
          "model_module": "@jupyter-widgets/controls",
          "model_name": "DescriptionStyleModel",
          "model_module_version": "1.5.0",
          "state": {
            "_view_name": "StyleView",
            "_model_name": "DescriptionStyleModel",
            "description_width": "",
            "_view_module": "@jupyter-widgets/base",
            "_model_module_version": "1.5.0",
            "_view_count": null,
            "_view_module_version": "1.2.0",
            "_model_module": "@jupyter-widgets/controls"
          }
        },
        "d15a50982c7346ad865630af098acdfc": {
          "model_module": "@jupyter-widgets/base",
          "model_name": "LayoutModel",
          "model_module_version": "1.2.0",
          "state": {
            "_view_name": "LayoutView",
            "grid_template_rows": null,
            "right": null,
            "justify_content": null,
            "_view_module": "@jupyter-widgets/base",
            "overflow": null,
            "_model_module_version": "1.2.0",
            "_view_count": null,
            "flex_flow": null,
            "width": null,
            "min_width": null,
            "border": null,
            "align_items": null,
            "bottom": null,
            "_model_module": "@jupyter-widgets/base",
            "top": null,
            "grid_column": null,
            "overflow_y": null,
            "overflow_x": null,
            "grid_auto_flow": null,
            "grid_area": null,
            "grid_template_columns": null,
            "flex": null,
            "_model_name": "LayoutModel",
            "justify_items": null,
            "grid_row": null,
            "max_height": null,
            "align_content": null,
            "visibility": null,
            "align_self": null,
            "height": null,
            "min_height": null,
            "padding": null,
            "grid_auto_rows": null,
            "grid_gap": null,
            "max_width": null,
            "order": null,
            "_view_module_version": "1.2.0",
            "grid_template_areas": null,
            "object_position": null,
            "object_fit": null,
            "grid_auto_columns": null,
            "margin": null,
            "display": null,
            "left": null
          }
        },
        "afc99c3cba874068ad3d1a6e370650c0": {
          "model_module": "@jupyter-widgets/controls",
          "model_name": "ProgressStyleModel",
          "model_module_version": "1.5.0",
          "state": {
            "_view_name": "StyleView",
            "_model_name": "ProgressStyleModel",
            "description_width": "",
            "_view_module": "@jupyter-widgets/base",
            "_model_module_version": "1.5.0",
            "_view_count": null,
            "_view_module_version": "1.2.0",
            "bar_color": null,
            "_model_module": "@jupyter-widgets/controls"
          }
        },
        "cd55c857044b4164a8f35a3d980edf25": {
          "model_module": "@jupyter-widgets/base",
          "model_name": "LayoutModel",
          "model_module_version": "1.2.0",
          "state": {
            "_view_name": "LayoutView",
            "grid_template_rows": null,
            "right": null,
            "justify_content": null,
            "_view_module": "@jupyter-widgets/base",
            "overflow": null,
            "_model_module_version": "1.2.0",
            "_view_count": null,
            "flex_flow": null,
            "width": null,
            "min_width": null,
            "border": null,
            "align_items": null,
            "bottom": null,
            "_model_module": "@jupyter-widgets/base",
            "top": null,
            "grid_column": null,
            "overflow_y": null,
            "overflow_x": null,
            "grid_auto_flow": null,
            "grid_area": null,
            "grid_template_columns": null,
            "flex": null,
            "_model_name": "LayoutModel",
            "justify_items": null,
            "grid_row": null,
            "max_height": null,
            "align_content": null,
            "visibility": null,
            "align_self": null,
            "height": null,
            "min_height": null,
            "padding": null,
            "grid_auto_rows": null,
            "grid_gap": null,
            "max_width": null,
            "order": null,
            "_view_module_version": "1.2.0",
            "grid_template_areas": null,
            "object_position": null,
            "object_fit": null,
            "grid_auto_columns": null,
            "margin": null,
            "display": null,
            "left": null
          }
        },
        "eb2050a28a1b4e5ea1290a22d92625f6": {
          "model_module": "@jupyter-widgets/controls",
          "model_name": "DescriptionStyleModel",
          "model_module_version": "1.5.0",
          "state": {
            "_view_name": "StyleView",
            "_model_name": "DescriptionStyleModel",
            "description_width": "",
            "_view_module": "@jupyter-widgets/base",
            "_model_module_version": "1.5.0",
            "_view_count": null,
            "_view_module_version": "1.2.0",
            "_model_module": "@jupyter-widgets/controls"
          }
        },
        "7876ce0cafb14902859be792e4a4f3cb": {
          "model_module": "@jupyter-widgets/base",
          "model_name": "LayoutModel",
          "model_module_version": "1.2.0",
          "state": {
            "_view_name": "LayoutView",
            "grid_template_rows": null,
            "right": null,
            "justify_content": null,
            "_view_module": "@jupyter-widgets/base",
            "overflow": null,
            "_model_module_version": "1.2.0",
            "_view_count": null,
            "flex_flow": null,
            "width": null,
            "min_width": null,
            "border": null,
            "align_items": null,
            "bottom": null,
            "_model_module": "@jupyter-widgets/base",
            "top": null,
            "grid_column": null,
            "overflow_y": null,
            "overflow_x": null,
            "grid_auto_flow": null,
            "grid_area": null,
            "grid_template_columns": null,
            "flex": null,
            "_model_name": "LayoutModel",
            "justify_items": null,
            "grid_row": null,
            "max_height": null,
            "align_content": null,
            "visibility": null,
            "align_self": null,
            "height": null,
            "min_height": null,
            "padding": null,
            "grid_auto_rows": null,
            "grid_gap": null,
            "max_width": null,
            "order": null,
            "_view_module_version": "1.2.0",
            "grid_template_areas": null,
            "object_position": null,
            "object_fit": null,
            "grid_auto_columns": null,
            "margin": null,
            "display": null,
            "left": null
          }
        },
        "de6b4b143ae0461087dbbd5bcf72f6da": {
          "model_module": "@jupyter-widgets/controls",
          "model_name": "HBoxModel",
          "model_module_version": "1.5.0",
          "state": {
            "_view_name": "HBoxView",
            "_dom_classes": [],
            "_model_name": "HBoxModel",
            "_view_module": "@jupyter-widgets/controls",
            "_model_module_version": "1.5.0",
            "_view_count": null,
            "_view_module_version": "1.5.0",
            "box_style": "",
            "layout": "IPY_MODEL_5d101d59fcd34ba19a4c653fa48fc73c",
            "_model_module": "@jupyter-widgets/controls",
            "children": [
              "IPY_MODEL_220c9aefb665492abdc6789419f2c7b3",
              "IPY_MODEL_39097069a2034fbd97cd3ee87002d78e",
              "IPY_MODEL_825c916d9232408c9bbba2bc0177605b"
            ]
          }
        },
        "5d101d59fcd34ba19a4c653fa48fc73c": {
          "model_module": "@jupyter-widgets/base",
          "model_name": "LayoutModel",
          "model_module_version": "1.2.0",
          "state": {
            "_view_name": "LayoutView",
            "grid_template_rows": null,
            "right": null,
            "justify_content": null,
            "_view_module": "@jupyter-widgets/base",
            "overflow": null,
            "_model_module_version": "1.2.0",
            "_view_count": null,
            "flex_flow": null,
            "width": null,
            "min_width": null,
            "border": null,
            "align_items": null,
            "bottom": null,
            "_model_module": "@jupyter-widgets/base",
            "top": null,
            "grid_column": null,
            "overflow_y": null,
            "overflow_x": null,
            "grid_auto_flow": null,
            "grid_area": null,
            "grid_template_columns": null,
            "flex": null,
            "_model_name": "LayoutModel",
            "justify_items": null,
            "grid_row": null,
            "max_height": null,
            "align_content": null,
            "visibility": null,
            "align_self": null,
            "height": null,
            "min_height": null,
            "padding": null,
            "grid_auto_rows": null,
            "grid_gap": null,
            "max_width": null,
            "order": null,
            "_view_module_version": "1.2.0",
            "grid_template_areas": null,
            "object_position": null,
            "object_fit": null,
            "grid_auto_columns": null,
            "margin": null,
            "display": null,
            "left": null
          }
        },
        "220c9aefb665492abdc6789419f2c7b3": {
          "model_module": "@jupyter-widgets/controls",
          "model_name": "HTMLModel",
          "model_module_version": "1.5.0",
          "state": {
            "_view_name": "HTMLView",
            "style": "IPY_MODEL_1a68f70dff354ad9b79b2457618b671f",
            "_dom_classes": [],
            "description": "",
            "_model_name": "HTMLModel",
            "placeholder": "​",
            "_view_module": "@jupyter-widgets/controls",
            "_model_module_version": "1.5.0",
            "value": "Downloading: 100%",
            "_view_count": null,
            "_view_module_version": "1.5.0",
            "description_tooltip": null,
            "_model_module": "@jupyter-widgets/controls",
            "layout": "IPY_MODEL_60e95124a9774a5384e904bc0992fa49"
          }
        },
        "39097069a2034fbd97cd3ee87002d78e": {
          "model_module": "@jupyter-widgets/controls",
          "model_name": "FloatProgressModel",
          "model_module_version": "1.5.0",
          "state": {
            "_view_name": "ProgressView",
            "style": "IPY_MODEL_057b4032d4ec4b7e8e21fa128dea80ad",
            "_dom_classes": [],
            "description": "",
            "_model_name": "FloatProgressModel",
            "bar_style": "success",
            "max": 363423424,
            "_view_module": "@jupyter-widgets/controls",
            "_model_module_version": "1.5.0",
            "value": 363423424,
            "_view_count": null,
            "_view_module_version": "1.5.0",
            "orientation": "horizontal",
            "min": 0,
            "description_tooltip": null,
            "_model_module": "@jupyter-widgets/controls",
            "layout": "IPY_MODEL_31bf97a0f4a741078811226df89823ba"
          }
        },
        "825c916d9232408c9bbba2bc0177605b": {
          "model_module": "@jupyter-widgets/controls",
          "model_name": "HTMLModel",
          "model_module_version": "1.5.0",
          "state": {
            "_view_name": "HTMLView",
            "style": "IPY_MODEL_de030874f3004e80a75dd433f9af90a2",
            "_dom_classes": [],
            "description": "",
            "_model_name": "HTMLModel",
            "placeholder": "​",
            "_view_module": "@jupyter-widgets/controls",
            "_model_module_version": "1.5.0",
            "value": " 363M/363M [00:08&lt;00:00, 49.2MB/s]",
            "_view_count": null,
            "_view_module_version": "1.5.0",
            "description_tooltip": null,
            "_model_module": "@jupyter-widgets/controls",
            "layout": "IPY_MODEL_50568c578e41469b956bf72ade58a712"
          }
        },
        "1a68f70dff354ad9b79b2457618b671f": {
          "model_module": "@jupyter-widgets/controls",
          "model_name": "DescriptionStyleModel",
          "model_module_version": "1.5.0",
          "state": {
            "_view_name": "StyleView",
            "_model_name": "DescriptionStyleModel",
            "description_width": "",
            "_view_module": "@jupyter-widgets/base",
            "_model_module_version": "1.5.0",
            "_view_count": null,
            "_view_module_version": "1.2.0",
            "_model_module": "@jupyter-widgets/controls"
          }
        },
        "60e95124a9774a5384e904bc0992fa49": {
          "model_module": "@jupyter-widgets/base",
          "model_name": "LayoutModel",
          "model_module_version": "1.2.0",
          "state": {
            "_view_name": "LayoutView",
            "grid_template_rows": null,
            "right": null,
            "justify_content": null,
            "_view_module": "@jupyter-widgets/base",
            "overflow": null,
            "_model_module_version": "1.2.0",
            "_view_count": null,
            "flex_flow": null,
            "width": null,
            "min_width": null,
            "border": null,
            "align_items": null,
            "bottom": null,
            "_model_module": "@jupyter-widgets/base",
            "top": null,
            "grid_column": null,
            "overflow_y": null,
            "overflow_x": null,
            "grid_auto_flow": null,
            "grid_area": null,
            "grid_template_columns": null,
            "flex": null,
            "_model_name": "LayoutModel",
            "justify_items": null,
            "grid_row": null,
            "max_height": null,
            "align_content": null,
            "visibility": null,
            "align_self": null,
            "height": null,
            "min_height": null,
            "padding": null,
            "grid_auto_rows": null,
            "grid_gap": null,
            "max_width": null,
            "order": null,
            "_view_module_version": "1.2.0",
            "grid_template_areas": null,
            "object_position": null,
            "object_fit": null,
            "grid_auto_columns": null,
            "margin": null,
            "display": null,
            "left": null
          }
        },
        "057b4032d4ec4b7e8e21fa128dea80ad": {
          "model_module": "@jupyter-widgets/controls",
          "model_name": "ProgressStyleModel",
          "model_module_version": "1.5.0",
          "state": {
            "_view_name": "StyleView",
            "_model_name": "ProgressStyleModel",
            "description_width": "",
            "_view_module": "@jupyter-widgets/base",
            "_model_module_version": "1.5.0",
            "_view_count": null,
            "_view_module_version": "1.2.0",
            "bar_color": null,
            "_model_module": "@jupyter-widgets/controls"
          }
        },
        "31bf97a0f4a741078811226df89823ba": {
          "model_module": "@jupyter-widgets/base",
          "model_name": "LayoutModel",
          "model_module_version": "1.2.0",
          "state": {
            "_view_name": "LayoutView",
            "grid_template_rows": null,
            "right": null,
            "justify_content": null,
            "_view_module": "@jupyter-widgets/base",
            "overflow": null,
            "_model_module_version": "1.2.0",
            "_view_count": null,
            "flex_flow": null,
            "width": null,
            "min_width": null,
            "border": null,
            "align_items": null,
            "bottom": null,
            "_model_module": "@jupyter-widgets/base",
            "top": null,
            "grid_column": null,
            "overflow_y": null,
            "overflow_x": null,
            "grid_auto_flow": null,
            "grid_area": null,
            "grid_template_columns": null,
            "flex": null,
            "_model_name": "LayoutModel",
            "justify_items": null,
            "grid_row": null,
            "max_height": null,
            "align_content": null,
            "visibility": null,
            "align_self": null,
            "height": null,
            "min_height": null,
            "padding": null,
            "grid_auto_rows": null,
            "grid_gap": null,
            "max_width": null,
            "order": null,
            "_view_module_version": "1.2.0",
            "grid_template_areas": null,
            "object_position": null,
            "object_fit": null,
            "grid_auto_columns": null,
            "margin": null,
            "display": null,
            "left": null
          }
        },
        "de030874f3004e80a75dd433f9af90a2": {
          "model_module": "@jupyter-widgets/controls",
          "model_name": "DescriptionStyleModel",
          "model_module_version": "1.5.0",
          "state": {
            "_view_name": "StyleView",
            "_model_name": "DescriptionStyleModel",
            "description_width": "",
            "_view_module": "@jupyter-widgets/base",
            "_model_module_version": "1.5.0",
            "_view_count": null,
            "_view_module_version": "1.2.0",
            "_model_module": "@jupyter-widgets/controls"
          }
        },
        "50568c578e41469b956bf72ade58a712": {
          "model_module": "@jupyter-widgets/base",
          "model_name": "LayoutModel",
          "model_module_version": "1.2.0",
          "state": {
            "_view_name": "LayoutView",
            "grid_template_rows": null,
            "right": null,
            "justify_content": null,
            "_view_module": "@jupyter-widgets/base",
            "overflow": null,
            "_model_module_version": "1.2.0",
            "_view_count": null,
            "flex_flow": null,
            "width": null,
            "min_width": null,
            "border": null,
            "align_items": null,
            "bottom": null,
            "_model_module": "@jupyter-widgets/base",
            "top": null,
            "grid_column": null,
            "overflow_y": null,
            "overflow_x": null,
            "grid_auto_flow": null,
            "grid_area": null,
            "grid_template_columns": null,
            "flex": null,
            "_model_name": "LayoutModel",
            "justify_items": null,
            "grid_row": null,
            "max_height": null,
            "align_content": null,
            "visibility": null,
            "align_self": null,
            "height": null,
            "min_height": null,
            "padding": null,
            "grid_auto_rows": null,
            "grid_gap": null,
            "max_width": null,
            "order": null,
            "_view_module_version": "1.2.0",
            "grid_template_areas": null,
            "object_position": null,
            "object_fit": null,
            "grid_auto_columns": null,
            "margin": null,
            "display": null,
            "left": null
          }
        }
      }
    }
  },
  "cells": [
    {
      "cell_type": "markdown",
      "metadata": {
        "id": "1e3d57fa"
      },
      "source": [
        "# **IMPORTING LIBRARIES**"
      ],
      "id": "1e3d57fa"
    },
    {
      "cell_type": "code",
      "metadata": {
        "colab": {
          "base_uri": "https://localhost:8080/"
        },
        "id": "b501cea4",
        "outputId": "dc0690c7-bc37-4f58-86c6-c790b411763c"
      },
      "source": [
        "import warnings\n",
        "warnings.filterwarnings('ignore')\n",
        "import nltk\n",
        "nltk.download('stopwords')\n",
        "nltk.download('punkt')\n",
        "import numpy as np\n",
        "import pandas as pd\n",
        "import csv\n",
        "import joblib\n",
        "import tensorflow as tf\n",
        "from tensorflow.keras.utils import to_categorical\n",
        "from sklearn.model_selection import train_test_split\n",
        "from tqdm import tqdm\n",
        "from nltk import word_tokenize\n",
        "from nltk.corpus import stopwords\n",
        "stop_words = stopwords.words('english')\n",
        "from sklearn import preprocessing, decomposition, model_selection, metrics, pipeline\n",
        "from tensorflow.keras.models import Sequential\n",
        "from keras.layers.core import Dense, Activation, Dropout\n",
        "from keras.layers.normalization import BatchNormalization\n",
        "from sklearn.metrics import accuracy_score, confusion_matrix\n",
        "import tensorflow as tf\n",
        "from google.colab import drive\n",
        "drive.mount('/content/drive')\n",
        "tf.get_logger().setLevel('INFO')"
      ],
      "id": "b501cea4",
      "execution_count": 1,
      "outputs": [
        {
          "output_type": "stream",
          "text": [
            "[nltk_data] Downloading package stopwords to /root/nltk_data...\n",
            "[nltk_data]   Unzipping corpora/stopwords.zip.\n",
            "[nltk_data] Downloading package punkt to /root/nltk_data...\n",
            "[nltk_data]   Unzipping tokenizers/punkt.zip.\n",
            "Mounted at /content/drive\n"
          ],
          "name": "stdout"
        }
      ]
    },
    {
      "cell_type": "markdown",
      "metadata": {
        "id": "8cacf0a7"
      },
      "source": [
        "# **DATA SANITY**"
      ],
      "id": "8cacf0a7"
    },
    {
      "cell_type": "code",
      "metadata": {
        "id": "e8d6e1e5"
      },
      "source": [
        "#Loading Data\n",
        "dataset = pd.read_csv(r'C:\\Users\\ayush.bajpayee\\Desktop\\Amazon Hackathon\\dataset\\train.csv', escapechar='\\\\',\n",
        "                      quoting = csv.QUOTE_NONE)"
      ],
      "id": "e8d6e1e5",
      "execution_count": null,
      "outputs": []
    },
    {
      "cell_type": "code",
      "metadata": {
        "id": "00c8c349"
      },
      "source": [
        "#Do not Tamper this df_original\n",
        "df_original = dataset.copy()"
      ],
      "id": "00c8c349",
      "execution_count": null,
      "outputs": []
    },
    {
      "cell_type": "code",
      "metadata": {
        "id": "da008e37"
      },
      "source": [
        "# #DO NOT RUN\n",
        "# dataset_to_be_saved = dataset.copy()\n",
        "# dataset_to_be_saved.to_csv('ModifiedTRAIN.csv', index = False)"
      ],
      "id": "da008e37",
      "execution_count": null,
      "outputs": []
    },
    {
      "cell_type": "code",
      "metadata": {
        "id": "4f30b469",
        "outputId": "a577396b-04c0-44c4-9fd8-f9a7a7bd8fc7"
      },
      "source": [
        "dataset.head()"
      ],
      "id": "4f30b469",
      "execution_count": null,
      "outputs": [
        {
          "output_type": "execute_result",
          "data": {
            "text/html": [
              "<div>\n",
              "<style scoped>\n",
              "    .dataframe tbody tr th:only-of-type {\n",
              "        vertical-align: middle;\n",
              "    }\n",
              "\n",
              "    .dataframe tbody tr th {\n",
              "        vertical-align: top;\n",
              "    }\n",
              "\n",
              "    .dataframe thead th {\n",
              "        text-align: right;\n",
              "    }\n",
              "</style>\n",
              "<table border=\"1\" class=\"dataframe\">\n",
              "  <thead>\n",
              "    <tr style=\"text-align: right;\">\n",
              "      <th></th>\n",
              "      <th>TITLE</th>\n",
              "      <th>DESCRIPTION</th>\n",
              "      <th>BULLET_POINTS</th>\n",
              "      <th>BRAND</th>\n",
              "      <th>BROWSE_NODE_ID</th>\n",
              "    </tr>\n",
              "  </thead>\n",
              "  <tbody>\n",
              "    <tr>\n",
              "      <th>0</th>\n",
              "      <td>Pete The Cat Bedtime Blues Doll, 14.5 Inch</td>\n",
              "      <td>Pete the Cat is the coolest, most popular cat ...</td>\n",
              "      <td>[Pete the Cat Bedtime Blues plush doll,Based o...</td>\n",
              "      <td>MerryMakers</td>\n",
              "      <td>0</td>\n",
              "    </tr>\n",
              "    <tr>\n",
              "      <th>1</th>\n",
              "      <td>The New Yorker NYHM014 Refrigerator Magnet, 2 ...</td>\n",
              "      <td>The New Yorker Handsome Cello Wrapped Hard Mag...</td>\n",
              "      <td>[Cat In A Tea Cup by New Yorker cover artist G...</td>\n",
              "      <td>The New Yorker</td>\n",
              "      <td>1</td>\n",
              "    </tr>\n",
              "    <tr>\n",
              "      <th>2</th>\n",
              "      <td>The Ultimate Self-Sufficiency Handbook: A Comp...</td>\n",
              "      <td>NaN</td>\n",
              "      <td>Skyhorse Publishing</td>\n",
              "      <td>imusti</td>\n",
              "      <td>2</td>\n",
              "    </tr>\n",
              "    <tr>\n",
              "      <th>3</th>\n",
              "      <td>Amway Nutrilite Kids Chewable Iron Tablets (100)</td>\n",
              "      <td>NaN</td>\n",
              "      <td>[Nutrilite Kids,Chewable Iron Tablets,Quantity...</td>\n",
              "      <td>Amway</td>\n",
              "      <td>3</td>\n",
              "    </tr>\n",
              "    <tr>\n",
              "      <th>4</th>\n",
              "      <td>Teacher Planner Company A4 6 Lesson Academic T...</td>\n",
              "      <td>NaN</td>\n",
              "      <td>NaN</td>\n",
              "      <td>NaN</td>\n",
              "      <td>4</td>\n",
              "    </tr>\n",
              "  </tbody>\n",
              "</table>\n",
              "</div>"
            ],
            "text/plain": [
              "                                               TITLE  \\\n",
              "0         Pete The Cat Bedtime Blues Doll, 14.5 Inch   \n",
              "1  The New Yorker NYHM014 Refrigerator Magnet, 2 ...   \n",
              "2  The Ultimate Self-Sufficiency Handbook: A Comp...   \n",
              "3   Amway Nutrilite Kids Chewable Iron Tablets (100)   \n",
              "4  Teacher Planner Company A4 6 Lesson Academic T...   \n",
              "\n",
              "                                         DESCRIPTION  \\\n",
              "0  Pete the Cat is the coolest, most popular cat ...   \n",
              "1  The New Yorker Handsome Cello Wrapped Hard Mag...   \n",
              "2                                                NaN   \n",
              "3                                                NaN   \n",
              "4                                                NaN   \n",
              "\n",
              "                                       BULLET_POINTS           BRAND  \\\n",
              "0  [Pete the Cat Bedtime Blues plush doll,Based o...     MerryMakers   \n",
              "1  [Cat In A Tea Cup by New Yorker cover artist G...  The New Yorker   \n",
              "2                                Skyhorse Publishing          imusti   \n",
              "3  [Nutrilite Kids,Chewable Iron Tablets,Quantity...           Amway   \n",
              "4                                                NaN             NaN   \n",
              "\n",
              "   BROWSE_NODE_ID  \n",
              "0               0  \n",
              "1               1  \n",
              "2               2  \n",
              "3               3  \n",
              "4               4  "
            ]
          },
          "metadata": {
            "tags": []
          },
          "execution_count": 5
        }
      ]
    },
    {
      "cell_type": "code",
      "metadata": {
        "id": "05de52f3",
        "outputId": "0daf7c11-3bbf-4417-f79a-955676c6f68c"
      },
      "source": [
        "dataset.shape"
      ],
      "id": "05de52f3",
      "execution_count": null,
      "outputs": [
        {
          "output_type": "execute_result",
          "data": {
            "text/plain": [
              "(2903024, 5)"
            ]
          },
          "metadata": {
            "tags": []
          },
          "execution_count": 38
        }
      ]
    },
    {
      "cell_type": "code",
      "metadata": {
        "id": "4a8fe7d9",
        "outputId": "1e775e86-5e1f-44b9-fc47-5ae0a51b9c1c"
      },
      "source": [
        "dataset.columns"
      ],
      "id": "4a8fe7d9",
      "execution_count": null,
      "outputs": [
        {
          "output_type": "execute_result",
          "data": {
            "text/plain": [
              "Index(['TITLE', 'DESCRIPTION', 'BULLET_POINTS', 'BRAND', 'BROWSE_NODE_ID'], dtype='object')"
            ]
          },
          "metadata": {
            "tags": []
          },
          "execution_count": 12
        }
      ]
    },
    {
      "cell_type": "code",
      "metadata": {
        "id": "e67fe8b3",
        "outputId": "933bad95-8162-437a-c27f-dcf929c31092"
      },
      "source": [
        "dataset.info()"
      ],
      "id": "e67fe8b3",
      "execution_count": null,
      "outputs": [
        {
          "output_type": "stream",
          "text": [
            "<class 'pandas.core.frame.DataFrame'>\n",
            "RangeIndex: 2903024 entries, 0 to 2903023\n",
            "Data columns (total 5 columns):\n",
            " #   Column          Dtype \n",
            "---  ------          ----- \n",
            " 0   TITLE           object\n",
            " 1   DESCRIPTION     object\n",
            " 2   BULLET_POINTS   object\n",
            " 3   BRAND           object\n",
            " 4   BROWSE_NODE_ID  int64 \n",
            "dtypes: int64(1), object(4)\n",
            "memory usage: 110.7+ MB\n"
          ],
          "name": "stdout"
        }
      ]
    },
    {
      "cell_type": "code",
      "metadata": {
        "id": "b0b230c6",
        "outputId": "d4fca922-a704-43cb-dc7c-c8c3505eccec"
      },
      "source": [
        "dataset.isna().mean()"
      ],
      "id": "b0b230c6",
      "execution_count": null,
      "outputs": [
        {
          "output_type": "execute_result",
          "data": {
            "text/plain": [
              "TITLE             0.000024\n",
              "DESCRIPTION       0.249279\n",
              "BULLET_POINTS     0.057272\n",
              "BRAND             0.019544\n",
              "BROWSE_NODE_ID    0.000000\n",
              "dtype: float64"
            ]
          },
          "metadata": {
            "tags": []
          },
          "execution_count": 27
        }
      ]
    },
    {
      "cell_type": "code",
      "metadata": {
        "id": "cf048de0",
        "outputId": "a61c7e65-7e77-4344-8aeb-8c779147ce6c"
      },
      "source": [
        "dataset.isna().sum()"
      ],
      "id": "cf048de0",
      "execution_count": null,
      "outputs": [
        {
          "output_type": "execute_result",
          "data": {
            "text/plain": [
              "TITLE                 71\n",
              "DESCRIPTION       723664\n",
              "BULLET_POINTS     166263\n",
              "BRAND              56737\n",
              "BROWSE_NODE_ID         0\n",
              "dtype: int64"
            ]
          },
          "metadata": {
            "tags": []
          },
          "execution_count": 25
        }
      ]
    },
    {
      "cell_type": "code",
      "metadata": {
        "id": "2bf31438",
        "outputId": "42ef2c62-18a4-407c-87de-aa44f5daecb8"
      },
      "source": [
        "print(dataset['TITLE'][0])\n",
        "print('\\n')\n",
        "print(dataset['TITLE'][1])\n",
        "print('\\n')\n",
        "print(dataset['TITLE'][2])\n",
        "print('\\n')\n",
        "print(dataset['TITLE'][3])\n",
        "print('\\n')\n",
        "print(dataset['TITLE'][4])"
      ],
      "id": "2bf31438",
      "execution_count": null,
      "outputs": [
        {
          "output_type": "stream",
          "text": [
            "Pete The Cat Bedtime Blues Doll, 14.5 Inch\n",
            "\n",
            "\n",
            "The New Yorker NYHM014 Refrigerator Magnet, 2 x 3.5\n",
            "\n",
            "\n",
            "The Ultimate Self-Sufficiency Handbook: A Complete Guide to Baking, Crafts, Gardening, Preserving Your Harvest, Raising Animals and More\n",
            "\n",
            "\n",
            "Amway Nutrilite Kids Chewable Iron Tablets (100)\n",
            "\n",
            "\n",
            "Teacher Planner Company A4 6 Lesson Academic Teacher Planner - Leatherette Pink\n"
          ],
          "name": "stdout"
        }
      ]
    },
    {
      "cell_type": "code",
      "metadata": {
        "id": "162b57fd",
        "outputId": "947e3444-80b9-45fb-9840-9caedb9ca0fe"
      },
      "source": [
        "print(dataset['BULLET_POINTS'][0])\n",
        "print('\\n')\n",
        "print(dataset['BULLET_POINTS'][1])\n",
        "print('\\n')\n",
        "print(dataset['BULLET_POINTS'][2])\n",
        "print('\\n')\n",
        "print(dataset['BULLET_POINTS'][3])\n",
        "print('\\n')\n",
        "print(dataset['BULLET_POINTS'][4])\n",
        "print('\\n')\n",
        "print(dataset['BULLET_POINTS'][5])"
      ],
      "id": "162b57fd",
      "execution_count": null,
      "outputs": [
        {
          "output_type": "stream",
          "text": [
            "[Pete the Cat Bedtime Blues plush doll,Based on the popular Pete the Cat books by James Dean,Super cuddly and ready for naptime and bedtime,Safe for all ages, perfect for ages 2 and up,Measures 14. 5 inches]\n",
            "\n",
            "\n",
            "[Cat In A Tea Cup by New Yorker cover artist Gurbuz Dogan Eksioglu,Handsome cello wrapped hard magnet,Ideal for home or office, or for a gift and for any New Yorker magazine lover,It highlight one of the many beautiful New Yorker covers in full color,Rigid magnet measures 2. 5-Inch width by 3. 5-Inch height]\n",
            "\n",
            "\n",
            "Skyhorse Publishing\n",
            "\n",
            "\n",
            "[Nutrilite Kids,Chewable Iron Tablets,Quantity 100 tablets]\n",
            "\n",
            "\n",
            "nan\n",
            "\n",
            "\n",
            "[Color: Blue,Sleeve: Full Sleeve,Material: Cotton,Neck: Round]\n"
          ],
          "name": "stdout"
        }
      ]
    },
    {
      "cell_type": "code",
      "metadata": {
        "id": "ee725cc8",
        "outputId": "dbd8d997-6e2b-4ee4-d41c-0b70cc9bd35d"
      },
      "source": [
        "dataset['BULLET_POINTS'].apply(type).value_counts()"
      ],
      "id": "ee725cc8",
      "execution_count": null,
      "outputs": [
        {
          "output_type": "execute_result",
          "data": {
            "text/plain": [
              "<class 'str'>      2736761\n",
              "<class 'float'>     166263\n",
              "Name: BULLET_POINTS, dtype: int64"
            ]
          },
          "metadata": {
            "tags": []
          },
          "execution_count": 22
        }
      ]
    },
    {
      "cell_type": "code",
      "metadata": {
        "id": "8df8c61a"
      },
      "source": [
        "dataset_onlyfloat = dataset.copy()"
      ],
      "id": "8df8c61a",
      "execution_count": null,
      "outputs": []
    },
    {
      "cell_type": "code",
      "metadata": {
        "id": "d118f198"
      },
      "source": [
        "dataset_onlyfloat['BULLET_POINTS'].fillna(value = 'OTHERS', inplace=True)"
      ],
      "id": "d118f198",
      "execution_count": null,
      "outputs": []
    },
    {
      "cell_type": "code",
      "metadata": {
        "id": "ce0b1646",
        "outputId": "410f7d18-7fb5-487a-8df9-507fafa4ecc6"
      },
      "source": [
        "dataset_onlyfloat.isna().sum()"
      ],
      "id": "ce0b1646",
      "execution_count": null,
      "outputs": [
        {
          "output_type": "execute_result",
          "data": {
            "text/plain": [
              "TITLE                 71\n",
              "DESCRIPTION       723664\n",
              "BULLET_POINTS          0\n",
              "BRAND              56737\n",
              "BROWSE_NODE_ID         0\n",
              "dtype: int64"
            ]
          },
          "metadata": {
            "tags": []
          },
          "execution_count": 32
        }
      ]
    },
    {
      "cell_type": "code",
      "metadata": {
        "collapsed": true,
        "id": "e9e2875c",
        "outputId": "3f3d659e-fcd5-4133-8b6e-b8fedf546ad9"
      },
      "source": [
        "dataset_onlyfloat[dataset_onlyfloat['BULLET_POINTS'].notna()]"
      ],
      "id": "e9e2875c",
      "execution_count": null,
      "outputs": [
        {
          "output_type": "execute_result",
          "data": {
            "text/html": [
              "<div>\n",
              "<style scoped>\n",
              "    .dataframe tbody tr th:only-of-type {\n",
              "        vertical-align: middle;\n",
              "    }\n",
              "\n",
              "    .dataframe tbody tr th {\n",
              "        vertical-align: top;\n",
              "    }\n",
              "\n",
              "    .dataframe thead th {\n",
              "        text-align: right;\n",
              "    }\n",
              "</style>\n",
              "<table border=\"1\" class=\"dataframe\">\n",
              "  <thead>\n",
              "    <tr style=\"text-align: right;\">\n",
              "      <th></th>\n",
              "      <th>TITLE</th>\n",
              "      <th>DESCRIPTION</th>\n",
              "      <th>BULLET_POINTS</th>\n",
              "      <th>BRAND</th>\n",
              "      <th>BROWSE_NODE_ID</th>\n",
              "    </tr>\n",
              "  </thead>\n",
              "  <tbody>\n",
              "    <tr>\n",
              "      <th>0</th>\n",
              "      <td>Pete The Cat Bedtime Blues Doll, 14.5 Inch</td>\n",
              "      <td>Pete the Cat is the coolest, most popular cat ...</td>\n",
              "      <td>[Pete the Cat Bedtime Blues plush doll,Based o...</td>\n",
              "      <td>MerryMakers</td>\n",
              "      <td>0</td>\n",
              "    </tr>\n",
              "    <tr>\n",
              "      <th>1</th>\n",
              "      <td>The New Yorker NYHM014 Refrigerator Magnet, 2 ...</td>\n",
              "      <td>The New Yorker Handsome Cello Wrapped Hard Mag...</td>\n",
              "      <td>[Cat In A Tea Cup by New Yorker cover artist G...</td>\n",
              "      <td>The New Yorker</td>\n",
              "      <td>1</td>\n",
              "    </tr>\n",
              "    <tr>\n",
              "      <th>2</th>\n",
              "      <td>The Ultimate Self-Sufficiency Handbook: A Comp...</td>\n",
              "      <td>NaN</td>\n",
              "      <td>Skyhorse Publishing</td>\n",
              "      <td>imusti</td>\n",
              "      <td>2</td>\n",
              "    </tr>\n",
              "    <tr>\n",
              "      <th>3</th>\n",
              "      <td>Amway Nutrilite Kids Chewable Iron Tablets (100)</td>\n",
              "      <td>NaN</td>\n",
              "      <td>[Nutrilite Kids,Chewable Iron Tablets,Quantity...</td>\n",
              "      <td>Amway</td>\n",
              "      <td>3</td>\n",
              "    </tr>\n",
              "    <tr>\n",
              "      <th>5</th>\n",
              "      <td>Men'S Full Sleeve Raglan T-Shirts Denim T-Shir...</td>\n",
              "      <td>Men'S Full Sleeve Raglan T-Shirts Denim T-Shir...</td>\n",
              "      <td>[Color: Blue,Sleeve: Full Sleeve,Material: Cot...</td>\n",
              "      <td>Bhavya Enterprise</td>\n",
              "      <td>5</td>\n",
              "    </tr>\n",
              "    <tr>\n",
              "      <th>...</th>\n",
              "      <td>...</td>\n",
              "      <td>...</td>\n",
              "      <td>...</td>\n",
              "      <td>...</td>\n",
              "      <td>...</td>\n",
              "    </tr>\n",
              "    <tr>\n",
              "      <th>2903018</th>\n",
              "      <td>The NXT LVL Liquid Silicone Soft Back Cover Ca...</td>\n",
              "      <td>Product color may slightly vary due to photogr...</td>\n",
              "      <td>[Liquid silicone case compatible with apple pr...</td>\n",
              "      <td>Generic</td>\n",
              "      <td>794481</td>\n",
              "    </tr>\n",
              "    <tr>\n",
              "      <th>2903019</th>\n",
              "      <td>Premium Aviator Sunglasses - HD Polarized (Bri...</td>\n",
              "      <td>These premium Aviator Sunglasses with 5 color ...</td>\n",
              "      <td>[Frame size: Lens height - 56mm, Lens width - ...</td>\n",
              "      <td>Generic</td>\n",
              "      <td>1040</td>\n",
              "    </tr>\n",
              "    <tr>\n",
              "      <th>2903020</th>\n",
              "      <td>Social Distance Stickers - Set of 5 Sticker Sl...</td>\n",
              "      <td>set of 5 prints social distancing sticker self...</td>\n",
              "      <td>[covid19 safety sticker - set of 5 to maintain...</td>\n",
              "      <td>Generic</td>\n",
              "      <td>15199</td>\n",
              "    </tr>\n",
              "    <tr>\n",
              "      <th>2903021</th>\n",
              "      <td>Torr-to Face Shield PACK OF 5 with Adjustable ...</td>\n",
              "      <td>* COMPLETE FACE PROTECTION: Torr-to Face Shiel...</td>\n",
              "      <td>[350 MICRONS PACK OF 5 PCS,COMPLETE FACE PROTE...</td>\n",
              "      <td>TORR-TO</td>\n",
              "      <td>1044933</td>\n",
              "    </tr>\n",
              "    <tr>\n",
              "      <th>2903022</th>\n",
              "      <td>Type-C to 3.5 MM for Oppo R17 Pro Type-C to 3....</td>\n",
              "      <td>Still want to use your favorite earphones/head...</td>\n",
              "      <td>[Indian Connectors: Made for Indian sockets, t...</td>\n",
              "      <td>SHOPBELL</td>\n",
              "      <td>14790</td>\n",
              "    </tr>\n",
              "  </tbody>\n",
              "</table>\n",
              "<p>2736761 rows × 5 columns</p>\n",
              "</div>"
            ],
            "text/plain": [
              "                                                     TITLE  \\\n",
              "0               Pete The Cat Bedtime Blues Doll, 14.5 Inch   \n",
              "1        The New Yorker NYHM014 Refrigerator Magnet, 2 ...   \n",
              "2        The Ultimate Self-Sufficiency Handbook: A Comp...   \n",
              "3         Amway Nutrilite Kids Chewable Iron Tablets (100)   \n",
              "5        Men'S Full Sleeve Raglan T-Shirts Denim T-Shir...   \n",
              "...                                                    ...   \n",
              "2903018  The NXT LVL Liquid Silicone Soft Back Cover Ca...   \n",
              "2903019  Premium Aviator Sunglasses - HD Polarized (Bri...   \n",
              "2903020  Social Distance Stickers - Set of 5 Sticker Sl...   \n",
              "2903021  Torr-to Face Shield PACK OF 5 with Adjustable ...   \n",
              "2903022  Type-C to 3.5 MM for Oppo R17 Pro Type-C to 3....   \n",
              "\n",
              "                                               DESCRIPTION  \\\n",
              "0        Pete the Cat is the coolest, most popular cat ...   \n",
              "1        The New Yorker Handsome Cello Wrapped Hard Mag...   \n",
              "2                                                      NaN   \n",
              "3                                                      NaN   \n",
              "5        Men'S Full Sleeve Raglan T-Shirts Denim T-Shir...   \n",
              "...                                                    ...   \n",
              "2903018  Product color may slightly vary due to photogr...   \n",
              "2903019  These premium Aviator Sunglasses with 5 color ...   \n",
              "2903020  set of 5 prints social distancing sticker self...   \n",
              "2903021  * COMPLETE FACE PROTECTION: Torr-to Face Shiel...   \n",
              "2903022  Still want to use your favorite earphones/head...   \n",
              "\n",
              "                                             BULLET_POINTS              BRAND  \\\n",
              "0        [Pete the Cat Bedtime Blues plush doll,Based o...        MerryMakers   \n",
              "1        [Cat In A Tea Cup by New Yorker cover artist G...     The New Yorker   \n",
              "2                                      Skyhorse Publishing             imusti   \n",
              "3        [Nutrilite Kids,Chewable Iron Tablets,Quantity...              Amway   \n",
              "5        [Color: Blue,Sleeve: Full Sleeve,Material: Cot...  Bhavya Enterprise   \n",
              "...                                                    ...                ...   \n",
              "2903018  [Liquid silicone case compatible with apple pr...            Generic   \n",
              "2903019  [Frame size: Lens height - 56mm, Lens width - ...            Generic   \n",
              "2903020  [covid19 safety sticker - set of 5 to maintain...            Generic   \n",
              "2903021  [350 MICRONS PACK OF 5 PCS,COMPLETE FACE PROTE...            TORR-TO   \n",
              "2903022  [Indian Connectors: Made for Indian sockets, t...           SHOPBELL   \n",
              "\n",
              "         BROWSE_NODE_ID  \n",
              "0                     0  \n",
              "1                     1  \n",
              "2                     2  \n",
              "3                     3  \n",
              "5                     5  \n",
              "...                 ...  \n",
              "2903018          794481  \n",
              "2903019            1040  \n",
              "2903020           15199  \n",
              "2903021         1044933  \n",
              "2903022           14790  \n",
              "\n",
              "[2736761 rows x 5 columns]"
            ]
          },
          "metadata": {
            "tags": []
          },
          "execution_count": 29
        }
      ]
    },
    {
      "cell_type": "code",
      "metadata": {
        "collapsed": true,
        "id": "d0780201",
        "outputId": "f7a6f756-c165-4cdc-806d-ca7c28dc7d24"
      },
      "source": [
        "dataset_onlyfloat[dataset_onlyfloat['BULLET_POINTS'].apply(type) == type('csdv')]"
      ],
      "id": "d0780201",
      "execution_count": null,
      "outputs": [
        {
          "output_type": "execute_result",
          "data": {
            "text/html": [
              "<div>\n",
              "<style scoped>\n",
              "    .dataframe tbody tr th:only-of-type {\n",
              "        vertical-align: middle;\n",
              "    }\n",
              "\n",
              "    .dataframe tbody tr th {\n",
              "        vertical-align: top;\n",
              "    }\n",
              "\n",
              "    .dataframe thead th {\n",
              "        text-align: right;\n",
              "    }\n",
              "</style>\n",
              "<table border=\"1\" class=\"dataframe\">\n",
              "  <thead>\n",
              "    <tr style=\"text-align: right;\">\n",
              "      <th></th>\n",
              "      <th>TITLE</th>\n",
              "      <th>DESCRIPTION</th>\n",
              "      <th>BULLET_POINTS</th>\n",
              "      <th>BRAND</th>\n",
              "      <th>BROWSE_NODE_ID</th>\n",
              "    </tr>\n",
              "  </thead>\n",
              "  <tbody>\n",
              "    <tr>\n",
              "      <th>0</th>\n",
              "      <td>Pete The Cat Bedtime Blues Doll, 14.5 Inch</td>\n",
              "      <td>Pete the Cat is the coolest, most popular cat ...</td>\n",
              "      <td>[Pete the Cat Bedtime Blues plush doll,Based o...</td>\n",
              "      <td>MerryMakers</td>\n",
              "      <td>0</td>\n",
              "    </tr>\n",
              "    <tr>\n",
              "      <th>1</th>\n",
              "      <td>The New Yorker NYHM014 Refrigerator Magnet, 2 ...</td>\n",
              "      <td>The New Yorker Handsome Cello Wrapped Hard Mag...</td>\n",
              "      <td>[Cat In A Tea Cup by New Yorker cover artist G...</td>\n",
              "      <td>The New Yorker</td>\n",
              "      <td>1</td>\n",
              "    </tr>\n",
              "    <tr>\n",
              "      <th>2</th>\n",
              "      <td>The Ultimate Self-Sufficiency Handbook: A Comp...</td>\n",
              "      <td>NaN</td>\n",
              "      <td>Skyhorse Publishing</td>\n",
              "      <td>imusti</td>\n",
              "      <td>2</td>\n",
              "    </tr>\n",
              "    <tr>\n",
              "      <th>3</th>\n",
              "      <td>Amway Nutrilite Kids Chewable Iron Tablets (100)</td>\n",
              "      <td>NaN</td>\n",
              "      <td>[Nutrilite Kids,Chewable Iron Tablets,Quantity...</td>\n",
              "      <td>Amway</td>\n",
              "      <td>3</td>\n",
              "    </tr>\n",
              "    <tr>\n",
              "      <th>5</th>\n",
              "      <td>Men'S Full Sleeve Raglan T-Shirts Denim T-Shir...</td>\n",
              "      <td>Men'S Full Sleeve Raglan T-Shirts Denim T-Shir...</td>\n",
              "      <td>[Color: Blue,Sleeve: Full Sleeve,Material: Cot...</td>\n",
              "      <td>Bhavya Enterprise</td>\n",
              "      <td>5</td>\n",
              "    </tr>\n",
              "    <tr>\n",
              "      <th>...</th>\n",
              "      <td>...</td>\n",
              "      <td>...</td>\n",
              "      <td>...</td>\n",
              "      <td>...</td>\n",
              "      <td>...</td>\n",
              "    </tr>\n",
              "    <tr>\n",
              "      <th>2903018</th>\n",
              "      <td>The NXT LVL Liquid Silicone Soft Back Cover Ca...</td>\n",
              "      <td>Product color may slightly vary due to photogr...</td>\n",
              "      <td>[Liquid silicone case compatible with apple pr...</td>\n",
              "      <td>Generic</td>\n",
              "      <td>794481</td>\n",
              "    </tr>\n",
              "    <tr>\n",
              "      <th>2903019</th>\n",
              "      <td>Premium Aviator Sunglasses - HD Polarized (Bri...</td>\n",
              "      <td>These premium Aviator Sunglasses with 5 color ...</td>\n",
              "      <td>[Frame size: Lens height - 56mm, Lens width - ...</td>\n",
              "      <td>Generic</td>\n",
              "      <td>1040</td>\n",
              "    </tr>\n",
              "    <tr>\n",
              "      <th>2903020</th>\n",
              "      <td>Social Distance Stickers - Set of 5 Sticker Sl...</td>\n",
              "      <td>set of 5 prints social distancing sticker self...</td>\n",
              "      <td>[covid19 safety sticker - set of 5 to maintain...</td>\n",
              "      <td>Generic</td>\n",
              "      <td>15199</td>\n",
              "    </tr>\n",
              "    <tr>\n",
              "      <th>2903021</th>\n",
              "      <td>Torr-to Face Shield PACK OF 5 with Adjustable ...</td>\n",
              "      <td>* COMPLETE FACE PROTECTION: Torr-to Face Shiel...</td>\n",
              "      <td>[350 MICRONS PACK OF 5 PCS,COMPLETE FACE PROTE...</td>\n",
              "      <td>TORR-TO</td>\n",
              "      <td>1044933</td>\n",
              "    </tr>\n",
              "    <tr>\n",
              "      <th>2903022</th>\n",
              "      <td>Type-C to 3.5 MM for Oppo R17 Pro Type-C to 3....</td>\n",
              "      <td>Still want to use your favorite earphones/head...</td>\n",
              "      <td>[Indian Connectors: Made for Indian sockets, t...</td>\n",
              "      <td>SHOPBELL</td>\n",
              "      <td>14790</td>\n",
              "    </tr>\n",
              "  </tbody>\n",
              "</table>\n",
              "<p>2736761 rows × 5 columns</p>\n",
              "</div>"
            ],
            "text/plain": [
              "                                                     TITLE  \\\n",
              "0               Pete The Cat Bedtime Blues Doll, 14.5 Inch   \n",
              "1        The New Yorker NYHM014 Refrigerator Magnet, 2 ...   \n",
              "2        The Ultimate Self-Sufficiency Handbook: A Comp...   \n",
              "3         Amway Nutrilite Kids Chewable Iron Tablets (100)   \n",
              "5        Men'S Full Sleeve Raglan T-Shirts Denim T-Shir...   \n",
              "...                                                    ...   \n",
              "2903018  The NXT LVL Liquid Silicone Soft Back Cover Ca...   \n",
              "2903019  Premium Aviator Sunglasses - HD Polarized (Bri...   \n",
              "2903020  Social Distance Stickers - Set of 5 Sticker Sl...   \n",
              "2903021  Torr-to Face Shield PACK OF 5 with Adjustable ...   \n",
              "2903022  Type-C to 3.5 MM for Oppo R17 Pro Type-C to 3....   \n",
              "\n",
              "                                               DESCRIPTION  \\\n",
              "0        Pete the Cat is the coolest, most popular cat ...   \n",
              "1        The New Yorker Handsome Cello Wrapped Hard Mag...   \n",
              "2                                                      NaN   \n",
              "3                                                      NaN   \n",
              "5        Men'S Full Sleeve Raglan T-Shirts Denim T-Shir...   \n",
              "...                                                    ...   \n",
              "2903018  Product color may slightly vary due to photogr...   \n",
              "2903019  These premium Aviator Sunglasses with 5 color ...   \n",
              "2903020  set of 5 prints social distancing sticker self...   \n",
              "2903021  * COMPLETE FACE PROTECTION: Torr-to Face Shiel...   \n",
              "2903022  Still want to use your favorite earphones/head...   \n",
              "\n",
              "                                             BULLET_POINTS              BRAND  \\\n",
              "0        [Pete the Cat Bedtime Blues plush doll,Based o...        MerryMakers   \n",
              "1        [Cat In A Tea Cup by New Yorker cover artist G...     The New Yorker   \n",
              "2                                      Skyhorse Publishing             imusti   \n",
              "3        [Nutrilite Kids,Chewable Iron Tablets,Quantity...              Amway   \n",
              "5        [Color: Blue,Sleeve: Full Sleeve,Material: Cot...  Bhavya Enterprise   \n",
              "...                                                    ...                ...   \n",
              "2903018  [Liquid silicone case compatible with apple pr...            Generic   \n",
              "2903019  [Frame size: Lens height - 56mm, Lens width - ...            Generic   \n",
              "2903020  [covid19 safety sticker - set of 5 to maintain...            Generic   \n",
              "2903021  [350 MICRONS PACK OF 5 PCS,COMPLETE FACE PROTE...            TORR-TO   \n",
              "2903022  [Indian Connectors: Made for Indian sockets, t...           SHOPBELL   \n",
              "\n",
              "         BROWSE_NODE_ID  \n",
              "0                     0  \n",
              "1                     1  \n",
              "2                     2  \n",
              "3                     3  \n",
              "5                     5  \n",
              "...                 ...  \n",
              "2903018          794481  \n",
              "2903019            1040  \n",
              "2903020           15199  \n",
              "2903021         1044933  \n",
              "2903022           14790  \n",
              "\n",
              "[2736761 rows x 5 columns]"
            ]
          },
          "metadata": {
            "tags": []
          },
          "execution_count": 23
        }
      ]
    },
    {
      "cell_type": "code",
      "metadata": {
        "id": "6743433b",
        "outputId": "44cc0a15-6681-4579-b757-e7d2858a7832"
      },
      "source": [
        "dataset['BRAND'].apply(type).value_counts()"
      ],
      "id": "6743433b",
      "execution_count": null,
      "outputs": [
        {
          "output_type": "execute_result",
          "data": {
            "text/plain": [
              "<class 'str'>      2846287\n",
              "<class 'float'>      56737\n",
              "Name: BRAND, dtype: int64"
            ]
          },
          "metadata": {
            "tags": []
          },
          "execution_count": 34
        }
      ]
    },
    {
      "cell_type": "markdown",
      "metadata": {
        "id": "99cb3fa5"
      },
      "source": [
        "# **DATA PREPROCESSING**"
      ],
      "id": "99cb3fa5"
    },
    {
      "cell_type": "markdown",
      "metadata": {
        "id": "693acf61"
      },
      "source": [
        "## Dropping Description"
      ],
      "id": "693acf61"
    },
    {
      "cell_type": "code",
      "metadata": {
        "id": "b4d02d86"
      },
      "source": [
        "dataset.drop(columns='DESCRIPTION', inplace = True)"
      ],
      "id": "b4d02d86",
      "execution_count": null,
      "outputs": []
    },
    {
      "cell_type": "markdown",
      "metadata": {
        "id": "25d49607"
      },
      "source": [
        "## Handling Duplicates"
      ],
      "id": "25d49607"
    },
    {
      "cell_type": "code",
      "metadata": {
        "id": "1a62cf0f"
      },
      "source": [
        "#Handling Duplicates\n",
        "dataset.drop_duplicates(inplace=True)"
      ],
      "id": "1a62cf0f",
      "execution_count": null,
      "outputs": []
    },
    {
      "cell_type": "markdown",
      "metadata": {
        "id": "320f9225"
      },
      "source": [
        "## Handling **Nulls**"
      ],
      "id": "320f9225"
    },
    {
      "cell_type": "markdown",
      "metadata": {
        "id": "b1ca658c"
      },
      "source": [
        "All nulls in all columns, will be replaced by **'OTHERS'**"
      ],
      "id": "b1ca658c"
    },
    {
      "cell_type": "code",
      "metadata": {
        "id": "d9180d0c"
      },
      "source": [
        "#Filling Nulls with OTHERS\n",
        "dataset.fillna('OTHERS', inplace=True)"
      ],
      "id": "d9180d0c",
      "execution_count": null,
      "outputs": []
    },
    {
      "cell_type": "code",
      "metadata": {
        "id": "e7c22a08"
      },
      "source": [
        "dataset.isna().sum()"
      ],
      "id": "e7c22a08",
      "execution_count": null,
      "outputs": []
    },
    {
      "cell_type": "markdown",
      "metadata": {
        "id": "fe4cdca6"
      },
      "source": [
        "## Handling **BULLET_POINTS**"
      ],
      "id": "fe4cdca6"
    },
    {
      "cell_type": "markdown",
      "metadata": {
        "id": "25dbeb06"
      },
      "source": [
        "BULLET_POINTS contains a string either **containing** '[]' denoting it is a list of strings or **not containing** '[]' denoting there is only one Bullet Point. Will convert Bullet Points into That specific format"
      ],
      "id": "25dbeb06"
    },
    {
      "cell_type": "code",
      "metadata": {
        "id": "798b7345"
      },
      "source": [
        "print(dataset['BULLET_POINTS'][0])\n",
        "print('\\n')\n",
        "print(dataset['BULLET_POINTS'][1])\n",
        "print('\\n')\n",
        "print(dataset['BULLET_POINTS'][2])\n",
        "print('\\n')\n",
        "print(dataset['BULLET_POINTS'][3])\n",
        "print('\\n')\n",
        "print(dataset['BULLET_POINTS'][4])\n",
        "print('\\n')\n",
        "print(dataset['BULLET_POINTS'][5])"
      ],
      "id": "798b7345",
      "execution_count": null,
      "outputs": []
    },
    {
      "cell_type": "code",
      "metadata": {
        "id": "9437ea4e"
      },
      "source": [
        "#Replacing ] and [ with ''\n",
        "dataset['BULLET_POINTS'] = dataset['BULLET_POINTS'].str.replace('[', '')\n",
        "dataset['BULLET_POINTS'] = dataset['BULLET_POINTS'].str.replace(']', '')"
      ],
      "id": "9437ea4e",
      "execution_count": null,
      "outputs": []
    },
    {
      "cell_type": "code",
      "metadata": {
        "id": "3c09564e"
      },
      "source": [
        "print(dataset['BULLET_POINTS'][0])\n",
        "print('\\n')\n",
        "print(dataset['BULLET_POINTS'][1])\n",
        "print('\\n')\n",
        "print(dataset['BULLET_POINTS'][2])\n",
        "print('\\n')\n",
        "print(dataset['BULLET_POINTS'][3])\n",
        "print('\\n')\n",
        "print(dataset['BULLET_POINTS'][4])\n",
        "print('\\n')\n",
        "print(dataset['BULLET_POINTS'][5])"
      ],
      "id": "3c09564e",
      "execution_count": null,
      "outputs": []
    },
    {
      "cell_type": "code",
      "metadata": {
        "id": "c4558962"
      },
      "source": [
        "#Converting BULLET_POINTS from comma seperated values to list containing values\n",
        "dataset['BULLET_POINTS'] = dataset['BULLET_POINTS'].map(lambda x: x.split(','))"
      ],
      "id": "c4558962",
      "execution_count": null,
      "outputs": []
    },
    {
      "cell_type": "code",
      "metadata": {
        "id": "d451878b"
      },
      "source": [
        "dataset['BULLET_POINTS'].apply(type).value_counts()"
      ],
      "id": "d451878b",
      "execution_count": null,
      "outputs": []
    },
    {
      "cell_type": "markdown",
      "metadata": {
        "id": "ba34ea63"
      },
      "source": [
        "## Dumping/Loading"
      ],
      "id": "ba34ea63"
    },
    {
      "cell_type": "code",
      "metadata": {
        "id": "73eed38c"
      },
      "source": [
        "#Dumping\n",
        "joblib.dump(dataset, 'V1p37BIG', compress='zlib')"
      ],
      "id": "73eed38c",
      "execution_count": null,
      "outputs": []
    },
    {
      "cell_type": "code",
      "metadata": {
        "id": "75c8eaeb"
      },
      "source": [
        "#Loading\n",
        "dataset = joblib.load('V1')"
      ],
      "id": "75c8eaeb",
      "execution_count": null,
      "outputs": []
    },
    {
      "cell_type": "code",
      "metadata": {
        "id": "dfe3ab6c"
      },
      "source": [
        "dataset_original = dataset.copy()\n",
        "dataset_temp = dataset.iloc[:10000,:].copy()"
      ],
      "id": "dfe3ab6c",
      "execution_count": null,
      "outputs": []
    },
    {
      "cell_type": "markdown",
      "metadata": {
        "id": "da5f8308"
      },
      "source": [
        "# **NLTK**"
      ],
      "id": "da5f8308"
    },
    {
      "cell_type": "markdown",
      "metadata": {
        "id": "e13c347f"
      },
      "source": [
        "## Preprocessing"
      ],
      "id": "e13c347f"
    },
    {
      "cell_type": "code",
      "metadata": {
        "id": "d9dbbb12"
      },
      "source": [
        "# Tokenize\n",
        "dataset_temp['TITLE'] = dataset_temp['TITLE'].apply(word_tokenize)"
      ],
      "id": "d9dbbb12",
      "execution_count": null,
      "outputs": []
    },
    {
      "cell_type": "code",
      "metadata": {
        "id": "c0d1e1f6",
        "outputId": "0cf811e2-bb20-4e05-9ccd-efabd0eefa8d"
      },
      "source": [
        "def remove_punc(x):\n",
        "    x = [''.join(c for c in s if c not in string.punctuation) for s in x]\n",
        "    x = [s for s in x if s]\n",
        "    return x\n",
        "\n",
        "dataset_temp['TITLE'] = dataset_temp['TITLE'].apply(remove_punc)"
      ],
      "id": "c0d1e1f6",
      "execution_count": null,
      "outputs": [
        {
          "output_type": "stream",
          "text": [
            "C:\\Users\\AYUSH~1.BAJ\\AppData\\Local\\Temp/ipykernel_4940/4247752062.py:6: SettingWithCopyWarning: \n",
            "A value is trying to be set on a copy of a slice from a DataFrame.\n",
            "Try using .loc[row_indexer,col_indexer] = value instead\n",
            "\n",
            "See the caveats in the documentation: https://pandas.pydata.org/pandas-docs/stable/user_guide/indexing.html#returning-a-view-versus-a-copy\n",
            "  dataset_temp['TITLE'] = dataset_temp['TITLE'].apply(remove_punc)\n"
          ],
          "name": "stderr"
        }
      ]
    },
    {
      "cell_type": "code",
      "metadata": {
        "collapsed": true,
        "id": "4baeba05",
        "outputId": "c6a1f631-05e6-4c23-8fb0-02cd96fbd6df"
      },
      "source": [
        "dataset_temp"
      ],
      "id": "4baeba05",
      "execution_count": null,
      "outputs": [
        {
          "output_type": "execute_result",
          "data": {
            "text/html": [
              "<div>\n",
              "<style scoped>\n",
              "    .dataframe tbody tr th:only-of-type {\n",
              "        vertical-align: middle;\n",
              "    }\n",
              "\n",
              "    .dataframe tbody tr th {\n",
              "        vertical-align: top;\n",
              "    }\n",
              "\n",
              "    .dataframe thead th {\n",
              "        text-align: right;\n",
              "    }\n",
              "</style>\n",
              "<table border=\"1\" class=\"dataframe\">\n",
              "  <thead>\n",
              "    <tr style=\"text-align: right;\">\n",
              "      <th></th>\n",
              "      <th>TITLE</th>\n",
              "      <th>BULLET_POINTS</th>\n",
              "      <th>BRAND</th>\n",
              "      <th>BROWSE_NODE_ID</th>\n",
              "    </tr>\n",
              "  </thead>\n",
              "  <tbody>\n",
              "    <tr>\n",
              "      <th>0</th>\n",
              "      <td>Pete The Cat Bedtime Blues Doll, 14.5 Inch</td>\n",
              "      <td>[Pete the Cat Bedtime Blues plush doll, Based ...</td>\n",
              "      <td>MerryMakers</td>\n",
              "      <td>0</td>\n",
              "    </tr>\n",
              "    <tr>\n",
              "      <th>1</th>\n",
              "      <td>The New Yorker NYHM014 Refrigerator Magnet, 2 ...</td>\n",
              "      <td>[Cat In A Tea Cup by New Yorker cover artist G...</td>\n",
              "      <td>The New Yorker</td>\n",
              "      <td>1</td>\n",
              "    </tr>\n",
              "    <tr>\n",
              "      <th>2</th>\n",
              "      <td>The Ultimate Self-Sufficiency Handbook: A Comp...</td>\n",
              "      <td>[Skyhorse Publishing]</td>\n",
              "      <td>imusti</td>\n",
              "      <td>2</td>\n",
              "    </tr>\n",
              "    <tr>\n",
              "      <th>3</th>\n",
              "      <td>Amway Nutrilite Kids Chewable Iron Tablets (100)</td>\n",
              "      <td>[Nutrilite Kids, Chewable Iron Tablets, Quanti...</td>\n",
              "      <td>Amway</td>\n",
              "      <td>3</td>\n",
              "    </tr>\n",
              "    <tr>\n",
              "      <th>4</th>\n",
              "      <td>Teacher Planner Company A4 6 Lesson Academic T...</td>\n",
              "      <td>[OTHERS]</td>\n",
              "      <td>OTHERS</td>\n",
              "      <td>4</td>\n",
              "    </tr>\n",
              "    <tr>\n",
              "      <th>...</th>\n",
              "      <td>...</td>\n",
              "      <td>...</td>\n",
              "      <td>...</td>\n",
              "      <td>...</td>\n",
              "    </tr>\n",
              "    <tr>\n",
              "      <th>9998</th>\n",
              "      <td>Brass Tabla Set Brass Material … (Hammered Bra...</td>\n",
              "      <td>[Brass Bayan (Bass - Left Metal Drum) Head 9 t...</td>\n",
              "      <td>Fasherati</td>\n",
              "      <td>2603</td>\n",
              "    </tr>\n",
              "    <tr>\n",
              "      <th>9999</th>\n",
              "      <td>Max Men's Slim Fit Jeans (WI18CDGV08_Mid Blue_28)</td>\n",
              "      <td>[Color Name: Mid Blue, Material: Cotton, Zip f...</td>\n",
              "      <td>Max</td>\n",
              "      <td>40</td>\n",
              "    </tr>\n",
              "    <tr>\n",
              "      <th>10000</th>\n",
              "      <td>Gems Gallery Natural &amp; Pure Stone Crystal Bead...</td>\n",
              "      <td>[Rare and Precious gemstone like rose quartz a...</td>\n",
              "      <td>Gems Gallery</td>\n",
              "      <td>1010</td>\n",
              "    </tr>\n",
              "    <tr>\n",
              "      <th>10001</th>\n",
              "      <td>Max Men's Checkered Slim Fit Formal Shirt (FBW...</td>\n",
              "      <td>[Color Name: White, Material: Cotton, Long sle...</td>\n",
              "      <td>Max</td>\n",
              "      <td>1254</td>\n",
              "    </tr>\n",
              "    <tr>\n",
              "      <th>10002</th>\n",
              "      <td>Oris Root Shalimar Ulfat Digital Printed Cotto...</td>\n",
              "      <td>[Shalimar Ulfat Mughal Throw Pillow 16 x 16 in...</td>\n",
              "      <td>Oris Root</td>\n",
              "      <td>912</td>\n",
              "    </tr>\n",
              "  </tbody>\n",
              "</table>\n",
              "<p>10000 rows × 4 columns</p>\n",
              "</div>"
            ],
            "text/plain": [
              "                                                   TITLE  \\\n",
              "0             Pete The Cat Bedtime Blues Doll, 14.5 Inch   \n",
              "1      The New Yorker NYHM014 Refrigerator Magnet, 2 ...   \n",
              "2      The Ultimate Self-Sufficiency Handbook: A Comp...   \n",
              "3       Amway Nutrilite Kids Chewable Iron Tablets (100)   \n",
              "4      Teacher Planner Company A4 6 Lesson Academic T...   \n",
              "...                                                  ...   \n",
              "9998   Brass Tabla Set Brass Material … (Hammered Bra...   \n",
              "9999   Max Men's Slim Fit Jeans (WI18CDGV08_Mid Blue_28)   \n",
              "10000  Gems Gallery Natural & Pure Stone Crystal Bead...   \n",
              "10001  Max Men's Checkered Slim Fit Formal Shirt (FBW...   \n",
              "10002  Oris Root Shalimar Ulfat Digital Printed Cotto...   \n",
              "\n",
              "                                           BULLET_POINTS           BRAND  \\\n",
              "0      [Pete the Cat Bedtime Blues plush doll, Based ...     MerryMakers   \n",
              "1      [Cat In A Tea Cup by New Yorker cover artist G...  The New Yorker   \n",
              "2                                  [Skyhorse Publishing]          imusti   \n",
              "3      [Nutrilite Kids, Chewable Iron Tablets, Quanti...           Amway   \n",
              "4                                               [OTHERS]          OTHERS   \n",
              "...                                                  ...             ...   \n",
              "9998   [Brass Bayan (Bass - Left Metal Drum) Head 9 t...       Fasherati   \n",
              "9999   [Color Name: Mid Blue, Material: Cotton, Zip f...             Max   \n",
              "10000  [Rare and Precious gemstone like rose quartz a...    Gems Gallery   \n",
              "10001  [Color Name: White, Material: Cotton, Long sle...             Max   \n",
              "10002  [Shalimar Ulfat Mughal Throw Pillow 16 x 16 in...       Oris Root   \n",
              "\n",
              "       BROWSE_NODE_ID  \n",
              "0                   0  \n",
              "1                   1  \n",
              "2                   2  \n",
              "3                   3  \n",
              "4                   4  \n",
              "...               ...  \n",
              "9998             2603  \n",
              "9999               40  \n",
              "10000            1010  \n",
              "10001            1254  \n",
              "10002             912  \n",
              "\n",
              "[10000 rows x 4 columns]"
            ]
          },
          "metadata": {
            "tags": []
          },
          "execution_count": 38
        }
      ]
    },
    {
      "cell_type": "code",
      "metadata": {
        "id": "df1a4fc9"
      },
      "source": [
        "X = dataset_temp['TITLE']\n",
        "y = dataset_temp['BROWSE_NODE_ID']"
      ],
      "id": "df1a4fc9",
      "execution_count": null,
      "outputs": []
    },
    {
      "cell_type": "code",
      "metadata": {
        "id": "b3142632"
      },
      "source": [
        "X_train, X_test, y_train, y_test = train_test_split(X, y, test_size=0.3, random_state = 42)"
      ],
      "id": "b3142632",
      "execution_count": null,
      "outputs": []
    },
    {
      "cell_type": "code",
      "metadata": {
        "id": "6eea0c87",
        "outputId": "ecd0cfd1-e3ba-4bf9-f8bd-076c0e07d768"
      },
      "source": [
        "from sklearn.naive_bayes import MultinomialNB\n",
        "from sklearn.pipeline import Pipeline\n",
        "from sklearn.feature_extraction.text import TfidfTransformer\n",
        "\n",
        "nb = Pipeline([('vect', CountVectorizer()),\n",
        "               ('tfidf', TfidfTransformer()),\n",
        "               ('clf', MultinomialNB()),\n",
        "              ])\n",
        "nb.fit(X_train, y_train)"
      ],
      "id": "6eea0c87",
      "execution_count": null,
      "outputs": [
        {
          "output_type": "execute_result",
          "data": {
            "text/plain": [
              "Pipeline(steps=[('vect', CountVectorizer()), ('tfidf', TfidfTransformer()),\n",
              "                ('clf', MultinomialNB())])"
            ]
          },
          "metadata": {
            "tags": []
          },
          "execution_count": 43
        }
      ]
    },
    {
      "cell_type": "code",
      "metadata": {
        "id": "2d6dd182",
        "scrolled": true,
        "outputId": "714cf4b3-876d-455c-bb15-9f0cb694cd2c"
      },
      "source": [
        "%%time\n",
        "from sklearn.metrics import classification_report\n",
        "y_pred = nb.predict(X_test)\n",
        "\n",
        "print('accuracy %s' % accuracy_score(y_pred, y_test))\n",
        "# print(classification_report(y_test, y_pred))"
      ],
      "id": "2d6dd182",
      "execution_count": null,
      "outputs": [
        {
          "output_type": "stream",
          "text": [
            "accuracy 0.138\n",
            "Wall time: 548 ms\n"
          ],
          "name": "stdout"
        }
      ]
    },
    {
      "cell_type": "code",
      "metadata": {
        "id": "cdbb6c4e",
        "outputId": "7b129813-ffb5-4ac1-c2d7-6c137649b886"
      },
      "source": [
        "dataset_temp = dataset.iloc[:100000,:].copy()\n",
        "dataset_temp.shape"
      ],
      "id": "cdbb6c4e",
      "execution_count": null,
      "outputs": [
        {
          "output_type": "execute_result",
          "data": {
            "text/plain": [
              "(100000, 4)"
            ]
          },
          "metadata": {
            "tags": []
          },
          "execution_count": 50
        }
      ]
    },
    {
      "cell_type": "code",
      "metadata": {
        "collapsed": true,
        "id": "da4fc4d5",
        "outputId": "b14da6fc-8cc8-4d78-b84d-824fa9d52ca6"
      },
      "source": [
        "X = dataset_temp['TITLE']\n",
        "y = dataset_temp['BROWSE_NODE_ID']\n",
        "\n",
        "X_train, X_test, y_train, y_test = train_test_split(X, y, test_size=0.3, random_state = 42)\n",
        "\n",
        "from sklearn.naive_bayes import MultinomialNB\n",
        "from sklearn.pipeline import Pipeline\n",
        "from sklearn.feature_extraction.text import TfidfTransformer\n",
        "\n",
        "nb = Pipeline([('vect', CountVectorizer()),\n",
        "               ('tfidf', TfidfTransformer()),\n",
        "               ('clf', MultinomialNB()),\n",
        "              ])\n",
        "nb.fit(X_train, y_train)\n",
        "\n",
        "%%time\n",
        "from sklearn.metrics import classification_report\n",
        "y_pred = nb.predict(X_test)\n",
        "\n",
        "print('accuracy %s' % accuracy_score(y_pred, y_test))\n",
        "# print(classification_report(y_test, y_pred))"
      ],
      "id": "da4fc4d5",
      "execution_count": null,
      "outputs": [
        {
          "output_type": "error",
          "ename": "MemoryError",
          "evalue": "Unable to allocate 2.63 GiB for an array with shape (353640000,) and data type float64",
          "traceback": [
            "\u001b[1;31m---------------------------------------------------------------------------\u001b[0m",
            "\u001b[1;31mMemoryError\u001b[0m                               Traceback (most recent call last)",
            "\u001b[1;32mC:\\Users\\AYUSH~1.BAJ\\AppData\\Local\\Temp/ipykernel_4940/3288596574.py\u001b[0m in \u001b[0;36m<module>\u001b[1;34m\u001b[0m\n\u001b[0;32m     12\u001b[0m                \u001b[1;33m(\u001b[0m\u001b[1;34m'clf'\u001b[0m\u001b[1;33m,\u001b[0m \u001b[0mMultinomialNB\u001b[0m\u001b[1;33m(\u001b[0m\u001b[1;33m)\u001b[0m\u001b[1;33m)\u001b[0m\u001b[1;33m,\u001b[0m\u001b[1;33m\u001b[0m\u001b[1;33m\u001b[0m\u001b[0m\n\u001b[0;32m     13\u001b[0m               ])\n\u001b[1;32m---> 14\u001b[1;33m \u001b[0mnb\u001b[0m\u001b[1;33m.\u001b[0m\u001b[0mfit\u001b[0m\u001b[1;33m(\u001b[0m\u001b[0mX_train\u001b[0m\u001b[1;33m,\u001b[0m \u001b[0my_train\u001b[0m\u001b[1;33m)\u001b[0m\u001b[1;33m\u001b[0m\u001b[1;33m\u001b[0m\u001b[0m\n\u001b[0m\u001b[0;32m     15\u001b[0m \u001b[1;33m\u001b[0m\u001b[0m\n\u001b[0;32m     16\u001b[0m \u001b[0mget_ipython\u001b[0m\u001b[1;33m(\u001b[0m\u001b[1;33m)\u001b[0m\u001b[1;33m.\u001b[0m\u001b[0mrun_line_magic\u001b[0m\u001b[1;33m(\u001b[0m\u001b[1;34m'%time'\u001b[0m\u001b[1;33m,\u001b[0m \u001b[1;34m''\u001b[0m\u001b[1;33m)\u001b[0m\u001b[1;33m\u001b[0m\u001b[1;33m\u001b[0m\u001b[0m\n",
            "\u001b[1;32mc:\\users\\ayush.bajpayee\\.conda\\envs\\amazon_hackathon\\lib\\site-packages\\sklearn\\pipeline.py\u001b[0m in \u001b[0;36mfit\u001b[1;34m(self, X, y, **fit_params)\u001b[0m\n\u001b[0;32m    344\u001b[0m             \u001b[1;32mif\u001b[0m \u001b[0mself\u001b[0m\u001b[1;33m.\u001b[0m\u001b[0m_final_estimator\u001b[0m \u001b[1;33m!=\u001b[0m \u001b[1;34m'passthrough'\u001b[0m\u001b[1;33m:\u001b[0m\u001b[1;33m\u001b[0m\u001b[1;33m\u001b[0m\u001b[0m\n\u001b[0;32m    345\u001b[0m                 \u001b[0mfit_params_last_step\u001b[0m \u001b[1;33m=\u001b[0m \u001b[0mfit_params_steps\u001b[0m\u001b[1;33m[\u001b[0m\u001b[0mself\u001b[0m\u001b[1;33m.\u001b[0m\u001b[0msteps\u001b[0m\u001b[1;33m[\u001b[0m\u001b[1;33m-\u001b[0m\u001b[1;36m1\u001b[0m\u001b[1;33m]\u001b[0m\u001b[1;33m[\u001b[0m\u001b[1;36m0\u001b[0m\u001b[1;33m]\u001b[0m\u001b[1;33m]\u001b[0m\u001b[1;33m\u001b[0m\u001b[1;33m\u001b[0m\u001b[0m\n\u001b[1;32m--> 346\u001b[1;33m                 \u001b[0mself\u001b[0m\u001b[1;33m.\u001b[0m\u001b[0m_final_estimator\u001b[0m\u001b[1;33m.\u001b[0m\u001b[0mfit\u001b[0m\u001b[1;33m(\u001b[0m\u001b[0mXt\u001b[0m\u001b[1;33m,\u001b[0m \u001b[0my\u001b[0m\u001b[1;33m,\u001b[0m \u001b[1;33m**\u001b[0m\u001b[0mfit_params_last_step\u001b[0m\u001b[1;33m)\u001b[0m\u001b[1;33m\u001b[0m\u001b[1;33m\u001b[0m\u001b[0m\n\u001b[0m\u001b[0;32m    347\u001b[0m \u001b[1;33m\u001b[0m\u001b[0m\n\u001b[0;32m    348\u001b[0m         \u001b[1;32mreturn\u001b[0m \u001b[0mself\u001b[0m\u001b[1;33m\u001b[0m\u001b[1;33m\u001b[0m\u001b[0m\n",
            "\u001b[1;32mc:\\users\\ayush.bajpayee\\.conda\\envs\\amazon_hackathon\\lib\\site-packages\\sklearn\\naive_bayes.py\u001b[0m in \u001b[0;36mfit\u001b[1;34m(self, X, y, sample_weight)\u001b[0m\n\u001b[0;32m    636\u001b[0m \u001b[1;33m\u001b[0m\u001b[0m\n\u001b[0;32m    637\u001b[0m         \u001b[0mself\u001b[0m\u001b[1;33m.\u001b[0m\u001b[0m_init_counters\u001b[0m\u001b[1;33m(\u001b[0m\u001b[0mn_effective_classes\u001b[0m\u001b[1;33m,\u001b[0m \u001b[0mn_features\u001b[0m\u001b[1;33m)\u001b[0m\u001b[1;33m\u001b[0m\u001b[1;33m\u001b[0m\u001b[0m\n\u001b[1;32m--> 638\u001b[1;33m         \u001b[0mself\u001b[0m\u001b[1;33m.\u001b[0m\u001b[0m_count\u001b[0m\u001b[1;33m(\u001b[0m\u001b[0mX\u001b[0m\u001b[1;33m,\u001b[0m \u001b[0mY\u001b[0m\u001b[1;33m)\u001b[0m\u001b[1;33m\u001b[0m\u001b[1;33m\u001b[0m\u001b[0m\n\u001b[0m\u001b[0;32m    639\u001b[0m         \u001b[0malpha\u001b[0m \u001b[1;33m=\u001b[0m \u001b[0mself\u001b[0m\u001b[1;33m.\u001b[0m\u001b[0m_check_alpha\u001b[0m\u001b[1;33m(\u001b[0m\u001b[1;33m)\u001b[0m\u001b[1;33m\u001b[0m\u001b[1;33m\u001b[0m\u001b[0m\n\u001b[0;32m    640\u001b[0m         \u001b[0mself\u001b[0m\u001b[1;33m.\u001b[0m\u001b[0m_update_feature_log_prob\u001b[0m\u001b[1;33m(\u001b[0m\u001b[0malpha\u001b[0m\u001b[1;33m)\u001b[0m\u001b[1;33m\u001b[0m\u001b[1;33m\u001b[0m\u001b[0m\n",
            "\u001b[1;32mc:\\users\\ayush.bajpayee\\.conda\\envs\\amazon_hackathon\\lib\\site-packages\\sklearn\\naive_bayes.py\u001b[0m in \u001b[0;36m_count\u001b[1;34m(self, X, Y)\u001b[0m\n\u001b[0;32m    770\u001b[0m         \u001b[1;34m\"\"\"Count and smooth feature occurrences.\"\"\"\u001b[0m\u001b[1;33m\u001b[0m\u001b[1;33m\u001b[0m\u001b[0m\n\u001b[0;32m    771\u001b[0m         \u001b[0mcheck_non_negative\u001b[0m\u001b[1;33m(\u001b[0m\u001b[0mX\u001b[0m\u001b[1;33m,\u001b[0m \u001b[1;34m\"MultinomialNB (input X)\"\u001b[0m\u001b[1;33m)\u001b[0m\u001b[1;33m\u001b[0m\u001b[1;33m\u001b[0m\u001b[0m\n\u001b[1;32m--> 772\u001b[1;33m         \u001b[0mself\u001b[0m\u001b[1;33m.\u001b[0m\u001b[0mfeature_count_\u001b[0m \u001b[1;33m+=\u001b[0m \u001b[0msafe_sparse_dot\u001b[0m\u001b[1;33m(\u001b[0m\u001b[0mY\u001b[0m\u001b[1;33m.\u001b[0m\u001b[0mT\u001b[0m\u001b[1;33m,\u001b[0m \u001b[0mX\u001b[0m\u001b[1;33m)\u001b[0m\u001b[1;33m\u001b[0m\u001b[1;33m\u001b[0m\u001b[0m\n\u001b[0m\u001b[0;32m    773\u001b[0m         \u001b[0mself\u001b[0m\u001b[1;33m.\u001b[0m\u001b[0mclass_count_\u001b[0m \u001b[1;33m+=\u001b[0m \u001b[0mY\u001b[0m\u001b[1;33m.\u001b[0m\u001b[0msum\u001b[0m\u001b[1;33m(\u001b[0m\u001b[0maxis\u001b[0m\u001b[1;33m=\u001b[0m\u001b[1;36m0\u001b[0m\u001b[1;33m)\u001b[0m\u001b[1;33m\u001b[0m\u001b[1;33m\u001b[0m\u001b[0m\n\u001b[0;32m    774\u001b[0m \u001b[1;33m\u001b[0m\u001b[0m\n",
            "\u001b[1;32mc:\\users\\ayush.bajpayee\\.conda\\envs\\amazon_hackathon\\lib\\site-packages\\sklearn\\utils\\validation.py\u001b[0m in \u001b[0;36minner_f\u001b[1;34m(*args, **kwargs)\u001b[0m\n\u001b[0;32m     61\u001b[0m             \u001b[0mextra_args\u001b[0m \u001b[1;33m=\u001b[0m \u001b[0mlen\u001b[0m\u001b[1;33m(\u001b[0m\u001b[0margs\u001b[0m\u001b[1;33m)\u001b[0m \u001b[1;33m-\u001b[0m \u001b[0mlen\u001b[0m\u001b[1;33m(\u001b[0m\u001b[0mall_args\u001b[0m\u001b[1;33m)\u001b[0m\u001b[1;33m\u001b[0m\u001b[1;33m\u001b[0m\u001b[0m\n\u001b[0;32m     62\u001b[0m             \u001b[1;32mif\u001b[0m \u001b[0mextra_args\u001b[0m \u001b[1;33m<=\u001b[0m \u001b[1;36m0\u001b[0m\u001b[1;33m:\u001b[0m\u001b[1;33m\u001b[0m\u001b[1;33m\u001b[0m\u001b[0m\n\u001b[1;32m---> 63\u001b[1;33m                 \u001b[1;32mreturn\u001b[0m \u001b[0mf\u001b[0m\u001b[1;33m(\u001b[0m\u001b[1;33m*\u001b[0m\u001b[0margs\u001b[0m\u001b[1;33m,\u001b[0m \u001b[1;33m**\u001b[0m\u001b[0mkwargs\u001b[0m\u001b[1;33m)\u001b[0m\u001b[1;33m\u001b[0m\u001b[1;33m\u001b[0m\u001b[0m\n\u001b[0m\u001b[0;32m     64\u001b[0m \u001b[1;33m\u001b[0m\u001b[0m\n\u001b[0;32m     65\u001b[0m             \u001b[1;31m# extra_args > 0\u001b[0m\u001b[1;33m\u001b[0m\u001b[1;33m\u001b[0m\u001b[1;33m\u001b[0m\u001b[0m\n",
            "\u001b[1;32mc:\\users\\ayush.bajpayee\\.conda\\envs\\amazon_hackathon\\lib\\site-packages\\sklearn\\utils\\extmath.py\u001b[0m in \u001b[0;36msafe_sparse_dot\u001b[1;34m(a, b, dense_output)\u001b[0m\n\u001b[0;32m    150\u001b[0m             \u001b[0mret\u001b[0m \u001b[1;33m=\u001b[0m \u001b[0mnp\u001b[0m\u001b[1;33m.\u001b[0m\u001b[0mdot\u001b[0m\u001b[1;33m(\u001b[0m\u001b[0ma\u001b[0m\u001b[1;33m,\u001b[0m \u001b[0mb\u001b[0m\u001b[1;33m)\u001b[0m\u001b[1;33m\u001b[0m\u001b[1;33m\u001b[0m\u001b[0m\n\u001b[0;32m    151\u001b[0m     \u001b[1;32melse\u001b[0m\u001b[1;33m:\u001b[0m\u001b[1;33m\u001b[0m\u001b[1;33m\u001b[0m\u001b[0m\n\u001b[1;32m--> 152\u001b[1;33m         \u001b[0mret\u001b[0m \u001b[1;33m=\u001b[0m \u001b[0ma\u001b[0m \u001b[1;33m@\u001b[0m \u001b[0mb\u001b[0m\u001b[1;33m\u001b[0m\u001b[1;33m\u001b[0m\u001b[0m\n\u001b[0m\u001b[0;32m    153\u001b[0m \u001b[1;33m\u001b[0m\u001b[0m\n\u001b[0;32m    154\u001b[0m     if (sparse.issparse(a) and sparse.issparse(b)\n",
            "\u001b[1;32mc:\\users\\ayush.bajpayee\\.conda\\envs\\amazon_hackathon\\lib\\site-packages\\scipy\\sparse\\base.py\u001b[0m in \u001b[0;36m__rmatmul__\u001b[1;34m(self, other)\u001b[0m\n\u001b[0;32m    564\u001b[0m             raise ValueError(\"Scalar operands are not allowed, \"\n\u001b[0;32m    565\u001b[0m                              \"use '*' instead\")\n\u001b[1;32m--> 566\u001b[1;33m         \u001b[1;32mreturn\u001b[0m \u001b[0mself\u001b[0m\u001b[1;33m.\u001b[0m\u001b[0m__rmul__\u001b[0m\u001b[1;33m(\u001b[0m\u001b[0mother\u001b[0m\u001b[1;33m)\u001b[0m\u001b[1;33m\u001b[0m\u001b[1;33m\u001b[0m\u001b[0m\n\u001b[0m\u001b[0;32m    567\u001b[0m \u001b[1;33m\u001b[0m\u001b[0m\n\u001b[0;32m    568\u001b[0m     \u001b[1;31m####################\u001b[0m\u001b[1;33m\u001b[0m\u001b[1;33m\u001b[0m\u001b[1;33m\u001b[0m\u001b[0m\n",
            "\u001b[1;32mc:\\users\\ayush.bajpayee\\.conda\\envs\\amazon_hackathon\\lib\\site-packages\\scipy\\sparse\\base.py\u001b[0m in \u001b[0;36m__rmul__\u001b[1;34m(self, other)\u001b[0m\n\u001b[0;32m    548\u001b[0m             \u001b[1;32mexcept\u001b[0m \u001b[0mAttributeError\u001b[0m\u001b[1;33m:\u001b[0m\u001b[1;33m\u001b[0m\u001b[1;33m\u001b[0m\u001b[0m\n\u001b[0;32m    549\u001b[0m                 \u001b[0mtr\u001b[0m \u001b[1;33m=\u001b[0m \u001b[0mnp\u001b[0m\u001b[1;33m.\u001b[0m\u001b[0masarray\u001b[0m\u001b[1;33m(\u001b[0m\u001b[0mother\u001b[0m\u001b[1;33m)\u001b[0m\u001b[1;33m.\u001b[0m\u001b[0mtranspose\u001b[0m\u001b[1;33m(\u001b[0m\u001b[1;33m)\u001b[0m\u001b[1;33m\u001b[0m\u001b[1;33m\u001b[0m\u001b[0m\n\u001b[1;32m--> 550\u001b[1;33m             \u001b[1;32mreturn\u001b[0m \u001b[1;33m(\u001b[0m\u001b[0mself\u001b[0m\u001b[1;33m.\u001b[0m\u001b[0mtranspose\u001b[0m\u001b[1;33m(\u001b[0m\u001b[1;33m)\u001b[0m \u001b[1;33m*\u001b[0m \u001b[0mtr\u001b[0m\u001b[1;33m)\u001b[0m\u001b[1;33m.\u001b[0m\u001b[0mtranspose\u001b[0m\u001b[1;33m(\u001b[0m\u001b[1;33m)\u001b[0m\u001b[1;33m\u001b[0m\u001b[1;33m\u001b[0m\u001b[0m\n\u001b[0m\u001b[0;32m    551\u001b[0m \u001b[1;33m\u001b[0m\u001b[0m\n\u001b[0;32m    552\u001b[0m     \u001b[1;31m#######################\u001b[0m\u001b[1;33m\u001b[0m\u001b[1;33m\u001b[0m\u001b[1;33m\u001b[0m\u001b[0m\n",
            "\u001b[1;32mc:\\users\\ayush.bajpayee\\.conda\\envs\\amazon_hackathon\\lib\\site-packages\\scipy\\sparse\\base.py\u001b[0m in \u001b[0;36m__mul__\u001b[1;34m(self, other)\u001b[0m\n\u001b[0;32m    469\u001b[0m                 \u001b[1;32mreturn\u001b[0m \u001b[0mself\u001b[0m\u001b[1;33m.\u001b[0m\u001b[0m_mul_vector\u001b[0m\u001b[1;33m(\u001b[0m\u001b[0mother\u001b[0m\u001b[1;33m.\u001b[0m\u001b[0mravel\u001b[0m\u001b[1;33m(\u001b[0m\u001b[1;33m)\u001b[0m\u001b[1;33m)\u001b[0m\u001b[1;33m.\u001b[0m\u001b[0mreshape\u001b[0m\u001b[1;33m(\u001b[0m\u001b[0mM\u001b[0m\u001b[1;33m,\u001b[0m \u001b[1;36m1\u001b[0m\u001b[1;33m)\u001b[0m\u001b[1;33m\u001b[0m\u001b[1;33m\u001b[0m\u001b[0m\n\u001b[0;32m    470\u001b[0m             \u001b[1;32melif\u001b[0m \u001b[0mother\u001b[0m\u001b[1;33m.\u001b[0m\u001b[0mndim\u001b[0m \u001b[1;33m==\u001b[0m \u001b[1;36m2\u001b[0m \u001b[1;32mand\u001b[0m \u001b[0mother\u001b[0m\u001b[1;33m.\u001b[0m\u001b[0mshape\u001b[0m\u001b[1;33m[\u001b[0m\u001b[1;36m0\u001b[0m\u001b[1;33m]\u001b[0m \u001b[1;33m==\u001b[0m \u001b[0mN\u001b[0m\u001b[1;33m:\u001b[0m\u001b[1;33m\u001b[0m\u001b[1;33m\u001b[0m\u001b[0m\n\u001b[1;32m--> 471\u001b[1;33m                 \u001b[1;32mreturn\u001b[0m \u001b[0mself\u001b[0m\u001b[1;33m.\u001b[0m\u001b[0m_mul_multivector\u001b[0m\u001b[1;33m(\u001b[0m\u001b[0mother\u001b[0m\u001b[1;33m)\u001b[0m\u001b[1;33m\u001b[0m\u001b[1;33m\u001b[0m\u001b[0m\n\u001b[0m\u001b[0;32m    472\u001b[0m \u001b[1;33m\u001b[0m\u001b[0m\n\u001b[0;32m    473\u001b[0m         \u001b[1;32mif\u001b[0m \u001b[0misscalarlike\u001b[0m\u001b[1;33m(\u001b[0m\u001b[0mother\u001b[0m\u001b[1;33m)\u001b[0m\u001b[1;33m:\u001b[0m\u001b[1;33m\u001b[0m\u001b[1;33m\u001b[0m\u001b[0m\n",
            "\u001b[1;32mc:\\users\\ayush.bajpayee\\.conda\\envs\\amazon_hackathon\\lib\\site-packages\\scipy\\sparse\\compressed.py\u001b[0m in \u001b[0;36m_mul_multivector\u001b[1;34m(self, other)\u001b[0m\n\u001b[0;32m    489\u001b[0m         \u001b[1;31m# csr_matvecs or csc_matvecs\u001b[0m\u001b[1;33m\u001b[0m\u001b[1;33m\u001b[0m\u001b[1;33m\u001b[0m\u001b[0m\n\u001b[0;32m    490\u001b[0m         \u001b[0mfn\u001b[0m \u001b[1;33m=\u001b[0m \u001b[0mgetattr\u001b[0m\u001b[1;33m(\u001b[0m\u001b[0m_sparsetools\u001b[0m\u001b[1;33m,\u001b[0m \u001b[0mself\u001b[0m\u001b[1;33m.\u001b[0m\u001b[0mformat\u001b[0m \u001b[1;33m+\u001b[0m \u001b[1;34m'_matvecs'\u001b[0m\u001b[1;33m)\u001b[0m\u001b[1;33m\u001b[0m\u001b[1;33m\u001b[0m\u001b[0m\n\u001b[1;32m--> 491\u001b[1;33m         fn(M, N, n_vecs, self.indptr, self.indices, self.data,\n\u001b[0m\u001b[0;32m    492\u001b[0m            other.ravel(), result.ravel())\n\u001b[0;32m    493\u001b[0m \u001b[1;33m\u001b[0m\u001b[0m\n",
            "\u001b[1;31mMemoryError\u001b[0m: Unable to allocate 2.63 GiB for an array with shape (353640000,) and data type float64"
          ]
        }
      ]
    },
    {
      "cell_type": "markdown",
      "metadata": {
        "id": "925a8218"
      },
      "source": [
        "## Basic Approach"
      ],
      "id": "925a8218"
    },
    {
      "cell_type": "code",
      "metadata": {
        "id": "0d00c27d",
        "outputId": "a50e7fb0-8aee-4df6-f6d2-6f3279e15720"
      },
      "source": [
        "dataset_temp = dataset.iloc[:1000000,:].copy()\n",
        "dataset_temp"
      ],
      "id": "0d00c27d",
      "execution_count": null,
      "outputs": [
        {
          "output_type": "execute_result",
          "data": {
            "text/html": [
              "<div>\n",
              "<style scoped>\n",
              "    .dataframe tbody tr th:only-of-type {\n",
              "        vertical-align: middle;\n",
              "    }\n",
              "\n",
              "    .dataframe tbody tr th {\n",
              "        vertical-align: top;\n",
              "    }\n",
              "\n",
              "    .dataframe thead th {\n",
              "        text-align: right;\n",
              "    }\n",
              "</style>\n",
              "<table border=\"1\" class=\"dataframe\">\n",
              "  <thead>\n",
              "    <tr style=\"text-align: right;\">\n",
              "      <th></th>\n",
              "      <th>TITLE</th>\n",
              "      <th>BULLET_POINTS</th>\n",
              "      <th>BRAND</th>\n",
              "      <th>BROWSE_NODE_ID</th>\n",
              "    </tr>\n",
              "  </thead>\n",
              "  <tbody>\n",
              "    <tr>\n",
              "      <th>0</th>\n",
              "      <td>Pete The Cat Bedtime Blues Doll, 14.5 Inch</td>\n",
              "      <td>[Pete the Cat Bedtime Blues plush doll, Based ...</td>\n",
              "      <td>MerryMakers</td>\n",
              "      <td>0</td>\n",
              "    </tr>\n",
              "    <tr>\n",
              "      <th>1</th>\n",
              "      <td>The New Yorker NYHM014 Refrigerator Magnet, 2 ...</td>\n",
              "      <td>[Cat In A Tea Cup by New Yorker cover artist G...</td>\n",
              "      <td>The New Yorker</td>\n",
              "      <td>1</td>\n",
              "    </tr>\n",
              "    <tr>\n",
              "      <th>2</th>\n",
              "      <td>The Ultimate Self-Sufficiency Handbook: A Comp...</td>\n",
              "      <td>[Skyhorse Publishing]</td>\n",
              "      <td>imusti</td>\n",
              "      <td>2</td>\n",
              "    </tr>\n",
              "    <tr>\n",
              "      <th>3</th>\n",
              "      <td>Amway Nutrilite Kids Chewable Iron Tablets (100)</td>\n",
              "      <td>[Nutrilite Kids, Chewable Iron Tablets, Quanti...</td>\n",
              "      <td>Amway</td>\n",
              "      <td>3</td>\n",
              "    </tr>\n",
              "    <tr>\n",
              "      <th>4</th>\n",
              "      <td>Teacher Planner Company A4 6 Lesson Academic T...</td>\n",
              "      <td>[OTHERS]</td>\n",
              "      <td>OTHERS</td>\n",
              "      <td>4</td>\n",
              "    </tr>\n",
              "    <tr>\n",
              "      <th>...</th>\n",
              "      <td>...</td>\n",
              "      <td>...</td>\n",
              "      <td>...</td>\n",
              "      <td>...</td>\n",
              "    </tr>\n",
              "    <tr>\n",
              "      <th>1019467</th>\n",
              "      <td>Macmerise Metallic Captain America Printed Bac...</td>\n",
              "      <td>[Ultra vivid,  razor sharp colour print techno...</td>\n",
              "      <td>Macmerise</td>\n",
              "      <td>1045</td>\n",
              "    </tr>\n",
              "    <tr>\n",
              "      <th>1019468</th>\n",
              "      <td>KD Willmax Stocking Over Knee Soccer Basket Ba...</td>\n",
              "      <td>[FABRIC,  WELL STITCHED and FINISHED: The spor...</td>\n",
              "      <td>KD</td>\n",
              "      <td>27627</td>\n",
              "    </tr>\n",
              "    <tr>\n",
              "      <th>1019469</th>\n",
              "      <td>COVERNEW Flip cover for Microsoft Nokia Lumia ...</td>\n",
              "      <td>[Durable Colour]</td>\n",
              "      <td>COVERNEW</td>\n",
              "      <td>1295</td>\n",
              "    </tr>\n",
              "    <tr>\n",
              "      <th>1019470</th>\n",
              "      <td>DDR3 4 Gb Ram For Gigabyte G1.Sniper 3 (rev. 1...</td>\n",
              "      <td>[4 Gb DDR 3 Desktop Ram, Un-buffered,  Non-ECC...</td>\n",
              "      <td>Bright Solutions</td>\n",
              "      <td>165</td>\n",
              "    </tr>\n",
              "    <tr>\n",
              "      <th>1019471</th>\n",
              "      <td>Mayur Exports Stainless Steel Small Holy Commu...</td>\n",
              "      <td>[Material: Stainless steel, Packing - set of 4...</td>\n",
              "      <td>Mayur Exports</td>\n",
              "      <td>1869</td>\n",
              "    </tr>\n",
              "  </tbody>\n",
              "</table>\n",
              "<p>1000000 rows × 4 columns</p>\n",
              "</div>"
            ],
            "text/plain": [
              "                                                     TITLE  \\\n",
              "0               Pete The Cat Bedtime Blues Doll, 14.5 Inch   \n",
              "1        The New Yorker NYHM014 Refrigerator Magnet, 2 ...   \n",
              "2        The Ultimate Self-Sufficiency Handbook: A Comp...   \n",
              "3         Amway Nutrilite Kids Chewable Iron Tablets (100)   \n",
              "4        Teacher Planner Company A4 6 Lesson Academic T...   \n",
              "...                                                    ...   \n",
              "1019467  Macmerise Metallic Captain America Printed Bac...   \n",
              "1019468  KD Willmax Stocking Over Knee Soccer Basket Ba...   \n",
              "1019469  COVERNEW Flip cover for Microsoft Nokia Lumia ...   \n",
              "1019470  DDR3 4 Gb Ram For Gigabyte G1.Sniper 3 (rev. 1...   \n",
              "1019471  Mayur Exports Stainless Steel Small Holy Commu...   \n",
              "\n",
              "                                             BULLET_POINTS             BRAND  \\\n",
              "0        [Pete the Cat Bedtime Blues plush doll, Based ...       MerryMakers   \n",
              "1        [Cat In A Tea Cup by New Yorker cover artist G...    The New Yorker   \n",
              "2                                    [Skyhorse Publishing]            imusti   \n",
              "3        [Nutrilite Kids, Chewable Iron Tablets, Quanti...             Amway   \n",
              "4                                                 [OTHERS]            OTHERS   \n",
              "...                                                    ...               ...   \n",
              "1019467  [Ultra vivid,  razor sharp colour print techno...         Macmerise   \n",
              "1019468  [FABRIC,  WELL STITCHED and FINISHED: The spor...                KD   \n",
              "1019469                                   [Durable Colour]          COVERNEW   \n",
              "1019470  [4 Gb DDR 3 Desktop Ram, Un-buffered,  Non-ECC...  Bright Solutions   \n",
              "1019471  [Material: Stainless steel, Packing - set of 4...     Mayur Exports   \n",
              "\n",
              "         BROWSE_NODE_ID  \n",
              "0                     0  \n",
              "1                     1  \n",
              "2                     2  \n",
              "3                     3  \n",
              "4                     4  \n",
              "...                 ...  \n",
              "1019467            1045  \n",
              "1019468           27627  \n",
              "1019469            1295  \n",
              "1019470             165  \n",
              "1019471            1869  \n",
              "\n",
              "[1000000 rows x 4 columns]"
            ]
          },
          "metadata": {
            "tags": []
          },
          "execution_count": 98
        }
      ]
    },
    {
      "cell_type": "code",
      "metadata": {
        "collapsed": true,
        "id": "70255a8e",
        "outputId": "715b85b6-ba7b-4e58-bd1c-224a254a1f70"
      },
      "source": [
        "#Train Test Split\n",
        "X_train, X_test, y_train, y_test = train_test_split(dataset_temp['TITLE'], dataset_temp['BROWSE_NODE_ID'], random_state = 0)\n",
        "count_vect = CountVectorizer()\n",
        "X_train_counts = count_vect.fit_transform(X_train)\n",
        "tfidf_transformer = TfidfTransformer()\n",
        "X_train_tfidf = tfidf_transformer.fit_transform(X_train_counts)\n",
        "clf = MultinomialNB().fit(X_train_tfidf, y_train)"
      ],
      "id": "70255a8e",
      "execution_count": null,
      "outputs": [
        {
          "output_type": "error",
          "ename": "MemoryError",
          "evalue": "Unable to allocate 50.0 GiB for an array with shape (750000, 8945) and data type int64",
          "traceback": [
            "\u001b[1;31m---------------------------------------------------------------------------\u001b[0m",
            "\u001b[1;31mMemoryError\u001b[0m                               Traceback (most recent call last)",
            "\u001b[1;32mC:\\Users\\AYUSH~1.BAJ\\AppData\\Local\\Temp/ipykernel_19692/2346594908.py\u001b[0m in \u001b[0;36m<module>\u001b[1;34m\u001b[0m\n\u001b[0;32m      5\u001b[0m \u001b[0mtfidf_transformer\u001b[0m \u001b[1;33m=\u001b[0m \u001b[0mTfidfTransformer\u001b[0m\u001b[1;33m(\u001b[0m\u001b[1;33m)\u001b[0m\u001b[1;33m\u001b[0m\u001b[1;33m\u001b[0m\u001b[0m\n\u001b[0;32m      6\u001b[0m \u001b[0mX_train_tfidf\u001b[0m \u001b[1;33m=\u001b[0m \u001b[0mtfidf_transformer\u001b[0m\u001b[1;33m.\u001b[0m\u001b[0mfit_transform\u001b[0m\u001b[1;33m(\u001b[0m\u001b[0mX_train_counts\u001b[0m\u001b[1;33m)\u001b[0m\u001b[1;33m\u001b[0m\u001b[1;33m\u001b[0m\u001b[0m\n\u001b[1;32m----> 7\u001b[1;33m \u001b[0mclf\u001b[0m \u001b[1;33m=\u001b[0m \u001b[0mMultinomialNB\u001b[0m\u001b[1;33m(\u001b[0m\u001b[1;33m)\u001b[0m\u001b[1;33m.\u001b[0m\u001b[0mfit\u001b[0m\u001b[1;33m(\u001b[0m\u001b[0mX_train_tfidf\u001b[0m\u001b[1;33m,\u001b[0m \u001b[0my_train\u001b[0m\u001b[1;33m)\u001b[0m\u001b[1;33m\u001b[0m\u001b[1;33m\u001b[0m\u001b[0m\n\u001b[0m",
            "\u001b[1;32mc:\\users\\ayush.bajpayee\\.conda\\envs\\amazon_hackathon\\lib\\site-packages\\sklearn\\naive_bayes.py\u001b[0m in \u001b[0;36mfit\u001b[1;34m(self, X, y, sample_weight)\u001b[0m\n\u001b[0;32m    615\u001b[0m \u001b[1;33m\u001b[0m\u001b[0m\n\u001b[0;32m    616\u001b[0m         \u001b[0mlabelbin\u001b[0m \u001b[1;33m=\u001b[0m \u001b[0mLabelBinarizer\u001b[0m\u001b[1;33m(\u001b[0m\u001b[1;33m)\u001b[0m\u001b[1;33m\u001b[0m\u001b[1;33m\u001b[0m\u001b[0m\n\u001b[1;32m--> 617\u001b[1;33m         \u001b[0mY\u001b[0m \u001b[1;33m=\u001b[0m \u001b[0mlabelbin\u001b[0m\u001b[1;33m.\u001b[0m\u001b[0mfit_transform\u001b[0m\u001b[1;33m(\u001b[0m\u001b[0my\u001b[0m\u001b[1;33m)\u001b[0m\u001b[1;33m\u001b[0m\u001b[1;33m\u001b[0m\u001b[0m\n\u001b[0m\u001b[0;32m    618\u001b[0m         \u001b[0mself\u001b[0m\u001b[1;33m.\u001b[0m\u001b[0mclasses_\u001b[0m \u001b[1;33m=\u001b[0m \u001b[0mlabelbin\u001b[0m\u001b[1;33m.\u001b[0m\u001b[0mclasses_\u001b[0m\u001b[1;33m\u001b[0m\u001b[1;33m\u001b[0m\u001b[0m\n\u001b[0;32m    619\u001b[0m         \u001b[1;32mif\u001b[0m \u001b[0mY\u001b[0m\u001b[1;33m.\u001b[0m\u001b[0mshape\u001b[0m\u001b[1;33m[\u001b[0m\u001b[1;36m1\u001b[0m\u001b[1;33m]\u001b[0m \u001b[1;33m==\u001b[0m \u001b[1;36m1\u001b[0m\u001b[1;33m:\u001b[0m\u001b[1;33m\u001b[0m\u001b[1;33m\u001b[0m\u001b[0m\n",
            "\u001b[1;32mc:\\users\\ayush.bajpayee\\.conda\\envs\\amazon_hackathon\\lib\\site-packages\\sklearn\\preprocessing\\_label.py\u001b[0m in \u001b[0;36mfit_transform\u001b[1;34m(self, y)\u001b[0m\n\u001b[0;32m    319\u001b[0m             \u001b[0mwill\u001b[0m \u001b[0mbe\u001b[0m \u001b[0mof\u001b[0m \u001b[0mCSR\u001b[0m \u001b[0mformat\u001b[0m\u001b[1;33m.\u001b[0m\u001b[1;33m\u001b[0m\u001b[1;33m\u001b[0m\u001b[0m\n\u001b[0;32m    320\u001b[0m         \"\"\"\n\u001b[1;32m--> 321\u001b[1;33m         \u001b[1;32mreturn\u001b[0m \u001b[0mself\u001b[0m\u001b[1;33m.\u001b[0m\u001b[0mfit\u001b[0m\u001b[1;33m(\u001b[0m\u001b[0my\u001b[0m\u001b[1;33m)\u001b[0m\u001b[1;33m.\u001b[0m\u001b[0mtransform\u001b[0m\u001b[1;33m(\u001b[0m\u001b[0my\u001b[0m\u001b[1;33m)\u001b[0m\u001b[1;33m\u001b[0m\u001b[1;33m\u001b[0m\u001b[0m\n\u001b[0m\u001b[0;32m    322\u001b[0m \u001b[1;33m\u001b[0m\u001b[0m\n\u001b[0;32m    323\u001b[0m     \u001b[1;32mdef\u001b[0m \u001b[0mtransform\u001b[0m\u001b[1;33m(\u001b[0m\u001b[0mself\u001b[0m\u001b[1;33m,\u001b[0m \u001b[0my\u001b[0m\u001b[1;33m)\u001b[0m\u001b[1;33m:\u001b[0m\u001b[1;33m\u001b[0m\u001b[1;33m\u001b[0m\u001b[0m\n",
            "\u001b[1;32mc:\\users\\ayush.bajpayee\\.conda\\envs\\amazon_hackathon\\lib\\site-packages\\sklearn\\preprocessing\\_label.py\u001b[0m in \u001b[0;36mtransform\u001b[1;34m(self, y)\u001b[0m\n\u001b[0;32m    348\u001b[0m                              \" input.\")\n\u001b[0;32m    349\u001b[0m \u001b[1;33m\u001b[0m\u001b[0m\n\u001b[1;32m--> 350\u001b[1;33m         return label_binarize(y, classes=self.classes_,\n\u001b[0m\u001b[0;32m    351\u001b[0m                               \u001b[0mpos_label\u001b[0m\u001b[1;33m=\u001b[0m\u001b[0mself\u001b[0m\u001b[1;33m.\u001b[0m\u001b[0mpos_label\u001b[0m\u001b[1;33m,\u001b[0m\u001b[1;33m\u001b[0m\u001b[1;33m\u001b[0m\u001b[0m\n\u001b[0;32m    352\u001b[0m                               \u001b[0mneg_label\u001b[0m\u001b[1;33m=\u001b[0m\u001b[0mself\u001b[0m\u001b[1;33m.\u001b[0m\u001b[0mneg_label\u001b[0m\u001b[1;33m,\u001b[0m\u001b[1;33m\u001b[0m\u001b[1;33m\u001b[0m\u001b[0m\n",
            "\u001b[1;32mc:\\users\\ayush.bajpayee\\.conda\\envs\\amazon_hackathon\\lib\\site-packages\\sklearn\\utils\\validation.py\u001b[0m in \u001b[0;36minner_f\u001b[1;34m(*args, **kwargs)\u001b[0m\n\u001b[0;32m     61\u001b[0m             \u001b[0mextra_args\u001b[0m \u001b[1;33m=\u001b[0m \u001b[0mlen\u001b[0m\u001b[1;33m(\u001b[0m\u001b[0margs\u001b[0m\u001b[1;33m)\u001b[0m \u001b[1;33m-\u001b[0m \u001b[0mlen\u001b[0m\u001b[1;33m(\u001b[0m\u001b[0mall_args\u001b[0m\u001b[1;33m)\u001b[0m\u001b[1;33m\u001b[0m\u001b[1;33m\u001b[0m\u001b[0m\n\u001b[0;32m     62\u001b[0m             \u001b[1;32mif\u001b[0m \u001b[0mextra_args\u001b[0m \u001b[1;33m<=\u001b[0m \u001b[1;36m0\u001b[0m\u001b[1;33m:\u001b[0m\u001b[1;33m\u001b[0m\u001b[1;33m\u001b[0m\u001b[0m\n\u001b[1;32m---> 63\u001b[1;33m                 \u001b[1;32mreturn\u001b[0m \u001b[0mf\u001b[0m\u001b[1;33m(\u001b[0m\u001b[1;33m*\u001b[0m\u001b[0margs\u001b[0m\u001b[1;33m,\u001b[0m \u001b[1;33m**\u001b[0m\u001b[0mkwargs\u001b[0m\u001b[1;33m)\u001b[0m\u001b[1;33m\u001b[0m\u001b[1;33m\u001b[0m\u001b[0m\n\u001b[0m\u001b[0;32m     64\u001b[0m \u001b[1;33m\u001b[0m\u001b[0m\n\u001b[0;32m     65\u001b[0m             \u001b[1;31m# extra_args > 0\u001b[0m\u001b[1;33m\u001b[0m\u001b[1;33m\u001b[0m\u001b[1;33m\u001b[0m\u001b[0m\n",
            "\u001b[1;32mc:\\users\\ayush.bajpayee\\.conda\\envs\\amazon_hackathon\\lib\\site-packages\\sklearn\\preprocessing\\_label.py\u001b[0m in \u001b[0;36mlabel_binarize\u001b[1;34m(y, classes, neg_label, pos_label, sparse_output)\u001b[0m\n\u001b[0;32m    545\u001b[0m \u001b[1;33m\u001b[0m\u001b[0m\n\u001b[0;32m    546\u001b[0m     \u001b[1;32mif\u001b[0m \u001b[1;32mnot\u001b[0m \u001b[0msparse_output\u001b[0m\u001b[1;33m:\u001b[0m\u001b[1;33m\u001b[0m\u001b[1;33m\u001b[0m\u001b[0m\n\u001b[1;32m--> 547\u001b[1;33m         \u001b[0mY\u001b[0m \u001b[1;33m=\u001b[0m \u001b[0mY\u001b[0m\u001b[1;33m.\u001b[0m\u001b[0mtoarray\u001b[0m\u001b[1;33m(\u001b[0m\u001b[1;33m)\u001b[0m\u001b[1;33m\u001b[0m\u001b[1;33m\u001b[0m\u001b[0m\n\u001b[0m\u001b[0;32m    548\u001b[0m         \u001b[0mY\u001b[0m \u001b[1;33m=\u001b[0m \u001b[0mY\u001b[0m\u001b[1;33m.\u001b[0m\u001b[0mastype\u001b[0m\u001b[1;33m(\u001b[0m\u001b[0mint\u001b[0m\u001b[1;33m,\u001b[0m \u001b[0mcopy\u001b[0m\u001b[1;33m=\u001b[0m\u001b[1;32mFalse\u001b[0m\u001b[1;33m)\u001b[0m\u001b[1;33m\u001b[0m\u001b[1;33m\u001b[0m\u001b[0m\n\u001b[0;32m    549\u001b[0m \u001b[1;33m\u001b[0m\u001b[0m\n",
            "\u001b[1;32mc:\\users\\ayush.bajpayee\\.conda\\envs\\amazon_hackathon\\lib\\site-packages\\scipy\\sparse\\compressed.py\u001b[0m in \u001b[0;36mtoarray\u001b[1;34m(self, order, out)\u001b[0m\n\u001b[0;32m   1029\u001b[0m         \u001b[1;32mif\u001b[0m \u001b[0mout\u001b[0m \u001b[1;32mis\u001b[0m \u001b[1;32mNone\u001b[0m \u001b[1;32mand\u001b[0m \u001b[0morder\u001b[0m \u001b[1;32mis\u001b[0m \u001b[1;32mNone\u001b[0m\u001b[1;33m:\u001b[0m\u001b[1;33m\u001b[0m\u001b[1;33m\u001b[0m\u001b[0m\n\u001b[0;32m   1030\u001b[0m             \u001b[0morder\u001b[0m \u001b[1;33m=\u001b[0m \u001b[0mself\u001b[0m\u001b[1;33m.\u001b[0m\u001b[0m_swap\u001b[0m\u001b[1;33m(\u001b[0m\u001b[1;34m'cf'\u001b[0m\u001b[1;33m)\u001b[0m\u001b[1;33m[\u001b[0m\u001b[1;36m0\u001b[0m\u001b[1;33m]\u001b[0m\u001b[1;33m\u001b[0m\u001b[1;33m\u001b[0m\u001b[0m\n\u001b[1;32m-> 1031\u001b[1;33m         \u001b[0mout\u001b[0m \u001b[1;33m=\u001b[0m \u001b[0mself\u001b[0m\u001b[1;33m.\u001b[0m\u001b[0m_process_toarray_args\u001b[0m\u001b[1;33m(\u001b[0m\u001b[0morder\u001b[0m\u001b[1;33m,\u001b[0m \u001b[0mout\u001b[0m\u001b[1;33m)\u001b[0m\u001b[1;33m\u001b[0m\u001b[1;33m\u001b[0m\u001b[0m\n\u001b[0m\u001b[0;32m   1032\u001b[0m         \u001b[1;32mif\u001b[0m \u001b[1;32mnot\u001b[0m \u001b[1;33m(\u001b[0m\u001b[0mout\u001b[0m\u001b[1;33m.\u001b[0m\u001b[0mflags\u001b[0m\u001b[1;33m.\u001b[0m\u001b[0mc_contiguous\u001b[0m \u001b[1;32mor\u001b[0m \u001b[0mout\u001b[0m\u001b[1;33m.\u001b[0m\u001b[0mflags\u001b[0m\u001b[1;33m.\u001b[0m\u001b[0mf_contiguous\u001b[0m\u001b[1;33m)\u001b[0m\u001b[1;33m:\u001b[0m\u001b[1;33m\u001b[0m\u001b[1;33m\u001b[0m\u001b[0m\n\u001b[0;32m   1033\u001b[0m             \u001b[1;32mraise\u001b[0m \u001b[0mValueError\u001b[0m\u001b[1;33m(\u001b[0m\u001b[1;34m'Output array must be C or F contiguous'\u001b[0m\u001b[1;33m)\u001b[0m\u001b[1;33m\u001b[0m\u001b[1;33m\u001b[0m\u001b[0m\n",
            "\u001b[1;32mc:\\users\\ayush.bajpayee\\.conda\\envs\\amazon_hackathon\\lib\\site-packages\\scipy\\sparse\\base.py\u001b[0m in \u001b[0;36m_process_toarray_args\u001b[1;34m(self, order, out)\u001b[0m\n\u001b[0;32m   1200\u001b[0m             \u001b[1;32mreturn\u001b[0m \u001b[0mout\u001b[0m\u001b[1;33m\u001b[0m\u001b[1;33m\u001b[0m\u001b[0m\n\u001b[0;32m   1201\u001b[0m         \u001b[1;32melse\u001b[0m\u001b[1;33m:\u001b[0m\u001b[1;33m\u001b[0m\u001b[1;33m\u001b[0m\u001b[0m\n\u001b[1;32m-> 1202\u001b[1;33m             \u001b[1;32mreturn\u001b[0m \u001b[0mnp\u001b[0m\u001b[1;33m.\u001b[0m\u001b[0mzeros\u001b[0m\u001b[1;33m(\u001b[0m\u001b[0mself\u001b[0m\u001b[1;33m.\u001b[0m\u001b[0mshape\u001b[0m\u001b[1;33m,\u001b[0m \u001b[0mdtype\u001b[0m\u001b[1;33m=\u001b[0m\u001b[0mself\u001b[0m\u001b[1;33m.\u001b[0m\u001b[0mdtype\u001b[0m\u001b[1;33m,\u001b[0m \u001b[0morder\u001b[0m\u001b[1;33m=\u001b[0m\u001b[0morder\u001b[0m\u001b[1;33m)\u001b[0m\u001b[1;33m\u001b[0m\u001b[1;33m\u001b[0m\u001b[0m\n\u001b[0m\u001b[0;32m   1203\u001b[0m \u001b[1;33m\u001b[0m\u001b[0m\n\u001b[0;32m   1204\u001b[0m \u001b[1;33m\u001b[0m\u001b[0m\n",
            "\u001b[1;31mMemoryError\u001b[0m: Unable to allocate 50.0 GiB for an array with shape (750000, 8945) and data type int64"
          ]
        }
      ]
    },
    {
      "cell_type": "code",
      "metadata": {
        "id": "71f33e39"
      },
      "source": [
        "#Transforming Test\n",
        "X_test_counts = count_vect.transform(X_test)\n",
        "X_test_tfidf = tfidf_transformer.transform(X_test_counts)"
      ],
      "id": "71f33e39",
      "execution_count": null,
      "outputs": []
    },
    {
      "cell_type": "code",
      "metadata": {
        "id": "d0acf2ed",
        "outputId": "717983cc-5023-4d66-aff8-cb38fe6520e0"
      },
      "source": [
        "%%time\n",
        "\n",
        "#Train Accuracy\n",
        "y_pred = clf.predict(X_train_tfidf)\n",
        "print('accuracy %s' % accuracy_score(y_pred, y_train))"
      ],
      "id": "d0acf2ed",
      "execution_count": null,
      "outputs": [
        {
          "output_type": "stream",
          "text": [
            "accuracy 0.25093333333333334\n",
            "Wall time: 53.3 s\n"
          ],
          "name": "stdout"
        }
      ]
    },
    {
      "cell_type": "code",
      "metadata": {
        "id": "d8b6ca33",
        "outputId": "595750b9-3717-448b-aa10-0d6bf1a09e70"
      },
      "source": [
        "%%time\n",
        "\n",
        "#Test Accuracy\n",
        "y_pred = clf.predict(X_test_tfidf)\n",
        "print('accuracy %s' % accuracy_score(y_pred, y_test))"
      ],
      "id": "d8b6ca33",
      "execution_count": null,
      "outputs": [
        {
          "output_type": "stream",
          "text": [
            "accuracy 0.2306\n",
            "Wall time: 15.9 s\n"
          ],
          "name": "stdout"
        }
      ]
    },
    {
      "cell_type": "markdown",
      "metadata": {
        "id": "10b81ddc"
      },
      "source": [
        "## Further with Stemming"
      ],
      "id": "10b81ddc"
    },
    {
      "cell_type": "code",
      "metadata": {
        "id": "d89b3727"
      },
      "source": [
        "tokenizer = nltk.RegexpTokenizer(r\"\\w+\")\n",
        "#Porter Stemmer\n",
        "from nltk.stem.porter import PorterStemmer\n",
        "porter = PorterStemmer()\n",
        "sno = nltk.stem.SnowballStemmer('english')\n",
        "# stemmed = [porter.stem(word) for word in tokens]"
      ],
      "id": "d89b3727",
      "execution_count": null,
      "outputs": []
    },
    {
      "cell_type": "code",
      "metadata": {
        "id": "277388b8"
      },
      "source": [
        "dataset_temp = dataset.iloc[:100000,:].copy()"
      ],
      "id": "277388b8",
      "execution_count": null,
      "outputs": []
    },
    {
      "cell_type": "code",
      "metadata": {
        "id": "ef1ee332"
      },
      "source": [
        "#PORTER STEMMING\n",
        "dataset_temp['TITLE'] = dataset_temp['TITLE'].apply(porter.stem)"
      ],
      "id": "ef1ee332",
      "execution_count": null,
      "outputs": []
    },
    {
      "cell_type": "code",
      "metadata": {
        "id": "76576b0d"
      },
      "source": [
        "#Snowball STEMMING\n",
        "dataset_temp['TITLE'] = dataset_temp['TITLE'].apply(sno.stem)"
      ],
      "id": "76576b0d",
      "execution_count": null,
      "outputs": []
    },
    {
      "cell_type": "code",
      "metadata": {
        "id": "d7a00bf3"
      },
      "source": [
        "# dataset_temp['TITLE'].apply(tokenizer.tokenize)\n",
        "dataset_temp['TITLE'] = dataset_temp['TITLE'].apply(tokenizer.tokenize)"
      ],
      "id": "d7a00bf3",
      "execution_count": null,
      "outputs": []
    },
    {
      "cell_type": "code",
      "metadata": {
        "id": "f693bc69"
      },
      "source": [
        "# dataset_temp['TITLE'].apply(lambda x: [item for item in x if item not in stop_words])\n",
        "dataset_temp['TITLE'] = dataset_temp['TITLE'].apply(lambda x: [item for item in x if item not in stop_words])"
      ],
      "id": "f693bc69",
      "execution_count": null,
      "outputs": []
    },
    {
      "cell_type": "code",
      "metadata": {
        "collapsed": true,
        "id": "31a530d5",
        "outputId": "5c24a4c1-4f00-4e45-852a-389ab1f7b99f"
      },
      "source": [
        "%%time\n",
        "#Train Test Split\n",
        "X_train, X_test, y_train, y_test = train_test_split(dataset_temp['TITLE'], dataset_temp['BROWSE_NODE_ID'], random_state = 0)\n",
        "ctv = CountVectorizer(analyzer='word',token_pattern=r'\\w{1,}', stop_words = 'english')\n",
        "# count_vect = CountVectorizer(stop_words='english')\n",
        "X_train_counts = count_vect.fit_transform(X_train)\n",
        "# tfidf_transformer = TfidfTransformer()\n",
        "# X_train_tfidf = tfidf_transformer.fit_transform(X_train_counts)\n",
        "clf = MultinomialNB().fit(X_train_counts, y_train)"
      ],
      "id": "31a530d5",
      "execution_count": null,
      "outputs": [
        {
          "output_type": "error",
          "ename": "MemoryError",
          "evalue": "Unable to allocate 50.0 GiB for an array with shape (750000, 8945) and data type int64",
          "traceback": [
            "\u001b[1;31m---------------------------------------------------------------------------\u001b[0m",
            "\u001b[1;31mMemoryError\u001b[0m                               Traceback (most recent call last)",
            "\u001b[1;32m<timed exec>\u001b[0m in \u001b[0;36m<module>\u001b[1;34m\u001b[0m\n",
            "\u001b[1;32mc:\\users\\ayush.bajpayee\\.conda\\envs\\amazon_hackathon\\lib\\site-packages\\sklearn\\naive_bayes.py\u001b[0m in \u001b[0;36mfit\u001b[1;34m(self, X, y, sample_weight)\u001b[0m\n\u001b[0;32m    615\u001b[0m \u001b[1;33m\u001b[0m\u001b[0m\n\u001b[0;32m    616\u001b[0m         \u001b[0mlabelbin\u001b[0m \u001b[1;33m=\u001b[0m \u001b[0mLabelBinarizer\u001b[0m\u001b[1;33m(\u001b[0m\u001b[1;33m)\u001b[0m\u001b[1;33m\u001b[0m\u001b[1;33m\u001b[0m\u001b[0m\n\u001b[1;32m--> 617\u001b[1;33m         \u001b[0mY\u001b[0m \u001b[1;33m=\u001b[0m \u001b[0mlabelbin\u001b[0m\u001b[1;33m.\u001b[0m\u001b[0mfit_transform\u001b[0m\u001b[1;33m(\u001b[0m\u001b[0my\u001b[0m\u001b[1;33m)\u001b[0m\u001b[1;33m\u001b[0m\u001b[1;33m\u001b[0m\u001b[0m\n\u001b[0m\u001b[0;32m    618\u001b[0m         \u001b[0mself\u001b[0m\u001b[1;33m.\u001b[0m\u001b[0mclasses_\u001b[0m \u001b[1;33m=\u001b[0m \u001b[0mlabelbin\u001b[0m\u001b[1;33m.\u001b[0m\u001b[0mclasses_\u001b[0m\u001b[1;33m\u001b[0m\u001b[1;33m\u001b[0m\u001b[0m\n\u001b[0;32m    619\u001b[0m         \u001b[1;32mif\u001b[0m \u001b[0mY\u001b[0m\u001b[1;33m.\u001b[0m\u001b[0mshape\u001b[0m\u001b[1;33m[\u001b[0m\u001b[1;36m1\u001b[0m\u001b[1;33m]\u001b[0m \u001b[1;33m==\u001b[0m \u001b[1;36m1\u001b[0m\u001b[1;33m:\u001b[0m\u001b[1;33m\u001b[0m\u001b[1;33m\u001b[0m\u001b[0m\n",
            "\u001b[1;32mc:\\users\\ayush.bajpayee\\.conda\\envs\\amazon_hackathon\\lib\\site-packages\\sklearn\\preprocessing\\_label.py\u001b[0m in \u001b[0;36mfit_transform\u001b[1;34m(self, y)\u001b[0m\n\u001b[0;32m    319\u001b[0m             \u001b[0mwill\u001b[0m \u001b[0mbe\u001b[0m \u001b[0mof\u001b[0m \u001b[0mCSR\u001b[0m \u001b[0mformat\u001b[0m\u001b[1;33m.\u001b[0m\u001b[1;33m\u001b[0m\u001b[1;33m\u001b[0m\u001b[0m\n\u001b[0;32m    320\u001b[0m         \"\"\"\n\u001b[1;32m--> 321\u001b[1;33m         \u001b[1;32mreturn\u001b[0m \u001b[0mself\u001b[0m\u001b[1;33m.\u001b[0m\u001b[0mfit\u001b[0m\u001b[1;33m(\u001b[0m\u001b[0my\u001b[0m\u001b[1;33m)\u001b[0m\u001b[1;33m.\u001b[0m\u001b[0mtransform\u001b[0m\u001b[1;33m(\u001b[0m\u001b[0my\u001b[0m\u001b[1;33m)\u001b[0m\u001b[1;33m\u001b[0m\u001b[1;33m\u001b[0m\u001b[0m\n\u001b[0m\u001b[0;32m    322\u001b[0m \u001b[1;33m\u001b[0m\u001b[0m\n\u001b[0;32m    323\u001b[0m     \u001b[1;32mdef\u001b[0m \u001b[0mtransform\u001b[0m\u001b[1;33m(\u001b[0m\u001b[0mself\u001b[0m\u001b[1;33m,\u001b[0m \u001b[0my\u001b[0m\u001b[1;33m)\u001b[0m\u001b[1;33m:\u001b[0m\u001b[1;33m\u001b[0m\u001b[1;33m\u001b[0m\u001b[0m\n",
            "\u001b[1;32mc:\\users\\ayush.bajpayee\\.conda\\envs\\amazon_hackathon\\lib\\site-packages\\sklearn\\preprocessing\\_label.py\u001b[0m in \u001b[0;36mtransform\u001b[1;34m(self, y)\u001b[0m\n\u001b[0;32m    348\u001b[0m                              \" input.\")\n\u001b[0;32m    349\u001b[0m \u001b[1;33m\u001b[0m\u001b[0m\n\u001b[1;32m--> 350\u001b[1;33m         return label_binarize(y, classes=self.classes_,\n\u001b[0m\u001b[0;32m    351\u001b[0m                               \u001b[0mpos_label\u001b[0m\u001b[1;33m=\u001b[0m\u001b[0mself\u001b[0m\u001b[1;33m.\u001b[0m\u001b[0mpos_label\u001b[0m\u001b[1;33m,\u001b[0m\u001b[1;33m\u001b[0m\u001b[1;33m\u001b[0m\u001b[0m\n\u001b[0;32m    352\u001b[0m                               \u001b[0mneg_label\u001b[0m\u001b[1;33m=\u001b[0m\u001b[0mself\u001b[0m\u001b[1;33m.\u001b[0m\u001b[0mneg_label\u001b[0m\u001b[1;33m,\u001b[0m\u001b[1;33m\u001b[0m\u001b[1;33m\u001b[0m\u001b[0m\n",
            "\u001b[1;32mc:\\users\\ayush.bajpayee\\.conda\\envs\\amazon_hackathon\\lib\\site-packages\\sklearn\\utils\\validation.py\u001b[0m in \u001b[0;36minner_f\u001b[1;34m(*args, **kwargs)\u001b[0m\n\u001b[0;32m     61\u001b[0m             \u001b[0mextra_args\u001b[0m \u001b[1;33m=\u001b[0m \u001b[0mlen\u001b[0m\u001b[1;33m(\u001b[0m\u001b[0margs\u001b[0m\u001b[1;33m)\u001b[0m \u001b[1;33m-\u001b[0m \u001b[0mlen\u001b[0m\u001b[1;33m(\u001b[0m\u001b[0mall_args\u001b[0m\u001b[1;33m)\u001b[0m\u001b[1;33m\u001b[0m\u001b[1;33m\u001b[0m\u001b[0m\n\u001b[0;32m     62\u001b[0m             \u001b[1;32mif\u001b[0m \u001b[0mextra_args\u001b[0m \u001b[1;33m<=\u001b[0m \u001b[1;36m0\u001b[0m\u001b[1;33m:\u001b[0m\u001b[1;33m\u001b[0m\u001b[1;33m\u001b[0m\u001b[0m\n\u001b[1;32m---> 63\u001b[1;33m                 \u001b[1;32mreturn\u001b[0m \u001b[0mf\u001b[0m\u001b[1;33m(\u001b[0m\u001b[1;33m*\u001b[0m\u001b[0margs\u001b[0m\u001b[1;33m,\u001b[0m \u001b[1;33m**\u001b[0m\u001b[0mkwargs\u001b[0m\u001b[1;33m)\u001b[0m\u001b[1;33m\u001b[0m\u001b[1;33m\u001b[0m\u001b[0m\n\u001b[0m\u001b[0;32m     64\u001b[0m \u001b[1;33m\u001b[0m\u001b[0m\n\u001b[0;32m     65\u001b[0m             \u001b[1;31m# extra_args > 0\u001b[0m\u001b[1;33m\u001b[0m\u001b[1;33m\u001b[0m\u001b[1;33m\u001b[0m\u001b[0m\n",
            "\u001b[1;32mc:\\users\\ayush.bajpayee\\.conda\\envs\\amazon_hackathon\\lib\\site-packages\\sklearn\\preprocessing\\_label.py\u001b[0m in \u001b[0;36mlabel_binarize\u001b[1;34m(y, classes, neg_label, pos_label, sparse_output)\u001b[0m\n\u001b[0;32m    545\u001b[0m \u001b[1;33m\u001b[0m\u001b[0m\n\u001b[0;32m    546\u001b[0m     \u001b[1;32mif\u001b[0m \u001b[1;32mnot\u001b[0m \u001b[0msparse_output\u001b[0m\u001b[1;33m:\u001b[0m\u001b[1;33m\u001b[0m\u001b[1;33m\u001b[0m\u001b[0m\n\u001b[1;32m--> 547\u001b[1;33m         \u001b[0mY\u001b[0m \u001b[1;33m=\u001b[0m \u001b[0mY\u001b[0m\u001b[1;33m.\u001b[0m\u001b[0mtoarray\u001b[0m\u001b[1;33m(\u001b[0m\u001b[1;33m)\u001b[0m\u001b[1;33m\u001b[0m\u001b[1;33m\u001b[0m\u001b[0m\n\u001b[0m\u001b[0;32m    548\u001b[0m         \u001b[0mY\u001b[0m \u001b[1;33m=\u001b[0m \u001b[0mY\u001b[0m\u001b[1;33m.\u001b[0m\u001b[0mastype\u001b[0m\u001b[1;33m(\u001b[0m\u001b[0mint\u001b[0m\u001b[1;33m,\u001b[0m \u001b[0mcopy\u001b[0m\u001b[1;33m=\u001b[0m\u001b[1;32mFalse\u001b[0m\u001b[1;33m)\u001b[0m\u001b[1;33m\u001b[0m\u001b[1;33m\u001b[0m\u001b[0m\n\u001b[0;32m    549\u001b[0m \u001b[1;33m\u001b[0m\u001b[0m\n",
            "\u001b[1;32mc:\\users\\ayush.bajpayee\\.conda\\envs\\amazon_hackathon\\lib\\site-packages\\scipy\\sparse\\compressed.py\u001b[0m in \u001b[0;36mtoarray\u001b[1;34m(self, order, out)\u001b[0m\n\u001b[0;32m   1029\u001b[0m         \u001b[1;32mif\u001b[0m \u001b[0mout\u001b[0m \u001b[1;32mis\u001b[0m \u001b[1;32mNone\u001b[0m \u001b[1;32mand\u001b[0m \u001b[0morder\u001b[0m \u001b[1;32mis\u001b[0m \u001b[1;32mNone\u001b[0m\u001b[1;33m:\u001b[0m\u001b[1;33m\u001b[0m\u001b[1;33m\u001b[0m\u001b[0m\n\u001b[0;32m   1030\u001b[0m             \u001b[0morder\u001b[0m \u001b[1;33m=\u001b[0m \u001b[0mself\u001b[0m\u001b[1;33m.\u001b[0m\u001b[0m_swap\u001b[0m\u001b[1;33m(\u001b[0m\u001b[1;34m'cf'\u001b[0m\u001b[1;33m)\u001b[0m\u001b[1;33m[\u001b[0m\u001b[1;36m0\u001b[0m\u001b[1;33m]\u001b[0m\u001b[1;33m\u001b[0m\u001b[1;33m\u001b[0m\u001b[0m\n\u001b[1;32m-> 1031\u001b[1;33m         \u001b[0mout\u001b[0m \u001b[1;33m=\u001b[0m \u001b[0mself\u001b[0m\u001b[1;33m.\u001b[0m\u001b[0m_process_toarray_args\u001b[0m\u001b[1;33m(\u001b[0m\u001b[0morder\u001b[0m\u001b[1;33m,\u001b[0m \u001b[0mout\u001b[0m\u001b[1;33m)\u001b[0m\u001b[1;33m\u001b[0m\u001b[1;33m\u001b[0m\u001b[0m\n\u001b[0m\u001b[0;32m   1032\u001b[0m         \u001b[1;32mif\u001b[0m \u001b[1;32mnot\u001b[0m \u001b[1;33m(\u001b[0m\u001b[0mout\u001b[0m\u001b[1;33m.\u001b[0m\u001b[0mflags\u001b[0m\u001b[1;33m.\u001b[0m\u001b[0mc_contiguous\u001b[0m \u001b[1;32mor\u001b[0m \u001b[0mout\u001b[0m\u001b[1;33m.\u001b[0m\u001b[0mflags\u001b[0m\u001b[1;33m.\u001b[0m\u001b[0mf_contiguous\u001b[0m\u001b[1;33m)\u001b[0m\u001b[1;33m:\u001b[0m\u001b[1;33m\u001b[0m\u001b[1;33m\u001b[0m\u001b[0m\n\u001b[0;32m   1033\u001b[0m             \u001b[1;32mraise\u001b[0m \u001b[0mValueError\u001b[0m\u001b[1;33m(\u001b[0m\u001b[1;34m'Output array must be C or F contiguous'\u001b[0m\u001b[1;33m)\u001b[0m\u001b[1;33m\u001b[0m\u001b[1;33m\u001b[0m\u001b[0m\n",
            "\u001b[1;32mc:\\users\\ayush.bajpayee\\.conda\\envs\\amazon_hackathon\\lib\\site-packages\\scipy\\sparse\\base.py\u001b[0m in \u001b[0;36m_process_toarray_args\u001b[1;34m(self, order, out)\u001b[0m\n\u001b[0;32m   1200\u001b[0m             \u001b[1;32mreturn\u001b[0m \u001b[0mout\u001b[0m\u001b[1;33m\u001b[0m\u001b[1;33m\u001b[0m\u001b[0m\n\u001b[0;32m   1201\u001b[0m         \u001b[1;32melse\u001b[0m\u001b[1;33m:\u001b[0m\u001b[1;33m\u001b[0m\u001b[1;33m\u001b[0m\u001b[0m\n\u001b[1;32m-> 1202\u001b[1;33m             \u001b[1;32mreturn\u001b[0m \u001b[0mnp\u001b[0m\u001b[1;33m.\u001b[0m\u001b[0mzeros\u001b[0m\u001b[1;33m(\u001b[0m\u001b[0mself\u001b[0m\u001b[1;33m.\u001b[0m\u001b[0mshape\u001b[0m\u001b[1;33m,\u001b[0m \u001b[0mdtype\u001b[0m\u001b[1;33m=\u001b[0m\u001b[0mself\u001b[0m\u001b[1;33m.\u001b[0m\u001b[0mdtype\u001b[0m\u001b[1;33m,\u001b[0m \u001b[0morder\u001b[0m\u001b[1;33m=\u001b[0m\u001b[0morder\u001b[0m\u001b[1;33m)\u001b[0m\u001b[1;33m\u001b[0m\u001b[1;33m\u001b[0m\u001b[0m\n\u001b[0m\u001b[0;32m   1203\u001b[0m \u001b[1;33m\u001b[0m\u001b[0m\n\u001b[0;32m   1204\u001b[0m \u001b[1;33m\u001b[0m\u001b[0m\n",
            "\u001b[1;31mMemoryError\u001b[0m: Unable to allocate 50.0 GiB for an array with shape (750000, 8945) and data type int64"
          ]
        }
      ]
    },
    {
      "cell_type": "code",
      "metadata": {
        "id": "8ef4e6a9"
      },
      "source": [
        "%%time\n",
        "\n",
        "#Transforming Test\n",
        "X_test_counts = count_vect.transform(X_test)\n",
        "X_test_tfidf = tfidf_transformer.transform(X_test_counts)"
      ],
      "id": "8ef4e6a9",
      "execution_count": null,
      "outputs": []
    },
    {
      "cell_type": "code",
      "metadata": {
        "id": "7acc29bf"
      },
      "source": [
        "%%time\n",
        "\n",
        "#Train Accuracy\n",
        "y_pred = clf.predict(X_train_tfidf)\n",
        "print('accuracy %s' % accuracy_score(y_pred, y_train))"
      ],
      "id": "7acc29bf",
      "execution_count": null,
      "outputs": []
    },
    {
      "cell_type": "code",
      "metadata": {
        "id": "28daf90c"
      },
      "source": [
        "%%time\n",
        "\n",
        "#Test Accuracy\n",
        "y_pred = clf.predict(X_test_tfidf)\n",
        "print('accuracy %s' % accuracy_score(y_pred, y_test))"
      ],
      "id": "28daf90c",
      "execution_count": null,
      "outputs": []
    },
    {
      "cell_type": "markdown",
      "metadata": {
        "id": "313ef482"
      },
      "source": [
        "# **DATA TRIM DOWN**"
      ],
      "id": "313ef482"
    },
    {
      "cell_type": "code",
      "metadata": {
        "id": "184c3f99",
        "outputId": "3b57e25d-3bad-4c4c-ece1-d02cb03cb434"
      },
      "source": [
        "sum(dataset['BROWSE_NODE_ID'].value_counts().head(30))"
      ],
      "id": "184c3f99",
      "execution_count": null,
      "outputs": [
        {
          "output_type": "execute_result",
          "data": {
            "text/plain": [
              "838949"
            ]
          },
          "metadata": {
            "tags": []
          },
          "execution_count": 63
        }
      ]
    },
    {
      "cell_type": "code",
      "metadata": {
        "id": "90dfab6d"
      },
      "source": [
        "mapper = dataset['BROWSE_NODE_ID'].value_counts().head(30).keys()\n",
        "mapper"
      ],
      "id": "90dfab6d",
      "execution_count": null,
      "outputs": []
    },
    {
      "cell_type": "code",
      "metadata": {
        "id": "20b52714"
      },
      "source": [
        "dataset_original = dataset.copy()"
      ],
      "id": "20b52714",
      "execution_count": null,
      "outputs": []
    },
    {
      "cell_type": "code",
      "metadata": {
        "id": "9538e95b",
        "outputId": "d83d3045-d81c-4522-bfb7-993895c2deed"
      },
      "source": [
        "dataset = dataset.loc[dataset['BROWSE_NODE_ID'].isin(mapper)]\n",
        "dataset"
      ],
      "id": "9538e95b",
      "execution_count": null,
      "outputs": [
        {
          "output_type": "execute_result",
          "data": {
            "text/html": [
              "<div>\n",
              "<style scoped>\n",
              "    .dataframe tbody tr th:only-of-type {\n",
              "        vertical-align: middle;\n",
              "    }\n",
              "\n",
              "    .dataframe tbody tr th {\n",
              "        vertical-align: top;\n",
              "    }\n",
              "\n",
              "    .dataframe thead th {\n",
              "        text-align: right;\n",
              "    }\n",
              "</style>\n",
              "<table border=\"1\" class=\"dataframe\">\n",
              "  <thead>\n",
              "    <tr style=\"text-align: right;\">\n",
              "      <th></th>\n",
              "      <th>TITLE</th>\n",
              "      <th>BULLET_POINTS</th>\n",
              "      <th>BRAND</th>\n",
              "      <th>BROWSE_NODE_ID</th>\n",
              "    </tr>\n",
              "  </thead>\n",
              "  <tbody>\n",
              "    <tr>\n",
              "      <th>4</th>\n",
              "      <td>Teacher Planner Company A4 6 Lesson Academic T...</td>\n",
              "      <td>OTHERS</td>\n",
              "      <td>OTHERS</td>\n",
              "      <td>4</td>\n",
              "    </tr>\n",
              "    <tr>\n",
              "      <th>5</th>\n",
              "      <td>Men'S Full Sleeve Raglan T-Shirts Denim T-Shir...</td>\n",
              "      <td>[Color: Blue,Sleeve: Full Sleeve,Material: Cot...</td>\n",
              "      <td>Bhavya Enterprise</td>\n",
              "      <td>5</td>\n",
              "    </tr>\n",
              "    <tr>\n",
              "      <th>11</th>\n",
              "      <td>White : Braun KF400-WH Aromaster 10-Cup Coffee...</td>\n",
              "      <td>[Water-dispersal system provides fast, uniform...</td>\n",
              "      <td>Braun</td>\n",
              "      <td>11</td>\n",
              "    </tr>\n",
              "    <tr>\n",
              "      <th>40</th>\n",
              "      <td>Wrangler Men's Regular Fit Jeans (13MWZPW1-463...</td>\n",
              "      <td>DURABLE MATERIALS.  It's no question that this...</td>\n",
              "      <td>Wrangler</td>\n",
              "      <td>40</td>\n",
              "    </tr>\n",
              "    <tr>\n",
              "      <th>47</th>\n",
              "      <td>Susan Howatch</td>\n",
              "      <td>OTHERS</td>\n",
              "      <td>OTHERS</td>\n",
              "      <td>4</td>\n",
              "    </tr>\n",
              "    <tr>\n",
              "      <th>...</th>\n",
              "      <td>...</td>\n",
              "      <td>...</td>\n",
              "      <td>...</td>\n",
              "      <td>...</td>\n",
              "    </tr>\n",
              "    <tr>\n",
              "      <th>2902995</th>\n",
              "      <td>Think Tech Desinger Printed Back Case Cover Co...</td>\n",
              "      <td>[It'S 3D Printing Technologies So Colour Will ...</td>\n",
              "      <td>Think Tech</td>\n",
              "      <td>1045</td>\n",
              "    </tr>\n",
              "    <tr>\n",
              "      <th>2903009</th>\n",
              "      <td>Pawan Textiles Womens Cotton Jaipuri Block Pri...</td>\n",
              "      <td>[Hand Block Print Jaipuri Sanganeri Salwar Sui...</td>\n",
              "      <td>Pawan Textiles</td>\n",
              "      <td>465</td>\n",
              "    </tr>\n",
              "    <tr>\n",
              "      <th>2903015</th>\n",
              "      <td>CRONEX Presents 100% Waterproof Car Body Cover...</td>\n",
              "      <td>[✔Compatible For-Maruti Suzuki Ignis including...</td>\n",
              "      <td>CRONEX</td>\n",
              "      <td>1590</td>\n",
              "    </tr>\n",
              "    <tr>\n",
              "      <th>2903016</th>\n",
              "      <td>Holy Heart Collections Supremo Zig Zag Line Pr...</td>\n",
              "      <td>[Color : Multicolor, Material : Fine Polyester...</td>\n",
              "      <td>Holy Heart Collections</td>\n",
              "      <td>739</td>\n",
              "    </tr>\n",
              "    <tr>\n",
              "      <th>2903023</th>\n",
              "      <td>KNG Orange Polo Tshirt (38)</td>\n",
              "      <td>OTHERS</td>\n",
              "      <td>KNG</td>\n",
              "      <td>1213</td>\n",
              "    </tr>\n",
              "  </tbody>\n",
              "</table>\n",
              "<p>838949 rows × 4 columns</p>\n",
              "</div>"
            ],
            "text/plain": [
              "                                                     TITLE  \\\n",
              "4        Teacher Planner Company A4 6 Lesson Academic T...   \n",
              "5        Men'S Full Sleeve Raglan T-Shirts Denim T-Shir...   \n",
              "11       White : Braun KF400-WH Aromaster 10-Cup Coffee...   \n",
              "40       Wrangler Men's Regular Fit Jeans (13MWZPW1-463...   \n",
              "47                                           Susan Howatch   \n",
              "...                                                    ...   \n",
              "2902995  Think Tech Desinger Printed Back Case Cover Co...   \n",
              "2903009  Pawan Textiles Womens Cotton Jaipuri Block Pri...   \n",
              "2903015  CRONEX Presents 100% Waterproof Car Body Cover...   \n",
              "2903016  Holy Heart Collections Supremo Zig Zag Line Pr...   \n",
              "2903023                        KNG Orange Polo Tshirt (38)   \n",
              "\n",
              "                                             BULLET_POINTS  \\\n",
              "4                                                   OTHERS   \n",
              "5        [Color: Blue,Sleeve: Full Sleeve,Material: Cot...   \n",
              "11       [Water-dispersal system provides fast, uniform...   \n",
              "40       DURABLE MATERIALS.  It's no question that this...   \n",
              "47                                                  OTHERS   \n",
              "...                                                    ...   \n",
              "2902995  [It'S 3D Printing Technologies So Colour Will ...   \n",
              "2903009  [Hand Block Print Jaipuri Sanganeri Salwar Sui...   \n",
              "2903015  [✔Compatible For-Maruti Suzuki Ignis including...   \n",
              "2903016  [Color : Multicolor, Material : Fine Polyester...   \n",
              "2903023                                             OTHERS   \n",
              "\n",
              "                          BRAND  BROWSE_NODE_ID  \n",
              "4                        OTHERS               4  \n",
              "5             Bhavya Enterprise               5  \n",
              "11                        Braun              11  \n",
              "40                     Wrangler              40  \n",
              "47                       OTHERS               4  \n",
              "...                         ...             ...  \n",
              "2902995              Think Tech            1045  \n",
              "2903009          Pawan Textiles             465  \n",
              "2903015                  CRONEX            1590  \n",
              "2903016  Holy Heart Collections             739  \n",
              "2903023                     KNG            1213  \n",
              "\n",
              "[838949 rows x 4 columns]"
            ]
          },
          "metadata": {
            "tags": []
          },
          "execution_count": 95
        }
      ]
    },
    {
      "cell_type": "markdown",
      "metadata": {
        "id": "836bdd4f"
      },
      "source": [
        "# **DEEP LEARNING**"
      ],
      "id": "836bdd4f"
    },
    {
      "cell_type": "code",
      "metadata": {
        "id": "f3e639f7"
      },
      "source": [
        "embeddings_index = {}\n",
        "try:\n",
        "    f = open('glove.840B.300d.txt', encoding='utf8')\n",
        "    for line in tqdm(f):\n",
        "        values = line.split()\n",
        "        word = values[0]\n",
        "        coefs = np.asarray(values[1:], dtype='float32')\n",
        "        embeddings_index[word] = coefs\n",
        "    f.close()\n",
        "\n",
        "    print('Found %s word vectors.' % len(embeddings_index))\n",
        "    \n",
        "except:\n",
        "    pass"
      ],
      "id": "f3e639f7",
      "execution_count": null,
      "outputs": []
    },
    {
      "cell_type": "code",
      "metadata": {
        "id": "e777b63f"
      },
      "source": [
        "def sent2vec(s):\n",
        "    words = str(s).lower()\n",
        "    words = word_tokenize(words)\n",
        "    words = [w for w in words if not w in stop_words]\n",
        "    words = [w for w in words if w.isalpha()]\n",
        "    M = []\n",
        "    for w in words:\n",
        "        try:\n",
        "            M.append(embeddings_index[w])\n",
        "        except:\n",
        "            continue\n",
        "    M = np.array(M)\n",
        "    v = M.sum(axis=0)\n",
        "    if type(v) != np.ndarray:\n",
        "        return np.zeros(300)\n",
        "    return v / np.sqrt((v ** 2).sum())"
      ],
      "id": "e777b63f",
      "execution_count": null,
      "outputs": []
    },
    {
      "cell_type": "code",
      "metadata": {
        "collapsed": true,
        "id": "d7163d87",
        "outputId": "6884182b-f33e-459e-e8ce-24840195f917"
      },
      "source": [
        "%%time\n",
        "dataset_temp = dataset.iloc[:50000,:].copy()\n",
        "dataset_temp\n",
        "\n",
        "y = dataset_temp['BROWSE_NODE_ID'].values\n",
        "\n",
        "y_enc = to_categorical(y.copy())\n",
        "\n",
        "#DO not tamper\n",
        "X_train, X_test, y_train_will_check, y_test_will_check = train_test_split(dataset_temp['TITLE'], y.copy(), shuffle = False, random_state = 0)\n",
        "\n",
        "X_train, X_test, y_train, y_test = train_test_split(dataset_temp['TITLE'], y_enc, shuffle = False, random_state = 0)\n",
        "\n",
        "xtrain_glove = [sent2vec(x) for x in tqdm(X_train.copy())]\n",
        "xtest_glove = [sent2vec(x) for x in tqdm(X_test.copy())]\n",
        "\n",
        "xtrain_glove = np.array(xtrain_glove)\n",
        "xtest_glove = np.array(xtest_glove)\n",
        "\n",
        "scl = preprocessing.StandardScaler()\n",
        "xtrain_glove_scl = scl.fit_transform(xtrain_glove)\n",
        "xtest_glove_scl = scl.transform(xtest_glove)\n",
        "\n",
        "model = Sequential()\n",
        "print('Model Initialised')\n",
        "\n",
        "model.add(Dense(300, input_dim=300, activation='relu'))\n",
        "model.add(Dropout(0.2))\n",
        "model.add(BatchNormalization())\n",
        "print('3 layers added')\n",
        "\n",
        "model.add(Dense(300, activation='relu'))\n",
        "model.add(Dropout(0.3))\n",
        "model.add(BatchNormalization())\n",
        "print('3 layers added')\n",
        "\n",
        "model.add(Dense(y_enc.shape[1]))\n",
        "model.add(Activation('softmax'))\n",
        "print('Softmax added')\n",
        "\n",
        "# compile the model\n",
        "print('Model compiling')\n",
        "model.compile(loss='categorical_crossentropy', optimizer='adam')\n",
        "print('DONE')\n",
        "\n",
        "model.fit(xtrain_glove_scl, y=y_train, batch_size=20, \n",
        "          epochs=5, verbose=1, \n",
        "          validation_data=(xtest_glove_scl, y_test))\n",
        "\n",
        "y_pred = model.predict_classes(xtest_glove_scl)\n",
        "\n",
        "# #Test Accuracy\n",
        "# y_pred = clf.predict(X_test_tfidf)\n",
        "print('accuracy %s' % accuracy_score(y_pred, y_test_will_check))"
      ],
      "id": "d7163d87",
      "execution_count": null,
      "outputs": [
        {
          "output_type": "error",
          "ename": "MemoryError",
          "evalue": "Unable to allocate 329. MiB for an array with shape (50000, 1725) and data type float32",
          "traceback": [
            "\u001b[1;31m---------------------------------------------------------------------------\u001b[0m",
            "\u001b[1;31mMemoryError\u001b[0m                               Traceback (most recent call last)",
            "\u001b[1;32m<timed exec>\u001b[0m in \u001b[0;36m<module>\u001b[1;34m\u001b[0m\n",
            "\u001b[1;32mc:\\users\\ayush.bajpayee\\.conda\\envs\\python37\\lib\\site-packages\\tensorflow\\python\\keras\\utils\\np_utils.py\u001b[0m in \u001b[0;36mto_categorical\u001b[1;34m(y, num_classes, dtype)\u001b[0m\n\u001b[0;32m     72\u001b[0m     \u001b[0mnum_classes\u001b[0m \u001b[1;33m=\u001b[0m \u001b[0mnp\u001b[0m\u001b[1;33m.\u001b[0m\u001b[0mmax\u001b[0m\u001b[1;33m(\u001b[0m\u001b[0my\u001b[0m\u001b[1;33m)\u001b[0m \u001b[1;33m+\u001b[0m \u001b[1;36m1\u001b[0m\u001b[1;33m\u001b[0m\u001b[0m\n\u001b[0;32m     73\u001b[0m   \u001b[0mn\u001b[0m \u001b[1;33m=\u001b[0m \u001b[0my\u001b[0m\u001b[1;33m.\u001b[0m\u001b[0mshape\u001b[0m\u001b[1;33m[\u001b[0m\u001b[1;36m0\u001b[0m\u001b[1;33m]\u001b[0m\u001b[1;33m\u001b[0m\u001b[0m\n\u001b[1;32m---> 74\u001b[1;33m   \u001b[0mcategorical\u001b[0m \u001b[1;33m=\u001b[0m \u001b[0mnp\u001b[0m\u001b[1;33m.\u001b[0m\u001b[0mzeros\u001b[0m\u001b[1;33m(\u001b[0m\u001b[1;33m(\u001b[0m\u001b[0mn\u001b[0m\u001b[1;33m,\u001b[0m \u001b[0mnum_classes\u001b[0m\u001b[1;33m)\u001b[0m\u001b[1;33m,\u001b[0m \u001b[0mdtype\u001b[0m\u001b[1;33m=\u001b[0m\u001b[0mdtype\u001b[0m\u001b[1;33m)\u001b[0m\u001b[1;33m\u001b[0m\u001b[0m\n\u001b[0m\u001b[0;32m     75\u001b[0m   \u001b[0mcategorical\u001b[0m\u001b[1;33m[\u001b[0m\u001b[0mnp\u001b[0m\u001b[1;33m.\u001b[0m\u001b[0marange\u001b[0m\u001b[1;33m(\u001b[0m\u001b[0mn\u001b[0m\u001b[1;33m)\u001b[0m\u001b[1;33m,\u001b[0m \u001b[0my\u001b[0m\u001b[1;33m]\u001b[0m \u001b[1;33m=\u001b[0m \u001b[1;36m1\u001b[0m\u001b[1;33m\u001b[0m\u001b[0m\n\u001b[0;32m     76\u001b[0m   \u001b[0moutput_shape\u001b[0m \u001b[1;33m=\u001b[0m \u001b[0minput_shape\u001b[0m \u001b[1;33m+\u001b[0m \u001b[1;33m(\u001b[0m\u001b[0mnum_classes\u001b[0m\u001b[1;33m,\u001b[0m\u001b[1;33m)\u001b[0m\u001b[1;33m\u001b[0m\u001b[0m\n",
            "\u001b[1;31mMemoryError\u001b[0m: Unable to allocate 329. MiB for an array with shape (50000, 1725) and data type float32"
          ]
        }
      ]
    },
    {
      "cell_type": "code",
      "metadata": {
        "id": "8a3abc30"
      },
      "source": [
        "#For batch size: 20\n",
        "accuracy 0.3336\n",
        "Wall time: 1min 35s"
      ],
      "id": "8a3abc30",
      "execution_count": null,
      "outputs": []
    },
    {
      "cell_type": "markdown",
      "metadata": {
        "id": "ibXyCi7lypNF"
      },
      "source": [
        "# **CONVERSION OF DATAFRAME TO TENSOR**"
      ],
      "id": "ibXyCi7lypNF"
    },
    {
      "cell_type": "code",
      "metadata": {
        "id": "Jf12DuTrynQu"
      },
      "source": [
        "dataset"
      ],
      "id": "Jf12DuTrynQu",
      "execution_count": null,
      "outputs": []
    },
    {
      "cell_type": "code",
      "metadata": {
        "id": "JACSKSy0z6b0"
      },
      "source": [
        "tempTensor = tf.convert_to_tensor(dataset['TITLE'].copy())"
      ],
      "id": "JACSKSy0z6b0",
      "execution_count": null,
      "outputs": []
    },
    {
      "cell_type": "code",
      "metadata": {
        "id": "a9m_P8j2z6ad"
      },
      "source": [
        "tempTensor"
      ],
      "id": "a9m_P8j2z6ad",
      "execution_count": null,
      "outputs": []
    },
    {
      "cell_type": "code",
      "metadata": {
        "id": "Rx5rhezl4-5n"
      },
      "source": [
        "list(dataset['TITLE'].map(lambda x: x.split(',')))"
      ],
      "id": "Rx5rhezl4-5n",
      "execution_count": null,
      "outputs": []
    },
    {
      "cell_type": "code",
      "metadata": {
        "id": "wL5zzK-j4d7e"
      },
      "source": [
        "list(dataset['TITLE'])"
      ],
      "id": "wL5zzK-j4d7e",
      "execution_count": null,
      "outputs": []
    },
    {
      "cell_type": "code",
      "metadata": {
        "id": "QYR4YzCzz6YY"
      },
      "source": [
        "list(tempTensor.numpy())"
      ],
      "id": "QYR4YzCzz6YY",
      "execution_count": null,
      "outputs": []
    },
    {
      "cell_type": "code",
      "metadata": {
        "id": "hlbQ7AWrz6Vu"
      },
      "source": [
        "dataset['TITLE'].tolist()"
      ],
      "id": "hlbQ7AWrz6Vu",
      "execution_count": null,
      "outputs": []
    },
    {
      "cell_type": "code",
      "metadata": {
        "id": "h9H8FKMoz6Tv"
      },
      "source": [
        ""
      ],
      "id": "h9H8FKMoz6Tv",
      "execution_count": null,
      "outputs": []
    },
    {
      "cell_type": "code",
      "metadata": {
        "id": "U0R5cmJ4z6RD"
      },
      "source": [
        ""
      ],
      "id": "U0R5cmJ4z6RD",
      "execution_count": null,
      "outputs": []
    },
    {
      "cell_type": "code",
      "metadata": {
        "id": "aJNXPTZmz6Of"
      },
      "source": [
        ""
      ],
      "id": "aJNXPTZmz6Of",
      "execution_count": null,
      "outputs": []
    },
    {
      "cell_type": "markdown",
      "metadata": {
        "id": "8MnBnJnbTjkv"
      },
      "source": [
        "# **Using Title as a Feature**"
      ],
      "id": "8MnBnJnbTjkv"
    },
    {
      "cell_type": "code",
      "metadata": {
        "colab": {
          "base_uri": "https://localhost:8080/",
          "height": 765
        },
        "id": "B5SMazzJPuc4",
        "outputId": "76a02c1c-7d82-4327-fe94-cb2fb83e4d4a"
      },
      "source": [
        "!pip install transformers\n",
        "dataset = joblib.load('/content/drive/MyDrive/pickles/8lakhrows')\n",
        "dataset_original = dataset.copy()\n",
        "dataset = dataset_original.iloc[:500000, :]"
      ],
      "id": "B5SMazzJPuc4",
      "execution_count": 3,
      "outputs": [
        {
          "output_type": "stream",
          "text": [
            "Collecting transformers\n",
            "  Downloading transformers-4.9.2-py3-none-any.whl (2.6 MB)\n",
            "\u001b[K     |████████████████████████████████| 2.6 MB 8.3 MB/s \n",
            "\u001b[?25hCollecting tokenizers<0.11,>=0.10.1\n",
            "  Downloading tokenizers-0.10.3-cp37-cp37m-manylinux_2_5_x86_64.manylinux1_x86_64.manylinux_2_12_x86_64.manylinux2010_x86_64.whl (3.3 MB)\n",
            "\u001b[K     |████████████████████████████████| 3.3 MB 58.1 MB/s \n",
            "\u001b[?25hRequirement already satisfied: regex!=2019.12.17 in /usr/local/lib/python3.7/dist-packages (from transformers) (2019.12.20)\n",
            "Collecting huggingface-hub==0.0.12\n",
            "  Downloading huggingface_hub-0.0.12-py3-none-any.whl (37 kB)\n",
            "Collecting sacremoses\n",
            "  Downloading sacremoses-0.0.45-py3-none-any.whl (895 kB)\n",
            "\u001b[K     |████████████████████████████████| 895 kB 69.2 MB/s \n",
            "\u001b[?25hRequirement already satisfied: numpy>=1.17 in /usr/local/lib/python3.7/dist-packages (from transformers) (1.19.5)\n",
            "Requirement already satisfied: requests in /usr/local/lib/python3.7/dist-packages (from transformers) (2.23.0)\n",
            "Requirement already satisfied: filelock in /usr/local/lib/python3.7/dist-packages (from transformers) (3.0.12)\n",
            "Requirement already satisfied: tqdm>=4.27 in /usr/local/lib/python3.7/dist-packages (from transformers) (4.62.0)\n",
            "Requirement already satisfied: packaging in /usr/local/lib/python3.7/dist-packages (from transformers) (21.0)\n",
            "Requirement already satisfied: importlib-metadata in /usr/local/lib/python3.7/dist-packages (from transformers) (4.6.3)\n",
            "Collecting pyyaml>=5.1\n",
            "  Downloading PyYAML-5.4.1-cp37-cp37m-manylinux1_x86_64.whl (636 kB)\n",
            "\u001b[K     |████████████████████████████████| 636 kB 60.2 MB/s \n",
            "\u001b[?25hRequirement already satisfied: typing-extensions in /usr/local/lib/python3.7/dist-packages (from huggingface-hub==0.0.12->transformers) (3.7.4.3)\n",
            "Requirement already satisfied: pyparsing>=2.0.2 in /usr/local/lib/python3.7/dist-packages (from packaging->transformers) (2.4.7)\n",
            "Requirement already satisfied: zipp>=0.5 in /usr/local/lib/python3.7/dist-packages (from importlib-metadata->transformers) (3.5.0)\n",
            "Requirement already satisfied: idna<3,>=2.5 in /usr/local/lib/python3.7/dist-packages (from requests->transformers) (2.10)\n",
            "Requirement already satisfied: urllib3!=1.25.0,!=1.25.1,<1.26,>=1.21.1 in /usr/local/lib/python3.7/dist-packages (from requests->transformers) (1.24.3)\n",
            "Requirement already satisfied: certifi>=2017.4.17 in /usr/local/lib/python3.7/dist-packages (from requests->transformers) (2021.5.30)\n",
            "Requirement already satisfied: chardet<4,>=3.0.2 in /usr/local/lib/python3.7/dist-packages (from requests->transformers) (3.0.4)\n",
            "Requirement already satisfied: six in /usr/local/lib/python3.7/dist-packages (from sacremoses->transformers) (1.15.0)\n",
            "Requirement already satisfied: joblib in /usr/local/lib/python3.7/dist-packages (from sacremoses->transformers) (1.0.1)\n",
            "Requirement already satisfied: click in /usr/local/lib/python3.7/dist-packages (from sacremoses->transformers) (7.1.2)\n",
            "Installing collected packages: tokenizers, sacremoses, pyyaml, huggingface-hub, transformers\n",
            "  Attempting uninstall: pyyaml\n",
            "    Found existing installation: PyYAML 3.13\n",
            "    Uninstalling PyYAML-3.13:\n",
            "      Successfully uninstalled PyYAML-3.13\n",
            "Successfully installed huggingface-hub-0.0.12 pyyaml-5.4.1 sacremoses-0.0.45 tokenizers-0.10.3 transformers-4.9.2\n"
          ],
          "name": "stdout"
        },
        {
          "output_type": "display_data",
          "data": {
            "application/vnd.colab-display-data+json": {
              "pip_warning": {
                "packages": [
                  "yaml"
                ]
              }
            }
          },
          "metadata": {
            "tags": []
          }
        }
      ]
    },
    {
      "cell_type": "code",
      "metadata": {
        "id": "nXJ_0gYoLkpa"
      },
      "source": [
        "from sklearn.model_selection import train_test_split\n",
        "\n",
        "X = dataset['TITLE'].values   # independant features\n",
        "y = dataset['BROWSE_NODE_ID'].values\t\t\t\t\t# dependant variable\n",
        "\n",
        "# Choose your test size to split between training and testing sets:\n",
        "# X_train, X_test, y_train, y_test = train_test_split(X, y, test_size=0.25, shuffle = False)\n",
        "# X_valid, X_test, y_valid, y_test = train_test_split(X_test, y_test, test_size=0.5, shuffle = False)\n",
        "\n",
        "X_train, X_test, y_train, y_test = train_test_split(X, y, test_size=0.25, stratify = y)\n",
        "X_valid, X_test, y_valid, y_test = train_test_split(X_test, y_test, test_size=0.5, stratify = y_test)"
      ],
      "id": "nXJ_0gYoLkpa",
      "execution_count": 4,
      "outputs": []
    },
    {
      "cell_type": "code",
      "metadata": {
        "colab": {
          "base_uri": "https://localhost:8080/",
          "height": 145,
          "referenced_widgets": [
            "e8790a198fea4d2ab054fd14789bff01",
            "70a4051bd1cf43a48ddbb019b67445c4",
            "058f124bc60742aeba7ccf84f2615bd5",
            "d8fcd3cf496a4f18819a750a804ccb4c",
            "3cb277d5646841c4b8354ed5614478eb",
            "d83204b9b3704f97bb75063fc0a92fc3",
            "7df0ff072150417883c848f0c308cac0",
            "24e1f6205ce64804ac1b7f806ad2b29d",
            "7a3c0f75430f4e3781a25817869061fd",
            "01336451d6204fe38038941cf1fdedf1",
            "57ca26561d1e437a84b67b42cf229624",
            "c601a82e1b184deb93d47c76ae6acd25",
            "76f98ef4378e4e6d942ab5caaab3b4ed",
            "1e79e755940647fda028cb6c560ddd1b",
            "a9142cbf61634aefb9522557b933663f",
            "4023b92f582c4066a75f649deb29ab23",
            "4f0428d6976243b688965db1cc18004f",
            "8ba6059f4dae47438e8108c998740264",
            "39560a4c72e9467ab0fae90adab7a009",
            "357535b02d2c4210831f51de5a5a7ae1",
            "0f18ed3be90b4486b5f9551edc66b2c9",
            "bab324408acd4247a9ae794faac801d5",
            "759738ea981b4187aafbf8db955a8485",
            "f851a42cebf44e56888aa35fd7c3526c",
            "fa95a08a1141483faf188c6eeda29c42",
            "59bc8bb28346482fbc39cca7ad7a565b",
            "0731ef3c2c4e4be388d81a735108897e",
            "47715ec3119848b193e64a465a705f3b",
            "5b0432731b88453ba104ac519609b425",
            "fa6a7831867f4418abe49b541e7d0ea2",
            "e50244b9f7d14d4dbdeec9795ba34078",
            "0b67b3f852c1444598c1f8f680c79c66",
            "a10d76ecc9b248f9b72225c4862f3fc7",
            "9526794b56af480a924c62707e51a590",
            "6b4007d7864b4c4aa345be848980fc4e",
            "73d49a906ac74ec4a31240154de58acf",
            "8b242c29d42942a5ba913427c2127af7",
            "efd2f7f5652e44dd81fe248900cb1191",
            "eb6ba9afa87a4796978b4b0214f69361",
            "d15a50982c7346ad865630af098acdfc",
            "afc99c3cba874068ad3d1a6e370650c0",
            "cd55c857044b4164a8f35a3d980edf25",
            "eb2050a28a1b4e5ea1290a22d92625f6",
            "7876ce0cafb14902859be792e4a4f3cb"
          ]
        },
        "id": "plnokVTzPcuB",
        "outputId": "93d3cd7c-cb2a-41b3-f2d0-0858d597b975"
      },
      "source": [
        "model_name = \"distilbert-base-uncased\"\n",
        "from transformers import DistilBertTokenizerFast\n",
        "tokenizer = DistilBertTokenizerFast.from_pretrained(model_name)"
      ],
      "id": "plnokVTzPcuB",
      "execution_count": 5,
      "outputs": [
        {
          "output_type": "display_data",
          "data": {
            "application/vnd.jupyter.widget-view+json": {
              "model_id": "e8790a198fea4d2ab054fd14789bff01",
              "version_minor": 0,
              "version_major": 2
            },
            "text/plain": [
              "Downloading:   0%|          | 0.00/232k [00:00<?, ?B/s]"
            ]
          },
          "metadata": {
            "tags": []
          }
        },
        {
          "output_type": "display_data",
          "data": {
            "application/vnd.jupyter.widget-view+json": {
              "model_id": "c601a82e1b184deb93d47c76ae6acd25",
              "version_minor": 0,
              "version_major": 2
            },
            "text/plain": [
              "Downloading:   0%|          | 0.00/466k [00:00<?, ?B/s]"
            ]
          },
          "metadata": {
            "tags": []
          }
        },
        {
          "output_type": "display_data",
          "data": {
            "application/vnd.jupyter.widget-view+json": {
              "model_id": "759738ea981b4187aafbf8db955a8485",
              "version_minor": 0,
              "version_major": 2
            },
            "text/plain": [
              "Downloading:   0%|          | 0.00/28.0 [00:00<?, ?B/s]"
            ]
          },
          "metadata": {
            "tags": []
          }
        },
        {
          "output_type": "display_data",
          "data": {
            "application/vnd.jupyter.widget-view+json": {
              "model_id": "9526794b56af480a924c62707e51a590",
              "version_minor": 0,
              "version_major": 2
            },
            "text/plain": [
              "Downloading:   0%|          | 0.00/442 [00:00<?, ?B/s]"
            ]
          },
          "metadata": {
            "tags": []
          }
        }
      ]
    },
    {
      "cell_type": "code",
      "metadata": {
        "id": "ex68ZRa5LTaL"
      },
      "source": [
        "# Define the maximum number of words to tokenize (DistilBERT can tokenize up to 512)\n",
        "MAX_LENGTH = 32\n",
        "\n",
        "\n",
        "# Define function to encode text data in batches\n",
        "def batch_encode(tokenizer, texts, batch_size=12800, max_length=MAX_LENGTH):\n",
        "    \"\"\"\"\"\"\"\"\"\n",
        "    A function that encodes a batch of texts and returns the texts'\n",
        "    corresponding encodings and attention masks that are ready to be fed \n",
        "    into a pre-trained transformer model.\n",
        "    \n",
        "    Input:\n",
        "        - tokenizer:   Tokenizer object from the PreTrainedTokenizer Class\n",
        "        - texts:       List of strings where each string represents a text\n",
        "        - batch_size:  Integer controlling number of texts in a batch\n",
        "        - max_length:  Integer controlling max number of words to tokenize in a given text\n",
        "    Output:\n",
        "        - input_ids:       sequence of texts encoded as a tf.Tensor object\n",
        "        - attention_mask:  the texts' attention mask encoded as a tf.Tensor object\n",
        "    \"\"\"\"\"\"\"\"\"\n",
        "    \n",
        "    input_ids = []\n",
        "    attention_mask = []\n",
        "    \n",
        "    for i in range(0, len(texts), batch_size):\n",
        "        batch = texts[i:i+batch_size]\n",
        "        inputs = tokenizer.batch_encode_plus(batch,\n",
        "                                             max_length=max_length,\n",
        "                                             padding='longest', #implements dynamic padding\n",
        "                                             truncation=True,\n",
        "                                             return_attention_mask=True,\n",
        "                                             return_token_type_ids=False\n",
        "                                             )\n",
        "        input_ids.extend(inputs['input_ids'])\n",
        "        attention_mask.extend(inputs['attention_mask'])\n",
        "    \n",
        "    \n",
        "    return tf.convert_to_tensor(input_ids), tf.convert_to_tensor(attention_mask)\n",
        "    # return tf.ragged.constant(input_ids), tf.ragged.constant(attention_mask)\n",
        "    \n",
        "    \n",
        "# Encode X_train\n",
        "X_train_ids, X_train_attention = batch_encode(tokenizer, X_train.tolist())\n",
        "\n",
        "# Encode X_valid\n",
        "X_valid_ids, X_valid_attention = batch_encode(tokenizer, X_valid.tolist())\n",
        "\n",
        "# Encode X_test\n",
        "X_test_ids, X_test_attention = batch_encode(tokenizer, X_test.tolist())"
      ],
      "id": "ex68ZRa5LTaL",
      "execution_count": 6,
      "outputs": []
    },
    {
      "cell_type": "code",
      "metadata": {
        "colab": {
          "base_uri": "https://localhost:8080/",
          "height": 156,
          "referenced_widgets": [
            "de6b4b143ae0461087dbbd5bcf72f6da",
            "5d101d59fcd34ba19a4c653fa48fc73c",
            "220c9aefb665492abdc6789419f2c7b3",
            "39097069a2034fbd97cd3ee87002d78e",
            "825c916d9232408c9bbba2bc0177605b",
            "1a68f70dff354ad9b79b2457618b671f",
            "60e95124a9774a5384e904bc0992fa49",
            "057b4032d4ec4b7e8e21fa128dea80ad",
            "31bf97a0f4a741078811226df89823ba",
            "de030874f3004e80a75dd433f9af90a2",
            "50568c578e41469b956bf72ade58a712"
          ]
        },
        "id": "Vr_RQUL_KnyL",
        "outputId": "5f4a95bd-6bcb-435b-f900-386e0f8faaa9"
      },
      "source": [
        "from transformers import TFDistilBertModel, DistilBertConfig\n",
        "\n",
        "DISTILBERT_DROPOUT = 0.2\n",
        "DISTILBERT_ATT_DROPOUT = 0.2\n",
        " \n",
        "# Configure DistilBERT's initialization\n",
        "config = DistilBertConfig(dropout=DISTILBERT_DROPOUT, \n",
        "                          attention_dropout=DISTILBERT_ATT_DROPOUT, \n",
        "                          output_hidden_states=True)\n",
        "                          \n",
        "# The bare, pre-trained DistilBERT transformer model outputting raw hidden-states \n",
        "# and without any specific head on top.\n",
        "distilBERT = TFDistilBertModel.from_pretrained('distilbert-base-uncased', config=config)\n",
        "\n",
        "# Make DistilBERT layers untrainable\n",
        "for layer in distilBERT.layers:\n",
        "    layer.trainable = False"
      ],
      "id": "Vr_RQUL_KnyL",
      "execution_count": 7,
      "outputs": [
        {
          "output_type": "display_data",
          "data": {
            "application/vnd.jupyter.widget-view+json": {
              "model_id": "de6b4b143ae0461087dbbd5bcf72f6da",
              "version_minor": 0,
              "version_major": 2
            },
            "text/plain": [
              "Downloading:   0%|          | 0.00/363M [00:00<?, ?B/s]"
            ]
          },
          "metadata": {
            "tags": []
          }
        },
        {
          "output_type": "stream",
          "text": [
            "Some layers from the model checkpoint at distilbert-base-uncased were not used when initializing TFDistilBertModel: ['vocab_projector', 'activation_13', 'vocab_layer_norm', 'vocab_transform']\n",
            "- This IS expected if you are initializing TFDistilBertModel from the checkpoint of a model trained on another task or with another architecture (e.g. initializing a BertForSequenceClassification model from a BertForPreTraining model).\n",
            "- This IS NOT expected if you are initializing TFDistilBertModel from the checkpoint of a model that you expect to be exactly identical (initializing a BertForSequenceClassification model from a BertForSequenceClassification model).\n",
            "All the layers of TFDistilBertModel were initialized from the model checkpoint at distilbert-base-uncased.\n",
            "If your task is similar to the task the model of the checkpoint was trained on, you can already use TFDistilBertModel for predictions without further training.\n"
          ],
          "name": "stderr"
        }
      ]
    },
    {
      "cell_type": "code",
      "metadata": {
        "id": "eEqGTqFQG1KQ"
      },
      "source": [
        "MAX_LENGTH = 32\n",
        "LAYER_DROPOUT = 0.2\n",
        "LEARNING_RATE = 5e-5\n",
        "RANDOM_STATE = 42\n",
        "transformer = distilBERT\n",
        "\n",
        "def build_model(transformer, max_length=MAX_LENGTH):\n",
        "    # \"\"\"\"\"\"\"\"\"\n",
        "    # Template for building a model off of the BERT or DistilBERT architecture\n",
        "    # for a binary classification task.\n",
        "    \n",
        "    # Input:\n",
        "    #   - transformer:  a base Hugging Face transformer model object (BERT or DistilBERT)\n",
        "    #                   with no added classification head attached.\n",
        "    #   - max_length:   integer controlling the maximum number of encoded tokens \n",
        "    #                   in a given sequence.\n",
        "    \n",
        "    # Output:\n",
        "    #   - model:        a compiled tf.keras.Model with added classification layers \n",
        "    #                   on top of the base pre-trained model architecture.\n",
        "    # \"\"\"\"\"\"\"\"\"\"\n",
        "    \n",
        "    # Define weight initializer with a random seed to ensure reproducibility\n",
        "    # weight_initializer = tf.keras.initializers.GlorotNormal(seed=RANDOM_STATE) \n",
        "    \n",
        "    # Define input layers\n",
        "    input_ids_layer = tf.keras.layers.Input(shape=(max_length,), \n",
        "                                            name='input_ids', \n",
        "                                            dtype='int32')\n",
        "    input_attention_layer = tf.keras.layers.Input(shape=(max_length,), \n",
        "                                                  name='input_attention', \n",
        "                                                  dtype='int32')\n",
        "    \n",
        "    # DistilBERT outputs a tuple where the first element at index 0\n",
        "    # represents the hidden-state at the output of the model's last layer.\n",
        "    # It is a tf.Tensor of shape (batch_size, sequence_length, hidden_size=768).\n",
        "    last_hidden_state = transformer([input_ids_layer, input_attention_layer])[0]\n",
        "    \n",
        "    # We only care about DistilBERT's output for the [CLS] token, \n",
        "    # which is located at index 0 of every encoded sequence.  \n",
        "    # Splicing out the [CLS] tokens gives us 2D data.\n",
        "    cls_token = last_hidden_state[:, 0, :]\n",
        "    \n",
        "    ##                                                 ##\n",
        "    ## Define additional dropout and dense layers here ##\n",
        "    ##                                                 ##\n",
        "    \n",
        "    # Define a single node that makes up the output layer (for binary classification)\n",
        "    # model.add(Dense(y_enc.shape[1]))\n",
        "    # model.add(Activation('softmax'))\n",
        "    # outputs = keras.layers.Dense(30,\n",
        "    #                          kernel_initializer=initializer,\n",
        "    #                          activation=activation)(x) \n",
        "    output = tf.keras.layers.Dense(30, \n",
        "                                   activation='softmax',\n",
        "                                  #  kernel_initializer=weight_initializer,  \n",
        "                                  #  kernel_constraint=None,\n",
        "                                   bias_initializer='zeros'\n",
        "                                   )(cls_token)\n",
        "    \n",
        "    # Define the model\n",
        "    model = tf.keras.Model([input_ids_layer, input_attention_layer], output)\n",
        "    # model = tf.keras.Model([input_ids_layer, input_attention_layer])\n",
        "    # model.add(Dense(30, activation='softmax'))\n",
        "    \n",
        "    # Compile the model\n",
        "    model.compile(tf.keras.optimizers.Adam(lr=LEARNING_RATE), \n",
        "                  loss='categorical_crossentropy',\n",
        "                  metrics=['accuracy'])\n",
        "    \n",
        "    return model"
      ],
      "id": "eEqGTqFQG1KQ",
      "execution_count": 8,
      "outputs": []
    },
    {
      "cell_type": "code",
      "metadata": {
        "colab": {
          "base_uri": "https://localhost:8080/"
        },
        "id": "kczybyNtReIw",
        "outputId": "f5a6d6cc-c5cf-4300-a4e9-bb5d7678633a"
      },
      "source": [
        "#Building Model\n",
        "model = build_model(transformer, MAX_LENGTH)"
      ],
      "id": "kczybyNtReIw",
      "execution_count": 9,
      "outputs": [
        {
          "output_type": "stream",
          "text": [
            "WARNING:tensorflow:The parameters `output_attentions`, `output_hidden_states` and `use_cache` cannot be updated when calling a model.They have to be set to True/False in the config object (i.e.: `config=XConfig.from_pretrained('name', output_attentions=True)`).\n",
            "WARNING:tensorflow:AutoGraph could not transform <bound method Socket.send of <zmq.Socket(zmq.PUSH) at 0x7f83dbcb5ec0>> and will run it as-is.\n",
            "Please report this to the TensorFlow team. When filing the bug, set the verbosity to 10 (on Linux, `export AUTOGRAPH_VERBOSITY=10`) and attach the full output.\n",
            "Cause: module, class, method, function, traceback, frame, or code object was expected, got cython_function_or_method\n",
            "To silence this warning, decorate the function with @tf.autograph.experimental.do_not_convert\n",
            "WARNING: AutoGraph could not transform <bound method Socket.send of <zmq.Socket(zmq.PUSH) at 0x7f83dbcb5ec0>> and will run it as-is.\n",
            "Please report this to the TensorFlow team. When filing the bug, set the verbosity to 10 (on Linux, `export AUTOGRAPH_VERBOSITY=10`) and attach the full output.\n",
            "Cause: module, class, method, function, traceback, frame, or code object was expected, got cython_function_or_method\n",
            "To silence this warning, decorate the function with @tf.autograph.experimental.do_not_convert\n",
            "WARNING:tensorflow:AutoGraph could not transform <function wrap at 0x7f83f6e689e0> and will run it as-is.\n",
            "Cause: while/else statement not yet supported\n",
            "To silence this warning, decorate the function with @tf.autograph.experimental.do_not_convert\n",
            "WARNING: AutoGraph could not transform <function wrap at 0x7f83f6e689e0> and will run it as-is.\n",
            "Cause: while/else statement not yet supported\n",
            "To silence this warning, decorate the function with @tf.autograph.experimental.do_not_convert\n",
            "WARNING:tensorflow:The parameter `return_dict` cannot be set in graph mode and will always be set to `True`.\n",
            "WARNING:tensorflow:From /usr/local/lib/python3.7/dist-packages/tensorflow/python/ops/array_ops.py:5049: calling gather (from tensorflow.python.ops.array_ops) with validate_indices is deprecated and will be removed in a future version.\n",
            "Instructions for updating:\n",
            "The `validate_indices` argument has no effect. Indices are always validated on CPU and never validated on GPU.\n"
          ],
          "name": "stdout"
        }
      ]
    },
    {
      "cell_type": "code",
      "metadata": {
        "id": "aZmYkt5sfpwc"
      },
      "source": [
        "# y_train = to_categorical(pd.Series(y_train), 30)\n",
        "# y_test = to_categorical(pd.Series(y_test), 30)\n",
        "temp2 = pd.get_dummies(pd.Series(y_train.copy()))"
      ],
      "id": "aZmYkt5sfpwc",
      "execution_count": 23,
      "outputs": []
    },
    {
      "cell_type": "code",
      "metadata": {
        "colab": {
          "base_uri": "https://localhost:8080/"
        },
        "id": "QhHLtl7Vevfj",
        "outputId": "3bf0dd8b-82e2-4cb0-c307-5e1b8cb8f3ea"
      },
      "source": [
        "pd.Series(y_train).nunique()"
      ],
      "id": "QhHLtl7Vevfj",
      "execution_count": null,
      "outputs": [
        {
          "output_type": "execute_result",
          "data": {
            "text/plain": [
              "30"
            ]
          },
          "metadata": {
            "tags": []
          },
          "execution_count": 9
        }
      ]
    },
    {
      "cell_type": "code",
      "metadata": {
        "colab": {
          "base_uri": "https://localhost:8080/"
        },
        "id": "d4TJU8nbKNQ1",
        "outputId": "80fb87a4-48bb-463f-e078-32ede7d0c60f"
      },
      "source": [
        "EPOCHS = 20\n",
        "BATCH_SIZE = 512\n",
        "NUM_STEPS = len(X_train) // BATCH_SIZE\n",
        "\n",
        "# Train the model\n",
        "train_history1 = model.fit(\n",
        "    x = [X_train_ids, X_train_attention],\n",
        "    y = np.array(pd.get_dummies(pd.Series(y_train))),\n",
        "    epochs = EPOCHS,\n",
        "    batch_size = BATCH_SIZE,\n",
        "    steps_per_epoch = NUM_STEPS,\n",
        "    validation_data = ([X_valid_ids, X_valid_attention], np.array(pd.get_dummies(y_valid))),\n",
        "    verbose=1\n",
        ")"
      ],
      "id": "d4TJU8nbKNQ1",
      "execution_count": 10,
      "outputs": [
        {
          "output_type": "stream",
          "text": [
            "Epoch 1/20\n",
            "WARNING:tensorflow:The parameters `output_attentions`, `output_hidden_states` and `use_cache` cannot be updated when calling a model.They have to be set to True/False in the config object (i.e.: `config=XConfig.from_pretrained('name', output_attentions=True)`).\n",
            "WARNING:tensorflow:The parameter `return_dict` cannot be set in graph mode and will always be set to `True`.\n",
            "WARNING:tensorflow:The parameters `output_attentions`, `output_hidden_states` and `use_cache` cannot be updated when calling a model.They have to be set to True/False in the config object (i.e.: `config=XConfig.from_pretrained('name', output_attentions=True)`).\n",
            "WARNING:tensorflow:The parameter `return_dict` cannot be set in graph mode and will always be set to `True`.\n",
            "732/732 [==============================] - ETA: 0s - loss: 2.7812 - accuracy: 0.2353WARNING:tensorflow:The parameters `output_attentions`, `output_hidden_states` and `use_cache` cannot be updated when calling a model.They have to be set to True/False in the config object (i.e.: `config=XConfig.from_pretrained('name', output_attentions=True)`).\n",
            "WARNING:tensorflow:The parameter `return_dict` cannot be set in graph mode and will always be set to `True`.\n",
            "732/732 [==============================] - 468s 631ms/step - loss: 2.7812 - accuracy: 0.2353 - val_loss: 2.3059 - val_accuracy: 0.3144\n",
            "Epoch 2/20\n",
            "732/732 [==============================] - 465s 635ms/step - loss: 2.1593 - accuracy: 0.3922 - val_loss: 1.8209 - val_accuracy: 0.4916\n",
            "Epoch 3/20\n",
            "732/732 [==============================] - 463s 633ms/step - loss: 1.7928 - accuracy: 0.5196 - val_loss: 1.5039 - val_accuracy: 0.6091\n",
            "Epoch 4/20\n",
            "732/732 [==============================] - 463s 632ms/step - loss: 1.5399 - accuracy: 0.6000 - val_loss: 1.2865 - val_accuracy: 0.6752\n",
            "Epoch 5/20\n",
            "732/732 [==============================] - 464s 633ms/step - loss: 1.3590 - accuracy: 0.6525 - val_loss: 1.1298 - val_accuracy: 0.7176\n",
            "Epoch 6/20\n",
            "732/732 [==============================] - 464s 634ms/step - loss: 1.2238 - accuracy: 0.6883 - val_loss: 1.0132 - val_accuracy: 0.7475\n",
            "Epoch 7/20\n",
            "732/732 [==============================] - 463s 633ms/step - loss: 1.1179 - accuracy: 0.7164 - val_loss: 0.9225 - val_accuracy: 0.7686\n",
            "Epoch 8/20\n",
            "732/732 [==============================] - 464s 635ms/step - loss: 1.0360 - accuracy: 0.7359 - val_loss: 0.8512 - val_accuracy: 0.7839\n",
            "Epoch 9/20\n",
            "732/732 [==============================] - 464s 634ms/step - loss: 0.9664 - accuracy: 0.7532 - val_loss: 0.7916 - val_accuracy: 0.7989\n",
            "Epoch 10/20\n",
            "732/732 [==============================] - 464s 634ms/step - loss: 0.9119 - accuracy: 0.7664 - val_loss: 0.7435 - val_accuracy: 0.8118\n",
            "Epoch 11/20\n",
            "732/732 [==============================] - 464s 635ms/step - loss: 0.8652 - accuracy: 0.7774 - val_loss: 0.7040 - val_accuracy: 0.8212\n",
            "Epoch 12/20\n",
            "732/732 [==============================] - 461s 630ms/step - loss: 0.8250 - accuracy: 0.7872 - val_loss: 0.6694 - val_accuracy: 0.8287\n",
            "Epoch 13/20\n",
            "732/732 [==============================] - 462s 631ms/step - loss: 0.7903 - accuracy: 0.7955 - val_loss: 0.6389 - val_accuracy: 0.8363\n",
            "Epoch 14/20\n",
            "732/732 [==============================] - 463s 633ms/step - loss: 0.7626 - accuracy: 0.8026 - val_loss: 0.6145 - val_accuracy: 0.8441\n",
            "Epoch 15/20\n",
            "732/732 [==============================] - 464s 634ms/step - loss: 0.7359 - accuracy: 0.8091 - val_loss: 0.5918 - val_accuracy: 0.8490\n",
            "Epoch 16/20\n",
            "732/732 [==============================] - 465s 635ms/step - loss: 0.7138 - accuracy: 0.8152 - val_loss: 0.5721 - val_accuracy: 0.8531\n",
            "Epoch 17/20\n",
            "732/732 [==============================] - 465s 635ms/step - loss: 0.6941 - accuracy: 0.8194 - val_loss: 0.5552 - val_accuracy: 0.8569\n",
            "Epoch 18/20\n",
            "732/732 [==============================] - 464s 634ms/step - loss: 0.6749 - accuracy: 0.8238 - val_loss: 0.5396 - val_accuracy: 0.8611\n",
            "Epoch 19/20\n",
            "732/732 [==============================] - 465s 635ms/step - loss: 0.6601 - accuracy: 0.8272 - val_loss: 0.5254 - val_accuracy: 0.8643\n",
            "Epoch 20/20\n",
            "732/732 [==============================] - 463s 633ms/step - loss: 0.6458 - accuracy: 0.8307 - val_loss: 0.5128 - val_accuracy: 0.8676\n"
          ],
          "name": "stdout"
        }
      ]
    },
    {
      "cell_type": "code",
      "metadata": {
        "colab": {
          "base_uri": "https://localhost:8080/"
        },
        "id": "wV3YIB27EoI_",
        "outputId": "0f4de874-fbd2-4185-ce54-e5afce7f8fad"
      },
      "source": [
        "model.evaluate([X_valid_ids, X_valid_attention], np.array(pd.get_dummies(y_valid)))"
      ],
      "id": "wV3YIB27EoI_",
      "execution_count": 11,
      "outputs": [
        {
          "output_type": "stream",
          "text": [
            "1954/1954 [==============================] - 78s 40ms/step - loss: 0.5128 - accuracy: 0.8676\n"
          ],
          "name": "stdout"
        },
        {
          "output_type": "execute_result",
          "data": {
            "text/plain": [
              "[0.5128031373023987, 0.8676319718360901]"
            ]
          },
          "metadata": {
            "tags": []
          },
          "execution_count": 11
        }
      ]
    },
    {
      "cell_type": "code",
      "metadata": {
        "colab": {
          "base_uri": "https://localhost:8080/"
        },
        "id": "iiM_KbYpNimc",
        "outputId": "b5e6b8d5-2cec-4970-b783-5133ea675813"
      },
      "source": [
        "model.evaluate([X_test_ids, X_test_attention], np.array(pd.get_dummies(y_test)))"
      ],
      "id": "iiM_KbYpNimc",
      "execution_count": 12,
      "outputs": [
        {
          "output_type": "stream",
          "text": [
            "1954/1954 [==============================] - 77s 39ms/step - loss: 0.5177 - accuracy: 0.8661\n"
          ],
          "name": "stdout"
        },
        {
          "output_type": "execute_result",
          "data": {
            "text/plain": [
              "[0.5177341103553772, 0.8660799860954285]"
            ]
          },
          "metadata": {
            "tags": []
          },
          "execution_count": 12
        }
      ]
    },
    {
      "cell_type": "code",
      "metadata": {
        "colab": {
          "base_uri": "https://localhost:8080/"
        },
        "id": "RqWGyBMQ8LAt",
        "outputId": "6d8dd062-83c8-4651-e650-46f41072ee33"
      },
      "source": [
        "model.summary()"
      ],
      "id": "RqWGyBMQ8LAt",
      "execution_count": 13,
      "outputs": [
        {
          "output_type": "stream",
          "text": [
            "Model: \"model\"\n",
            "__________________________________________________________________________________________________\n",
            "Layer (type)                    Output Shape         Param #     Connected to                     \n",
            "==================================================================================================\n",
            "input_ids (InputLayer)          [(None, 32)]         0                                            \n",
            "__________________________________________________________________________________________________\n",
            "input_attention (InputLayer)    [(None, 32)]         0                                            \n",
            "__________________________________________________________________________________________________\n",
            "tf_distil_bert_model (TFDistilB TFBaseModelOutput(la 66362880    input_ids[0][0]                  \n",
            "                                                                 input_attention[0][0]            \n",
            "__________________________________________________________________________________________________\n",
            "tf.__operators__.getitem (Slici (None, 768)          0           tf_distil_bert_model[0][7]       \n",
            "__________________________________________________________________________________________________\n",
            "dense (Dense)                   (None, 30)           23070       tf.__operators__.getitem[0][0]   \n",
            "==================================================================================================\n",
            "Total params: 66,385,950\n",
            "Trainable params: 23,070\n",
            "Non-trainable params: 66,362,880\n",
            "__________________________________________________________________________________________________\n"
          ],
          "name": "stdout"
        }
      ]
    },
    {
      "cell_type": "code",
      "metadata": {
        "id": "hupCRiUmqquI"
      },
      "source": [
        "test = pd.read_csv(r'/content/drive/MyDrive/pickles/test.csv', escapechar='\\\\',\n",
        "                      quoting = csv.QUOTE_NONE)"
      ],
      "id": "hupCRiUmqquI",
      "execution_count": 17,
      "outputs": []
    },
    {
      "cell_type": "code",
      "metadata": {
        "id": "2B4BLsTRshrf"
      },
      "source": [
        "test_features = dataset['TITLE'].values   # independant features"
      ],
      "id": "2B4BLsTRshrf",
      "execution_count": 19,
      "outputs": []
    },
    {
      "cell_type": "code",
      "metadata": {
        "id": "tfUQmp0Ys18Q"
      },
      "source": [
        "# Define the maximum number of words to tokenize (DistilBERT can tokenize up to 512)\n",
        "MAX_LENGTH = 32\n",
        "\n",
        "\n",
        "# Define function to encode text data in batches\n",
        "def batch_encode(tokenizer, texts, batch_size=12800, max_length=MAX_LENGTH):\n",
        "    \"\"\"\"\"\"\"\"\"\n",
        "    A function that encodes a batch of texts and returns the texts'\n",
        "    corresponding encodings and attention masks that are ready to be fed \n",
        "    into a pre-trained transformer model.\n",
        "    \n",
        "    Input:\n",
        "        - tokenizer:   Tokenizer object from the PreTrainedTokenizer Class\n",
        "        - texts:       List of strings where each string represents a text\n",
        "        - batch_size:  Integer controlling number of texts in a batch\n",
        "        - max_length:  Integer controlling max number of words to tokenize in a given text\n",
        "    Output:\n",
        "        - input_ids:       sequence of texts encoded as a tf.Tensor object\n",
        "        - attention_mask:  the texts' attention mask encoded as a tf.Tensor object\n",
        "    \"\"\"\"\"\"\"\"\"\n",
        "    \n",
        "    input_ids = []\n",
        "    attention_mask = []\n",
        "    \n",
        "    for i in range(0, len(texts), batch_size):\n",
        "        batch = texts[i:i+batch_size]\n",
        "        inputs = tokenizer.batch_encode_plus(batch,\n",
        "                                             max_length=max_length,\n",
        "                                             padding='longest', #implements dynamic padding\n",
        "                                             truncation=True,\n",
        "                                             return_attention_mask=True,\n",
        "                                             return_token_type_ids=False\n",
        "                                             )\n",
        "        input_ids.extend(inputs['input_ids'])\n",
        "        attention_mask.extend(inputs['attention_mask'])\n",
        "    \n",
        "    \n",
        "    return tf.convert_to_tensor(input_ids), tf.convert_to_tensor(attention_mask)\n",
        "    # return tf.ragged.constant(input_ids), tf.ragged.constant(attention_mask)\n",
        "    \n",
        "    \n",
        "# Encode X_train\n",
        "test_features_ids, test_features_attention = batch_encode(tokenizer, test_features.tolist())"
      ],
      "id": "tfUQmp0Ys18Q",
      "execution_count": 20,
      "outputs": []
    },
    {
      "cell_type": "code",
      "metadata": {
        "colab": {
          "base_uri": "https://localhost:8080/"
        },
        "id": "eLFqtJmrpyM7",
        "outputId": "1ffb0fec-0450-4207-d4b7-801b7e21c167"
      },
      "source": [
        "testPred = model.predict([test_features_ids, test_features_attention])"
      ],
      "id": "eLFqtJmrpyM7",
      "execution_count": 21,
      "outputs": [
        {
          "output_type": "stream",
          "text": [
            "WARNING:tensorflow:The parameters `output_attentions`, `output_hidden_states` and `use_cache` cannot be updated when calling a model.They have to be set to True/False in the config object (i.e.: `config=XConfig.from_pretrained('name', output_attentions=True)`).\n",
            "WARNING:tensorflow:The parameter `return_dict` cannot be set in graph mode and will always be set to `True`.\n"
          ],
          "name": "stdout"
        }
      ]
    },
    {
      "cell_type": "code",
      "metadata": {
        "id": "9mOotx032xMs"
      },
      "source": [
        "encoder = {}\n",
        "for i, j in enumerate(temp2.columns):\n",
        "  encoder[i] = j\n",
        "\n",
        "encoder"
      ],
      "id": "9mOotx032xMs",
      "execution_count": null,
      "outputs": []
    },
    {
      "cell_type": "code",
      "metadata": {
        "colab": {
          "base_uri": "https://localhost:8080/",
          "height": 443
        },
        "id": "P2VF9pIiwHGo",
        "outputId": "6d134410-52b3-4d3e-8515-dfac747afd01"
      },
      "source": [
        "pd.DataFrame(testPred)"
      ],
      "id": "P2VF9pIiwHGo",
      "execution_count": 22,
      "outputs": [
        {
          "output_type": "execute_result",
          "data": {
            "text/html": [
              "<div>\n",
              "<style scoped>\n",
              "    .dataframe tbody tr th:only-of-type {\n",
              "        vertical-align: middle;\n",
              "    }\n",
              "\n",
              "    .dataframe tbody tr th {\n",
              "        vertical-align: top;\n",
              "    }\n",
              "\n",
              "    .dataframe thead th {\n",
              "        text-align: right;\n",
              "    }\n",
              "</style>\n",
              "<table border=\"1\" class=\"dataframe\">\n",
              "  <thead>\n",
              "    <tr style=\"text-align: right;\">\n",
              "      <th></th>\n",
              "      <th>0</th>\n",
              "      <th>1</th>\n",
              "      <th>2</th>\n",
              "      <th>3</th>\n",
              "      <th>4</th>\n",
              "      <th>5</th>\n",
              "      <th>6</th>\n",
              "      <th>7</th>\n",
              "      <th>8</th>\n",
              "      <th>9</th>\n",
              "      <th>10</th>\n",
              "      <th>11</th>\n",
              "      <th>12</th>\n",
              "      <th>13</th>\n",
              "      <th>14</th>\n",
              "      <th>15</th>\n",
              "      <th>16</th>\n",
              "      <th>17</th>\n",
              "      <th>18</th>\n",
              "      <th>19</th>\n",
              "      <th>20</th>\n",
              "      <th>21</th>\n",
              "      <th>22</th>\n",
              "      <th>23</th>\n",
              "      <th>24</th>\n",
              "      <th>25</th>\n",
              "      <th>26</th>\n",
              "      <th>27</th>\n",
              "      <th>28</th>\n",
              "      <th>29</th>\n",
              "    </tr>\n",
              "  </thead>\n",
              "  <tbody>\n",
              "    <tr>\n",
              "      <th>0</th>\n",
              "      <td>0.478941</td>\n",
              "      <td>0.000655</td>\n",
              "      <td>0.039961</td>\n",
              "      <td>0.000136</td>\n",
              "      <td>0.018931</td>\n",
              "      <td>0.010690</td>\n",
              "      <td>0.004222</td>\n",
              "      <td>0.007097</td>\n",
              "      <td>0.012408</td>\n",
              "      <td>0.000694</td>\n",
              "      <td>0.018034</td>\n",
              "      <td>0.012765</td>\n",
              "      <td>0.011901</td>\n",
              "      <td>0.003402</td>\n",
              "      <td>0.006077</td>\n",
              "      <td>0.000094</td>\n",
              "      <td>0.018397</td>\n",
              "      <td>0.000993</td>\n",
              "      <td>0.004516</td>\n",
              "      <td>0.005948</td>\n",
              "      <td>0.012366</td>\n",
              "      <td>0.017494</td>\n",
              "      <td>0.000531</td>\n",
              "      <td>0.000713</td>\n",
              "      <td>0.000166</td>\n",
              "      <td>0.000133</td>\n",
              "      <td>0.003761</td>\n",
              "      <td>0.000228</td>\n",
              "      <td>0.296882</td>\n",
              "      <td>0.011863</td>\n",
              "    </tr>\n",
              "    <tr>\n",
              "      <th>1</th>\n",
              "      <td>0.000934</td>\n",
              "      <td>0.710853</td>\n",
              "      <td>0.000037</td>\n",
              "      <td>0.002401</td>\n",
              "      <td>0.000059</td>\n",
              "      <td>0.004340</td>\n",
              "      <td>0.000010</td>\n",
              "      <td>0.000002</td>\n",
              "      <td>0.000173</td>\n",
              "      <td>0.000821</td>\n",
              "      <td>0.001343</td>\n",
              "      <td>0.000107</td>\n",
              "      <td>0.000687</td>\n",
              "      <td>0.000031</td>\n",
              "      <td>0.015795</td>\n",
              "      <td>0.195585</td>\n",
              "      <td>0.000057</td>\n",
              "      <td>0.028543</td>\n",
              "      <td>0.000051</td>\n",
              "      <td>0.000040</td>\n",
              "      <td>0.000191</td>\n",
              "      <td>0.000750</td>\n",
              "      <td>0.005170</td>\n",
              "      <td>0.000261</td>\n",
              "      <td>0.025372</td>\n",
              "      <td>0.000041</td>\n",
              "      <td>0.004655</td>\n",
              "      <td>0.000010</td>\n",
              "      <td>0.000408</td>\n",
              "      <td>0.001275</td>\n",
              "    </tr>\n",
              "    <tr>\n",
              "      <th>2</th>\n",
              "      <td>0.068866</td>\n",
              "      <td>0.019198</td>\n",
              "      <td>0.827241</td>\n",
              "      <td>0.000888</td>\n",
              "      <td>0.001433</td>\n",
              "      <td>0.020231</td>\n",
              "      <td>0.002344</td>\n",
              "      <td>0.000494</td>\n",
              "      <td>0.000482</td>\n",
              "      <td>0.000144</td>\n",
              "      <td>0.002752</td>\n",
              "      <td>0.001435</td>\n",
              "      <td>0.004799</td>\n",
              "      <td>0.000051</td>\n",
              "      <td>0.000471</td>\n",
              "      <td>0.008463</td>\n",
              "      <td>0.002261</td>\n",
              "      <td>0.000416</td>\n",
              "      <td>0.002888</td>\n",
              "      <td>0.007450</td>\n",
              "      <td>0.000619</td>\n",
              "      <td>0.005627</td>\n",
              "      <td>0.012371</td>\n",
              "      <td>0.003613</td>\n",
              "      <td>0.000459</td>\n",
              "      <td>0.000709</td>\n",
              "      <td>0.002071</td>\n",
              "      <td>0.001920</td>\n",
              "      <td>0.000093</td>\n",
              "      <td>0.000212</td>\n",
              "    </tr>\n",
              "    <tr>\n",
              "      <th>3</th>\n",
              "      <td>0.000032</td>\n",
              "      <td>0.114880</td>\n",
              "      <td>0.000002</td>\n",
              "      <td>0.692850</td>\n",
              "      <td>0.000016</td>\n",
              "      <td>0.005320</td>\n",
              "      <td>0.000003</td>\n",
              "      <td>0.000002</td>\n",
              "      <td>0.000008</td>\n",
              "      <td>0.000298</td>\n",
              "      <td>0.005029</td>\n",
              "      <td>0.000005</td>\n",
              "      <td>0.001079</td>\n",
              "      <td>0.000010</td>\n",
              "      <td>0.011337</td>\n",
              "      <td>0.102316</td>\n",
              "      <td>0.000029</td>\n",
              "      <td>0.006271</td>\n",
              "      <td>0.000027</td>\n",
              "      <td>0.000005</td>\n",
              "      <td>0.000171</td>\n",
              "      <td>0.003853</td>\n",
              "      <td>0.020478</td>\n",
              "      <td>0.000534</td>\n",
              "      <td>0.030672</td>\n",
              "      <td>0.000021</td>\n",
              "      <td>0.001743</td>\n",
              "      <td>0.000060</td>\n",
              "      <td>0.000645</td>\n",
              "      <td>0.002305</td>\n",
              "    </tr>\n",
              "    <tr>\n",
              "      <th>4</th>\n",
              "      <td>0.931949</td>\n",
              "      <td>0.000722</td>\n",
              "      <td>0.002111</td>\n",
              "      <td>0.000330</td>\n",
              "      <td>0.004700</td>\n",
              "      <td>0.000715</td>\n",
              "      <td>0.001082</td>\n",
              "      <td>0.000326</td>\n",
              "      <td>0.000629</td>\n",
              "      <td>0.001122</td>\n",
              "      <td>0.000309</td>\n",
              "      <td>0.000709</td>\n",
              "      <td>0.000639</td>\n",
              "      <td>0.003122</td>\n",
              "      <td>0.000202</td>\n",
              "      <td>0.000195</td>\n",
              "      <td>0.000354</td>\n",
              "      <td>0.001529</td>\n",
              "      <td>0.010396</td>\n",
              "      <td>0.000565</td>\n",
              "      <td>0.012549</td>\n",
              "      <td>0.005905</td>\n",
              "      <td>0.000294</td>\n",
              "      <td>0.011891</td>\n",
              "      <td>0.000474</td>\n",
              "      <td>0.000139</td>\n",
              "      <td>0.001796</td>\n",
              "      <td>0.000030</td>\n",
              "      <td>0.001395</td>\n",
              "      <td>0.003822</td>\n",
              "    </tr>\n",
              "    <tr>\n",
              "      <th>...</th>\n",
              "      <td>...</td>\n",
              "      <td>...</td>\n",
              "      <td>...</td>\n",
              "      <td>...</td>\n",
              "      <td>...</td>\n",
              "      <td>...</td>\n",
              "      <td>...</td>\n",
              "      <td>...</td>\n",
              "      <td>...</td>\n",
              "      <td>...</td>\n",
              "      <td>...</td>\n",
              "      <td>...</td>\n",
              "      <td>...</td>\n",
              "      <td>...</td>\n",
              "      <td>...</td>\n",
              "      <td>...</td>\n",
              "      <td>...</td>\n",
              "      <td>...</td>\n",
              "      <td>...</td>\n",
              "      <td>...</td>\n",
              "      <td>...</td>\n",
              "      <td>...</td>\n",
              "      <td>...</td>\n",
              "      <td>...</td>\n",
              "      <td>...</td>\n",
              "      <td>...</td>\n",
              "      <td>...</td>\n",
              "      <td>...</td>\n",
              "      <td>...</td>\n",
              "      <td>...</td>\n",
              "    </tr>\n",
              "    <tr>\n",
              "      <th>499995</th>\n",
              "      <td>0.000033</td>\n",
              "      <td>0.098355</td>\n",
              "      <td>0.000008</td>\n",
              "      <td>0.001971</td>\n",
              "      <td>0.000002</td>\n",
              "      <td>0.000826</td>\n",
              "      <td>0.000001</td>\n",
              "      <td>0.000001</td>\n",
              "      <td>0.000013</td>\n",
              "      <td>0.000725</td>\n",
              "      <td>0.000325</td>\n",
              "      <td>0.000020</td>\n",
              "      <td>0.000900</td>\n",
              "      <td>0.000008</td>\n",
              "      <td>0.005114</td>\n",
              "      <td>0.688910</td>\n",
              "      <td>0.000077</td>\n",
              "      <td>0.008591</td>\n",
              "      <td>0.000144</td>\n",
              "      <td>0.000048</td>\n",
              "      <td>0.000029</td>\n",
              "      <td>0.003031</td>\n",
              "      <td>0.006741</td>\n",
              "      <td>0.000218</td>\n",
              "      <td>0.181869</td>\n",
              "      <td>0.000059</td>\n",
              "      <td>0.000628</td>\n",
              "      <td>0.000028</td>\n",
              "      <td>0.000223</td>\n",
              "      <td>0.001104</td>\n",
              "    </tr>\n",
              "    <tr>\n",
              "      <th>499996</th>\n",
              "      <td>0.001196</td>\n",
              "      <td>0.001009</td>\n",
              "      <td>0.000500</td>\n",
              "      <td>0.000012</td>\n",
              "      <td>0.000104</td>\n",
              "      <td>0.000084</td>\n",
              "      <td>0.000078</td>\n",
              "      <td>0.002497</td>\n",
              "      <td>0.000254</td>\n",
              "      <td>0.000045</td>\n",
              "      <td>0.000083</td>\n",
              "      <td>0.000033</td>\n",
              "      <td>0.000083</td>\n",
              "      <td>0.000129</td>\n",
              "      <td>0.000077</td>\n",
              "      <td>0.000031</td>\n",
              "      <td>0.930403</td>\n",
              "      <td>0.000094</td>\n",
              "      <td>0.000014</td>\n",
              "      <td>0.000209</td>\n",
              "      <td>0.000024</td>\n",
              "      <td>0.000051</td>\n",
              "      <td>0.000506</td>\n",
              "      <td>0.000196</td>\n",
              "      <td>0.000003</td>\n",
              "      <td>0.061911</td>\n",
              "      <td>0.000007</td>\n",
              "      <td>0.000338</td>\n",
              "      <td>0.000014</td>\n",
              "      <td>0.000015</td>\n",
              "    </tr>\n",
              "    <tr>\n",
              "      <th>499997</th>\n",
              "      <td>0.000416</td>\n",
              "      <td>0.027920</td>\n",
              "      <td>0.000284</td>\n",
              "      <td>0.014792</td>\n",
              "      <td>0.000066</td>\n",
              "      <td>0.003020</td>\n",
              "      <td>0.000115</td>\n",
              "      <td>0.000085</td>\n",
              "      <td>0.000205</td>\n",
              "      <td>0.037796</td>\n",
              "      <td>0.001075</td>\n",
              "      <td>0.001080</td>\n",
              "      <td>0.484472</td>\n",
              "      <td>0.001964</td>\n",
              "      <td>0.002459</td>\n",
              "      <td>0.011750</td>\n",
              "      <td>0.001244</td>\n",
              "      <td>0.056745</td>\n",
              "      <td>0.015970</td>\n",
              "      <td>0.000370</td>\n",
              "      <td>0.013672</td>\n",
              "      <td>0.128276</td>\n",
              "      <td>0.002695</td>\n",
              "      <td>0.084220</td>\n",
              "      <td>0.005166</td>\n",
              "      <td>0.001332</td>\n",
              "      <td>0.003190</td>\n",
              "      <td>0.000148</td>\n",
              "      <td>0.012946</td>\n",
              "      <td>0.086528</td>\n",
              "    </tr>\n",
              "    <tr>\n",
              "      <th>499998</th>\n",
              "      <td>0.000963</td>\n",
              "      <td>0.385930</td>\n",
              "      <td>0.002250</td>\n",
              "      <td>0.000126</td>\n",
              "      <td>0.000280</td>\n",
              "      <td>0.000352</td>\n",
              "      <td>0.000629</td>\n",
              "      <td>0.000080</td>\n",
              "      <td>0.020099</td>\n",
              "      <td>0.003044</td>\n",
              "      <td>0.001319</td>\n",
              "      <td>0.000047</td>\n",
              "      <td>0.000671</td>\n",
              "      <td>0.000072</td>\n",
              "      <td>0.000961</td>\n",
              "      <td>0.001111</td>\n",
              "      <td>0.007613</td>\n",
              "      <td>0.527538</td>\n",
              "      <td>0.000804</td>\n",
              "      <td>0.000145</td>\n",
              "      <td>0.004061</td>\n",
              "      <td>0.014918</td>\n",
              "      <td>0.000994</td>\n",
              "      <td>0.022139</td>\n",
              "      <td>0.000048</td>\n",
              "      <td>0.000326</td>\n",
              "      <td>0.000260</td>\n",
              "      <td>0.000079</td>\n",
              "      <td>0.000223</td>\n",
              "      <td>0.002919</td>\n",
              "    </tr>\n",
              "    <tr>\n",
              "      <th>499999</th>\n",
              "      <td>0.012163</td>\n",
              "      <td>0.003422</td>\n",
              "      <td>0.637132</td>\n",
              "      <td>0.000180</td>\n",
              "      <td>0.002788</td>\n",
              "      <td>0.002247</td>\n",
              "      <td>0.082749</td>\n",
              "      <td>0.000104</td>\n",
              "      <td>0.215043</td>\n",
              "      <td>0.000141</td>\n",
              "      <td>0.000504</td>\n",
              "      <td>0.022910</td>\n",
              "      <td>0.000083</td>\n",
              "      <td>0.001905</td>\n",
              "      <td>0.003296</td>\n",
              "      <td>0.000061</td>\n",
              "      <td>0.001444</td>\n",
              "      <td>0.000589</td>\n",
              "      <td>0.004902</td>\n",
              "      <td>0.002110</td>\n",
              "      <td>0.002817</td>\n",
              "      <td>0.000651</td>\n",
              "      <td>0.000173</td>\n",
              "      <td>0.000176</td>\n",
              "      <td>0.000011</td>\n",
              "      <td>0.000717</td>\n",
              "      <td>0.000400</td>\n",
              "      <td>0.000218</td>\n",
              "      <td>0.000965</td>\n",
              "      <td>0.000101</td>\n",
              "    </tr>\n",
              "  </tbody>\n",
              "</table>\n",
              "<p>500000 rows × 30 columns</p>\n",
              "</div>"
            ],
            "text/plain": [
              "              0         1         2   ...        27        28        29\n",
              "0       0.478941  0.000655  0.039961  ...  0.000228  0.296882  0.011863\n",
              "1       0.000934  0.710853  0.000037  ...  0.000010  0.000408  0.001275\n",
              "2       0.068866  0.019198  0.827241  ...  0.001920  0.000093  0.000212\n",
              "3       0.000032  0.114880  0.000002  ...  0.000060  0.000645  0.002305\n",
              "4       0.931949  0.000722  0.002111  ...  0.000030  0.001395  0.003822\n",
              "...          ...       ...       ...  ...       ...       ...       ...\n",
              "499995  0.000033  0.098355  0.000008  ...  0.000028  0.000223  0.001104\n",
              "499996  0.001196  0.001009  0.000500  ...  0.000338  0.000014  0.000015\n",
              "499997  0.000416  0.027920  0.000284  ...  0.000148  0.012946  0.086528\n",
              "499998  0.000963  0.385930  0.002250  ...  0.000079  0.000223  0.002919\n",
              "499999  0.012163  0.003422  0.637132  ...  0.000218  0.000965  0.000101\n",
              "\n",
              "[500000 rows x 30 columns]"
            ]
          },
          "metadata": {
            "tags": []
          },
          "execution_count": 22
        }
      ]
    },
    {
      "cell_type": "code",
      "metadata": {
        "colab": {
          "base_uri": "https://localhost:8080/",
          "height": 439
        },
        "id": "rT-tqdmG2Hik",
        "outputId": "0ef2ea09-9d1d-485d-ba98-739b7e180f4b"
      },
      "source": [
        "tempPred = pd.DataFrame(pred)\n",
        "tempPred"
      ],
      "id": "rT-tqdmG2Hik",
      "execution_count": null,
      "outputs": [
        {
          "output_type": "execute_result",
          "data": {
            "text/html": [
              "<div>\n",
              "<style scoped>\n",
              "    .dataframe tbody tr th:only-of-type {\n",
              "        vertical-align: middle;\n",
              "    }\n",
              "\n",
              "    .dataframe tbody tr th {\n",
              "        vertical-align: top;\n",
              "    }\n",
              "\n",
              "    .dataframe thead th {\n",
              "        text-align: right;\n",
              "    }\n",
              "</style>\n",
              "<table border=\"1\" class=\"dataframe\">\n",
              "  <thead>\n",
              "    <tr style=\"text-align: right;\">\n",
              "      <th></th>\n",
              "      <th>0</th>\n",
              "      <th>1</th>\n",
              "      <th>2</th>\n",
              "      <th>3</th>\n",
              "      <th>4</th>\n",
              "      <th>5</th>\n",
              "      <th>6</th>\n",
              "      <th>7</th>\n",
              "      <th>8</th>\n",
              "      <th>9</th>\n",
              "      <th>10</th>\n",
              "      <th>11</th>\n",
              "      <th>12</th>\n",
              "      <th>13</th>\n",
              "      <th>14</th>\n",
              "      <th>15</th>\n",
              "      <th>16</th>\n",
              "      <th>17</th>\n",
              "      <th>18</th>\n",
              "      <th>19</th>\n",
              "      <th>20</th>\n",
              "      <th>21</th>\n",
              "      <th>22</th>\n",
              "      <th>23</th>\n",
              "      <th>24</th>\n",
              "      <th>25</th>\n",
              "      <th>26</th>\n",
              "      <th>27</th>\n",
              "      <th>28</th>\n",
              "      <th>29</th>\n",
              "    </tr>\n",
              "  </thead>\n",
              "  <tbody>\n",
              "    <tr>\n",
              "      <th>0</th>\n",
              "      <td>0.023923</td>\n",
              "      <td>0.132491</td>\n",
              "      <td>0.013514</td>\n",
              "      <td>0.019273</td>\n",
              "      <td>0.009867</td>\n",
              "      <td>0.021008</td>\n",
              "      <td>0.015440</td>\n",
              "      <td>0.022611</td>\n",
              "      <td>0.013162</td>\n",
              "      <td>0.014799</td>\n",
              "      <td>0.026106</td>\n",
              "      <td>0.024532</td>\n",
              "      <td>0.038803</td>\n",
              "      <td>0.015088</td>\n",
              "      <td>0.016503</td>\n",
              "      <td>0.062014</td>\n",
              "      <td>0.155990</td>\n",
              "      <td>0.031444</td>\n",
              "      <td>0.054619</td>\n",
              "      <td>0.013503</td>\n",
              "      <td>0.020925</td>\n",
              "      <td>0.028365</td>\n",
              "      <td>0.017016</td>\n",
              "      <td>0.067521</td>\n",
              "      <td>0.014472</td>\n",
              "      <td>0.027451</td>\n",
              "      <td>0.011753</td>\n",
              "      <td>0.011247</td>\n",
              "      <td>0.022361</td>\n",
              "      <td>0.054199</td>\n",
              "    </tr>\n",
              "    <tr>\n",
              "      <th>1</th>\n",
              "      <td>0.029876</td>\n",
              "      <td>0.105808</td>\n",
              "      <td>0.014953</td>\n",
              "      <td>0.017558</td>\n",
              "      <td>0.010855</td>\n",
              "      <td>0.020970</td>\n",
              "      <td>0.014603</td>\n",
              "      <td>0.020567</td>\n",
              "      <td>0.016121</td>\n",
              "      <td>0.019447</td>\n",
              "      <td>0.023879</td>\n",
              "      <td>0.024578</td>\n",
              "      <td>0.033095</td>\n",
              "      <td>0.024476</td>\n",
              "      <td>0.015604</td>\n",
              "      <td>0.047480</td>\n",
              "      <td>0.154025</td>\n",
              "      <td>0.035966</td>\n",
              "      <td>0.071292</td>\n",
              "      <td>0.013566</td>\n",
              "      <td>0.023584</td>\n",
              "      <td>0.031429</td>\n",
              "      <td>0.015793</td>\n",
              "      <td>0.060330</td>\n",
              "      <td>0.013575</td>\n",
              "      <td>0.025139</td>\n",
              "      <td>0.010793</td>\n",
              "      <td>0.008992</td>\n",
              "      <td>0.025865</td>\n",
              "      <td>0.069781</td>\n",
              "    </tr>\n",
              "    <tr>\n",
              "      <th>2</th>\n",
              "      <td>0.042637</td>\n",
              "      <td>0.089993</td>\n",
              "      <td>0.018745</td>\n",
              "      <td>0.014072</td>\n",
              "      <td>0.011415</td>\n",
              "      <td>0.021520</td>\n",
              "      <td>0.016180</td>\n",
              "      <td>0.020600</td>\n",
              "      <td>0.016186</td>\n",
              "      <td>0.012538</td>\n",
              "      <td>0.033193</td>\n",
              "      <td>0.021981</td>\n",
              "      <td>0.039027</td>\n",
              "      <td>0.025663</td>\n",
              "      <td>0.013635</td>\n",
              "      <td>0.043400</td>\n",
              "      <td>0.137569</td>\n",
              "      <td>0.038397</td>\n",
              "      <td>0.064716</td>\n",
              "      <td>0.016186</td>\n",
              "      <td>0.023958</td>\n",
              "      <td>0.033620</td>\n",
              "      <td>0.018616</td>\n",
              "      <td>0.073781</td>\n",
              "      <td>0.020728</td>\n",
              "      <td>0.034055</td>\n",
              "      <td>0.008836</td>\n",
              "      <td>0.010188</td>\n",
              "      <td>0.017991</td>\n",
              "      <td>0.060574</td>\n",
              "    </tr>\n",
              "    <tr>\n",
              "      <th>3</th>\n",
              "      <td>0.032842</td>\n",
              "      <td>0.159471</td>\n",
              "      <td>0.017090</td>\n",
              "      <td>0.022189</td>\n",
              "      <td>0.013670</td>\n",
              "      <td>0.020169</td>\n",
              "      <td>0.014613</td>\n",
              "      <td>0.017903</td>\n",
              "      <td>0.013779</td>\n",
              "      <td>0.009020</td>\n",
              "      <td>0.027917</td>\n",
              "      <td>0.014774</td>\n",
              "      <td>0.033562</td>\n",
              "      <td>0.010656</td>\n",
              "      <td>0.021021</td>\n",
              "      <td>0.077997</td>\n",
              "      <td>0.160430</td>\n",
              "      <td>0.040344</td>\n",
              "      <td>0.043988</td>\n",
              "      <td>0.014432</td>\n",
              "      <td>0.018923</td>\n",
              "      <td>0.029695</td>\n",
              "      <td>0.015162</td>\n",
              "      <td>0.068178</td>\n",
              "      <td>0.017847</td>\n",
              "      <td>0.027078</td>\n",
              "      <td>0.008553</td>\n",
              "      <td>0.009650</td>\n",
              "      <td>0.014091</td>\n",
              "      <td>0.024961</td>\n",
              "    </tr>\n",
              "    <tr>\n",
              "      <th>4</th>\n",
              "      <td>0.025785</td>\n",
              "      <td>0.033486</td>\n",
              "      <td>0.013944</td>\n",
              "      <td>0.008872</td>\n",
              "      <td>0.007692</td>\n",
              "      <td>0.014400</td>\n",
              "      <td>0.009847</td>\n",
              "      <td>0.100938</td>\n",
              "      <td>0.007413</td>\n",
              "      <td>0.007209</td>\n",
              "      <td>0.015116</td>\n",
              "      <td>0.014640</td>\n",
              "      <td>0.019630</td>\n",
              "      <td>0.008774</td>\n",
              "      <td>0.007402</td>\n",
              "      <td>0.013464</td>\n",
              "      <td>0.487447</td>\n",
              "      <td>0.008286</td>\n",
              "      <td>0.015253</td>\n",
              "      <td>0.014354</td>\n",
              "      <td>0.010892</td>\n",
              "      <td>0.019827</td>\n",
              "      <td>0.007898</td>\n",
              "      <td>0.023632</td>\n",
              "      <td>0.004859</td>\n",
              "      <td>0.055392</td>\n",
              "      <td>0.006202</td>\n",
              "      <td>0.019524</td>\n",
              "      <td>0.007319</td>\n",
              "      <td>0.010503</td>\n",
              "    </tr>\n",
              "    <tr>\n",
              "      <th>...</th>\n",
              "      <td>...</td>\n",
              "      <td>...</td>\n",
              "      <td>...</td>\n",
              "      <td>...</td>\n",
              "      <td>...</td>\n",
              "      <td>...</td>\n",
              "      <td>...</td>\n",
              "      <td>...</td>\n",
              "      <td>...</td>\n",
              "      <td>...</td>\n",
              "      <td>...</td>\n",
              "      <td>...</td>\n",
              "      <td>...</td>\n",
              "      <td>...</td>\n",
              "      <td>...</td>\n",
              "      <td>...</td>\n",
              "      <td>...</td>\n",
              "      <td>...</td>\n",
              "      <td>...</td>\n",
              "      <td>...</td>\n",
              "      <td>...</td>\n",
              "      <td>...</td>\n",
              "      <td>...</td>\n",
              "      <td>...</td>\n",
              "      <td>...</td>\n",
              "      <td>...</td>\n",
              "      <td>...</td>\n",
              "      <td>...</td>\n",
              "      <td>...</td>\n",
              "      <td>...</td>\n",
              "    </tr>\n",
              "    <tr>\n",
              "      <th>24995</th>\n",
              "      <td>0.022528</td>\n",
              "      <td>0.039955</td>\n",
              "      <td>0.016269</td>\n",
              "      <td>0.010084</td>\n",
              "      <td>0.014024</td>\n",
              "      <td>0.009597</td>\n",
              "      <td>0.013329</td>\n",
              "      <td>0.045796</td>\n",
              "      <td>0.011229</td>\n",
              "      <td>0.010015</td>\n",
              "      <td>0.016046</td>\n",
              "      <td>0.014588</td>\n",
              "      <td>0.016959</td>\n",
              "      <td>0.012138</td>\n",
              "      <td>0.009606</td>\n",
              "      <td>0.014919</td>\n",
              "      <td>0.525009</td>\n",
              "      <td>0.010913</td>\n",
              "      <td>0.019390</td>\n",
              "      <td>0.012515</td>\n",
              "      <td>0.013350</td>\n",
              "      <td>0.016923</td>\n",
              "      <td>0.006119</td>\n",
              "      <td>0.023438</td>\n",
              "      <td>0.005253</td>\n",
              "      <td>0.050807</td>\n",
              "      <td>0.009409</td>\n",
              "      <td>0.008070</td>\n",
              "      <td>0.008949</td>\n",
              "      <td>0.012774</td>\n",
              "    </tr>\n",
              "    <tr>\n",
              "      <th>24996</th>\n",
              "      <td>0.036257</td>\n",
              "      <td>0.110410</td>\n",
              "      <td>0.025822</td>\n",
              "      <td>0.021428</td>\n",
              "      <td>0.014275</td>\n",
              "      <td>0.038738</td>\n",
              "      <td>0.014351</td>\n",
              "      <td>0.016899</td>\n",
              "      <td>0.014520</td>\n",
              "      <td>0.013363</td>\n",
              "      <td>0.040965</td>\n",
              "      <td>0.024173</td>\n",
              "      <td>0.042290</td>\n",
              "      <td>0.018410</td>\n",
              "      <td>0.018509</td>\n",
              "      <td>0.035063</td>\n",
              "      <td>0.088581</td>\n",
              "      <td>0.033215</td>\n",
              "      <td>0.071423</td>\n",
              "      <td>0.018878</td>\n",
              "      <td>0.037414</td>\n",
              "      <td>0.027527</td>\n",
              "      <td>0.018129</td>\n",
              "      <td>0.078528</td>\n",
              "      <td>0.017435</td>\n",
              "      <td>0.025105</td>\n",
              "      <td>0.015158</td>\n",
              "      <td>0.010909</td>\n",
              "      <td>0.022275</td>\n",
              "      <td>0.049952</td>\n",
              "    </tr>\n",
              "    <tr>\n",
              "      <th>24997</th>\n",
              "      <td>0.032884</td>\n",
              "      <td>0.060733</td>\n",
              "      <td>0.020027</td>\n",
              "      <td>0.011159</td>\n",
              "      <td>0.013584</td>\n",
              "      <td>0.014256</td>\n",
              "      <td>0.015359</td>\n",
              "      <td>0.043356</td>\n",
              "      <td>0.019235</td>\n",
              "      <td>0.010682</td>\n",
              "      <td>0.017681</td>\n",
              "      <td>0.024560</td>\n",
              "      <td>0.018604</td>\n",
              "      <td>0.011356</td>\n",
              "      <td>0.011865</td>\n",
              "      <td>0.031049</td>\n",
              "      <td>0.379482</td>\n",
              "      <td>0.015584</td>\n",
              "      <td>0.032400</td>\n",
              "      <td>0.022382</td>\n",
              "      <td>0.015320</td>\n",
              "      <td>0.026363</td>\n",
              "      <td>0.009521</td>\n",
              "      <td>0.039796</td>\n",
              "      <td>0.011585</td>\n",
              "      <td>0.037784</td>\n",
              "      <td>0.009535</td>\n",
              "      <td>0.012426</td>\n",
              "      <td>0.011083</td>\n",
              "      <td>0.020351</td>\n",
              "    </tr>\n",
              "    <tr>\n",
              "      <th>24998</th>\n",
              "      <td>0.024319</td>\n",
              "      <td>0.040981</td>\n",
              "      <td>0.010826</td>\n",
              "      <td>0.009396</td>\n",
              "      <td>0.006350</td>\n",
              "      <td>0.016571</td>\n",
              "      <td>0.009178</td>\n",
              "      <td>0.107338</td>\n",
              "      <td>0.009787</td>\n",
              "      <td>0.009756</td>\n",
              "      <td>0.012735</td>\n",
              "      <td>0.023894</td>\n",
              "      <td>0.026807</td>\n",
              "      <td>0.009584</td>\n",
              "      <td>0.006612</td>\n",
              "      <td>0.018054</td>\n",
              "      <td>0.404725</td>\n",
              "      <td>0.015105</td>\n",
              "      <td>0.021737</td>\n",
              "      <td>0.017123</td>\n",
              "      <td>0.012708</td>\n",
              "      <td>0.016423</td>\n",
              "      <td>0.008112</td>\n",
              "      <td>0.023958</td>\n",
              "      <td>0.005657</td>\n",
              "      <td>0.085510</td>\n",
              "      <td>0.006993</td>\n",
              "      <td>0.015575</td>\n",
              "      <td>0.008682</td>\n",
              "      <td>0.015503</td>\n",
              "    </tr>\n",
              "    <tr>\n",
              "      <th>24999</th>\n",
              "      <td>0.049417</td>\n",
              "      <td>0.122558</td>\n",
              "      <td>0.017327</td>\n",
              "      <td>0.016024</td>\n",
              "      <td>0.014933</td>\n",
              "      <td>0.022947</td>\n",
              "      <td>0.018137</td>\n",
              "      <td>0.028942</td>\n",
              "      <td>0.015289</td>\n",
              "      <td>0.010039</td>\n",
              "      <td>0.053936</td>\n",
              "      <td>0.019643</td>\n",
              "      <td>0.024495</td>\n",
              "      <td>0.014747</td>\n",
              "      <td>0.022293</td>\n",
              "      <td>0.070161</td>\n",
              "      <td>0.125433</td>\n",
              "      <td>0.031576</td>\n",
              "      <td>0.040426</td>\n",
              "      <td>0.015701</td>\n",
              "      <td>0.019937</td>\n",
              "      <td>0.025356</td>\n",
              "      <td>0.019243</td>\n",
              "      <td>0.072358</td>\n",
              "      <td>0.027360</td>\n",
              "      <td>0.031560</td>\n",
              "      <td>0.010518</td>\n",
              "      <td>0.010112</td>\n",
              "      <td>0.015551</td>\n",
              "      <td>0.033980</td>\n",
              "    </tr>\n",
              "  </tbody>\n",
              "</table>\n",
              "<p>25000 rows × 30 columns</p>\n",
              "</div>"
            ],
            "text/plain": [
              "             0         1         2   ...        27        28        29\n",
              "0      0.023923  0.132491  0.013514  ...  0.011247  0.022361  0.054199\n",
              "1      0.029876  0.105808  0.014953  ...  0.008992  0.025865  0.069781\n",
              "2      0.042637  0.089993  0.018745  ...  0.010188  0.017991  0.060574\n",
              "3      0.032842  0.159471  0.017090  ...  0.009650  0.014091  0.024961\n",
              "4      0.025785  0.033486  0.013944  ...  0.019524  0.007319  0.010503\n",
              "...         ...       ...       ...  ...       ...       ...       ...\n",
              "24995  0.022528  0.039955  0.016269  ...  0.008070  0.008949  0.012774\n",
              "24996  0.036257  0.110410  0.025822  ...  0.010909  0.022275  0.049952\n",
              "24997  0.032884  0.060733  0.020027  ...  0.012426  0.011083  0.020351\n",
              "24998  0.024319  0.040981  0.010826  ...  0.015575  0.008682  0.015503\n",
              "24999  0.049417  0.122558  0.017327  ...  0.010112  0.015551  0.033980\n",
              "\n",
              "[25000 rows x 30 columns]"
            ]
          },
          "metadata": {
            "tags": []
          },
          "execution_count": 47
        }
      ]
    },
    {
      "cell_type": "code",
      "metadata": {
        "colab": {
          "base_uri": "https://localhost:8080/",
          "height": 439
        },
        "id": "zTUrt23F4zpc",
        "outputId": "1535f86a-bff0-4036-cf57-2ed688b64abc"
      },
      "source": [
        "tempPred = tempPred.rename(columns=encoder)\n",
        "tempPred"
      ],
      "id": "zTUrt23F4zpc",
      "execution_count": null,
      "outputs": [
        {
          "output_type": "execute_result",
          "data": {
            "text/html": [
              "<div>\n",
              "<style scoped>\n",
              "    .dataframe tbody tr th:only-of-type {\n",
              "        vertical-align: middle;\n",
              "    }\n",
              "\n",
              "    .dataframe tbody tr th {\n",
              "        vertical-align: top;\n",
              "    }\n",
              "\n",
              "    .dataframe thead th {\n",
              "        text-align: right;\n",
              "    }\n",
              "</style>\n",
              "<table border=\"1\" class=\"dataframe\">\n",
              "  <thead>\n",
              "    <tr style=\"text-align: right;\">\n",
              "      <th></th>\n",
              "      <th>4</th>\n",
              "      <th>5</th>\n",
              "      <th>11</th>\n",
              "      <th>40</th>\n",
              "      <th>55</th>\n",
              "      <th>89</th>\n",
              "      <th>251</th>\n",
              "      <th>374</th>\n",
              "      <th>413</th>\n",
              "      <th>465</th>\n",
              "      <th>701</th>\n",
              "      <th>739</th>\n",
              "      <th>773</th>\n",
              "      <th>803</th>\n",
              "      <th>1003</th>\n",
              "      <th>1024</th>\n",
              "      <th>1045</th>\n",
              "      <th>1049</th>\n",
              "      <th>1052</th>\n",
              "      <th>1084</th>\n",
              "      <th>1186</th>\n",
              "      <th>1194</th>\n",
              "      <th>1213</th>\n",
              "      <th>1251</th>\n",
              "      <th>1254</th>\n",
              "      <th>1295</th>\n",
              "      <th>1409</th>\n",
              "      <th>1590</th>\n",
              "      <th>1687</th>\n",
              "      <th>1724</th>\n",
              "    </tr>\n",
              "  </thead>\n",
              "  <tbody>\n",
              "    <tr>\n",
              "      <th>0</th>\n",
              "      <td>0.023923</td>\n",
              "      <td>0.132491</td>\n",
              "      <td>0.013514</td>\n",
              "      <td>0.019273</td>\n",
              "      <td>0.009867</td>\n",
              "      <td>0.021008</td>\n",
              "      <td>0.015440</td>\n",
              "      <td>0.022611</td>\n",
              "      <td>0.013162</td>\n",
              "      <td>0.014799</td>\n",
              "      <td>0.026106</td>\n",
              "      <td>0.024532</td>\n",
              "      <td>0.038803</td>\n",
              "      <td>0.015088</td>\n",
              "      <td>0.016503</td>\n",
              "      <td>0.062014</td>\n",
              "      <td>0.155990</td>\n",
              "      <td>0.031444</td>\n",
              "      <td>0.054619</td>\n",
              "      <td>0.013503</td>\n",
              "      <td>0.020925</td>\n",
              "      <td>0.028365</td>\n",
              "      <td>0.017016</td>\n",
              "      <td>0.067521</td>\n",
              "      <td>0.014472</td>\n",
              "      <td>0.027451</td>\n",
              "      <td>0.011753</td>\n",
              "      <td>0.011247</td>\n",
              "      <td>0.022361</td>\n",
              "      <td>0.054199</td>\n",
              "    </tr>\n",
              "    <tr>\n",
              "      <th>1</th>\n",
              "      <td>0.029876</td>\n",
              "      <td>0.105808</td>\n",
              "      <td>0.014953</td>\n",
              "      <td>0.017558</td>\n",
              "      <td>0.010855</td>\n",
              "      <td>0.020970</td>\n",
              "      <td>0.014603</td>\n",
              "      <td>0.020567</td>\n",
              "      <td>0.016121</td>\n",
              "      <td>0.019447</td>\n",
              "      <td>0.023879</td>\n",
              "      <td>0.024578</td>\n",
              "      <td>0.033095</td>\n",
              "      <td>0.024476</td>\n",
              "      <td>0.015604</td>\n",
              "      <td>0.047480</td>\n",
              "      <td>0.154025</td>\n",
              "      <td>0.035966</td>\n",
              "      <td>0.071292</td>\n",
              "      <td>0.013566</td>\n",
              "      <td>0.023584</td>\n",
              "      <td>0.031429</td>\n",
              "      <td>0.015793</td>\n",
              "      <td>0.060330</td>\n",
              "      <td>0.013575</td>\n",
              "      <td>0.025139</td>\n",
              "      <td>0.010793</td>\n",
              "      <td>0.008992</td>\n",
              "      <td>0.025865</td>\n",
              "      <td>0.069781</td>\n",
              "    </tr>\n",
              "    <tr>\n",
              "      <th>2</th>\n",
              "      <td>0.042637</td>\n",
              "      <td>0.089993</td>\n",
              "      <td>0.018745</td>\n",
              "      <td>0.014072</td>\n",
              "      <td>0.011415</td>\n",
              "      <td>0.021520</td>\n",
              "      <td>0.016180</td>\n",
              "      <td>0.020600</td>\n",
              "      <td>0.016186</td>\n",
              "      <td>0.012538</td>\n",
              "      <td>0.033193</td>\n",
              "      <td>0.021981</td>\n",
              "      <td>0.039027</td>\n",
              "      <td>0.025663</td>\n",
              "      <td>0.013635</td>\n",
              "      <td>0.043400</td>\n",
              "      <td>0.137569</td>\n",
              "      <td>0.038397</td>\n",
              "      <td>0.064716</td>\n",
              "      <td>0.016186</td>\n",
              "      <td>0.023958</td>\n",
              "      <td>0.033620</td>\n",
              "      <td>0.018616</td>\n",
              "      <td>0.073781</td>\n",
              "      <td>0.020728</td>\n",
              "      <td>0.034055</td>\n",
              "      <td>0.008836</td>\n",
              "      <td>0.010188</td>\n",
              "      <td>0.017991</td>\n",
              "      <td>0.060574</td>\n",
              "    </tr>\n",
              "    <tr>\n",
              "      <th>3</th>\n",
              "      <td>0.032842</td>\n",
              "      <td>0.159471</td>\n",
              "      <td>0.017090</td>\n",
              "      <td>0.022189</td>\n",
              "      <td>0.013670</td>\n",
              "      <td>0.020169</td>\n",
              "      <td>0.014613</td>\n",
              "      <td>0.017903</td>\n",
              "      <td>0.013779</td>\n",
              "      <td>0.009020</td>\n",
              "      <td>0.027917</td>\n",
              "      <td>0.014774</td>\n",
              "      <td>0.033562</td>\n",
              "      <td>0.010656</td>\n",
              "      <td>0.021021</td>\n",
              "      <td>0.077997</td>\n",
              "      <td>0.160430</td>\n",
              "      <td>0.040344</td>\n",
              "      <td>0.043988</td>\n",
              "      <td>0.014432</td>\n",
              "      <td>0.018923</td>\n",
              "      <td>0.029695</td>\n",
              "      <td>0.015162</td>\n",
              "      <td>0.068178</td>\n",
              "      <td>0.017847</td>\n",
              "      <td>0.027078</td>\n",
              "      <td>0.008553</td>\n",
              "      <td>0.009650</td>\n",
              "      <td>0.014091</td>\n",
              "      <td>0.024961</td>\n",
              "    </tr>\n",
              "    <tr>\n",
              "      <th>4</th>\n",
              "      <td>0.025785</td>\n",
              "      <td>0.033486</td>\n",
              "      <td>0.013944</td>\n",
              "      <td>0.008872</td>\n",
              "      <td>0.007692</td>\n",
              "      <td>0.014400</td>\n",
              "      <td>0.009847</td>\n",
              "      <td>0.100938</td>\n",
              "      <td>0.007413</td>\n",
              "      <td>0.007209</td>\n",
              "      <td>0.015116</td>\n",
              "      <td>0.014640</td>\n",
              "      <td>0.019630</td>\n",
              "      <td>0.008774</td>\n",
              "      <td>0.007402</td>\n",
              "      <td>0.013464</td>\n",
              "      <td>0.487447</td>\n",
              "      <td>0.008286</td>\n",
              "      <td>0.015253</td>\n",
              "      <td>0.014354</td>\n",
              "      <td>0.010892</td>\n",
              "      <td>0.019827</td>\n",
              "      <td>0.007898</td>\n",
              "      <td>0.023632</td>\n",
              "      <td>0.004859</td>\n",
              "      <td>0.055392</td>\n",
              "      <td>0.006202</td>\n",
              "      <td>0.019524</td>\n",
              "      <td>0.007319</td>\n",
              "      <td>0.010503</td>\n",
              "    </tr>\n",
              "    <tr>\n",
              "      <th>...</th>\n",
              "      <td>...</td>\n",
              "      <td>...</td>\n",
              "      <td>...</td>\n",
              "      <td>...</td>\n",
              "      <td>...</td>\n",
              "      <td>...</td>\n",
              "      <td>...</td>\n",
              "      <td>...</td>\n",
              "      <td>...</td>\n",
              "      <td>...</td>\n",
              "      <td>...</td>\n",
              "      <td>...</td>\n",
              "      <td>...</td>\n",
              "      <td>...</td>\n",
              "      <td>...</td>\n",
              "      <td>...</td>\n",
              "      <td>...</td>\n",
              "      <td>...</td>\n",
              "      <td>...</td>\n",
              "      <td>...</td>\n",
              "      <td>...</td>\n",
              "      <td>...</td>\n",
              "      <td>...</td>\n",
              "      <td>...</td>\n",
              "      <td>...</td>\n",
              "      <td>...</td>\n",
              "      <td>...</td>\n",
              "      <td>...</td>\n",
              "      <td>...</td>\n",
              "      <td>...</td>\n",
              "    </tr>\n",
              "    <tr>\n",
              "      <th>24995</th>\n",
              "      <td>0.022528</td>\n",
              "      <td>0.039955</td>\n",
              "      <td>0.016269</td>\n",
              "      <td>0.010084</td>\n",
              "      <td>0.014024</td>\n",
              "      <td>0.009597</td>\n",
              "      <td>0.013329</td>\n",
              "      <td>0.045796</td>\n",
              "      <td>0.011229</td>\n",
              "      <td>0.010015</td>\n",
              "      <td>0.016046</td>\n",
              "      <td>0.014588</td>\n",
              "      <td>0.016959</td>\n",
              "      <td>0.012138</td>\n",
              "      <td>0.009606</td>\n",
              "      <td>0.014919</td>\n",
              "      <td>0.525009</td>\n",
              "      <td>0.010913</td>\n",
              "      <td>0.019390</td>\n",
              "      <td>0.012515</td>\n",
              "      <td>0.013350</td>\n",
              "      <td>0.016923</td>\n",
              "      <td>0.006119</td>\n",
              "      <td>0.023438</td>\n",
              "      <td>0.005253</td>\n",
              "      <td>0.050807</td>\n",
              "      <td>0.009409</td>\n",
              "      <td>0.008070</td>\n",
              "      <td>0.008949</td>\n",
              "      <td>0.012774</td>\n",
              "    </tr>\n",
              "    <tr>\n",
              "      <th>24996</th>\n",
              "      <td>0.036257</td>\n",
              "      <td>0.110410</td>\n",
              "      <td>0.025822</td>\n",
              "      <td>0.021428</td>\n",
              "      <td>0.014275</td>\n",
              "      <td>0.038738</td>\n",
              "      <td>0.014351</td>\n",
              "      <td>0.016899</td>\n",
              "      <td>0.014520</td>\n",
              "      <td>0.013363</td>\n",
              "      <td>0.040965</td>\n",
              "      <td>0.024173</td>\n",
              "      <td>0.042290</td>\n",
              "      <td>0.018410</td>\n",
              "      <td>0.018509</td>\n",
              "      <td>0.035063</td>\n",
              "      <td>0.088581</td>\n",
              "      <td>0.033215</td>\n",
              "      <td>0.071423</td>\n",
              "      <td>0.018878</td>\n",
              "      <td>0.037414</td>\n",
              "      <td>0.027527</td>\n",
              "      <td>0.018129</td>\n",
              "      <td>0.078528</td>\n",
              "      <td>0.017435</td>\n",
              "      <td>0.025105</td>\n",
              "      <td>0.015158</td>\n",
              "      <td>0.010909</td>\n",
              "      <td>0.022275</td>\n",
              "      <td>0.049952</td>\n",
              "    </tr>\n",
              "    <tr>\n",
              "      <th>24997</th>\n",
              "      <td>0.032884</td>\n",
              "      <td>0.060733</td>\n",
              "      <td>0.020027</td>\n",
              "      <td>0.011159</td>\n",
              "      <td>0.013584</td>\n",
              "      <td>0.014256</td>\n",
              "      <td>0.015359</td>\n",
              "      <td>0.043356</td>\n",
              "      <td>0.019235</td>\n",
              "      <td>0.010682</td>\n",
              "      <td>0.017681</td>\n",
              "      <td>0.024560</td>\n",
              "      <td>0.018604</td>\n",
              "      <td>0.011356</td>\n",
              "      <td>0.011865</td>\n",
              "      <td>0.031049</td>\n",
              "      <td>0.379482</td>\n",
              "      <td>0.015584</td>\n",
              "      <td>0.032400</td>\n",
              "      <td>0.022382</td>\n",
              "      <td>0.015320</td>\n",
              "      <td>0.026363</td>\n",
              "      <td>0.009521</td>\n",
              "      <td>0.039796</td>\n",
              "      <td>0.011585</td>\n",
              "      <td>0.037784</td>\n",
              "      <td>0.009535</td>\n",
              "      <td>0.012426</td>\n",
              "      <td>0.011083</td>\n",
              "      <td>0.020351</td>\n",
              "    </tr>\n",
              "    <tr>\n",
              "      <th>24998</th>\n",
              "      <td>0.024319</td>\n",
              "      <td>0.040981</td>\n",
              "      <td>0.010826</td>\n",
              "      <td>0.009396</td>\n",
              "      <td>0.006350</td>\n",
              "      <td>0.016571</td>\n",
              "      <td>0.009178</td>\n",
              "      <td>0.107338</td>\n",
              "      <td>0.009787</td>\n",
              "      <td>0.009756</td>\n",
              "      <td>0.012735</td>\n",
              "      <td>0.023894</td>\n",
              "      <td>0.026807</td>\n",
              "      <td>0.009584</td>\n",
              "      <td>0.006612</td>\n",
              "      <td>0.018054</td>\n",
              "      <td>0.404725</td>\n",
              "      <td>0.015105</td>\n",
              "      <td>0.021737</td>\n",
              "      <td>0.017123</td>\n",
              "      <td>0.012708</td>\n",
              "      <td>0.016423</td>\n",
              "      <td>0.008112</td>\n",
              "      <td>0.023958</td>\n",
              "      <td>0.005657</td>\n",
              "      <td>0.085510</td>\n",
              "      <td>0.006993</td>\n",
              "      <td>0.015575</td>\n",
              "      <td>0.008682</td>\n",
              "      <td>0.015503</td>\n",
              "    </tr>\n",
              "    <tr>\n",
              "      <th>24999</th>\n",
              "      <td>0.049417</td>\n",
              "      <td>0.122558</td>\n",
              "      <td>0.017327</td>\n",
              "      <td>0.016024</td>\n",
              "      <td>0.014933</td>\n",
              "      <td>0.022947</td>\n",
              "      <td>0.018137</td>\n",
              "      <td>0.028942</td>\n",
              "      <td>0.015289</td>\n",
              "      <td>0.010039</td>\n",
              "      <td>0.053936</td>\n",
              "      <td>0.019643</td>\n",
              "      <td>0.024495</td>\n",
              "      <td>0.014747</td>\n",
              "      <td>0.022293</td>\n",
              "      <td>0.070161</td>\n",
              "      <td>0.125433</td>\n",
              "      <td>0.031576</td>\n",
              "      <td>0.040426</td>\n",
              "      <td>0.015701</td>\n",
              "      <td>0.019937</td>\n",
              "      <td>0.025356</td>\n",
              "      <td>0.019243</td>\n",
              "      <td>0.072358</td>\n",
              "      <td>0.027360</td>\n",
              "      <td>0.031560</td>\n",
              "      <td>0.010518</td>\n",
              "      <td>0.010112</td>\n",
              "      <td>0.015551</td>\n",
              "      <td>0.033980</td>\n",
              "    </tr>\n",
              "  </tbody>\n",
              "</table>\n",
              "<p>25000 rows × 30 columns</p>\n",
              "</div>"
            ],
            "text/plain": [
              "           4         5         11    ...      1590      1687      1724\n",
              "0      0.023923  0.132491  0.013514  ...  0.011247  0.022361  0.054199\n",
              "1      0.029876  0.105808  0.014953  ...  0.008992  0.025865  0.069781\n",
              "2      0.042637  0.089993  0.018745  ...  0.010188  0.017991  0.060574\n",
              "3      0.032842  0.159471  0.017090  ...  0.009650  0.014091  0.024961\n",
              "4      0.025785  0.033486  0.013944  ...  0.019524  0.007319  0.010503\n",
              "...         ...       ...       ...  ...       ...       ...       ...\n",
              "24995  0.022528  0.039955  0.016269  ...  0.008070  0.008949  0.012774\n",
              "24996  0.036257  0.110410  0.025822  ...  0.010909  0.022275  0.049952\n",
              "24997  0.032884  0.060733  0.020027  ...  0.012426  0.011083  0.020351\n",
              "24998  0.024319  0.040981  0.010826  ...  0.015575  0.008682  0.015503\n",
              "24999  0.049417  0.122558  0.017327  ...  0.010112  0.015551  0.033980\n",
              "\n",
              "[25000 rows x 30 columns]"
            ]
          },
          "metadata": {
            "tags": []
          },
          "execution_count": 49
        }
      ]
    },
    {
      "cell_type": "code",
      "metadata": {
        "colab": {
          "base_uri": "https://localhost:8080/"
        },
        "id": "nAAeeYZV5FuT",
        "outputId": "7e70ae67-e6e4-4741-9610-358a921c807a"
      },
      "source": [
        "print(max(tempPred.iloc[:1].values.flatten()))\n",
        "print(list(tempPred.iloc[:1].values.flatten()).index(max(tempPred.iloc[:1].values.flatten())))\n",
        "print(encoder[list(tempPred.iloc[:1].values.flatten()).index(max(tempPred.iloc[:1].values.flatten()))])"
      ],
      "id": "nAAeeYZV5FuT",
      "execution_count": null,
      "outputs": [
        {
          "output_type": "stream",
          "text": [
            "0.15599021\n",
            "16\n",
            "1045\n"
          ],
          "name": "stdout"
        }
      ]
    },
    {
      "cell_type": "markdown",
      "metadata": {
        "id": "1mJKML-QArT7"
      },
      "source": [
        "# **Using Bullet Points as a Feature**"
      ],
      "id": "1mJKML-QArT7"
    },
    {
      "cell_type": "code",
      "metadata": {
        "colab": {
          "base_uri": "https://localhost:8080/",
          "height": 765
        },
        "id": "EKILV4rmAqdI",
        "outputId": "462b5fce-a400-40d2-94fe-87537b8317c6"
      },
      "source": [
        "# !pip install transformers\n",
        "dataset = joblib.load('/content/drive/MyDrive/pickles/V1p37BIG')\n",
        "dataset_original = dataset.copy()\n",
        "# dataset = dataset_original.iloc[:200000, :]"
      ],
      "id": "EKILV4rmAqdI",
      "execution_count": null,
      "outputs": [
        {
          "output_type": "stream",
          "text": [
            "Collecting transformers\n",
            "  Downloading transformers-4.9.1-py3-none-any.whl (2.6 MB)\n",
            "\u001b[K     |████████████████████████████████| 2.6 MB 7.4 MB/s \n",
            "\u001b[?25hCollecting huggingface-hub==0.0.12\n",
            "  Downloading huggingface_hub-0.0.12-py3-none-any.whl (37 kB)\n",
            "Collecting pyyaml>=5.1\n",
            "  Downloading PyYAML-5.4.1-cp37-cp37m-manylinux1_x86_64.whl (636 kB)\n",
            "\u001b[K     |████████████████████████████████| 636 kB 49.1 MB/s \n",
            "\u001b[?25hRequirement already satisfied: numpy>=1.17 in /usr/local/lib/python3.7/dist-packages (from transformers) (1.19.5)\n",
            "Collecting sacremoses\n",
            "  Downloading sacremoses-0.0.45-py3-none-any.whl (895 kB)\n",
            "\u001b[K     |████████████████████████████████| 895 kB 77.0 MB/s \n",
            "\u001b[?25hRequirement already satisfied: requests in /usr/local/lib/python3.7/dist-packages (from transformers) (2.23.0)\n",
            "Requirement already satisfied: packaging in /usr/local/lib/python3.7/dist-packages (from transformers) (21.0)\n",
            "Requirement already satisfied: importlib-metadata in /usr/local/lib/python3.7/dist-packages (from transformers) (4.6.1)\n",
            "Collecting tokenizers<0.11,>=0.10.1\n",
            "  Downloading tokenizers-0.10.3-cp37-cp37m-manylinux_2_5_x86_64.manylinux1_x86_64.manylinux_2_12_x86_64.manylinux2010_x86_64.whl (3.3 MB)\n",
            "\u001b[K     |████████████████████████████████| 3.3 MB 60.2 MB/s \n",
            "\u001b[?25hRequirement already satisfied: filelock in /usr/local/lib/python3.7/dist-packages (from transformers) (3.0.12)\n",
            "Requirement already satisfied: tqdm>=4.27 in /usr/local/lib/python3.7/dist-packages (from transformers) (4.41.1)\n",
            "Requirement already satisfied: regex!=2019.12.17 in /usr/local/lib/python3.7/dist-packages (from transformers) (2019.12.20)\n",
            "Requirement already satisfied: typing-extensions in /usr/local/lib/python3.7/dist-packages (from huggingface-hub==0.0.12->transformers) (3.7.4.3)\n",
            "Requirement already satisfied: pyparsing>=2.0.2 in /usr/local/lib/python3.7/dist-packages (from packaging->transformers) (2.4.7)\n",
            "Requirement already satisfied: zipp>=0.5 in /usr/local/lib/python3.7/dist-packages (from importlib-metadata->transformers) (3.5.0)\n",
            "Requirement already satisfied: certifi>=2017.4.17 in /usr/local/lib/python3.7/dist-packages (from requests->transformers) (2021.5.30)\n",
            "Requirement already satisfied: idna<3,>=2.5 in /usr/local/lib/python3.7/dist-packages (from requests->transformers) (2.10)\n",
            "Requirement already satisfied: chardet<4,>=3.0.2 in /usr/local/lib/python3.7/dist-packages (from requests->transformers) (3.0.4)\n",
            "Requirement already satisfied: urllib3!=1.25.0,!=1.25.1,<1.26,>=1.21.1 in /usr/local/lib/python3.7/dist-packages (from requests->transformers) (1.24.3)\n",
            "Requirement already satisfied: click in /usr/local/lib/python3.7/dist-packages (from sacremoses->transformers) (7.1.2)\n",
            "Requirement already satisfied: six in /usr/local/lib/python3.7/dist-packages (from sacremoses->transformers) (1.15.0)\n",
            "Requirement already satisfied: joblib in /usr/local/lib/python3.7/dist-packages (from sacremoses->transformers) (1.0.1)\n",
            "Installing collected packages: tokenizers, sacremoses, pyyaml, huggingface-hub, transformers\n",
            "  Attempting uninstall: pyyaml\n",
            "    Found existing installation: PyYAML 3.13\n",
            "    Uninstalling PyYAML-3.13:\n",
            "      Successfully uninstalled PyYAML-3.13\n",
            "Successfully installed huggingface-hub-0.0.12 pyyaml-5.4.1 sacremoses-0.0.45 tokenizers-0.10.3 transformers-4.9.1\n"
          ],
          "name": "stdout"
        },
        {
          "output_type": "display_data",
          "data": {
            "application/vnd.colab-display-data+json": {
              "pip_warning": {
                "packages": [
                  "yaml"
                ]
              }
            }
          },
          "metadata": {
            "tags": []
          }
        }
      ]
    },
    {
      "cell_type": "code",
      "metadata": {
        "colab": {
          "base_uri": "https://localhost:8080/",
          "height": 579
        },
        "id": "UKhMUOMcA2kE",
        "outputId": "7aea0a9e-e7f1-4e11-8d6e-c3b0bf51eaaf"
      },
      "source": [
        "dataset = dataset_original.copy()\n",
        "dataset"
      ],
      "id": "UKhMUOMcA2kE",
      "execution_count": null,
      "outputs": [
        {
          "output_type": "execute_result",
          "data": {
            "text/html": [
              "<div>\n",
              "<style scoped>\n",
              "    .dataframe tbody tr th:only-of-type {\n",
              "        vertical-align: middle;\n",
              "    }\n",
              "\n",
              "    .dataframe tbody tr th {\n",
              "        vertical-align: top;\n",
              "    }\n",
              "\n",
              "    .dataframe thead th {\n",
              "        text-align: right;\n",
              "    }\n",
              "</style>\n",
              "<table border=\"1\" class=\"dataframe\">\n",
              "  <thead>\n",
              "    <tr style=\"text-align: right;\">\n",
              "      <th></th>\n",
              "      <th>TITLE</th>\n",
              "      <th>BULLET_POINTS</th>\n",
              "      <th>BRAND</th>\n",
              "      <th>BROWSE_NODE_ID</th>\n",
              "    </tr>\n",
              "  </thead>\n",
              "  <tbody>\n",
              "    <tr>\n",
              "      <th>0</th>\n",
              "      <td>Pete The Cat Bedtime Blues Doll, 14.5 Inch</td>\n",
              "      <td>[Pete the Cat Bedtime Blues plush doll,Based o...</td>\n",
              "      <td>MerryMakers</td>\n",
              "      <td>0</td>\n",
              "    </tr>\n",
              "    <tr>\n",
              "      <th>1</th>\n",
              "      <td>The New Yorker NYHM014 Refrigerator Magnet, 2 ...</td>\n",
              "      <td>[Cat In A Tea Cup by New Yorker cover artist G...</td>\n",
              "      <td>The New Yorker</td>\n",
              "      <td>1</td>\n",
              "    </tr>\n",
              "    <tr>\n",
              "      <th>2</th>\n",
              "      <td>The Ultimate Self-Sufficiency Handbook: A Comp...</td>\n",
              "      <td>Skyhorse Publishing</td>\n",
              "      <td>imusti</td>\n",
              "      <td>2</td>\n",
              "    </tr>\n",
              "    <tr>\n",
              "      <th>3</th>\n",
              "      <td>Amway Nutrilite Kids Chewable Iron Tablets (100)</td>\n",
              "      <td>[Nutrilite Kids,Chewable Iron Tablets,Quantity...</td>\n",
              "      <td>Amway</td>\n",
              "      <td>3</td>\n",
              "    </tr>\n",
              "    <tr>\n",
              "      <th>4</th>\n",
              "      <td>Teacher Planner Company A4 6 Lesson Academic T...</td>\n",
              "      <td>OTHERS</td>\n",
              "      <td>OTHERS</td>\n",
              "      <td>4</td>\n",
              "    </tr>\n",
              "    <tr>\n",
              "      <th>...</th>\n",
              "      <td>...</td>\n",
              "      <td>...</td>\n",
              "      <td>...</td>\n",
              "      <td>...</td>\n",
              "    </tr>\n",
              "    <tr>\n",
              "      <th>2903019</th>\n",
              "      <td>Premium Aviator Sunglasses - HD Polarized (Bri...</td>\n",
              "      <td>[Frame size: Lens height - 56mm, Lens width - ...</td>\n",
              "      <td>Generic</td>\n",
              "      <td>1040</td>\n",
              "    </tr>\n",
              "    <tr>\n",
              "      <th>2903020</th>\n",
              "      <td>Social Distance Stickers - Set of 5 Sticker Sl...</td>\n",
              "      <td>[covid19 safety sticker - set of 5 to maintain...</td>\n",
              "      <td>Generic</td>\n",
              "      <td>15199</td>\n",
              "    </tr>\n",
              "    <tr>\n",
              "      <th>2903021</th>\n",
              "      <td>Torr-to Face Shield PACK OF 5 with Adjustable ...</td>\n",
              "      <td>[350 MICRONS PACK OF 5 PCS,COMPLETE FACE PROTE...</td>\n",
              "      <td>TORR-TO</td>\n",
              "      <td>1044933</td>\n",
              "    </tr>\n",
              "    <tr>\n",
              "      <th>2903022</th>\n",
              "      <td>Type-C to 3.5 MM for Oppo R17 Pro Type-C to 3....</td>\n",
              "      <td>[Indian Connectors: Made for Indian sockets, t...</td>\n",
              "      <td>SHOPBELL</td>\n",
              "      <td>14790</td>\n",
              "    </tr>\n",
              "    <tr>\n",
              "      <th>2903023</th>\n",
              "      <td>KNG Orange Polo Tshirt (38)</td>\n",
              "      <td>OTHERS</td>\n",
              "      <td>KNG</td>\n",
              "      <td>1213</td>\n",
              "    </tr>\n",
              "  </tbody>\n",
              "</table>\n",
              "<p>2796682 rows × 4 columns</p>\n",
              "</div>"
            ],
            "text/plain": [
              "                                                     TITLE  ... BROWSE_NODE_ID\n",
              "0               Pete The Cat Bedtime Blues Doll, 14.5 Inch  ...              0\n",
              "1        The New Yorker NYHM014 Refrigerator Magnet, 2 ...  ...              1\n",
              "2        The Ultimate Self-Sufficiency Handbook: A Comp...  ...              2\n",
              "3         Amway Nutrilite Kids Chewable Iron Tablets (100)  ...              3\n",
              "4        Teacher Planner Company A4 6 Lesson Academic T...  ...              4\n",
              "...                                                    ...  ...            ...\n",
              "2903019  Premium Aviator Sunglasses - HD Polarized (Bri...  ...           1040\n",
              "2903020  Social Distance Stickers - Set of 5 Sticker Sl...  ...          15199\n",
              "2903021  Torr-to Face Shield PACK OF 5 with Adjustable ...  ...        1044933\n",
              "2903022  Type-C to 3.5 MM for Oppo R17 Pro Type-C to 3....  ...          14790\n",
              "2903023                        KNG Orange Polo Tshirt (38)  ...           1213\n",
              "\n",
              "[2796682 rows x 4 columns]"
            ]
          },
          "metadata": {
            "tags": []
          },
          "execution_count": 19
        }
      ]
    },
    {
      "cell_type": "code",
      "metadata": {
        "colab": {
          "base_uri": "https://localhost:8080/",
          "height": 579
        },
        "id": "pdcmOPGdA9zT",
        "outputId": "82a2ddb1-1428-479d-a22c-858cb429546a"
      },
      "source": [
        "#Trimming Down Data\n",
        "mapper = dataset['BROWSE_NODE_ID'].value_counts().head(50).keys()\n",
        "print(len(mapper))\n",
        "\n",
        "dataset = dataset.loc[dataset['BROWSE_NODE_ID'].isin(mapper)]\n",
        "dataset"
      ],
      "id": "pdcmOPGdA9zT",
      "execution_count": null,
      "outputs": [
        {
          "output_type": "stream",
          "text": [
            "50\n"
          ],
          "name": "stdout"
        },
        {
          "output_type": "execute_result",
          "data": {
            "text/html": [
              "<div>\n",
              "<style scoped>\n",
              "    .dataframe tbody tr th:only-of-type {\n",
              "        vertical-align: middle;\n",
              "    }\n",
              "\n",
              "    .dataframe tbody tr th {\n",
              "        vertical-align: top;\n",
              "    }\n",
              "\n",
              "    .dataframe thead th {\n",
              "        text-align: right;\n",
              "    }\n",
              "</style>\n",
              "<table border=\"1\" class=\"dataframe\">\n",
              "  <thead>\n",
              "    <tr style=\"text-align: right;\">\n",
              "      <th></th>\n",
              "      <th>TITLE</th>\n",
              "      <th>BULLET_POINTS</th>\n",
              "      <th>BRAND</th>\n",
              "      <th>BROWSE_NODE_ID</th>\n",
              "    </tr>\n",
              "  </thead>\n",
              "  <tbody>\n",
              "    <tr>\n",
              "      <th>4</th>\n",
              "      <td>Teacher Planner Company A4 6 Lesson Academic T...</td>\n",
              "      <td>OTHERS</td>\n",
              "      <td>OTHERS</td>\n",
              "      <td>4</td>\n",
              "    </tr>\n",
              "    <tr>\n",
              "      <th>5</th>\n",
              "      <td>Men'S Full Sleeve Raglan T-Shirts Denim T-Shir...</td>\n",
              "      <td>[Color: Blue,Sleeve: Full Sleeve,Material: Cot...</td>\n",
              "      <td>Bhavya Enterprise</td>\n",
              "      <td>5</td>\n",
              "    </tr>\n",
              "    <tr>\n",
              "      <th>11</th>\n",
              "      <td>White : Braun KF400-WH Aromaster 10-Cup Coffee...</td>\n",
              "      <td>[Water-dispersal system provides fast, uniform...</td>\n",
              "      <td>Braun</td>\n",
              "      <td>11</td>\n",
              "    </tr>\n",
              "    <tr>\n",
              "      <th>40</th>\n",
              "      <td>Wrangler Men's Regular Fit Jeans (13MWZPW1-463...</td>\n",
              "      <td>DURABLE MATERIALS.  It's no question that this...</td>\n",
              "      <td>Wrangler</td>\n",
              "      <td>40</td>\n",
              "    </tr>\n",
              "    <tr>\n",
              "      <th>47</th>\n",
              "      <td>Susan Howatch</td>\n",
              "      <td>OTHERS</td>\n",
              "      <td>OTHERS</td>\n",
              "      <td>4</td>\n",
              "    </tr>\n",
              "    <tr>\n",
              "      <th>...</th>\n",
              "      <td>...</td>\n",
              "      <td>...</td>\n",
              "      <td>...</td>\n",
              "      <td>...</td>\n",
              "    </tr>\n",
              "    <tr>\n",
              "      <th>2903009</th>\n",
              "      <td>Pawan Textiles Womens Cotton Jaipuri Block Pri...</td>\n",
              "      <td>[Hand Block Print Jaipuri Sanganeri Salwar Sui...</td>\n",
              "      <td>Pawan Textiles</td>\n",
              "      <td>465</td>\n",
              "    </tr>\n",
              "    <tr>\n",
              "      <th>2903015</th>\n",
              "      <td>CRONEX Presents 100% Waterproof Car Body Cover...</td>\n",
              "      <td>[✔Compatible For-Maruti Suzuki Ignis including...</td>\n",
              "      <td>CRONEX</td>\n",
              "      <td>1590</td>\n",
              "    </tr>\n",
              "    <tr>\n",
              "      <th>2903016</th>\n",
              "      <td>Holy Heart Collections Supremo Zig Zag Line Pr...</td>\n",
              "      <td>[Color : Multicolor, Material : Fine Polyester...</td>\n",
              "      <td>Holy Heart Collections</td>\n",
              "      <td>739</td>\n",
              "    </tr>\n",
              "    <tr>\n",
              "      <th>2903019</th>\n",
              "      <td>Premium Aviator Sunglasses - HD Polarized (Bri...</td>\n",
              "      <td>[Frame size: Lens height - 56mm, Lens width - ...</td>\n",
              "      <td>Generic</td>\n",
              "      <td>1040</td>\n",
              "    </tr>\n",
              "    <tr>\n",
              "      <th>2903023</th>\n",
              "      <td>KNG Orange Polo Tshirt (38)</td>\n",
              "      <td>OTHERS</td>\n",
              "      <td>KNG</td>\n",
              "      <td>1213</td>\n",
              "    </tr>\n",
              "  </tbody>\n",
              "</table>\n",
              "<p>1016253 rows × 4 columns</p>\n",
              "</div>"
            ],
            "text/plain": [
              "                                                     TITLE  ... BROWSE_NODE_ID\n",
              "4        Teacher Planner Company A4 6 Lesson Academic T...  ...              4\n",
              "5        Men'S Full Sleeve Raglan T-Shirts Denim T-Shir...  ...              5\n",
              "11       White : Braun KF400-WH Aromaster 10-Cup Coffee...  ...             11\n",
              "40       Wrangler Men's Regular Fit Jeans (13MWZPW1-463...  ...             40\n",
              "47                                           Susan Howatch  ...              4\n",
              "...                                                    ...  ...            ...\n",
              "2903009  Pawan Textiles Womens Cotton Jaipuri Block Pri...  ...            465\n",
              "2903015  CRONEX Presents 100% Waterproof Car Body Cover...  ...           1590\n",
              "2903016  Holy Heart Collections Supremo Zig Zag Line Pr...  ...            739\n",
              "2903019  Premium Aviator Sunglasses - HD Polarized (Bri...  ...           1040\n",
              "2903023                        KNG Orange Polo Tshirt (38)  ...           1213\n",
              "\n",
              "[1016253 rows x 4 columns]"
            ]
          },
          "metadata": {
            "tags": []
          },
          "execution_count": 20
        }
      ]
    },
    {
      "cell_type": "code",
      "metadata": {
        "id": "Yp63ezzV_8-b"
      },
      "source": [
        "dataset['BROWSE_NODE_ID'].value_counts()"
      ],
      "id": "Yp63ezzV_8-b",
      "execution_count": null,
      "outputs": []
    },
    {
      "cell_type": "code",
      "metadata": {
        "id": "hAFBeJON_dGv"
      },
      "source": [
        "dataset = dataset.iloc[:500000, :]"
      ],
      "id": "hAFBeJON_dGv",
      "execution_count": null,
      "outputs": []
    },
    {
      "cell_type": "code",
      "metadata": {
        "colab": {
          "base_uri": "https://localhost:8080/"
        },
        "id": "lwwvICaADSNR",
        "outputId": "06147378-cc2e-47ec-9d29-c194e18c5989"
      },
      "source": [
        "dataset['BULLET_POINTS']"
      ],
      "id": "lwwvICaADSNR",
      "execution_count": null,
      "outputs": [
        {
          "output_type": "execute_result",
          "data": {
            "text/plain": [
              "4                                                     OTHERS\n",
              "5          [Color: Blue,Sleeve: Full Sleeve,Material: Cot...\n",
              "11         [Water-dispersal system provides fast, uniform...\n",
              "40         DURABLE MATERIALS.  It's no question that this...\n",
              "47                                                    OTHERS\n",
              "                                 ...                        \n",
              "1403882    [Our Premium designs for Moto G5 Plus printed ...\n",
              "1403883    [Fabric: Cotton,Style: Regular,Neck Style: Rou...\n",
              "1403886    [Full Glue 5D Tempered Glass: Innovative Desig...\n",
              "1403887    [Color Name: Blue,Material : 100% Cotton,Long ...\n",
              "1403890    [Protect Your Phone from Dust,Scratches and Fu...\n",
              "Name: BULLET_POINTS, Length: 500000, dtype: object"
            ]
          },
          "metadata": {
            "tags": []
          },
          "execution_count": 24
        }
      ]
    },
    {
      "cell_type": "code",
      "metadata": {
        "id": "cOrvdBkjDhxI"
      },
      "source": [
        "from sklearn.model_selection import train_test_split\n",
        "\n",
        "X = dataset['BULLET_POINTS'].values   # independent features\n",
        "y = dataset['BROWSE_NODE_ID'].values\t\t\t\t\t# dependent variable\n",
        "\n",
        "# Choose your test size to split between training and testing sets:\n",
        "# X_train, X_test, y_train, y_test = train_test_split(X, y, test_size=0.25, shuffle = False)\n",
        "# X_valid, X_test, y_valid, y_test = train_test_split(X_test, y_test, test_size=0.5, shuffle = False)\n",
        "\n",
        "X_train, X_test, y_train, y_test = train_test_split(X, y, test_size=0.25, stratify = y)\n",
        "X_valid, X_test, y_valid, y_test = train_test_split(X_test, y_test, test_size=0.5, stratify = y_test)"
      ],
      "id": "cOrvdBkjDhxI",
      "execution_count": null,
      "outputs": []
    },
    {
      "cell_type": "code",
      "metadata": {
        "colab": {
          "base_uri": "https://localhost:8080/",
          "height": 215
        },
        "id": "yWDdhqbcD_gA",
        "outputId": "77d5b519-3efe-42c2-c930-b56cc5c3e331"
      },
      "source": [
        "model_name = \"distilbert-base-uncased\"\n",
        "from transformers import DistilBertTokenizerFast\n",
        "tokenizer = DistilBertTokenizerFast.from_pretrained(model_name)"
      ],
      "id": "yWDdhqbcD_gA",
      "execution_count": null,
      "outputs": [
        {
          "output_type": "display_data",
          "data": {
            "application/vnd.jupyter.widget-view+json": {
              "model_id": "b6ae198b9bdb499794e67bc9d35a0f25",
              "version_major": 2,
              "version_minor": 0
            },
            "text/plain": [
              "HBox(children=(FloatProgress(value=0.0, description='Downloading', max=231508.0, style=ProgressStyle(descripti…"
            ]
          },
          "metadata": {
            "tags": []
          }
        },
        {
          "output_type": "stream",
          "text": [
            "\n"
          ],
          "name": "stdout"
        },
        {
          "output_type": "display_data",
          "data": {
            "application/vnd.jupyter.widget-view+json": {
              "model_id": "99d716c22c584e90ac9f4fcb5c9b51ff",
              "version_major": 2,
              "version_minor": 0
            },
            "text/plain": [
              "HBox(children=(FloatProgress(value=0.0, description='Downloading', max=466062.0, style=ProgressStyle(descripti…"
            ]
          },
          "metadata": {
            "tags": []
          }
        },
        {
          "output_type": "stream",
          "text": [
            "\n"
          ],
          "name": "stdout"
        },
        {
          "output_type": "display_data",
          "data": {
            "application/vnd.jupyter.widget-view+json": {
              "model_id": "688b8943a0e04aa78f2285b5cc41803a",
              "version_major": 2,
              "version_minor": 0
            },
            "text/plain": [
              "HBox(children=(FloatProgress(value=0.0, description='Downloading', max=28.0, style=ProgressStyle(description_w…"
            ]
          },
          "metadata": {
            "tags": []
          }
        },
        {
          "output_type": "stream",
          "text": [
            "\n"
          ],
          "name": "stdout"
        },
        {
          "output_type": "display_data",
          "data": {
            "application/vnd.jupyter.widget-view+json": {
              "model_id": "570c7184a0ea40df97aae81c7b5ea5f5",
              "version_major": 2,
              "version_minor": 0
            },
            "text/plain": [
              "HBox(children=(FloatProgress(value=0.0, description='Downloading', max=442.0, style=ProgressStyle(description_…"
            ]
          },
          "metadata": {
            "tags": []
          }
        },
        {
          "output_type": "stream",
          "text": [
            "\n"
          ],
          "name": "stdout"
        }
      ]
    },
    {
      "cell_type": "code",
      "metadata": {
        "id": "FtZXHZ5PD_gA"
      },
      "source": [
        "# Define the maximum number of words to tokenize (DistilBERT can tokenize up to 512)\n",
        "MAX_LENGTH = 16\n",
        "\n",
        "\n",
        "# Define function to encode text data in batches\n",
        "def batch_encode(tokenizer, texts, batch_size=12800, max_length=MAX_LENGTH):\n",
        "    \"\"\"\"\"\"\"\"\"\n",
        "    A function that encodes a batch of texts and returns the texts'\n",
        "    corresponding encodings and attention masks that are ready to be fed \n",
        "    into a pre-trained transformer model.\n",
        "    \n",
        "    Input:\n",
        "        - tokenizer:   Tokenizer object from the PreTrainedTokenizer Class\n",
        "        - texts:       List of strings where each string represents a text\n",
        "        - batch_size:  Integer controlling number of texts in a batch\n",
        "        - max_length:  Integer controlling max number of words to tokenize in a given text\n",
        "    Output:\n",
        "        - input_ids:       sequence of texts encoded as a tf.Tensor object\n",
        "        - attention_mask:  the texts' attention mask encoded as a tf.Tensor object\n",
        "    \"\"\"\"\"\"\"\"\"\n",
        "    \n",
        "    input_ids = []\n",
        "    attention_mask = []\n",
        "    \n",
        "    for i in range(0, len(texts), batch_size):\n",
        "        batch = texts[i:i+batch_size]\n",
        "        inputs = tokenizer.batch_encode_plus(batch,\n",
        "                                             max_length=max_length,\n",
        "                                             padding='longest', #implements dynamic padding\n",
        "                                             truncation=True,\n",
        "                                             return_attention_mask=True,\n",
        "                                             return_token_type_ids=False\n",
        "                                             )\n",
        "        input_ids.extend(inputs['input_ids'])\n",
        "        attention_mask.extend(inputs['attention_mask'])\n",
        "    \n",
        "    \n",
        "    return tf.convert_to_tensor(input_ids), tf.convert_to_tensor(attention_mask)\n",
        "    # return tf.ragged.constant(input_ids), tf.ragged.constant(attention_mask)\n",
        "    \n",
        "    \n",
        "# Encode X_train\n",
        "X_train_ids, X_train_attention = batch_encode(tokenizer, X_train.tolist())\n",
        "\n",
        "# Encode X_valid\n",
        "X_valid_ids, X_valid_attention = batch_encode(tokenizer, X_valid.tolist())\n",
        "\n",
        "# Encode X_test\n",
        "X_test_ids, X_test_attention = batch_encode(tokenizer, X_test.tolist())"
      ],
      "id": "FtZXHZ5PD_gA",
      "execution_count": null,
      "outputs": []
    },
    {
      "cell_type": "code",
      "metadata": {
        "colab": {
          "base_uri": "https://localhost:8080/",
          "height": 173
        },
        "id": "e0BYqzOiD_gA",
        "outputId": "9e14a3c5-b5b8-4e9a-b036-688750087b7f"
      },
      "source": [
        "from transformers import TFDistilBertModel, DistilBertConfig\n",
        "\n",
        "DISTILBERT_DROPOUT = 0.2\n",
        "DISTILBERT_ATT_DROPOUT = 0.2\n",
        " \n",
        "# Configure DistilBERT's initialization\n",
        "config = DistilBertConfig(dropout=DISTILBERT_DROPOUT, \n",
        "                          attention_dropout=DISTILBERT_ATT_DROPOUT, \n",
        "                          output_hidden_states=True)\n",
        "                          \n",
        "# The bare, pre-trained DistilBERT transformer model outputting raw hidden-states \n",
        "# and without any specific head on top.\n",
        "distilBERT = TFDistilBertModel.from_pretrained('distilbert-base-uncased', config=config)\n",
        "\n",
        "# Make DistilBERT layers untrainable\n",
        "for layer in distilBERT.layers:\n",
        "    layer.trainable = False"
      ],
      "id": "e0BYqzOiD_gA",
      "execution_count": null,
      "outputs": [
        {
          "output_type": "display_data",
          "data": {
            "application/vnd.jupyter.widget-view+json": {
              "model_id": "a53a19b8781c41a2b8c3e642603755ae",
              "version_major": 2,
              "version_minor": 0
            },
            "text/plain": [
              "HBox(children=(FloatProgress(value=0.0, description='Downloading', max=363423424.0, style=ProgressStyle(descri…"
            ]
          },
          "metadata": {
            "tags": []
          }
        },
        {
          "output_type": "stream",
          "text": [
            "\n"
          ],
          "name": "stdout"
        },
        {
          "output_type": "stream",
          "text": [
            "Some layers from the model checkpoint at distilbert-base-uncased were not used when initializing TFDistilBertModel: ['vocab_layer_norm', 'vocab_transform', 'activation_13', 'vocab_projector']\n",
            "- This IS expected if you are initializing TFDistilBertModel from the checkpoint of a model trained on another task or with another architecture (e.g. initializing a BertForSequenceClassification model from a BertForPreTraining model).\n",
            "- This IS NOT expected if you are initializing TFDistilBertModel from the checkpoint of a model that you expect to be exactly identical (initializing a BertForSequenceClassification model from a BertForSequenceClassification model).\n",
            "All the layers of TFDistilBertModel were initialized from the model checkpoint at distilbert-base-uncased.\n",
            "If your task is similar to the task the model of the checkpoint was trained on, you can already use TFDistilBertModel for predictions without further training.\n"
          ],
          "name": "stderr"
        }
      ]
    },
    {
      "cell_type": "code",
      "metadata": {
        "id": "c90SqoeFD_gB"
      },
      "source": [
        "MAX_LENGTH = 16\n",
        "LAYER_DROPOUT = 0.2\n",
        "LEARNING_RATE = 5e-5\n",
        "RANDOM_STATE = 42\n",
        "transformer = distilBERT\n",
        "\n",
        "def build_model(transformer, max_length=MAX_LENGTH):\n",
        "    # \"\"\"\"\"\"\"\"\"\n",
        "    # Template for building a model off of the BERT or DistilBERT architecture\n",
        "    # for a binary classification task.\n",
        "    \n",
        "    # Input:\n",
        "    #   - transformer:  a base Hugging Face transformer model object (BERT or DistilBERT)\n",
        "    #                   with no added classification head attached.\n",
        "    #   - max_length:   integer controlling the maximum number of encoded tokens \n",
        "    #                   in a given sequence.\n",
        "    \n",
        "    # Output:\n",
        "    #   - model:        a compiled tf.keras.Model with added classification layers \n",
        "    #                   on top of the base pre-trained model architecture.\n",
        "    # \"\"\"\"\"\"\"\"\"\"\n",
        "    \n",
        "    # Define weight initializer with a random seed to ensure reproducibility\n",
        "    # weight_initializer = tf.keras.initializers.GlorotNormal(seed=RANDOM_STATE) \n",
        "    \n",
        "    # Define input layers\n",
        "    input_ids_layer = tf.keras.layers.Input(shape=(max_length,), \n",
        "                                            name='input_ids', \n",
        "                                            dtype='int32')\n",
        "    input_attention_layer = tf.keras.layers.Input(shape=(max_length,), \n",
        "                                                  name='input_attention', \n",
        "                                                  dtype='int32')\n",
        "    \n",
        "    # DistilBERT outputs a tuple where the first element at index 0\n",
        "    # represents the hidden-state at the output of the model's last layer.\n",
        "    # It is a tf.Tensor of shape (batch_size, sequence_length, hidden_size=768).\n",
        "    last_hidden_state = transformer([input_ids_layer, input_attention_layer])[0]\n",
        "    \n",
        "    # We only care about DistilBERT's output for the [CLS] token, \n",
        "    # which is located at index 0 of every encoded sequence.  \n",
        "    # Splicing out the [CLS] tokens gives us 2D data.\n",
        "    cls_token = last_hidden_state[:, 0, :]\n",
        "    \n",
        "    ##                                                 ##\n",
        "    ## Define additional dropout and dense layers here ##\n",
        "    ##                                                 ##\n",
        "    \n",
        "    # Define a single node that makes up the output layer (for binary classification)\n",
        "    # model.add(Dense(y_enc.shape[1]))\n",
        "    # model.add(Activation('softmax'))\n",
        "    # outputs = keras.layers.Dense(30,\n",
        "    #                          kernel_initializer=initializer,\n",
        "    #                          activation=activation)(x) \n",
        "    output = tf.keras.layers.Dense(50, \n",
        "                                   activation='softmax',\n",
        "                                  #  kernel_initializer=weight_initializer,  \n",
        "                                  #  kernel_constraint=None,\n",
        "                                   bias_initializer='zeros'\n",
        "                                   )(cls_token)\n",
        "    \n",
        "    # Define the model\n",
        "    model = tf.keras.Model([input_ids_layer, input_attention_layer], output)\n",
        "    # model = tf.keras.Model([input_ids_layer, input_attention_layer])\n",
        "    # model.add(Dense(30, activation='softmax'))\n",
        "    \n",
        "    # Compile the model\n",
        "    model.compile(tf.keras.optimizers.Adam(lr=LEARNING_RATE), \n",
        "                  loss='categorical_crossentropy',\n",
        "                  metrics=['accuracy'])\n",
        "    \n",
        "    return model"
      ],
      "id": "c90SqoeFD_gB",
      "execution_count": null,
      "outputs": []
    },
    {
      "cell_type": "code",
      "metadata": {
        "colab": {
          "base_uri": "https://localhost:8080/"
        },
        "id": "rv1yeP8BD_gB",
        "outputId": "c0715789-6188-43a2-d065-065b655ab0a5"
      },
      "source": [
        "model = build_model(transformer, MAX_LENGTH)"
      ],
      "id": "rv1yeP8BD_gB",
      "execution_count": null,
      "outputs": [
        {
          "output_type": "stream",
          "text": [
            "WARNING:tensorflow:The parameters `output_attentions`, `output_hidden_states` and `use_cache` cannot be updated when calling a model.They have to be set to True/False in the config object (i.e.: `config=XConfig.from_pretrained('name', output_attentions=True)`).\n",
            "WARNING:tensorflow:The parameter `return_dict` cannot be set in graph mode and will always be set to `True`.\n"
          ],
          "name": "stdout"
        }
      ]
    },
    {
      "cell_type": "code",
      "metadata": {
        "id": "WdmoQruiD_gB"
      },
      "source": [
        "# y_train = to_categorical(pd.Series(y_train), 30)\n",
        "# y_test = to_categorical(pd.Series(y_test), 30)\n",
        "temp2 = pd.get_dummies(pd.Series(y_train.copy()))"
      ],
      "id": "WdmoQruiD_gB",
      "execution_count": null,
      "outputs": []
    },
    {
      "cell_type": "code",
      "metadata": {
        "id": "s1PSCKAXD_gB"
      },
      "source": [
        "encoder = {}\n",
        "for i, j in enumerate(temp2.columns):\n",
        "  encoder[i] = j\n",
        "\n",
        "encoder"
      ],
      "id": "s1PSCKAXD_gB",
      "execution_count": null,
      "outputs": []
    },
    {
      "cell_type": "code",
      "metadata": {
        "colab": {
          "base_uri": "https://localhost:8080/"
        },
        "id": "NI2SfqYoD_gC",
        "outputId": "84c75f97-ac78-4145-f517-7a0b58eedeb1"
      },
      "source": [
        "pd.Series(y_train).nunique()"
      ],
      "id": "NI2SfqYoD_gC",
      "execution_count": null,
      "outputs": [
        {
          "output_type": "execute_result",
          "data": {
            "text/plain": [
              "30"
            ]
          },
          "metadata": {
            "tags": []
          },
          "execution_count": 25
        }
      ]
    },
    {
      "cell_type": "code",
      "metadata": {
        "id": "MSblyCvcF_Fk"
      },
      "source": [
        "tf.get_logger().setLevel('INFO')"
      ],
      "id": "MSblyCvcF_Fk",
      "execution_count": null,
      "outputs": []
    },
    {
      "cell_type": "code",
      "metadata": {
        "colab": {
          "base_uri": "https://localhost:8080/"
        },
        "id": "5dewubpyD_gC",
        "outputId": "e61c4e5c-b663-4297-c208-863c7ff2f794"
      },
      "source": [
        "EPOCHS = 20\n",
        "BATCH_SIZE = 1024\n",
        "NUM_STEPS = len(X_train) // BATCH_SIZE\n",
        "\n",
        "# Train the model\n",
        "train_history1 = model.fit(\n",
        "    x = [X_train_ids, X_train_attention],\n",
        "    y = np.array(pd.get_dummies(pd.Series(y_train))),\n",
        "    epochs = EPOCHS,\n",
        "    batch_size = BATCH_SIZE,\n",
        "    steps_per_epoch = NUM_STEPS,\n",
        "    validation_data = ([X_valid_ids, X_valid_attention], np.array(pd.get_dummies(y_valid))),\n",
        "    verbose=1\n",
        ")"
      ],
      "id": "5dewubpyD_gC",
      "execution_count": null,
      "outputs": [
        {
          "output_type": "stream",
          "text": [
            "Epoch 1/20\n",
            "366/366 [==============================] - 229s 625ms/step - loss: 2.3962 - accuracy: 0.3813 - val_loss: 2.2894 - val_accuracy: 0.3934\n",
            "Epoch 2/20\n",
            "366/366 [==============================] - 232s 635ms/step - loss: 2.3536 - accuracy: 0.3913 - val_loss: 2.2460 - val_accuracy: 0.4047\n",
            "Epoch 3/20\n",
            "366/366 [==============================] - 233s 636ms/step - loss: 2.3157 - accuracy: 0.3998 - val_loss: 2.2076 - val_accuracy: 0.4143\n",
            "Epoch 4/20\n",
            "366/366 [==============================] - 233s 636ms/step - loss: 2.2803 - accuracy: 0.4082 - val_loss: 2.1728 - val_accuracy: 0.4243\n",
            "Epoch 5/20\n",
            "366/366 [==============================] - 233s 636ms/step - loss: 2.2501 - accuracy: 0.4155 - val_loss: 2.1405 - val_accuracy: 0.4323\n",
            "Epoch 6/20\n",
            "366/366 [==============================] - 233s 636ms/step - loss: 2.2212 - accuracy: 0.4228 - val_loss: 2.1114 - val_accuracy: 0.4379\n",
            "Epoch 7/20\n",
            "366/366 [==============================] - 233s 636ms/step - loss: 2.1948 - accuracy: 0.4291 - val_loss: 2.0841 - val_accuracy: 0.4456\n",
            "Epoch 8/20\n",
            "366/366 [==============================] - 233s 636ms/step - loss: 2.1729 - accuracy: 0.4339 - val_loss: 2.0604 - val_accuracy: 0.4533\n",
            "Epoch 9/20\n",
            "366/366 [==============================] - 233s 636ms/step - loss: 2.1505 - accuracy: 0.4398 - val_loss: 2.0382 - val_accuracy: 0.4559\n",
            "Epoch 10/20\n",
            "366/366 [==============================] - 233s 636ms/step - loss: 2.1307 - accuracy: 0.4449 - val_loss: 2.0169 - val_accuracy: 0.4649\n",
            "Epoch 11/20\n",
            "366/366 [==============================] - 233s 636ms/step - loss: 2.1132 - accuracy: 0.4485 - val_loss: 1.9966 - val_accuracy: 0.4709\n",
            "Epoch 12/20\n",
            "366/366 [==============================] - 233s 636ms/step - loss: 2.0943 - accuracy: 0.4536 - val_loss: 1.9787 - val_accuracy: 0.4764\n",
            "Epoch 13/20\n",
            "366/366 [==============================] - 233s 636ms/step - loss: 2.0780 - accuracy: 0.4576 - val_loss: 1.9614 - val_accuracy: 0.4803\n",
            "Epoch 14/20\n",
            "366/366 [==============================] - 233s 636ms/step - loss: 2.0623 - accuracy: 0.4620 - val_loss: 1.9459 - val_accuracy: 0.4839\n",
            "Epoch 15/20\n",
            "366/366 [==============================] - 233s 636ms/step - loss: 2.0485 - accuracy: 0.4642 - val_loss: 1.9312 - val_accuracy: 0.4883\n",
            "Epoch 16/20\n",
            "366/366 [==============================] - 233s 636ms/step - loss: 2.0375 - accuracy: 0.4677 - val_loss: 1.9158 - val_accuracy: 0.4928\n",
            "Epoch 17/20\n",
            "366/366 [==============================] - 233s 636ms/step - loss: 2.0246 - accuracy: 0.4701 - val_loss: 1.9028 - val_accuracy: 0.4957\n",
            "Epoch 18/20\n",
            "366/366 [==============================] - 233s 636ms/step - loss: 2.0122 - accuracy: 0.4731 - val_loss: 1.8902 - val_accuracy: 0.5011\n",
            "Epoch 19/20\n",
            "366/366 [==============================] - 233s 636ms/step - loss: 2.0007 - accuracy: 0.4764 - val_loss: 1.8778 - val_accuracy: 0.5027\n",
            "Epoch 20/20\n",
            "366/366 [==============================] - 233s 636ms/step - loss: 1.9903 - accuracy: 0.4786 - val_loss: 1.8665 - val_accuracy: 0.5056\n"
          ],
          "name": "stdout"
        }
      ]
    },
    {
      "cell_type": "code",
      "metadata": {
        "colab": {
          "base_uri": "https://localhost:8080/"
        },
        "id": "Ku1-hhvRD_gC",
        "outputId": "2618ba09-0312-4a4c-823a-017a62e097ee"
      },
      "source": [
        "  model.evaluate([X_valid_ids, X_valid_attention], np.array(pd.get_dummies(y_valid)))"
      ],
      "id": "Ku1-hhvRD_gC",
      "execution_count": null,
      "outputs": [
        {
          "output_type": "stream",
          "text": [
            "1954/1954 [==============================] - 46s 24ms/step - loss: 1.8665 - accuracy: 0.5056\n"
          ],
          "name": "stdout"
        },
        {
          "output_type": "execute_result",
          "data": {
            "text/plain": [
              "[1.8665248155593872, 0.5056480169296265]"
            ]
          },
          "metadata": {
            "tags": []
          },
          "execution_count": 40
        }
      ]
    },
    {
      "cell_type": "code",
      "metadata": {
        "colab": {
          "base_uri": "https://localhost:8080/"
        },
        "id": "Bo1dWwCrD_gC",
        "outputId": "a769e620-c5f7-4430-c6c6-c571d16d0566"
      },
      "source": [
        "model.evaluate([X_test_ids, X_test_attention], np.array(pd.get_dummies(y_test)))"
      ],
      "id": "Bo1dWwCrD_gC",
      "execution_count": null,
      "outputs": [
        {
          "output_type": "stream",
          "text": [
            "1954/1954 [==============================] - 47s 24ms/step - loss: 1.8583 - accuracy: 0.5069\n"
          ],
          "name": "stdout"
        },
        {
          "output_type": "execute_result",
          "data": {
            "text/plain": [
              "[1.8582847118377686, 0.5068960189819336]"
            ]
          },
          "metadata": {
            "tags": []
          },
          "execution_count": 41
        }
      ]
    },
    {
      "cell_type": "code",
      "metadata": {
        "colab": {
          "base_uri": "https://localhost:8080/"
        },
        "id": "Mn6RIvNAeU3d",
        "outputId": "ee50a63c-a4a5-4df2-d517-6c9803a2be23"
      },
      "source": [
        "model.summary()"
      ],
      "id": "Mn6RIvNAeU3d",
      "execution_count": null,
      "outputs": [
        {
          "output_type": "stream",
          "text": [
            "Model: \"model_1\"\n",
            "__________________________________________________________________________________________________\n",
            "Layer (type)                    Output Shape         Param #     Connected to                     \n",
            "==================================================================================================\n",
            "input_ids (InputLayer)          [(None, 16)]         0                                            \n",
            "__________________________________________________________________________________________________\n",
            "input_attention (InputLayer)    [(None, 16)]         0                                            \n",
            "__________________________________________________________________________________________________\n",
            "tf_distil_bert_model (TFDistilB multiple             66362880    input_ids[0][0]                  \n",
            "                                                                 input_attention[0][0]            \n",
            "__________________________________________________________________________________________________\n",
            "tf.__operators__.getitem_1 (Sli (None, 768)          0           tf_distil_bert_model[1][7]       \n",
            "__________________________________________________________________________________________________\n",
            "dense_1 (Dense)                 (None, 50)           38450       tf.__operators__.getitem_1[0][0] \n",
            "==================================================================================================\n",
            "Total params: 66,401,330\n",
            "Trainable params: 38,450\n",
            "Non-trainable params: 66,362,880\n",
            "__________________________________________________________________________________________________\n"
          ],
          "name": "stdout"
        }
      ]
    },
    {
      "cell_type": "code",
      "metadata": {
        "colab": {
          "base_uri": "https://localhost:8080/"
        },
        "id": "bPbwwj4fh-nj",
        "outputId": "532e6623-3d45-4586-9d1b-fbf24d4c8e2a"
      },
      "source": [
        "tf.keras.models.save_model(\n",
        "    model = model, filepath = '/content/drive/MyDrive/Models', overwrite=True, include_optimizer=True, save_format='tf',\n",
        "    signatures=None, options=None, save_traces=False\n",
        ")"
      ],
      "id": "bPbwwj4fh-nj",
      "execution_count": null,
      "outputs": [
        {
          "output_type": "stream",
          "text": [
            "INFO:tensorflow:Assets written to: /content/drive/MyDrive/Models/assets\n"
          ],
          "name": "stdout"
        }
      ]
    },
    {
      "cell_type": "code",
      "metadata": {
        "colab": {
          "base_uri": "https://localhost:8080/"
        },
        "id": "904PU29IlRSD",
        "outputId": "c1086eab-fb19-4e3a-d839-2cd87f904720"
      },
      "source": [
        "model"
      ],
      "id": "904PU29IlRSD",
      "execution_count": null,
      "outputs": [
        {
          "output_type": "execute_result",
          "data": {
            "text/plain": [
              "<tensorflow.python.keras.engine.functional.Functional at 0x7fe30a8d35d0>"
            ]
          },
          "metadata": {
            "tags": []
          },
          "execution_count": 60
        }
      ]
    },
    {
      "cell_type": "code",
      "metadata": {
        "colab": {
          "base_uri": "https://localhost:8080/",
          "height": 1000
        },
        "id": "VqZDXtuhD_gD",
        "outputId": "2ce15fb2-c613-4d9b-c018-0ddf25dacac5"
      },
      "source": [
        "model.predict([X_valid_ids, X_valid_attention])"
      ],
      "id": "VqZDXtuhD_gD",
      "execution_count": null,
      "outputs": [
        {
          "output_type": "error",
          "ename": "StagingError",
          "evalue": "ignored",
          "traceback": [
            "\u001b[0;31m---------------------------------------------------------------------------\u001b[0m",
            "\u001b[0;31mStagingError\u001b[0m                              Traceback (most recent call last)",
            "\u001b[0;32m<ipython-input-62-0e18703817e9>\u001b[0m in \u001b[0;36m<module>\u001b[0;34m()\u001b[0m\n\u001b[0;32m----> 1\u001b[0;31m \u001b[0mmodel\u001b[0m\u001b[0;34m.\u001b[0m\u001b[0mpredict\u001b[0m\u001b[0;34m(\u001b[0m\u001b[0;34m[\u001b[0m\u001b[0mX_valid_ids\u001b[0m\u001b[0;34m,\u001b[0m \u001b[0mX_valid_attention\u001b[0m\u001b[0;34m]\u001b[0m\u001b[0;34m)\u001b[0m\u001b[0;34m\u001b[0m\u001b[0;34m\u001b[0m\u001b[0m\n\u001b[0m",
            "\u001b[0;32m/usr/local/lib/python3.7/dist-packages/tensorflow/python/keras/engine/training.py\u001b[0m in \u001b[0;36mpredict\u001b[0;34m(self, x, batch_size, verbose, steps, callbacks, max_queue_size, workers, use_multiprocessing)\u001b[0m\n\u001b[1;32m   1725\u001b[0m           \u001b[0;32mfor\u001b[0m \u001b[0mstep\u001b[0m \u001b[0;32min\u001b[0m \u001b[0mdata_handler\u001b[0m\u001b[0;34m.\u001b[0m\u001b[0msteps\u001b[0m\u001b[0;34m(\u001b[0m\u001b[0;34m)\u001b[0m\u001b[0;34m:\u001b[0m\u001b[0;34m\u001b[0m\u001b[0;34m\u001b[0m\u001b[0m\n\u001b[1;32m   1726\u001b[0m             \u001b[0mcallbacks\u001b[0m\u001b[0;34m.\u001b[0m\u001b[0mon_predict_batch_begin\u001b[0m\u001b[0;34m(\u001b[0m\u001b[0mstep\u001b[0m\u001b[0;34m)\u001b[0m\u001b[0;34m\u001b[0m\u001b[0;34m\u001b[0m\u001b[0m\n\u001b[0;32m-> 1727\u001b[0;31m             \u001b[0mtmp_batch_outputs\u001b[0m \u001b[0;34m=\u001b[0m \u001b[0mself\u001b[0m\u001b[0;34m.\u001b[0m\u001b[0mpredict_function\u001b[0m\u001b[0;34m(\u001b[0m\u001b[0miterator\u001b[0m\u001b[0;34m)\u001b[0m\u001b[0;34m\u001b[0m\u001b[0;34m\u001b[0m\u001b[0m\n\u001b[0m\u001b[1;32m   1728\u001b[0m             \u001b[0;32mif\u001b[0m \u001b[0mdata_handler\u001b[0m\u001b[0;34m.\u001b[0m\u001b[0mshould_sync\u001b[0m\u001b[0;34m:\u001b[0m\u001b[0;34m\u001b[0m\u001b[0;34m\u001b[0m\u001b[0m\n\u001b[1;32m   1729\u001b[0m               \u001b[0mcontext\u001b[0m\u001b[0;34m.\u001b[0m\u001b[0masync_wait\u001b[0m\u001b[0;34m(\u001b[0m\u001b[0;34m)\u001b[0m\u001b[0;34m\u001b[0m\u001b[0;34m\u001b[0m\u001b[0m\n",
            "\u001b[0;32m/usr/local/lib/python3.7/dist-packages/tensorflow/python/eager/def_function.py\u001b[0m in \u001b[0;36m__call__\u001b[0;34m(self, *args, **kwds)\u001b[0m\n\u001b[1;32m    887\u001b[0m \u001b[0;34m\u001b[0m\u001b[0m\n\u001b[1;32m    888\u001b[0m       \u001b[0;32mwith\u001b[0m \u001b[0mOptionalXlaContext\u001b[0m\u001b[0;34m(\u001b[0m\u001b[0mself\u001b[0m\u001b[0;34m.\u001b[0m\u001b[0m_jit_compile\u001b[0m\u001b[0;34m)\u001b[0m\u001b[0;34m:\u001b[0m\u001b[0;34m\u001b[0m\u001b[0;34m\u001b[0m\u001b[0m\n\u001b[0;32m--> 889\u001b[0;31m         \u001b[0mresult\u001b[0m \u001b[0;34m=\u001b[0m \u001b[0mself\u001b[0m\u001b[0;34m.\u001b[0m\u001b[0m_call\u001b[0m\u001b[0;34m(\u001b[0m\u001b[0;34m*\u001b[0m\u001b[0margs\u001b[0m\u001b[0;34m,\u001b[0m \u001b[0;34m**\u001b[0m\u001b[0mkwds\u001b[0m\u001b[0;34m)\u001b[0m\u001b[0;34m\u001b[0m\u001b[0;34m\u001b[0m\u001b[0m\n\u001b[0m\u001b[1;32m    890\u001b[0m \u001b[0;34m\u001b[0m\u001b[0m\n\u001b[1;32m    891\u001b[0m       \u001b[0mnew_tracing_count\u001b[0m \u001b[0;34m=\u001b[0m \u001b[0mself\u001b[0m\u001b[0;34m.\u001b[0m\u001b[0mexperimental_get_tracing_count\u001b[0m\u001b[0;34m(\u001b[0m\u001b[0;34m)\u001b[0m\u001b[0;34m\u001b[0m\u001b[0;34m\u001b[0m\u001b[0m\n",
            "\u001b[0;32m/usr/local/lib/python3.7/dist-packages/tensorflow/python/eager/def_function.py\u001b[0m in \u001b[0;36m_call\u001b[0;34m(self, *args, **kwds)\u001b[0m\n\u001b[1;32m    922\u001b[0m       \u001b[0;31m# In this case we have not created variables on the first call. So we can\u001b[0m\u001b[0;34m\u001b[0m\u001b[0;34m\u001b[0m\u001b[0;34m\u001b[0m\u001b[0m\n\u001b[1;32m    923\u001b[0m       \u001b[0;31m# run the first trace but we should fail if variables are created.\u001b[0m\u001b[0;34m\u001b[0m\u001b[0;34m\u001b[0m\u001b[0;34m\u001b[0m\u001b[0m\n\u001b[0;32m--> 924\u001b[0;31m       \u001b[0mresults\u001b[0m \u001b[0;34m=\u001b[0m \u001b[0mself\u001b[0m\u001b[0;34m.\u001b[0m\u001b[0m_stateful_fn\u001b[0m\u001b[0;34m(\u001b[0m\u001b[0;34m*\u001b[0m\u001b[0margs\u001b[0m\u001b[0;34m,\u001b[0m \u001b[0;34m**\u001b[0m\u001b[0mkwds\u001b[0m\u001b[0;34m)\u001b[0m\u001b[0;34m\u001b[0m\u001b[0;34m\u001b[0m\u001b[0m\n\u001b[0m\u001b[1;32m    925\u001b[0m       \u001b[0;32mif\u001b[0m \u001b[0mself\u001b[0m\u001b[0;34m.\u001b[0m\u001b[0m_created_variables\u001b[0m\u001b[0;34m:\u001b[0m\u001b[0;34m\u001b[0m\u001b[0;34m\u001b[0m\u001b[0m\n\u001b[1;32m    926\u001b[0m         raise ValueError(\"Creating variables on a non-first call to a function\"\n",
            "\u001b[0;32m/usr/local/lib/python3.7/dist-packages/tensorflow/python/eager/function.py\u001b[0m in \u001b[0;36m__call__\u001b[0;34m(self, *args, **kwargs)\u001b[0m\n\u001b[1;32m   3020\u001b[0m     \u001b[0;32mwith\u001b[0m \u001b[0mself\u001b[0m\u001b[0;34m.\u001b[0m\u001b[0m_lock\u001b[0m\u001b[0;34m:\u001b[0m\u001b[0;34m\u001b[0m\u001b[0;34m\u001b[0m\u001b[0m\n\u001b[1;32m   3021\u001b[0m       (graph_function,\n\u001b[0;32m-> 3022\u001b[0;31m        filtered_flat_args) = self._maybe_define_function(args, kwargs)\n\u001b[0m\u001b[1;32m   3023\u001b[0m     return graph_function._call_flat(\n\u001b[1;32m   3024\u001b[0m         filtered_flat_args, captured_inputs=graph_function.captured_inputs)  # pylint: disable=protected-access\n",
            "\u001b[0;32m/usr/local/lib/python3.7/dist-packages/tensorflow/python/eager/function.py\u001b[0m in \u001b[0;36m_maybe_define_function\u001b[0;34m(self, args, kwargs)\u001b[0m\n\u001b[1;32m   3439\u001b[0m               call_context_key in self._function_cache.missed):\n\u001b[1;32m   3440\u001b[0m             return self._define_function_with_shape_relaxation(\n\u001b[0;32m-> 3441\u001b[0;31m                 args, kwargs, flat_args, filtered_flat_args, cache_key_context)\n\u001b[0m\u001b[1;32m   3442\u001b[0m \u001b[0;34m\u001b[0m\u001b[0m\n\u001b[1;32m   3443\u001b[0m           \u001b[0mself\u001b[0m\u001b[0;34m.\u001b[0m\u001b[0m_function_cache\u001b[0m\u001b[0;34m.\u001b[0m\u001b[0mmissed\u001b[0m\u001b[0;34m.\u001b[0m\u001b[0madd\u001b[0m\u001b[0;34m(\u001b[0m\u001b[0mcall_context_key\u001b[0m\u001b[0;34m)\u001b[0m\u001b[0;34m\u001b[0m\u001b[0;34m\u001b[0m\u001b[0m\n",
            "\u001b[0;32m/usr/local/lib/python3.7/dist-packages/tensorflow/python/eager/function.py\u001b[0m in \u001b[0;36m_define_function_with_shape_relaxation\u001b[0;34m(self, args, kwargs, flat_args, filtered_flat_args, cache_key_context)\u001b[0m\n\u001b[1;32m   3361\u001b[0m \u001b[0;34m\u001b[0m\u001b[0m\n\u001b[1;32m   3362\u001b[0m     graph_function = self._create_graph_function(\n\u001b[0;32m-> 3363\u001b[0;31m         args, kwargs, override_flat_arg_shapes=relaxed_arg_shapes)\n\u001b[0m\u001b[1;32m   3364\u001b[0m     \u001b[0mself\u001b[0m\u001b[0;34m.\u001b[0m\u001b[0m_function_cache\u001b[0m\u001b[0;34m.\u001b[0m\u001b[0marg_relaxed\u001b[0m\u001b[0;34m[\u001b[0m\u001b[0mrank_only_cache_key\u001b[0m\u001b[0;34m]\u001b[0m \u001b[0;34m=\u001b[0m \u001b[0mgraph_function\u001b[0m\u001b[0;34m\u001b[0m\u001b[0;34m\u001b[0m\u001b[0m\n\u001b[1;32m   3365\u001b[0m \u001b[0;34m\u001b[0m\u001b[0m\n",
            "\u001b[0;32m/usr/local/lib/python3.7/dist-packages/tensorflow/python/eager/function.py\u001b[0m in \u001b[0;36m_create_graph_function\u001b[0;34m(self, args, kwargs, override_flat_arg_shapes)\u001b[0m\n\u001b[1;32m   3287\u001b[0m             \u001b[0marg_names\u001b[0m\u001b[0;34m=\u001b[0m\u001b[0marg_names\u001b[0m\u001b[0;34m,\u001b[0m\u001b[0;34m\u001b[0m\u001b[0;34m\u001b[0m\u001b[0m\n\u001b[1;32m   3288\u001b[0m             \u001b[0moverride_flat_arg_shapes\u001b[0m\u001b[0;34m=\u001b[0m\u001b[0moverride_flat_arg_shapes\u001b[0m\u001b[0;34m,\u001b[0m\u001b[0;34m\u001b[0m\u001b[0;34m\u001b[0m\u001b[0m\n\u001b[0;32m-> 3289\u001b[0;31m             capture_by_value=self._capture_by_value),\n\u001b[0m\u001b[1;32m   3290\u001b[0m         \u001b[0mself\u001b[0m\u001b[0;34m.\u001b[0m\u001b[0m_function_attributes\u001b[0m\u001b[0;34m,\u001b[0m\u001b[0;34m\u001b[0m\u001b[0;34m\u001b[0m\u001b[0m\n\u001b[1;32m   3291\u001b[0m         \u001b[0mfunction_spec\u001b[0m\u001b[0;34m=\u001b[0m\u001b[0mself\u001b[0m\u001b[0;34m.\u001b[0m\u001b[0mfunction_spec\u001b[0m\u001b[0;34m,\u001b[0m\u001b[0;34m\u001b[0m\u001b[0;34m\u001b[0m\u001b[0m\n",
            "\u001b[0;32m/usr/local/lib/python3.7/dist-packages/tensorflow/python/framework/func_graph.py\u001b[0m in \u001b[0;36mfunc_graph_from_py_func\u001b[0;34m(name, python_func, args, kwargs, signature, func_graph, autograph, autograph_options, add_control_dependencies, arg_names, op_return_value, collections, capture_by_value, override_flat_arg_shapes)\u001b[0m\n\u001b[1;32m    997\u001b[0m         \u001b[0m_\u001b[0m\u001b[0;34m,\u001b[0m \u001b[0moriginal_func\u001b[0m \u001b[0;34m=\u001b[0m \u001b[0mtf_decorator\u001b[0m\u001b[0;34m.\u001b[0m\u001b[0munwrap\u001b[0m\u001b[0;34m(\u001b[0m\u001b[0mpython_func\u001b[0m\u001b[0;34m)\u001b[0m\u001b[0;34m\u001b[0m\u001b[0;34m\u001b[0m\u001b[0m\n\u001b[1;32m    998\u001b[0m \u001b[0;34m\u001b[0m\u001b[0m\n\u001b[0;32m--> 999\u001b[0;31m       \u001b[0mfunc_outputs\u001b[0m \u001b[0;34m=\u001b[0m \u001b[0mpython_func\u001b[0m\u001b[0;34m(\u001b[0m\u001b[0;34m*\u001b[0m\u001b[0mfunc_args\u001b[0m\u001b[0;34m,\u001b[0m \u001b[0;34m**\u001b[0m\u001b[0mfunc_kwargs\u001b[0m\u001b[0;34m)\u001b[0m\u001b[0;34m\u001b[0m\u001b[0;34m\u001b[0m\u001b[0m\n\u001b[0m\u001b[1;32m   1000\u001b[0m \u001b[0;34m\u001b[0m\u001b[0m\n\u001b[1;32m   1001\u001b[0m       \u001b[0;31m# invariant: `func_outputs` contains only Tensors, CompositeTensors,\u001b[0m\u001b[0;34m\u001b[0m\u001b[0;34m\u001b[0m\u001b[0;34m\u001b[0m\u001b[0m\n",
            "\u001b[0;32m/usr/local/lib/python3.7/dist-packages/tensorflow/python/eager/def_function.py\u001b[0m in \u001b[0;36mwrapped_fn\u001b[0;34m(*args, **kwds)\u001b[0m\n\u001b[1;32m    670\u001b[0m         \u001b[0;31m# the function a weak reference to itself to avoid a reference cycle.\u001b[0m\u001b[0;34m\u001b[0m\u001b[0;34m\u001b[0m\u001b[0;34m\u001b[0m\u001b[0m\n\u001b[1;32m    671\u001b[0m         \u001b[0;32mwith\u001b[0m \u001b[0mOptionalXlaContext\u001b[0m\u001b[0;34m(\u001b[0m\u001b[0mcompile_with_xla\u001b[0m\u001b[0;34m)\u001b[0m\u001b[0;34m:\u001b[0m\u001b[0;34m\u001b[0m\u001b[0;34m\u001b[0m\u001b[0m\n\u001b[0;32m--> 672\u001b[0;31m           \u001b[0mout\u001b[0m \u001b[0;34m=\u001b[0m \u001b[0mweak_wrapped_fn\u001b[0m\u001b[0;34m(\u001b[0m\u001b[0;34m)\u001b[0m\u001b[0;34m.\u001b[0m\u001b[0m__wrapped__\u001b[0m\u001b[0;34m(\u001b[0m\u001b[0;34m*\u001b[0m\u001b[0margs\u001b[0m\u001b[0;34m,\u001b[0m \u001b[0;34m**\u001b[0m\u001b[0mkwds\u001b[0m\u001b[0;34m)\u001b[0m\u001b[0;34m\u001b[0m\u001b[0;34m\u001b[0m\u001b[0m\n\u001b[0m\u001b[1;32m    673\u001b[0m         \u001b[0;32mreturn\u001b[0m \u001b[0mout\u001b[0m\u001b[0;34m\u001b[0m\u001b[0;34m\u001b[0m\u001b[0m\n\u001b[1;32m    674\u001b[0m \u001b[0;34m\u001b[0m\u001b[0m\n",
            "\u001b[0;32m/usr/local/lib/python3.7/dist-packages/tensorflow/python/framework/func_graph.py\u001b[0m in \u001b[0;36mwrapper\u001b[0;34m(*args, **kwargs)\u001b[0m\n\u001b[1;32m    984\u001b[0m           \u001b[0;32mexcept\u001b[0m \u001b[0mException\u001b[0m \u001b[0;32mas\u001b[0m \u001b[0me\u001b[0m\u001b[0;34m:\u001b[0m  \u001b[0;31m# pylint:disable=broad-except\u001b[0m\u001b[0;34m\u001b[0m\u001b[0;34m\u001b[0m\u001b[0m\n\u001b[1;32m    985\u001b[0m             \u001b[0;32mif\u001b[0m \u001b[0mhasattr\u001b[0m\u001b[0;34m(\u001b[0m\u001b[0me\u001b[0m\u001b[0;34m,\u001b[0m \u001b[0;34m\"ag_error_metadata\"\u001b[0m\u001b[0;34m)\u001b[0m\u001b[0;34m:\u001b[0m\u001b[0;34m\u001b[0m\u001b[0;34m\u001b[0m\u001b[0m\n\u001b[0;32m--> 986\u001b[0;31m               \u001b[0;32mraise\u001b[0m \u001b[0me\u001b[0m\u001b[0;34m.\u001b[0m\u001b[0mag_error_metadata\u001b[0m\u001b[0;34m.\u001b[0m\u001b[0mto_exception\u001b[0m\u001b[0;34m(\u001b[0m\u001b[0me\u001b[0m\u001b[0;34m)\u001b[0m\u001b[0;34m\u001b[0m\u001b[0;34m\u001b[0m\u001b[0m\n\u001b[0m\u001b[1;32m    987\u001b[0m             \u001b[0;32melse\u001b[0m\u001b[0;34m:\u001b[0m\u001b[0;34m\u001b[0m\u001b[0;34m\u001b[0m\u001b[0m\n\u001b[1;32m    988\u001b[0m               \u001b[0;32mraise\u001b[0m\u001b[0;34m\u001b[0m\u001b[0;34m\u001b[0m\u001b[0m\n",
            "\u001b[0;31mStagingError\u001b[0m: in user code:\n\n    /usr/local/lib/python3.7/dist-packages/tensorflow/python/keras/engine/training.py:1569 predict_function  *\n        return step_function(self, iterator)\n    /usr/local/lib/python3.7/dist-packages/tensorflow/python/keras/engine/training.py:1559 step_function  **\n        outputs = model.distribute_strategy.run(run_step, args=(data,))\n    /usr/local/lib/python3.7/dist-packages/tensorflow/python/distribute/distribute_lib.py:1285 run\n        return self._extended.call_for_each_replica(fn, args=args, kwargs=kwargs)\n    /usr/local/lib/python3.7/dist-packages/tensorflow/python/distribute/distribute_lib.py:2833 call_for_each_replica\n        return self._call_for_each_replica(fn, args, kwargs)\n    /usr/local/lib/python3.7/dist-packages/tensorflow/python/distribute/distribute_lib.py:3608 _call_for_each_replica\n        return fn(*args, **kwargs)\n    /usr/local/lib/python3.7/dist-packages/tensorflow/python/keras/engine/training.py:1552 run_step  **\n        outputs = model.predict_step(data)\n    /usr/local/lib/python3.7/dist-packages/tensorflow/python/keras/engine/training.py:1525 predict_step\n        return self(x, training=False)\n    /usr/local/lib/python3.7/dist-packages/tensorflow/python/keras/engine/base_layer.py:1030 __call__\n        outputs = call_fn(inputs, *args, **kwargs)\n    /usr/local/lib/python3.7/dist-packages/tensorflow/python/keras/engine/functional.py:421 call\n        inputs, training=training, mask=mask)\n    /usr/local/lib/python3.7/dist-packages/tensorflow/python/keras/engine/functional.py:556 _run_internal_graph\n        outputs = node.layer(*args, **kwargs)\n    /usr/local/lib/python3.7/dist-packages/tensorflow/python/keras/engine/base_layer.py:1030 __call__\n        outputs = call_fn(inputs, *args, **kwargs)\n    /usr/local/lib/python3.7/dist-packages/tensorflow/python/keras/saving/saved_model/utils.py:69 return_outputs_and_add_losses\n        outputs, losses = fn(*args, **kwargs)\n    /usr/local/lib/python3.7/dist-packages/tensorflow/python/keras/saving/saved_model/utils.py:167 wrap_with_training_arg\n        lambda: replace_training_and_call(False))\n    /usr/local/lib/python3.7/dist-packages/tensorflow/python/keras/utils/control_flow_util.py:110 smart_cond\n        pred, true_fn=true_fn, false_fn=false_fn, name=name)\n    /usr/local/lib/python3.7/dist-packages/tensorflow/python/framework/smart_cond.py:56 smart_cond\n        return false_fn()\n    /usr/local/lib/python3.7/dist-packages/tensorflow/python/keras/saving/saved_model/utils.py:167 <lambda>\n        lambda: replace_training_and_call(False))\n    /usr/local/lib/python3.7/dist-packages/tensorflow/python/keras/saving/saved_model/utils.py:163 replace_training_and_call\n        return wrapped_call(*args, **kwargs)\n    /usr/local/lib/python3.7/dist-packages/tensorflow/python/keras/saving/saved_model/save_impl.py:639 __call__\n        return self.wrapped_call(*args, **kwargs)\n    /usr/local/lib/python3.7/dist-packages/tensorflow/python/eager/def_function.py:889 __call__\n        result = self._call(*args, **kwds)\n    /usr/local/lib/python3.7/dist-packages/tensorflow/python/eager/def_function.py:924 _call\n        results = self._stateful_fn(*args, **kwds)\n    /usr/local/lib/python3.7/dist-packages/tensorflow/python/eager/function.py:3022 __call__\n        filtered_flat_args) = self._maybe_define_function(args, kwargs)\n    /usr/local/lib/python3.7/dist-packages/tensorflow/python/eager/function.py:3444 _maybe_define_function\n        graph_function = self._create_graph_function(args, kwargs)\n    /usr/local/lib/python3.7/dist-packages/tensorflow/python/eager/function.py:3289 _create_graph_function\n        capture_by_value=self._capture_by_value),\n    /usr/local/lib/python3.7/dist-packages/tensorflow/python/framework/func_graph.py:999 func_graph_from_py_func\n        func_outputs = python_func(*func_args, **func_kwargs)\n    /usr/local/lib/python3.7/dist-packages/tensorflow/python/eager/def_function.py:672 wrapped_fn\n        out = weak_wrapped_fn().__wrapped__(*args, **kwds)\n    /usr/local/lib/python3.7/dist-packages/tensorflow/python/keras/saving/saved_model/save_impl.py:599 wrapper\n        ret = method(*args, **kwargs)\n    /usr/local/lib/python3.7/dist-packages/tensorflow/python/keras/saving/saved_model/utils.py:167 wrap_with_training_arg\n        lambda: replace_training_and_call(False))\n    /usr/local/lib/python3.7/dist-packages/tensorflow/python/keras/utils/control_flow_util.py:110 smart_cond\n        pred, true_fn=true_fn, false_fn=false_fn, name=name)\n    /usr/local/lib/python3.7/dist-packages/tensorflow/python/framework/smart_cond.py:56 smart_cond\n        return false_fn()\n    /usr/local/lib/python3.7/dist-packages/tensorflow/python/keras/saving/saved_model/utils.py:167 <lambda>\n        lambda: replace_training_and_call(False))\n    /usr/local/lib/python3.7/dist-packages/tensorflow/python/keras/saving/saved_model/utils.py:163 replace_training_and_call\n        return wrapped_call(*args, **kwargs)\n    /usr/local/lib/python3.7/dist-packages/tensorflow/python/keras/saving/saved_model/save_impl.py:663 call_and_return_conditional_losses\n        call_output = layer_call(*args, **kwargs)\n    /usr/local/lib/python3.7/dist-packages/transformers/models/distilbert/modeling_tf_distilbert.py:574 call\n        kwargs_call=kwargs,\n    /usr/local/lib/python3.7/dist-packages/transformers/modeling_tf_utils.py:378 input_processing\n        output[parameter_names[i]] = input\n\n    IndexError: list index out of range\n"
          ]
        }
      ]
    },
    {
      "cell_type": "code",
      "metadata": {
        "id": "3zTPAiI_D_gD"
      },
      "source": [
        ""
      ],
      "id": "3zTPAiI_D_gD",
      "execution_count": null,
      "outputs": []
    },
    {
      "cell_type": "code",
      "metadata": {
        "colab": {
          "base_uri": "https://localhost:8080/",
          "height": 439
        },
        "id": "v4spp8_ED_gD",
        "outputId": "0ef2ea09-9d1d-485d-ba98-739b7e180f4b"
      },
      "source": [
        "tempPred = pd.DataFrame(pred)\n",
        "tempPred"
      ],
      "id": "v4spp8_ED_gD",
      "execution_count": null,
      "outputs": [
        {
          "output_type": "execute_result",
          "data": {
            "text/html": [
              "<div>\n",
              "<style scoped>\n",
              "    .dataframe tbody tr th:only-of-type {\n",
              "        vertical-align: middle;\n",
              "    }\n",
              "\n",
              "    .dataframe tbody tr th {\n",
              "        vertical-align: top;\n",
              "    }\n",
              "\n",
              "    .dataframe thead th {\n",
              "        text-align: right;\n",
              "    }\n",
              "</style>\n",
              "<table border=\"1\" class=\"dataframe\">\n",
              "  <thead>\n",
              "    <tr style=\"text-align: right;\">\n",
              "      <th></th>\n",
              "      <th>0</th>\n",
              "      <th>1</th>\n",
              "      <th>2</th>\n",
              "      <th>3</th>\n",
              "      <th>4</th>\n",
              "      <th>5</th>\n",
              "      <th>6</th>\n",
              "      <th>7</th>\n",
              "      <th>8</th>\n",
              "      <th>9</th>\n",
              "      <th>10</th>\n",
              "      <th>11</th>\n",
              "      <th>12</th>\n",
              "      <th>13</th>\n",
              "      <th>14</th>\n",
              "      <th>15</th>\n",
              "      <th>16</th>\n",
              "      <th>17</th>\n",
              "      <th>18</th>\n",
              "      <th>19</th>\n",
              "      <th>20</th>\n",
              "      <th>21</th>\n",
              "      <th>22</th>\n",
              "      <th>23</th>\n",
              "      <th>24</th>\n",
              "      <th>25</th>\n",
              "      <th>26</th>\n",
              "      <th>27</th>\n",
              "      <th>28</th>\n",
              "      <th>29</th>\n",
              "    </tr>\n",
              "  </thead>\n",
              "  <tbody>\n",
              "    <tr>\n",
              "      <th>0</th>\n",
              "      <td>0.023923</td>\n",
              "      <td>0.132491</td>\n",
              "      <td>0.013514</td>\n",
              "      <td>0.019273</td>\n",
              "      <td>0.009867</td>\n",
              "      <td>0.021008</td>\n",
              "      <td>0.015440</td>\n",
              "      <td>0.022611</td>\n",
              "      <td>0.013162</td>\n",
              "      <td>0.014799</td>\n",
              "      <td>0.026106</td>\n",
              "      <td>0.024532</td>\n",
              "      <td>0.038803</td>\n",
              "      <td>0.015088</td>\n",
              "      <td>0.016503</td>\n",
              "      <td>0.062014</td>\n",
              "      <td>0.155990</td>\n",
              "      <td>0.031444</td>\n",
              "      <td>0.054619</td>\n",
              "      <td>0.013503</td>\n",
              "      <td>0.020925</td>\n",
              "      <td>0.028365</td>\n",
              "      <td>0.017016</td>\n",
              "      <td>0.067521</td>\n",
              "      <td>0.014472</td>\n",
              "      <td>0.027451</td>\n",
              "      <td>0.011753</td>\n",
              "      <td>0.011247</td>\n",
              "      <td>0.022361</td>\n",
              "      <td>0.054199</td>\n",
              "    </tr>\n",
              "    <tr>\n",
              "      <th>1</th>\n",
              "      <td>0.029876</td>\n",
              "      <td>0.105808</td>\n",
              "      <td>0.014953</td>\n",
              "      <td>0.017558</td>\n",
              "      <td>0.010855</td>\n",
              "      <td>0.020970</td>\n",
              "      <td>0.014603</td>\n",
              "      <td>0.020567</td>\n",
              "      <td>0.016121</td>\n",
              "      <td>0.019447</td>\n",
              "      <td>0.023879</td>\n",
              "      <td>0.024578</td>\n",
              "      <td>0.033095</td>\n",
              "      <td>0.024476</td>\n",
              "      <td>0.015604</td>\n",
              "      <td>0.047480</td>\n",
              "      <td>0.154025</td>\n",
              "      <td>0.035966</td>\n",
              "      <td>0.071292</td>\n",
              "      <td>0.013566</td>\n",
              "      <td>0.023584</td>\n",
              "      <td>0.031429</td>\n",
              "      <td>0.015793</td>\n",
              "      <td>0.060330</td>\n",
              "      <td>0.013575</td>\n",
              "      <td>0.025139</td>\n",
              "      <td>0.010793</td>\n",
              "      <td>0.008992</td>\n",
              "      <td>0.025865</td>\n",
              "      <td>0.069781</td>\n",
              "    </tr>\n",
              "    <tr>\n",
              "      <th>2</th>\n",
              "      <td>0.042637</td>\n",
              "      <td>0.089993</td>\n",
              "      <td>0.018745</td>\n",
              "      <td>0.014072</td>\n",
              "      <td>0.011415</td>\n",
              "      <td>0.021520</td>\n",
              "      <td>0.016180</td>\n",
              "      <td>0.020600</td>\n",
              "      <td>0.016186</td>\n",
              "      <td>0.012538</td>\n",
              "      <td>0.033193</td>\n",
              "      <td>0.021981</td>\n",
              "      <td>0.039027</td>\n",
              "      <td>0.025663</td>\n",
              "      <td>0.013635</td>\n",
              "      <td>0.043400</td>\n",
              "      <td>0.137569</td>\n",
              "      <td>0.038397</td>\n",
              "      <td>0.064716</td>\n",
              "      <td>0.016186</td>\n",
              "      <td>0.023958</td>\n",
              "      <td>0.033620</td>\n",
              "      <td>0.018616</td>\n",
              "      <td>0.073781</td>\n",
              "      <td>0.020728</td>\n",
              "      <td>0.034055</td>\n",
              "      <td>0.008836</td>\n",
              "      <td>0.010188</td>\n",
              "      <td>0.017991</td>\n",
              "      <td>0.060574</td>\n",
              "    </tr>\n",
              "    <tr>\n",
              "      <th>3</th>\n",
              "      <td>0.032842</td>\n",
              "      <td>0.159471</td>\n",
              "      <td>0.017090</td>\n",
              "      <td>0.022189</td>\n",
              "      <td>0.013670</td>\n",
              "      <td>0.020169</td>\n",
              "      <td>0.014613</td>\n",
              "      <td>0.017903</td>\n",
              "      <td>0.013779</td>\n",
              "      <td>0.009020</td>\n",
              "      <td>0.027917</td>\n",
              "      <td>0.014774</td>\n",
              "      <td>0.033562</td>\n",
              "      <td>0.010656</td>\n",
              "      <td>0.021021</td>\n",
              "      <td>0.077997</td>\n",
              "      <td>0.160430</td>\n",
              "      <td>0.040344</td>\n",
              "      <td>0.043988</td>\n",
              "      <td>0.014432</td>\n",
              "      <td>0.018923</td>\n",
              "      <td>0.029695</td>\n",
              "      <td>0.015162</td>\n",
              "      <td>0.068178</td>\n",
              "      <td>0.017847</td>\n",
              "      <td>0.027078</td>\n",
              "      <td>0.008553</td>\n",
              "      <td>0.009650</td>\n",
              "      <td>0.014091</td>\n",
              "      <td>0.024961</td>\n",
              "    </tr>\n",
              "    <tr>\n",
              "      <th>4</th>\n",
              "      <td>0.025785</td>\n",
              "      <td>0.033486</td>\n",
              "      <td>0.013944</td>\n",
              "      <td>0.008872</td>\n",
              "      <td>0.007692</td>\n",
              "      <td>0.014400</td>\n",
              "      <td>0.009847</td>\n",
              "      <td>0.100938</td>\n",
              "      <td>0.007413</td>\n",
              "      <td>0.007209</td>\n",
              "      <td>0.015116</td>\n",
              "      <td>0.014640</td>\n",
              "      <td>0.019630</td>\n",
              "      <td>0.008774</td>\n",
              "      <td>0.007402</td>\n",
              "      <td>0.013464</td>\n",
              "      <td>0.487447</td>\n",
              "      <td>0.008286</td>\n",
              "      <td>0.015253</td>\n",
              "      <td>0.014354</td>\n",
              "      <td>0.010892</td>\n",
              "      <td>0.019827</td>\n",
              "      <td>0.007898</td>\n",
              "      <td>0.023632</td>\n",
              "      <td>0.004859</td>\n",
              "      <td>0.055392</td>\n",
              "      <td>0.006202</td>\n",
              "      <td>0.019524</td>\n",
              "      <td>0.007319</td>\n",
              "      <td>0.010503</td>\n",
              "    </tr>\n",
              "    <tr>\n",
              "      <th>...</th>\n",
              "      <td>...</td>\n",
              "      <td>...</td>\n",
              "      <td>...</td>\n",
              "      <td>...</td>\n",
              "      <td>...</td>\n",
              "      <td>...</td>\n",
              "      <td>...</td>\n",
              "      <td>...</td>\n",
              "      <td>...</td>\n",
              "      <td>...</td>\n",
              "      <td>...</td>\n",
              "      <td>...</td>\n",
              "      <td>...</td>\n",
              "      <td>...</td>\n",
              "      <td>...</td>\n",
              "      <td>...</td>\n",
              "      <td>...</td>\n",
              "      <td>...</td>\n",
              "      <td>...</td>\n",
              "      <td>...</td>\n",
              "      <td>...</td>\n",
              "      <td>...</td>\n",
              "      <td>...</td>\n",
              "      <td>...</td>\n",
              "      <td>...</td>\n",
              "      <td>...</td>\n",
              "      <td>...</td>\n",
              "      <td>...</td>\n",
              "      <td>...</td>\n",
              "      <td>...</td>\n",
              "    </tr>\n",
              "    <tr>\n",
              "      <th>24995</th>\n",
              "      <td>0.022528</td>\n",
              "      <td>0.039955</td>\n",
              "      <td>0.016269</td>\n",
              "      <td>0.010084</td>\n",
              "      <td>0.014024</td>\n",
              "      <td>0.009597</td>\n",
              "      <td>0.013329</td>\n",
              "      <td>0.045796</td>\n",
              "      <td>0.011229</td>\n",
              "      <td>0.010015</td>\n",
              "      <td>0.016046</td>\n",
              "      <td>0.014588</td>\n",
              "      <td>0.016959</td>\n",
              "      <td>0.012138</td>\n",
              "      <td>0.009606</td>\n",
              "      <td>0.014919</td>\n",
              "      <td>0.525009</td>\n",
              "      <td>0.010913</td>\n",
              "      <td>0.019390</td>\n",
              "      <td>0.012515</td>\n",
              "      <td>0.013350</td>\n",
              "      <td>0.016923</td>\n",
              "      <td>0.006119</td>\n",
              "      <td>0.023438</td>\n",
              "      <td>0.005253</td>\n",
              "      <td>0.050807</td>\n",
              "      <td>0.009409</td>\n",
              "      <td>0.008070</td>\n",
              "      <td>0.008949</td>\n",
              "      <td>0.012774</td>\n",
              "    </tr>\n",
              "    <tr>\n",
              "      <th>24996</th>\n",
              "      <td>0.036257</td>\n",
              "      <td>0.110410</td>\n",
              "      <td>0.025822</td>\n",
              "      <td>0.021428</td>\n",
              "      <td>0.014275</td>\n",
              "      <td>0.038738</td>\n",
              "      <td>0.014351</td>\n",
              "      <td>0.016899</td>\n",
              "      <td>0.014520</td>\n",
              "      <td>0.013363</td>\n",
              "      <td>0.040965</td>\n",
              "      <td>0.024173</td>\n",
              "      <td>0.042290</td>\n",
              "      <td>0.018410</td>\n",
              "      <td>0.018509</td>\n",
              "      <td>0.035063</td>\n",
              "      <td>0.088581</td>\n",
              "      <td>0.033215</td>\n",
              "      <td>0.071423</td>\n",
              "      <td>0.018878</td>\n",
              "      <td>0.037414</td>\n",
              "      <td>0.027527</td>\n",
              "      <td>0.018129</td>\n",
              "      <td>0.078528</td>\n",
              "      <td>0.017435</td>\n",
              "      <td>0.025105</td>\n",
              "      <td>0.015158</td>\n",
              "      <td>0.010909</td>\n",
              "      <td>0.022275</td>\n",
              "      <td>0.049952</td>\n",
              "    </tr>\n",
              "    <tr>\n",
              "      <th>24997</th>\n",
              "      <td>0.032884</td>\n",
              "      <td>0.060733</td>\n",
              "      <td>0.020027</td>\n",
              "      <td>0.011159</td>\n",
              "      <td>0.013584</td>\n",
              "      <td>0.014256</td>\n",
              "      <td>0.015359</td>\n",
              "      <td>0.043356</td>\n",
              "      <td>0.019235</td>\n",
              "      <td>0.010682</td>\n",
              "      <td>0.017681</td>\n",
              "      <td>0.024560</td>\n",
              "      <td>0.018604</td>\n",
              "      <td>0.011356</td>\n",
              "      <td>0.011865</td>\n",
              "      <td>0.031049</td>\n",
              "      <td>0.379482</td>\n",
              "      <td>0.015584</td>\n",
              "      <td>0.032400</td>\n",
              "      <td>0.022382</td>\n",
              "      <td>0.015320</td>\n",
              "      <td>0.026363</td>\n",
              "      <td>0.009521</td>\n",
              "      <td>0.039796</td>\n",
              "      <td>0.011585</td>\n",
              "      <td>0.037784</td>\n",
              "      <td>0.009535</td>\n",
              "      <td>0.012426</td>\n",
              "      <td>0.011083</td>\n",
              "      <td>0.020351</td>\n",
              "    </tr>\n",
              "    <tr>\n",
              "      <th>24998</th>\n",
              "      <td>0.024319</td>\n",
              "      <td>0.040981</td>\n",
              "      <td>0.010826</td>\n",
              "      <td>0.009396</td>\n",
              "      <td>0.006350</td>\n",
              "      <td>0.016571</td>\n",
              "      <td>0.009178</td>\n",
              "      <td>0.107338</td>\n",
              "      <td>0.009787</td>\n",
              "      <td>0.009756</td>\n",
              "      <td>0.012735</td>\n",
              "      <td>0.023894</td>\n",
              "      <td>0.026807</td>\n",
              "      <td>0.009584</td>\n",
              "      <td>0.006612</td>\n",
              "      <td>0.018054</td>\n",
              "      <td>0.404725</td>\n",
              "      <td>0.015105</td>\n",
              "      <td>0.021737</td>\n",
              "      <td>0.017123</td>\n",
              "      <td>0.012708</td>\n",
              "      <td>0.016423</td>\n",
              "      <td>0.008112</td>\n",
              "      <td>0.023958</td>\n",
              "      <td>0.005657</td>\n",
              "      <td>0.085510</td>\n",
              "      <td>0.006993</td>\n",
              "      <td>0.015575</td>\n",
              "      <td>0.008682</td>\n",
              "      <td>0.015503</td>\n",
              "    </tr>\n",
              "    <tr>\n",
              "      <th>24999</th>\n",
              "      <td>0.049417</td>\n",
              "      <td>0.122558</td>\n",
              "      <td>0.017327</td>\n",
              "      <td>0.016024</td>\n",
              "      <td>0.014933</td>\n",
              "      <td>0.022947</td>\n",
              "      <td>0.018137</td>\n",
              "      <td>0.028942</td>\n",
              "      <td>0.015289</td>\n",
              "      <td>0.010039</td>\n",
              "      <td>0.053936</td>\n",
              "      <td>0.019643</td>\n",
              "      <td>0.024495</td>\n",
              "      <td>0.014747</td>\n",
              "      <td>0.022293</td>\n",
              "      <td>0.070161</td>\n",
              "      <td>0.125433</td>\n",
              "      <td>0.031576</td>\n",
              "      <td>0.040426</td>\n",
              "      <td>0.015701</td>\n",
              "      <td>0.019937</td>\n",
              "      <td>0.025356</td>\n",
              "      <td>0.019243</td>\n",
              "      <td>0.072358</td>\n",
              "      <td>0.027360</td>\n",
              "      <td>0.031560</td>\n",
              "      <td>0.010518</td>\n",
              "      <td>0.010112</td>\n",
              "      <td>0.015551</td>\n",
              "      <td>0.033980</td>\n",
              "    </tr>\n",
              "  </tbody>\n",
              "</table>\n",
              "<p>25000 rows × 30 columns</p>\n",
              "</div>"
            ],
            "text/plain": [
              "             0         1         2   ...        27        28        29\n",
              "0      0.023923  0.132491  0.013514  ...  0.011247  0.022361  0.054199\n",
              "1      0.029876  0.105808  0.014953  ...  0.008992  0.025865  0.069781\n",
              "2      0.042637  0.089993  0.018745  ...  0.010188  0.017991  0.060574\n",
              "3      0.032842  0.159471  0.017090  ...  0.009650  0.014091  0.024961\n",
              "4      0.025785  0.033486  0.013944  ...  0.019524  0.007319  0.010503\n",
              "...         ...       ...       ...  ...       ...       ...       ...\n",
              "24995  0.022528  0.039955  0.016269  ...  0.008070  0.008949  0.012774\n",
              "24996  0.036257  0.110410  0.025822  ...  0.010909  0.022275  0.049952\n",
              "24997  0.032884  0.060733  0.020027  ...  0.012426  0.011083  0.020351\n",
              "24998  0.024319  0.040981  0.010826  ...  0.015575  0.008682  0.015503\n",
              "24999  0.049417  0.122558  0.017327  ...  0.010112  0.015551  0.033980\n",
              "\n",
              "[25000 rows x 30 columns]"
            ]
          },
          "metadata": {
            "tags": []
          },
          "execution_count": 47
        }
      ]
    },
    {
      "cell_type": "code",
      "metadata": {
        "colab": {
          "base_uri": "https://localhost:8080/",
          "height": 439
        },
        "id": "NIFAJwJZD_gD",
        "outputId": "1535f86a-bff0-4036-cf57-2ed688b64abc"
      },
      "source": [
        "tempPred = tempPred.rename(columns=encoder)\n",
        "tempPred"
      ],
      "id": "NIFAJwJZD_gD",
      "execution_count": null,
      "outputs": [
        {
          "output_type": "execute_result",
          "data": {
            "text/html": [
              "<div>\n",
              "<style scoped>\n",
              "    .dataframe tbody tr th:only-of-type {\n",
              "        vertical-align: middle;\n",
              "    }\n",
              "\n",
              "    .dataframe tbody tr th {\n",
              "        vertical-align: top;\n",
              "    }\n",
              "\n",
              "    .dataframe thead th {\n",
              "        text-align: right;\n",
              "    }\n",
              "</style>\n",
              "<table border=\"1\" class=\"dataframe\">\n",
              "  <thead>\n",
              "    <tr style=\"text-align: right;\">\n",
              "      <th></th>\n",
              "      <th>4</th>\n",
              "      <th>5</th>\n",
              "      <th>11</th>\n",
              "      <th>40</th>\n",
              "      <th>55</th>\n",
              "      <th>89</th>\n",
              "      <th>251</th>\n",
              "      <th>374</th>\n",
              "      <th>413</th>\n",
              "      <th>465</th>\n",
              "      <th>701</th>\n",
              "      <th>739</th>\n",
              "      <th>773</th>\n",
              "      <th>803</th>\n",
              "      <th>1003</th>\n",
              "      <th>1024</th>\n",
              "      <th>1045</th>\n",
              "      <th>1049</th>\n",
              "      <th>1052</th>\n",
              "      <th>1084</th>\n",
              "      <th>1186</th>\n",
              "      <th>1194</th>\n",
              "      <th>1213</th>\n",
              "      <th>1251</th>\n",
              "      <th>1254</th>\n",
              "      <th>1295</th>\n",
              "      <th>1409</th>\n",
              "      <th>1590</th>\n",
              "      <th>1687</th>\n",
              "      <th>1724</th>\n",
              "    </tr>\n",
              "  </thead>\n",
              "  <tbody>\n",
              "    <tr>\n",
              "      <th>0</th>\n",
              "      <td>0.023923</td>\n",
              "      <td>0.132491</td>\n",
              "      <td>0.013514</td>\n",
              "      <td>0.019273</td>\n",
              "      <td>0.009867</td>\n",
              "      <td>0.021008</td>\n",
              "      <td>0.015440</td>\n",
              "      <td>0.022611</td>\n",
              "      <td>0.013162</td>\n",
              "      <td>0.014799</td>\n",
              "      <td>0.026106</td>\n",
              "      <td>0.024532</td>\n",
              "      <td>0.038803</td>\n",
              "      <td>0.015088</td>\n",
              "      <td>0.016503</td>\n",
              "      <td>0.062014</td>\n",
              "      <td>0.155990</td>\n",
              "      <td>0.031444</td>\n",
              "      <td>0.054619</td>\n",
              "      <td>0.013503</td>\n",
              "      <td>0.020925</td>\n",
              "      <td>0.028365</td>\n",
              "      <td>0.017016</td>\n",
              "      <td>0.067521</td>\n",
              "      <td>0.014472</td>\n",
              "      <td>0.027451</td>\n",
              "      <td>0.011753</td>\n",
              "      <td>0.011247</td>\n",
              "      <td>0.022361</td>\n",
              "      <td>0.054199</td>\n",
              "    </tr>\n",
              "    <tr>\n",
              "      <th>1</th>\n",
              "      <td>0.029876</td>\n",
              "      <td>0.105808</td>\n",
              "      <td>0.014953</td>\n",
              "      <td>0.017558</td>\n",
              "      <td>0.010855</td>\n",
              "      <td>0.020970</td>\n",
              "      <td>0.014603</td>\n",
              "      <td>0.020567</td>\n",
              "      <td>0.016121</td>\n",
              "      <td>0.019447</td>\n",
              "      <td>0.023879</td>\n",
              "      <td>0.024578</td>\n",
              "      <td>0.033095</td>\n",
              "      <td>0.024476</td>\n",
              "      <td>0.015604</td>\n",
              "      <td>0.047480</td>\n",
              "      <td>0.154025</td>\n",
              "      <td>0.035966</td>\n",
              "      <td>0.071292</td>\n",
              "      <td>0.013566</td>\n",
              "      <td>0.023584</td>\n",
              "      <td>0.031429</td>\n",
              "      <td>0.015793</td>\n",
              "      <td>0.060330</td>\n",
              "      <td>0.013575</td>\n",
              "      <td>0.025139</td>\n",
              "      <td>0.010793</td>\n",
              "      <td>0.008992</td>\n",
              "      <td>0.025865</td>\n",
              "      <td>0.069781</td>\n",
              "    </tr>\n",
              "    <tr>\n",
              "      <th>2</th>\n",
              "      <td>0.042637</td>\n",
              "      <td>0.089993</td>\n",
              "      <td>0.018745</td>\n",
              "      <td>0.014072</td>\n",
              "      <td>0.011415</td>\n",
              "      <td>0.021520</td>\n",
              "      <td>0.016180</td>\n",
              "      <td>0.020600</td>\n",
              "      <td>0.016186</td>\n",
              "      <td>0.012538</td>\n",
              "      <td>0.033193</td>\n",
              "      <td>0.021981</td>\n",
              "      <td>0.039027</td>\n",
              "      <td>0.025663</td>\n",
              "      <td>0.013635</td>\n",
              "      <td>0.043400</td>\n",
              "      <td>0.137569</td>\n",
              "      <td>0.038397</td>\n",
              "      <td>0.064716</td>\n",
              "      <td>0.016186</td>\n",
              "      <td>0.023958</td>\n",
              "      <td>0.033620</td>\n",
              "      <td>0.018616</td>\n",
              "      <td>0.073781</td>\n",
              "      <td>0.020728</td>\n",
              "      <td>0.034055</td>\n",
              "      <td>0.008836</td>\n",
              "      <td>0.010188</td>\n",
              "      <td>0.017991</td>\n",
              "      <td>0.060574</td>\n",
              "    </tr>\n",
              "    <tr>\n",
              "      <th>3</th>\n",
              "      <td>0.032842</td>\n",
              "      <td>0.159471</td>\n",
              "      <td>0.017090</td>\n",
              "      <td>0.022189</td>\n",
              "      <td>0.013670</td>\n",
              "      <td>0.020169</td>\n",
              "      <td>0.014613</td>\n",
              "      <td>0.017903</td>\n",
              "      <td>0.013779</td>\n",
              "      <td>0.009020</td>\n",
              "      <td>0.027917</td>\n",
              "      <td>0.014774</td>\n",
              "      <td>0.033562</td>\n",
              "      <td>0.010656</td>\n",
              "      <td>0.021021</td>\n",
              "      <td>0.077997</td>\n",
              "      <td>0.160430</td>\n",
              "      <td>0.040344</td>\n",
              "      <td>0.043988</td>\n",
              "      <td>0.014432</td>\n",
              "      <td>0.018923</td>\n",
              "      <td>0.029695</td>\n",
              "      <td>0.015162</td>\n",
              "      <td>0.068178</td>\n",
              "      <td>0.017847</td>\n",
              "      <td>0.027078</td>\n",
              "      <td>0.008553</td>\n",
              "      <td>0.009650</td>\n",
              "      <td>0.014091</td>\n",
              "      <td>0.024961</td>\n",
              "    </tr>\n",
              "    <tr>\n",
              "      <th>4</th>\n",
              "      <td>0.025785</td>\n",
              "      <td>0.033486</td>\n",
              "      <td>0.013944</td>\n",
              "      <td>0.008872</td>\n",
              "      <td>0.007692</td>\n",
              "      <td>0.014400</td>\n",
              "      <td>0.009847</td>\n",
              "      <td>0.100938</td>\n",
              "      <td>0.007413</td>\n",
              "      <td>0.007209</td>\n",
              "      <td>0.015116</td>\n",
              "      <td>0.014640</td>\n",
              "      <td>0.019630</td>\n",
              "      <td>0.008774</td>\n",
              "      <td>0.007402</td>\n",
              "      <td>0.013464</td>\n",
              "      <td>0.487447</td>\n",
              "      <td>0.008286</td>\n",
              "      <td>0.015253</td>\n",
              "      <td>0.014354</td>\n",
              "      <td>0.010892</td>\n",
              "      <td>0.019827</td>\n",
              "      <td>0.007898</td>\n",
              "      <td>0.023632</td>\n",
              "      <td>0.004859</td>\n",
              "      <td>0.055392</td>\n",
              "      <td>0.006202</td>\n",
              "      <td>0.019524</td>\n",
              "      <td>0.007319</td>\n",
              "      <td>0.010503</td>\n",
              "    </tr>\n",
              "    <tr>\n",
              "      <th>...</th>\n",
              "      <td>...</td>\n",
              "      <td>...</td>\n",
              "      <td>...</td>\n",
              "      <td>...</td>\n",
              "      <td>...</td>\n",
              "      <td>...</td>\n",
              "      <td>...</td>\n",
              "      <td>...</td>\n",
              "      <td>...</td>\n",
              "      <td>...</td>\n",
              "      <td>...</td>\n",
              "      <td>...</td>\n",
              "      <td>...</td>\n",
              "      <td>...</td>\n",
              "      <td>...</td>\n",
              "      <td>...</td>\n",
              "      <td>...</td>\n",
              "      <td>...</td>\n",
              "      <td>...</td>\n",
              "      <td>...</td>\n",
              "      <td>...</td>\n",
              "      <td>...</td>\n",
              "      <td>...</td>\n",
              "      <td>...</td>\n",
              "      <td>...</td>\n",
              "      <td>...</td>\n",
              "      <td>...</td>\n",
              "      <td>...</td>\n",
              "      <td>...</td>\n",
              "      <td>...</td>\n",
              "    </tr>\n",
              "    <tr>\n",
              "      <th>24995</th>\n",
              "      <td>0.022528</td>\n",
              "      <td>0.039955</td>\n",
              "      <td>0.016269</td>\n",
              "      <td>0.010084</td>\n",
              "      <td>0.014024</td>\n",
              "      <td>0.009597</td>\n",
              "      <td>0.013329</td>\n",
              "      <td>0.045796</td>\n",
              "      <td>0.011229</td>\n",
              "      <td>0.010015</td>\n",
              "      <td>0.016046</td>\n",
              "      <td>0.014588</td>\n",
              "      <td>0.016959</td>\n",
              "      <td>0.012138</td>\n",
              "      <td>0.009606</td>\n",
              "      <td>0.014919</td>\n",
              "      <td>0.525009</td>\n",
              "      <td>0.010913</td>\n",
              "      <td>0.019390</td>\n",
              "      <td>0.012515</td>\n",
              "      <td>0.013350</td>\n",
              "      <td>0.016923</td>\n",
              "      <td>0.006119</td>\n",
              "      <td>0.023438</td>\n",
              "      <td>0.005253</td>\n",
              "      <td>0.050807</td>\n",
              "      <td>0.009409</td>\n",
              "      <td>0.008070</td>\n",
              "      <td>0.008949</td>\n",
              "      <td>0.012774</td>\n",
              "    </tr>\n",
              "    <tr>\n",
              "      <th>24996</th>\n",
              "      <td>0.036257</td>\n",
              "      <td>0.110410</td>\n",
              "      <td>0.025822</td>\n",
              "      <td>0.021428</td>\n",
              "      <td>0.014275</td>\n",
              "      <td>0.038738</td>\n",
              "      <td>0.014351</td>\n",
              "      <td>0.016899</td>\n",
              "      <td>0.014520</td>\n",
              "      <td>0.013363</td>\n",
              "      <td>0.040965</td>\n",
              "      <td>0.024173</td>\n",
              "      <td>0.042290</td>\n",
              "      <td>0.018410</td>\n",
              "      <td>0.018509</td>\n",
              "      <td>0.035063</td>\n",
              "      <td>0.088581</td>\n",
              "      <td>0.033215</td>\n",
              "      <td>0.071423</td>\n",
              "      <td>0.018878</td>\n",
              "      <td>0.037414</td>\n",
              "      <td>0.027527</td>\n",
              "      <td>0.018129</td>\n",
              "      <td>0.078528</td>\n",
              "      <td>0.017435</td>\n",
              "      <td>0.025105</td>\n",
              "      <td>0.015158</td>\n",
              "      <td>0.010909</td>\n",
              "      <td>0.022275</td>\n",
              "      <td>0.049952</td>\n",
              "    </tr>\n",
              "    <tr>\n",
              "      <th>24997</th>\n",
              "      <td>0.032884</td>\n",
              "      <td>0.060733</td>\n",
              "      <td>0.020027</td>\n",
              "      <td>0.011159</td>\n",
              "      <td>0.013584</td>\n",
              "      <td>0.014256</td>\n",
              "      <td>0.015359</td>\n",
              "      <td>0.043356</td>\n",
              "      <td>0.019235</td>\n",
              "      <td>0.010682</td>\n",
              "      <td>0.017681</td>\n",
              "      <td>0.024560</td>\n",
              "      <td>0.018604</td>\n",
              "      <td>0.011356</td>\n",
              "      <td>0.011865</td>\n",
              "      <td>0.031049</td>\n",
              "      <td>0.379482</td>\n",
              "      <td>0.015584</td>\n",
              "      <td>0.032400</td>\n",
              "      <td>0.022382</td>\n",
              "      <td>0.015320</td>\n",
              "      <td>0.026363</td>\n",
              "      <td>0.009521</td>\n",
              "      <td>0.039796</td>\n",
              "      <td>0.011585</td>\n",
              "      <td>0.037784</td>\n",
              "      <td>0.009535</td>\n",
              "      <td>0.012426</td>\n",
              "      <td>0.011083</td>\n",
              "      <td>0.020351</td>\n",
              "    </tr>\n",
              "    <tr>\n",
              "      <th>24998</th>\n",
              "      <td>0.024319</td>\n",
              "      <td>0.040981</td>\n",
              "      <td>0.010826</td>\n",
              "      <td>0.009396</td>\n",
              "      <td>0.006350</td>\n",
              "      <td>0.016571</td>\n",
              "      <td>0.009178</td>\n",
              "      <td>0.107338</td>\n",
              "      <td>0.009787</td>\n",
              "      <td>0.009756</td>\n",
              "      <td>0.012735</td>\n",
              "      <td>0.023894</td>\n",
              "      <td>0.026807</td>\n",
              "      <td>0.009584</td>\n",
              "      <td>0.006612</td>\n",
              "      <td>0.018054</td>\n",
              "      <td>0.404725</td>\n",
              "      <td>0.015105</td>\n",
              "      <td>0.021737</td>\n",
              "      <td>0.017123</td>\n",
              "      <td>0.012708</td>\n",
              "      <td>0.016423</td>\n",
              "      <td>0.008112</td>\n",
              "      <td>0.023958</td>\n",
              "      <td>0.005657</td>\n",
              "      <td>0.085510</td>\n",
              "      <td>0.006993</td>\n",
              "      <td>0.015575</td>\n",
              "      <td>0.008682</td>\n",
              "      <td>0.015503</td>\n",
              "    </tr>\n",
              "    <tr>\n",
              "      <th>24999</th>\n",
              "      <td>0.049417</td>\n",
              "      <td>0.122558</td>\n",
              "      <td>0.017327</td>\n",
              "      <td>0.016024</td>\n",
              "      <td>0.014933</td>\n",
              "      <td>0.022947</td>\n",
              "      <td>0.018137</td>\n",
              "      <td>0.028942</td>\n",
              "      <td>0.015289</td>\n",
              "      <td>0.010039</td>\n",
              "      <td>0.053936</td>\n",
              "      <td>0.019643</td>\n",
              "      <td>0.024495</td>\n",
              "      <td>0.014747</td>\n",
              "      <td>0.022293</td>\n",
              "      <td>0.070161</td>\n",
              "      <td>0.125433</td>\n",
              "      <td>0.031576</td>\n",
              "      <td>0.040426</td>\n",
              "      <td>0.015701</td>\n",
              "      <td>0.019937</td>\n",
              "      <td>0.025356</td>\n",
              "      <td>0.019243</td>\n",
              "      <td>0.072358</td>\n",
              "      <td>0.027360</td>\n",
              "      <td>0.031560</td>\n",
              "      <td>0.010518</td>\n",
              "      <td>0.010112</td>\n",
              "      <td>0.015551</td>\n",
              "      <td>0.033980</td>\n",
              "    </tr>\n",
              "  </tbody>\n",
              "</table>\n",
              "<p>25000 rows × 30 columns</p>\n",
              "</div>"
            ],
            "text/plain": [
              "           4         5         11    ...      1590      1687      1724\n",
              "0      0.023923  0.132491  0.013514  ...  0.011247  0.022361  0.054199\n",
              "1      0.029876  0.105808  0.014953  ...  0.008992  0.025865  0.069781\n",
              "2      0.042637  0.089993  0.018745  ...  0.010188  0.017991  0.060574\n",
              "3      0.032842  0.159471  0.017090  ...  0.009650  0.014091  0.024961\n",
              "4      0.025785  0.033486  0.013944  ...  0.019524  0.007319  0.010503\n",
              "...         ...       ...       ...  ...       ...       ...       ...\n",
              "24995  0.022528  0.039955  0.016269  ...  0.008070  0.008949  0.012774\n",
              "24996  0.036257  0.110410  0.025822  ...  0.010909  0.022275  0.049952\n",
              "24997  0.032884  0.060733  0.020027  ...  0.012426  0.011083  0.020351\n",
              "24998  0.024319  0.040981  0.010826  ...  0.015575  0.008682  0.015503\n",
              "24999  0.049417  0.122558  0.017327  ...  0.010112  0.015551  0.033980\n",
              "\n",
              "[25000 rows x 30 columns]"
            ]
          },
          "metadata": {
            "tags": []
          },
          "execution_count": 49
        }
      ]
    },
    {
      "cell_type": "code",
      "metadata": {
        "colab": {
          "base_uri": "https://localhost:8080/"
        },
        "id": "aq3VVuJiD_gE",
        "outputId": "7e70ae67-e6e4-4741-9610-358a921c807a"
      },
      "source": [
        "print(max(tempPred.iloc[:1].values.flatten()))\n",
        "print(list(tempPred.iloc[:1].values.flatten()).index(max(tempPred.iloc[:1].values.flatten())))\n",
        "print(encoder[list(tempPred.iloc[:1].values.flatten()).index(max(tempPred.iloc[:1].values.flatten()))])"
      ],
      "id": "aq3VVuJiD_gE",
      "execution_count": null,
      "outputs": [
        {
          "output_type": "stream",
          "text": [
            "0.15599021\n",
            "16\n",
            "1045\n"
          ],
          "name": "stdout"
        }
      ]
    },
    {
      "cell_type": "code",
      "metadata": {
        "colab": {
          "base_uri": "https://localhost:8080/"
        },
        "id": "Q1CTJRHrD_gE",
        "outputId": "6a9c231e-96ed-4046-e5fb-868765547231"
      },
      "source": [
        "model.evaluate([X_valid_ids, X_valid_attention], np.array(pd.get_dummies(y_valid)))"
      ],
      "id": "Q1CTJRHrD_gE",
      "execution_count": null,
      "outputs": [
        {
          "output_type": "stream",
          "text": [
            "782/782 [==============================] - 32s 41ms/step - loss: 2.4093 - accuracy: 0.2853\n"
          ],
          "name": "stdout"
        },
        {
          "output_type": "execute_result",
          "data": {
            "text/plain": [
              "[2.4092679023742676, 0.2853200137615204]"
            ]
          },
          "metadata": {
            "tags": []
          },
          "execution_count": 84
        }
      ]
    }
  ]
}