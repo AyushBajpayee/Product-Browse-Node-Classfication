{
 "cells": [
  {
   "cell_type": "markdown",
   "id": "1e3d57fa",
   "metadata": {
    "heading_collapsed": true
   },
   "source": [
    "# **IMPORTING LIBRARIES**"
   ]
  },
  {
   "cell_type": "code",
   "execution_count": 45,
   "id": "48b6ae8c",
   "metadata": {
    "ExecuteTime": {
     "end_time": "2021-07-30T20:24:30.329796Z",
     "start_time": "2021-07-30T20:24:30.318801Z"
    },
    "hidden": true
   },
   "outputs": [],
   "source": [
    "import numpy as np\n",
    "import pandas as pd \n",
    "import string\n",
    "import matplotlib.pyplot as plt\n",
    "import csv\n",
    "import joblib\n",
    "import pandas as pd\n",
    "import numpy as np\n",
    "import xgboost as xgb\n",
    "from tqdm import tqdm\n",
    "from sklearn.svm import SVC\n",
    "from keras.models import Sequential\n",
    "from keras.layers.recurrent import LSTM, GRU\n",
    "from keras.layers.core import Dense, Activation, Dropout\n",
    "from keras.layers.embeddings import Embedding\n",
    "from keras.layers.normalization import BatchNormalization\n",
    "from keras.utils import np_utils\n",
    "from sklearn import preprocessing, decomposition, model_selection, metrics, pipeline\n",
    "from sklearn.model_selection import GridSearchCV\n",
    "from sklearn.feature_extraction.text import TfidfVectorizer, CountVectorizer\n",
    "from sklearn.decomposition import TruncatedSVD\n",
    "from sklearn.linear_model import LogisticRegression\n",
    "from sklearn.model_selection import train_test_split\n",
    "from sklearn.naive_bayes import MultinomialNB\n",
    "from keras.layers import GlobalMaxPooling1D, Conv1D, MaxPooling1D, Flatten, Bidirectional, SpatialDropout1D\n",
    "from keras.preprocessing import sequence, text\n",
    "from keras.callbacks import EarlyStopping\n",
    "from nltk import word_tokenize\n",
    "from nltk.corpus import stopwords\n",
    "from sklearn.model_selection import train_test_split\n",
    "from sklearn.naive_bayes import MultinomialNB\n",
    "from sklearn.pipeline import Pipeline\n",
    "from sklearn.feature_extraction.text import TfidfTransformer\n",
    "from sklearn.metrics import accuracy_score, confusion_matrix\n",
    "stop_words = stopwords.words('english')"
   ]
  },
  {
   "cell_type": "markdown",
   "id": "8cacf0a7",
   "metadata": {
    "heading_collapsed": true
   },
   "source": [
    "# **DATA SANITY**"
   ]
  },
  {
   "cell_type": "code",
   "execution_count": 2,
   "id": "e8d6e1e5",
   "metadata": {
    "ExecuteTime": {
     "end_time": "2021-07-30T11:22:22.755829Z",
     "start_time": "2021-07-30T11:21:41.196711Z"
    },
    "hidden": true
   },
   "outputs": [],
   "source": [
    "#Loading Data\n",
    "dataset = pd.read_csv(r'C:\\Users\\ayush.bajpayee\\Desktop\\Amazon Hackathon\\dataset\\train.csv', escapechar='\\\\',\n",
    "                      quoting = csv.QUOTE_NONE)"
   ]
  },
  {
   "cell_type": "code",
   "execution_count": 4,
   "id": "00c8c349",
   "metadata": {
    "ExecuteTime": {
     "end_time": "2021-07-30T11:22:50.745505Z",
     "start_time": "2021-07-30T11:22:50.497866Z"
    },
    "hidden": true
   },
   "outputs": [],
   "source": [
    "#Do not Tamper this df_original\n",
    "df_original = dataset.copy()"
   ]
  },
  {
   "cell_type": "code",
   "execution_count": 32,
   "id": "da008e37",
   "metadata": {
    "ExecuteTime": {
     "end_time": "2021-07-30T06:34:35.255736Z",
     "start_time": "2021-07-30T06:34:34.905823Z"
    },
    "hidden": true
   },
   "outputs": [],
   "source": [
    "# #DO NOT RUN\n",
    "# dataset_to_be_saved = dataset.copy()\n",
    "# dataset_to_be_saved.to_csv('ModifiedTRAIN.csv', index = False)"
   ]
  },
  {
   "cell_type": "code",
   "execution_count": 35,
   "id": "4f30b469",
   "metadata": {
    "ExecuteTime": {
     "end_time": "2021-07-30T07:32:41.381537Z",
     "start_time": "2021-07-30T07:32:41.358596Z"
    },
    "hidden": true
   },
   "outputs": [
    {
     "data": {
      "text/html": [
       "<div>\n",
       "<style scoped>\n",
       "    .dataframe tbody tr th:only-of-type {\n",
       "        vertical-align: middle;\n",
       "    }\n",
       "\n",
       "    .dataframe tbody tr th {\n",
       "        vertical-align: top;\n",
       "    }\n",
       "\n",
       "    .dataframe thead th {\n",
       "        text-align: right;\n",
       "    }\n",
       "</style>\n",
       "<table border=\"1\" class=\"dataframe\">\n",
       "  <thead>\n",
       "    <tr style=\"text-align: right;\">\n",
       "      <th></th>\n",
       "      <th>TITLE</th>\n",
       "      <th>DESCRIPTION</th>\n",
       "      <th>BULLET_POINTS</th>\n",
       "      <th>BRAND</th>\n",
       "      <th>BROWSE_NODE_ID</th>\n",
       "    </tr>\n",
       "  </thead>\n",
       "  <tbody>\n",
       "    <tr>\n",
       "      <th>0</th>\n",
       "      <td>Pete The Cat Bedtime Blues Doll, 14.5 Inch</td>\n",
       "      <td>Pete the Cat is the coolest, most popular cat ...</td>\n",
       "      <td>[Pete the Cat Bedtime Blues plush doll,Based o...</td>\n",
       "      <td>MerryMakers</td>\n",
       "      <td>0</td>\n",
       "    </tr>\n",
       "    <tr>\n",
       "      <th>1</th>\n",
       "      <td>The New Yorker NYHM014 Refrigerator Magnet, 2 ...</td>\n",
       "      <td>The New Yorker Handsome Cello Wrapped Hard Mag...</td>\n",
       "      <td>[Cat In A Tea Cup by New Yorker cover artist G...</td>\n",
       "      <td>The New Yorker</td>\n",
       "      <td>1</td>\n",
       "    </tr>\n",
       "    <tr>\n",
       "      <th>2</th>\n",
       "      <td>The Ultimate Self-Sufficiency Handbook: A Comp...</td>\n",
       "      <td>NaN</td>\n",
       "      <td>Skyhorse Publishing</td>\n",
       "      <td>imusti</td>\n",
       "      <td>2</td>\n",
       "    </tr>\n",
       "    <tr>\n",
       "      <th>3</th>\n",
       "      <td>Amway Nutrilite Kids Chewable Iron Tablets (100)</td>\n",
       "      <td>NaN</td>\n",
       "      <td>[Nutrilite Kids,Chewable Iron Tablets,Quantity...</td>\n",
       "      <td>Amway</td>\n",
       "      <td>3</td>\n",
       "    </tr>\n",
       "    <tr>\n",
       "      <th>4</th>\n",
       "      <td>Teacher Planner Company A4 6 Lesson Academic T...</td>\n",
       "      <td>NaN</td>\n",
       "      <td>NaN</td>\n",
       "      <td>NaN</td>\n",
       "      <td>4</td>\n",
       "    </tr>\n",
       "  </tbody>\n",
       "</table>\n",
       "</div>"
      ],
      "text/plain": [
       "                                               TITLE  \\\n",
       "0         Pete The Cat Bedtime Blues Doll, 14.5 Inch   \n",
       "1  The New Yorker NYHM014 Refrigerator Magnet, 2 ...   \n",
       "2  The Ultimate Self-Sufficiency Handbook: A Comp...   \n",
       "3   Amway Nutrilite Kids Chewable Iron Tablets (100)   \n",
       "4  Teacher Planner Company A4 6 Lesson Academic T...   \n",
       "\n",
       "                                         DESCRIPTION  \\\n",
       "0  Pete the Cat is the coolest, most popular cat ...   \n",
       "1  The New Yorker Handsome Cello Wrapped Hard Mag...   \n",
       "2                                                NaN   \n",
       "3                                                NaN   \n",
       "4                                                NaN   \n",
       "\n",
       "                                       BULLET_POINTS           BRAND  \\\n",
       "0  [Pete the Cat Bedtime Blues plush doll,Based o...     MerryMakers   \n",
       "1  [Cat In A Tea Cup by New Yorker cover artist G...  The New Yorker   \n",
       "2                                Skyhorse Publishing          imusti   \n",
       "3  [Nutrilite Kids,Chewable Iron Tablets,Quantity...           Amway   \n",
       "4                                                NaN             NaN   \n",
       "\n",
       "   BROWSE_NODE_ID  \n",
       "0               0  \n",
       "1               1  \n",
       "2               2  \n",
       "3               3  \n",
       "4               4  "
      ]
     },
     "execution_count": 35,
     "metadata": {},
     "output_type": "execute_result"
    }
   ],
   "source": [
    "dataset.head()"
   ]
  },
  {
   "cell_type": "code",
   "execution_count": 38,
   "id": "05de52f3",
   "metadata": {
    "ExecuteTime": {
     "end_time": "2021-07-30T07:33:27.769032Z",
     "start_time": "2021-07-30T07:33:27.753095Z"
    },
    "hidden": true
   },
   "outputs": [
    {
     "data": {
      "text/plain": [
       "(2903024, 5)"
      ]
     },
     "execution_count": 38,
     "metadata": {},
     "output_type": "execute_result"
    }
   ],
   "source": [
    "dataset.shape"
   ]
  },
  {
   "cell_type": "code",
   "execution_count": 12,
   "id": "4a8fe7d9",
   "metadata": {
    "ExecuteTime": {
     "end_time": "2021-07-30T06:08:18.444399Z",
     "start_time": "2021-07-30T06:08:18.434427Z"
    },
    "hidden": true
   },
   "outputs": [
    {
     "data": {
      "text/plain": [
       "Index(['TITLE', 'DESCRIPTION', 'BULLET_POINTS', 'BRAND', 'BROWSE_NODE_ID'], dtype='object')"
      ]
     },
     "execution_count": 12,
     "metadata": {},
     "output_type": "execute_result"
    }
   ],
   "source": [
    "dataset.columns"
   ]
  },
  {
   "cell_type": "code",
   "execution_count": 11,
   "id": "e67fe8b3",
   "metadata": {
    "ExecuteTime": {
     "end_time": "2021-07-30T06:07:45.339656Z",
     "start_time": "2021-07-30T06:07:45.302035Z"
    },
    "hidden": true
   },
   "outputs": [
    {
     "name": "stdout",
     "output_type": "stream",
     "text": [
      "<class 'pandas.core.frame.DataFrame'>\n",
      "RangeIndex: 2903024 entries, 0 to 2903023\n",
      "Data columns (total 5 columns):\n",
      " #   Column          Dtype \n",
      "---  ------          ----- \n",
      " 0   TITLE           object\n",
      " 1   DESCRIPTION     object\n",
      " 2   BULLET_POINTS   object\n",
      " 3   BRAND           object\n",
      " 4   BROWSE_NODE_ID  int64 \n",
      "dtypes: int64(1), object(4)\n",
      "memory usage: 110.7+ MB\n"
     ]
    }
   ],
   "source": [
    "dataset.info()"
   ]
  },
  {
   "cell_type": "code",
   "execution_count": 27,
   "id": "b0b230c6",
   "metadata": {
    "ExecuteTime": {
     "end_time": "2021-07-30T06:18:49.398222Z",
     "start_time": "2021-07-30T06:18:48.659776Z"
    },
    "hidden": true
   },
   "outputs": [
    {
     "data": {
      "text/plain": [
       "TITLE             0.000024\n",
       "DESCRIPTION       0.249279\n",
       "BULLET_POINTS     0.057272\n",
       "BRAND             0.019544\n",
       "BROWSE_NODE_ID    0.000000\n",
       "dtype: float64"
      ]
     },
     "execution_count": 27,
     "metadata": {},
     "output_type": "execute_result"
    }
   ],
   "source": [
    "dataset.isna().mean()"
   ]
  },
  {
   "cell_type": "code",
   "execution_count": 25,
   "id": "cf048de0",
   "metadata": {
    "ExecuteTime": {
     "end_time": "2021-07-30T06:17:03.611472Z",
     "start_time": "2021-07-30T06:17:02.878120Z"
    },
    "hidden": true
   },
   "outputs": [
    {
     "data": {
      "text/plain": [
       "TITLE                 71\n",
       "DESCRIPTION       723664\n",
       "BULLET_POINTS     166263\n",
       "BRAND              56737\n",
       "BROWSE_NODE_ID         0\n",
       "dtype: int64"
      ]
     },
     "execution_count": 25,
     "metadata": {},
     "output_type": "execute_result"
    }
   ],
   "source": [
    "dataset.isna().sum()"
   ]
  },
  {
   "cell_type": "code",
   "execution_count": 12,
   "id": "2bf31438",
   "metadata": {
    "ExecuteTime": {
     "end_time": "2021-07-30T07:58:35.570351Z",
     "start_time": "2021-07-30T07:58:35.552193Z"
    },
    "hidden": true
   },
   "outputs": [
    {
     "name": "stdout",
     "output_type": "stream",
     "text": [
      "Pete The Cat Bedtime Blues Doll, 14.5 Inch\n",
      "\n",
      "\n",
      "The New Yorker NYHM014 Refrigerator Magnet, 2 x 3.5\n",
      "\n",
      "\n",
      "The Ultimate Self-Sufficiency Handbook: A Complete Guide to Baking, Crafts, Gardening, Preserving Your Harvest, Raising Animals and More\n",
      "\n",
      "\n",
      "Amway Nutrilite Kids Chewable Iron Tablets (100)\n",
      "\n",
      "\n",
      "Teacher Planner Company A4 6 Lesson Academic Teacher Planner - Leatherette Pink\n"
     ]
    }
   ],
   "source": [
    "print(dataset['TITLE'][0])\n",
    "print('\\n')\n",
    "print(dataset['TITLE'][1])\n",
    "print('\\n')\n",
    "print(dataset['TITLE'][2])\n",
    "print('\\n')\n",
    "print(dataset['TITLE'][3])\n",
    "print('\\n')\n",
    "print(dataset['TITLE'][4])"
   ]
  },
  {
   "cell_type": "code",
   "execution_count": 11,
   "id": "162b57fd",
   "metadata": {
    "ExecuteTime": {
     "end_time": "2021-07-30T07:57:38.784203Z",
     "start_time": "2021-07-30T07:57:38.774059Z"
    },
    "hidden": true
   },
   "outputs": [
    {
     "name": "stdout",
     "output_type": "stream",
     "text": [
      "[Pete the Cat Bedtime Blues plush doll,Based on the popular Pete the Cat books by James Dean,Super cuddly and ready for naptime and bedtime,Safe for all ages, perfect for ages 2 and up,Measures 14. 5 inches]\n",
      "\n",
      "\n",
      "[Cat In A Tea Cup by New Yorker cover artist Gurbuz Dogan Eksioglu,Handsome cello wrapped hard magnet,Ideal for home or office, or for a gift and for any New Yorker magazine lover,It highlight one of the many beautiful New Yorker covers in full color,Rigid magnet measures 2. 5-Inch width by 3. 5-Inch height]\n",
      "\n",
      "\n",
      "Skyhorse Publishing\n",
      "\n",
      "\n",
      "[Nutrilite Kids,Chewable Iron Tablets,Quantity 100 tablets]\n",
      "\n",
      "\n",
      "nan\n",
      "\n",
      "\n",
      "[Color: Blue,Sleeve: Full Sleeve,Material: Cotton,Neck: Round]\n"
     ]
    }
   ],
   "source": [
    "print(dataset['BULLET_POINTS'][0])\n",
    "print('\\n')\n",
    "print(dataset['BULLET_POINTS'][1])\n",
    "print('\\n')\n",
    "print(dataset['BULLET_POINTS'][2])\n",
    "print('\\n')\n",
    "print(dataset['BULLET_POINTS'][3])\n",
    "print('\\n')\n",
    "print(dataset['BULLET_POINTS'][4])\n",
    "print('\\n')\n",
    "print(dataset['BULLET_POINTS'][5])"
   ]
  },
  {
   "cell_type": "code",
   "execution_count": 22,
   "id": "ee725cc8",
   "metadata": {
    "ExecuteTime": {
     "end_time": "2021-07-30T08:14:06.904252Z",
     "start_time": "2021-07-30T08:14:06.192558Z"
    },
    "hidden": true
   },
   "outputs": [
    {
     "data": {
      "text/plain": [
       "<class 'str'>      2736761\n",
       "<class 'float'>     166263\n",
       "Name: BULLET_POINTS, dtype: int64"
      ]
     },
     "execution_count": 22,
     "metadata": {},
     "output_type": "execute_result"
    }
   ],
   "source": [
    "dataset['BULLET_POINTS'].apply(type).value_counts()"
   ]
  },
  {
   "cell_type": "code",
   "execution_count": 17,
   "id": "8df8c61a",
   "metadata": {
    "ExecuteTime": {
     "end_time": "2021-07-30T08:11:32.919147Z",
     "start_time": "2021-07-30T08:11:13.103783Z"
    },
    "hidden": true
   },
   "outputs": [],
   "source": [
    "dataset_onlyfloat = dataset.copy()"
   ]
  },
  {
   "cell_type": "code",
   "execution_count": 31,
   "id": "d118f198",
   "metadata": {
    "ExecuteTime": {
     "end_time": "2021-07-30T09:29:00.568604Z",
     "start_time": "2021-07-30T09:29:00.187926Z"
    },
    "hidden": true
   },
   "outputs": [],
   "source": [
    "dataset_onlyfloat['BULLET_POINTS'].fillna(value = 'OTHERS', inplace=True)"
   ]
  },
  {
   "cell_type": "code",
   "execution_count": 32,
   "id": "ce0b1646",
   "metadata": {
    "ExecuteTime": {
     "end_time": "2021-07-30T09:29:40.764508Z",
     "start_time": "2021-07-30T09:29:39.702972Z"
    },
    "hidden": true
   },
   "outputs": [
    {
     "data": {
      "text/plain": [
       "TITLE                 71\n",
       "DESCRIPTION       723664\n",
       "BULLET_POINTS          0\n",
       "BRAND              56737\n",
       "BROWSE_NODE_ID         0\n",
       "dtype: int64"
      ]
     },
     "execution_count": 32,
     "metadata": {},
     "output_type": "execute_result"
    }
   ],
   "source": [
    "dataset_onlyfloat.isna().sum()"
   ]
  },
  {
   "cell_type": "code",
   "execution_count": 29,
   "id": "e9e2875c",
   "metadata": {
    "ExecuteTime": {
     "end_time": "2021-07-30T08:17:36.182350Z",
     "start_time": "2021-07-30T08:17:35.523781Z"
    },
    "collapsed": true,
    "hidden": true
   },
   "outputs": [
    {
     "data": {
      "text/html": [
       "<div>\n",
       "<style scoped>\n",
       "    .dataframe tbody tr th:only-of-type {\n",
       "        vertical-align: middle;\n",
       "    }\n",
       "\n",
       "    .dataframe tbody tr th {\n",
       "        vertical-align: top;\n",
       "    }\n",
       "\n",
       "    .dataframe thead th {\n",
       "        text-align: right;\n",
       "    }\n",
       "</style>\n",
       "<table border=\"1\" class=\"dataframe\">\n",
       "  <thead>\n",
       "    <tr style=\"text-align: right;\">\n",
       "      <th></th>\n",
       "      <th>TITLE</th>\n",
       "      <th>DESCRIPTION</th>\n",
       "      <th>BULLET_POINTS</th>\n",
       "      <th>BRAND</th>\n",
       "      <th>BROWSE_NODE_ID</th>\n",
       "    </tr>\n",
       "  </thead>\n",
       "  <tbody>\n",
       "    <tr>\n",
       "      <th>0</th>\n",
       "      <td>Pete The Cat Bedtime Blues Doll, 14.5 Inch</td>\n",
       "      <td>Pete the Cat is the coolest, most popular cat ...</td>\n",
       "      <td>[Pete the Cat Bedtime Blues plush doll,Based o...</td>\n",
       "      <td>MerryMakers</td>\n",
       "      <td>0</td>\n",
       "    </tr>\n",
       "    <tr>\n",
       "      <th>1</th>\n",
       "      <td>The New Yorker NYHM014 Refrigerator Magnet, 2 ...</td>\n",
       "      <td>The New Yorker Handsome Cello Wrapped Hard Mag...</td>\n",
       "      <td>[Cat In A Tea Cup by New Yorker cover artist G...</td>\n",
       "      <td>The New Yorker</td>\n",
       "      <td>1</td>\n",
       "    </tr>\n",
       "    <tr>\n",
       "      <th>2</th>\n",
       "      <td>The Ultimate Self-Sufficiency Handbook: A Comp...</td>\n",
       "      <td>NaN</td>\n",
       "      <td>Skyhorse Publishing</td>\n",
       "      <td>imusti</td>\n",
       "      <td>2</td>\n",
       "    </tr>\n",
       "    <tr>\n",
       "      <th>3</th>\n",
       "      <td>Amway Nutrilite Kids Chewable Iron Tablets (100)</td>\n",
       "      <td>NaN</td>\n",
       "      <td>[Nutrilite Kids,Chewable Iron Tablets,Quantity...</td>\n",
       "      <td>Amway</td>\n",
       "      <td>3</td>\n",
       "    </tr>\n",
       "    <tr>\n",
       "      <th>5</th>\n",
       "      <td>Men'S Full Sleeve Raglan T-Shirts Denim T-Shir...</td>\n",
       "      <td>Men'S Full Sleeve Raglan T-Shirts Denim T-Shir...</td>\n",
       "      <td>[Color: Blue,Sleeve: Full Sleeve,Material: Cot...</td>\n",
       "      <td>Bhavya Enterprise</td>\n",
       "      <td>5</td>\n",
       "    </tr>\n",
       "    <tr>\n",
       "      <th>...</th>\n",
       "      <td>...</td>\n",
       "      <td>...</td>\n",
       "      <td>...</td>\n",
       "      <td>...</td>\n",
       "      <td>...</td>\n",
       "    </tr>\n",
       "    <tr>\n",
       "      <th>2903018</th>\n",
       "      <td>The NXT LVL Liquid Silicone Soft Back Cover Ca...</td>\n",
       "      <td>Product color may slightly vary due to photogr...</td>\n",
       "      <td>[Liquid silicone case compatible with apple pr...</td>\n",
       "      <td>Generic</td>\n",
       "      <td>794481</td>\n",
       "    </tr>\n",
       "    <tr>\n",
       "      <th>2903019</th>\n",
       "      <td>Premium Aviator Sunglasses - HD Polarized (Bri...</td>\n",
       "      <td>These premium Aviator Sunglasses with 5 color ...</td>\n",
       "      <td>[Frame size: Lens height - 56mm, Lens width - ...</td>\n",
       "      <td>Generic</td>\n",
       "      <td>1040</td>\n",
       "    </tr>\n",
       "    <tr>\n",
       "      <th>2903020</th>\n",
       "      <td>Social Distance Stickers - Set of 5 Sticker Sl...</td>\n",
       "      <td>set of 5 prints social distancing sticker self...</td>\n",
       "      <td>[covid19 safety sticker - set of 5 to maintain...</td>\n",
       "      <td>Generic</td>\n",
       "      <td>15199</td>\n",
       "    </tr>\n",
       "    <tr>\n",
       "      <th>2903021</th>\n",
       "      <td>Torr-to Face Shield PACK OF 5 with Adjustable ...</td>\n",
       "      <td>* COMPLETE FACE PROTECTION: Torr-to Face Shiel...</td>\n",
       "      <td>[350 MICRONS PACK OF 5 PCS,COMPLETE FACE PROTE...</td>\n",
       "      <td>TORR-TO</td>\n",
       "      <td>1044933</td>\n",
       "    </tr>\n",
       "    <tr>\n",
       "      <th>2903022</th>\n",
       "      <td>Type-C to 3.5 MM for Oppo R17 Pro Type-C to 3....</td>\n",
       "      <td>Still want to use your favorite earphones/head...</td>\n",
       "      <td>[Indian Connectors: Made for Indian sockets, t...</td>\n",
       "      <td>SHOPBELL</td>\n",
       "      <td>14790</td>\n",
       "    </tr>\n",
       "  </tbody>\n",
       "</table>\n",
       "<p>2736761 rows × 5 columns</p>\n",
       "</div>"
      ],
      "text/plain": [
       "                                                     TITLE  \\\n",
       "0               Pete The Cat Bedtime Blues Doll, 14.5 Inch   \n",
       "1        The New Yorker NYHM014 Refrigerator Magnet, 2 ...   \n",
       "2        The Ultimate Self-Sufficiency Handbook: A Comp...   \n",
       "3         Amway Nutrilite Kids Chewable Iron Tablets (100)   \n",
       "5        Men'S Full Sleeve Raglan T-Shirts Denim T-Shir...   \n",
       "...                                                    ...   \n",
       "2903018  The NXT LVL Liquid Silicone Soft Back Cover Ca...   \n",
       "2903019  Premium Aviator Sunglasses - HD Polarized (Bri...   \n",
       "2903020  Social Distance Stickers - Set of 5 Sticker Sl...   \n",
       "2903021  Torr-to Face Shield PACK OF 5 with Adjustable ...   \n",
       "2903022  Type-C to 3.5 MM for Oppo R17 Pro Type-C to 3....   \n",
       "\n",
       "                                               DESCRIPTION  \\\n",
       "0        Pete the Cat is the coolest, most popular cat ...   \n",
       "1        The New Yorker Handsome Cello Wrapped Hard Mag...   \n",
       "2                                                      NaN   \n",
       "3                                                      NaN   \n",
       "5        Men'S Full Sleeve Raglan T-Shirts Denim T-Shir...   \n",
       "...                                                    ...   \n",
       "2903018  Product color may slightly vary due to photogr...   \n",
       "2903019  These premium Aviator Sunglasses with 5 color ...   \n",
       "2903020  set of 5 prints social distancing sticker self...   \n",
       "2903021  * COMPLETE FACE PROTECTION: Torr-to Face Shiel...   \n",
       "2903022  Still want to use your favorite earphones/head...   \n",
       "\n",
       "                                             BULLET_POINTS              BRAND  \\\n",
       "0        [Pete the Cat Bedtime Blues plush doll,Based o...        MerryMakers   \n",
       "1        [Cat In A Tea Cup by New Yorker cover artist G...     The New Yorker   \n",
       "2                                      Skyhorse Publishing             imusti   \n",
       "3        [Nutrilite Kids,Chewable Iron Tablets,Quantity...              Amway   \n",
       "5        [Color: Blue,Sleeve: Full Sleeve,Material: Cot...  Bhavya Enterprise   \n",
       "...                                                    ...                ...   \n",
       "2903018  [Liquid silicone case compatible with apple pr...            Generic   \n",
       "2903019  [Frame size: Lens height - 56mm, Lens width - ...            Generic   \n",
       "2903020  [covid19 safety sticker - set of 5 to maintain...            Generic   \n",
       "2903021  [350 MICRONS PACK OF 5 PCS,COMPLETE FACE PROTE...            TORR-TO   \n",
       "2903022  [Indian Connectors: Made for Indian sockets, t...           SHOPBELL   \n",
       "\n",
       "         BROWSE_NODE_ID  \n",
       "0                     0  \n",
       "1                     1  \n",
       "2                     2  \n",
       "3                     3  \n",
       "5                     5  \n",
       "...                 ...  \n",
       "2903018          794481  \n",
       "2903019            1040  \n",
       "2903020           15199  \n",
       "2903021         1044933  \n",
       "2903022           14790  \n",
       "\n",
       "[2736761 rows x 5 columns]"
      ]
     },
     "execution_count": 29,
     "metadata": {},
     "output_type": "execute_result"
    }
   ],
   "source": [
    "dataset_onlyfloat[dataset_onlyfloat['BULLET_POINTS'].notna()]"
   ]
  },
  {
   "cell_type": "code",
   "execution_count": 23,
   "id": "d0780201",
   "metadata": {
    "ExecuteTime": {
     "end_time": "2021-07-30T08:15:20.386559Z",
     "start_time": "2021-07-30T08:15:10.569746Z"
    },
    "collapsed": true,
    "hidden": true
   },
   "outputs": [
    {
     "data": {
      "text/html": [
       "<div>\n",
       "<style scoped>\n",
       "    .dataframe tbody tr th:only-of-type {\n",
       "        vertical-align: middle;\n",
       "    }\n",
       "\n",
       "    .dataframe tbody tr th {\n",
       "        vertical-align: top;\n",
       "    }\n",
       "\n",
       "    .dataframe thead th {\n",
       "        text-align: right;\n",
       "    }\n",
       "</style>\n",
       "<table border=\"1\" class=\"dataframe\">\n",
       "  <thead>\n",
       "    <tr style=\"text-align: right;\">\n",
       "      <th></th>\n",
       "      <th>TITLE</th>\n",
       "      <th>DESCRIPTION</th>\n",
       "      <th>BULLET_POINTS</th>\n",
       "      <th>BRAND</th>\n",
       "      <th>BROWSE_NODE_ID</th>\n",
       "    </tr>\n",
       "  </thead>\n",
       "  <tbody>\n",
       "    <tr>\n",
       "      <th>0</th>\n",
       "      <td>Pete The Cat Bedtime Blues Doll, 14.5 Inch</td>\n",
       "      <td>Pete the Cat is the coolest, most popular cat ...</td>\n",
       "      <td>[Pete the Cat Bedtime Blues plush doll,Based o...</td>\n",
       "      <td>MerryMakers</td>\n",
       "      <td>0</td>\n",
       "    </tr>\n",
       "    <tr>\n",
       "      <th>1</th>\n",
       "      <td>The New Yorker NYHM014 Refrigerator Magnet, 2 ...</td>\n",
       "      <td>The New Yorker Handsome Cello Wrapped Hard Mag...</td>\n",
       "      <td>[Cat In A Tea Cup by New Yorker cover artist G...</td>\n",
       "      <td>The New Yorker</td>\n",
       "      <td>1</td>\n",
       "    </tr>\n",
       "    <tr>\n",
       "      <th>2</th>\n",
       "      <td>The Ultimate Self-Sufficiency Handbook: A Comp...</td>\n",
       "      <td>NaN</td>\n",
       "      <td>Skyhorse Publishing</td>\n",
       "      <td>imusti</td>\n",
       "      <td>2</td>\n",
       "    </tr>\n",
       "    <tr>\n",
       "      <th>3</th>\n",
       "      <td>Amway Nutrilite Kids Chewable Iron Tablets (100)</td>\n",
       "      <td>NaN</td>\n",
       "      <td>[Nutrilite Kids,Chewable Iron Tablets,Quantity...</td>\n",
       "      <td>Amway</td>\n",
       "      <td>3</td>\n",
       "    </tr>\n",
       "    <tr>\n",
       "      <th>5</th>\n",
       "      <td>Men'S Full Sleeve Raglan T-Shirts Denim T-Shir...</td>\n",
       "      <td>Men'S Full Sleeve Raglan T-Shirts Denim T-Shir...</td>\n",
       "      <td>[Color: Blue,Sleeve: Full Sleeve,Material: Cot...</td>\n",
       "      <td>Bhavya Enterprise</td>\n",
       "      <td>5</td>\n",
       "    </tr>\n",
       "    <tr>\n",
       "      <th>...</th>\n",
       "      <td>...</td>\n",
       "      <td>...</td>\n",
       "      <td>...</td>\n",
       "      <td>...</td>\n",
       "      <td>...</td>\n",
       "    </tr>\n",
       "    <tr>\n",
       "      <th>2903018</th>\n",
       "      <td>The NXT LVL Liquid Silicone Soft Back Cover Ca...</td>\n",
       "      <td>Product color may slightly vary due to photogr...</td>\n",
       "      <td>[Liquid silicone case compatible with apple pr...</td>\n",
       "      <td>Generic</td>\n",
       "      <td>794481</td>\n",
       "    </tr>\n",
       "    <tr>\n",
       "      <th>2903019</th>\n",
       "      <td>Premium Aviator Sunglasses - HD Polarized (Bri...</td>\n",
       "      <td>These premium Aviator Sunglasses with 5 color ...</td>\n",
       "      <td>[Frame size: Lens height - 56mm, Lens width - ...</td>\n",
       "      <td>Generic</td>\n",
       "      <td>1040</td>\n",
       "    </tr>\n",
       "    <tr>\n",
       "      <th>2903020</th>\n",
       "      <td>Social Distance Stickers - Set of 5 Sticker Sl...</td>\n",
       "      <td>set of 5 prints social distancing sticker self...</td>\n",
       "      <td>[covid19 safety sticker - set of 5 to maintain...</td>\n",
       "      <td>Generic</td>\n",
       "      <td>15199</td>\n",
       "    </tr>\n",
       "    <tr>\n",
       "      <th>2903021</th>\n",
       "      <td>Torr-to Face Shield PACK OF 5 with Adjustable ...</td>\n",
       "      <td>* COMPLETE FACE PROTECTION: Torr-to Face Shiel...</td>\n",
       "      <td>[350 MICRONS PACK OF 5 PCS,COMPLETE FACE PROTE...</td>\n",
       "      <td>TORR-TO</td>\n",
       "      <td>1044933</td>\n",
       "    </tr>\n",
       "    <tr>\n",
       "      <th>2903022</th>\n",
       "      <td>Type-C to 3.5 MM for Oppo R17 Pro Type-C to 3....</td>\n",
       "      <td>Still want to use your favorite earphones/head...</td>\n",
       "      <td>[Indian Connectors: Made for Indian sockets, t...</td>\n",
       "      <td>SHOPBELL</td>\n",
       "      <td>14790</td>\n",
       "    </tr>\n",
       "  </tbody>\n",
       "</table>\n",
       "<p>2736761 rows × 5 columns</p>\n",
       "</div>"
      ],
      "text/plain": [
       "                                                     TITLE  \\\n",
       "0               Pete The Cat Bedtime Blues Doll, 14.5 Inch   \n",
       "1        The New Yorker NYHM014 Refrigerator Magnet, 2 ...   \n",
       "2        The Ultimate Self-Sufficiency Handbook: A Comp...   \n",
       "3         Amway Nutrilite Kids Chewable Iron Tablets (100)   \n",
       "5        Men'S Full Sleeve Raglan T-Shirts Denim T-Shir...   \n",
       "...                                                    ...   \n",
       "2903018  The NXT LVL Liquid Silicone Soft Back Cover Ca...   \n",
       "2903019  Premium Aviator Sunglasses - HD Polarized (Bri...   \n",
       "2903020  Social Distance Stickers - Set of 5 Sticker Sl...   \n",
       "2903021  Torr-to Face Shield PACK OF 5 with Adjustable ...   \n",
       "2903022  Type-C to 3.5 MM for Oppo R17 Pro Type-C to 3....   \n",
       "\n",
       "                                               DESCRIPTION  \\\n",
       "0        Pete the Cat is the coolest, most popular cat ...   \n",
       "1        The New Yorker Handsome Cello Wrapped Hard Mag...   \n",
       "2                                                      NaN   \n",
       "3                                                      NaN   \n",
       "5        Men'S Full Sleeve Raglan T-Shirts Denim T-Shir...   \n",
       "...                                                    ...   \n",
       "2903018  Product color may slightly vary due to photogr...   \n",
       "2903019  These premium Aviator Sunglasses with 5 color ...   \n",
       "2903020  set of 5 prints social distancing sticker self...   \n",
       "2903021  * COMPLETE FACE PROTECTION: Torr-to Face Shiel...   \n",
       "2903022  Still want to use your favorite earphones/head...   \n",
       "\n",
       "                                             BULLET_POINTS              BRAND  \\\n",
       "0        [Pete the Cat Bedtime Blues plush doll,Based o...        MerryMakers   \n",
       "1        [Cat In A Tea Cup by New Yorker cover artist G...     The New Yorker   \n",
       "2                                      Skyhorse Publishing             imusti   \n",
       "3        [Nutrilite Kids,Chewable Iron Tablets,Quantity...              Amway   \n",
       "5        [Color: Blue,Sleeve: Full Sleeve,Material: Cot...  Bhavya Enterprise   \n",
       "...                                                    ...                ...   \n",
       "2903018  [Liquid silicone case compatible with apple pr...            Generic   \n",
       "2903019  [Frame size: Lens height - 56mm, Lens width - ...            Generic   \n",
       "2903020  [covid19 safety sticker - set of 5 to maintain...            Generic   \n",
       "2903021  [350 MICRONS PACK OF 5 PCS,COMPLETE FACE PROTE...            TORR-TO   \n",
       "2903022  [Indian Connectors: Made for Indian sockets, t...           SHOPBELL   \n",
       "\n",
       "         BROWSE_NODE_ID  \n",
       "0                     0  \n",
       "1                     1  \n",
       "2                     2  \n",
       "3                     3  \n",
       "5                     5  \n",
       "...                 ...  \n",
       "2903018          794481  \n",
       "2903019            1040  \n",
       "2903020           15199  \n",
       "2903021         1044933  \n",
       "2903022           14790  \n",
       "\n",
       "[2736761 rows x 5 columns]"
      ]
     },
     "execution_count": 23,
     "metadata": {},
     "output_type": "execute_result"
    }
   ],
   "source": [
    "dataset_onlyfloat[dataset_onlyfloat['BULLET_POINTS'].apply(type) == type('csdv')]"
   ]
  },
  {
   "cell_type": "code",
   "execution_count": 34,
   "id": "6743433b",
   "metadata": {
    "ExecuteTime": {
     "end_time": "2021-07-30T09:31:42.297644Z",
     "start_time": "2021-07-30T09:31:41.791392Z"
    },
    "hidden": true
   },
   "outputs": [
    {
     "data": {
      "text/plain": [
       "<class 'str'>      2846287\n",
       "<class 'float'>      56737\n",
       "Name: BRAND, dtype: int64"
      ]
     },
     "execution_count": 34,
     "metadata": {},
     "output_type": "execute_result"
    }
   ],
   "source": [
    "dataset['BRAND'].apply(type).value_counts()"
   ]
  },
  {
   "cell_type": "markdown",
   "id": "99cb3fa5",
   "metadata": {
    "heading_collapsed": true
   },
   "source": [
    "# **DATA PREPROCESSING**"
   ]
  },
  {
   "cell_type": "markdown",
   "id": "693acf61",
   "metadata": {
    "heading_collapsed": true,
    "hidden": true
   },
   "source": [
    "## Dropping Description"
   ]
  },
  {
   "cell_type": "code",
   "execution_count": 20,
   "id": "b4d02d86",
   "metadata": {
    "ExecuteTime": {
     "end_time": "2021-07-30T14:31:25.383292Z",
     "start_time": "2021-07-30T14:31:22.179314Z"
    },
    "hidden": true
   },
   "outputs": [],
   "source": [
    "dataset.drop(columns='DESCRIPTION', inplace = True)"
   ]
  },
  {
   "cell_type": "markdown",
   "id": "25d49607",
   "metadata": {
    "heading_collapsed": true,
    "hidden": true
   },
   "source": [
    "## Handling Duplicates"
   ]
  },
  {
   "cell_type": "code",
   "execution_count": 5,
   "id": "1a62cf0f",
   "metadata": {
    "ExecuteTime": {
     "end_time": "2021-07-30T11:23:39.796443Z",
     "start_time": "2021-07-30T11:23:32.959287Z"
    },
    "hidden": true
   },
   "outputs": [],
   "source": [
    "#Handling Duplicates\n",
    "dataset.drop_duplicates(inplace=True)"
   ]
  },
  {
   "cell_type": "markdown",
   "id": "320f9225",
   "metadata": {
    "heading_collapsed": true,
    "hidden": true
   },
   "source": [
    "## Handling **Nulls**"
   ]
  },
  {
   "cell_type": "markdown",
   "id": "b1ca658c",
   "metadata": {
    "hidden": true
   },
   "source": [
    "All nulls in all columns, will be replaced by **'OTHERS'**"
   ]
  },
  {
   "cell_type": "code",
   "execution_count": 7,
   "id": "d9180d0c",
   "metadata": {
    "ExecuteTime": {
     "end_time": "2021-07-30T11:24:16.196692Z",
     "start_time": "2021-07-30T11:24:15.411605Z"
    },
    "hidden": true
   },
   "outputs": [],
   "source": [
    "#Filling Nulls with OTHERS\n",
    "dataset.fillna('OTHERS', inplace=True)"
   ]
  },
  {
   "cell_type": "code",
   "execution_count": 8,
   "id": "e7c22a08",
   "metadata": {
    "ExecuteTime": {
     "end_time": "2021-07-30T11:24:18.403412Z",
     "start_time": "2021-07-30T11:24:17.693804Z"
    },
    "hidden": true
   },
   "outputs": [
    {
     "data": {
      "text/plain": [
       "TITLE             0\n",
       "DESCRIPTION       0\n",
       "BULLET_POINTS     0\n",
       "BRAND             0\n",
       "BROWSE_NODE_ID    0\n",
       "dtype: int64"
      ]
     },
     "execution_count": 8,
     "metadata": {},
     "output_type": "execute_result"
    }
   ],
   "source": [
    "dataset.isna().sum()"
   ]
  },
  {
   "cell_type": "markdown",
   "id": "fe4cdca6",
   "metadata": {
    "heading_collapsed": true,
    "hidden": true
   },
   "source": [
    "## Handling **BULLET_POINTS**"
   ]
  },
  {
   "cell_type": "markdown",
   "id": "25dbeb06",
   "metadata": {
    "hidden": true
   },
   "source": [
    "BULLET_POINTS contains a string either **containing** '[]' denoting it is a list of strings or **not containing** '[]' denoting there is only one Bullet Point. Will convert Bullet Points into That specific format"
   ]
  },
  {
   "cell_type": "code",
   "execution_count": 9,
   "id": "798b7345",
   "metadata": {
    "ExecuteTime": {
     "end_time": "2021-07-30T11:24:26.658277Z",
     "start_time": "2021-07-30T11:24:26.640359Z"
    },
    "hidden": true
   },
   "outputs": [
    {
     "name": "stdout",
     "output_type": "stream",
     "text": [
      "[Pete the Cat Bedtime Blues plush doll,Based on the popular Pete the Cat books by James Dean,Super cuddly and ready for naptime and bedtime,Safe for all ages, perfect for ages 2 and up,Measures 14. 5 inches]\n",
      "\n",
      "\n",
      "[Cat In A Tea Cup by New Yorker cover artist Gurbuz Dogan Eksioglu,Handsome cello wrapped hard magnet,Ideal for home or office, or for a gift and for any New Yorker magazine lover,It highlight one of the many beautiful New Yorker covers in full color,Rigid magnet measures 2. 5-Inch width by 3. 5-Inch height]\n",
      "\n",
      "\n",
      "Skyhorse Publishing\n",
      "\n",
      "\n",
      "[Nutrilite Kids,Chewable Iron Tablets,Quantity 100 tablets]\n",
      "\n",
      "\n",
      "OTHERS\n",
      "\n",
      "\n",
      "[Color: Blue,Sleeve: Full Sleeve,Material: Cotton,Neck: Round]\n"
     ]
    }
   ],
   "source": [
    "print(dataset['BULLET_POINTS'][0])\n",
    "print('\\n')\n",
    "print(dataset['BULLET_POINTS'][1])\n",
    "print('\\n')\n",
    "print(dataset['BULLET_POINTS'][2])\n",
    "print('\\n')\n",
    "print(dataset['BULLET_POINTS'][3])\n",
    "print('\\n')\n",
    "print(dataset['BULLET_POINTS'][4])\n",
    "print('\\n')\n",
    "print(dataset['BULLET_POINTS'][5])"
   ]
  },
  {
   "cell_type": "code",
   "execution_count": 10,
   "id": "9437ea4e",
   "metadata": {
    "ExecuteTime": {
     "end_time": "2021-07-30T11:24:44.164685Z",
     "start_time": "2021-07-30T11:24:31.135424Z"
    },
    "hidden": true
   },
   "outputs": [
    {
     "name": "stderr",
     "output_type": "stream",
     "text": [
      "<ipython-input-10-88901d48649c>:2: FutureWarning: The default value of regex will change from True to False in a future version. In addition, single character regular expressions will*not* be treated as literal strings when regex=True.\n",
      "  dataset['BULLET_POINTS'] = dataset['BULLET_POINTS'].str.replace('[', '')\n",
      "<ipython-input-10-88901d48649c>:3: FutureWarning: The default value of regex will change from True to False in a future version. In addition, single character regular expressions will*not* be treated as literal strings when regex=True.\n",
      "  dataset['BULLET_POINTS'] = dataset['BULLET_POINTS'].str.replace(']', '')\n"
     ]
    }
   ],
   "source": [
    "#Replacing ] and [ with ''\n",
    "dataset['BULLET_POINTS'] = dataset['BULLET_POINTS'].str.replace('[', '')\n",
    "dataset['BULLET_POINTS'] = dataset['BULLET_POINTS'].str.replace(']', '')"
   ]
  },
  {
   "cell_type": "code",
   "execution_count": 11,
   "id": "3c09564e",
   "metadata": {
    "ExecuteTime": {
     "end_time": "2021-07-30T11:24:46.381115Z",
     "start_time": "2021-07-30T11:24:46.367115Z"
    },
    "hidden": true
   },
   "outputs": [
    {
     "name": "stdout",
     "output_type": "stream",
     "text": [
      "Pete the Cat Bedtime Blues plush doll,Based on the popular Pete the Cat books by James Dean,Super cuddly and ready for naptime and bedtime,Safe for all ages, perfect for ages 2 and up,Measures 14. 5 inches\n",
      "\n",
      "\n",
      "Cat In A Tea Cup by New Yorker cover artist Gurbuz Dogan Eksioglu,Handsome cello wrapped hard magnet,Ideal for home or office, or for a gift and for any New Yorker magazine lover,It highlight one of the many beautiful New Yorker covers in full color,Rigid magnet measures 2. 5-Inch width by 3. 5-Inch height\n",
      "\n",
      "\n",
      "Skyhorse Publishing\n",
      "\n",
      "\n",
      "Nutrilite Kids,Chewable Iron Tablets,Quantity 100 tablets\n",
      "\n",
      "\n",
      "OTHERS\n",
      "\n",
      "\n",
      "Color: Blue,Sleeve: Full Sleeve,Material: Cotton,Neck: Round\n"
     ]
    }
   ],
   "source": [
    "print(dataset['BULLET_POINTS'][0])\n",
    "print('\\n')\n",
    "print(dataset['BULLET_POINTS'][1])\n",
    "print('\\n')\n",
    "print(dataset['BULLET_POINTS'][2])\n",
    "print('\\n')\n",
    "print(dataset['BULLET_POINTS'][3])\n",
    "print('\\n')\n",
    "print(dataset['BULLET_POINTS'][4])\n",
    "print('\\n')\n",
    "print(dataset['BULLET_POINTS'][5])"
   ]
  },
  {
   "cell_type": "code",
   "execution_count": 12,
   "id": "c4558962",
   "metadata": {
    "ExecuteTime": {
     "end_time": "2021-07-30T11:25:02.205591Z",
     "start_time": "2021-07-30T11:24:53.329302Z"
    },
    "hidden": true
   },
   "outputs": [],
   "source": [
    "#Converting BULLET_POINTS from comma seperated values to list containing values\n",
    "dataset['BULLET_POINTS'] = dataset['BULLET_POINTS'].map(lambda x: x.split(','))"
   ]
  },
  {
   "cell_type": "code",
   "execution_count": 13,
   "id": "d451878b",
   "metadata": {
    "ExecuteTime": {
     "end_time": "2021-07-30T11:25:12.812926Z",
     "start_time": "2021-07-30T11:25:12.260461Z"
    },
    "hidden": true
   },
   "outputs": [
    {
     "data": {
      "text/plain": [
       "<class 'list'>    2801530\n",
       "Name: BULLET_POINTS, dtype: int64"
      ]
     },
     "execution_count": 13,
     "metadata": {},
     "output_type": "execute_result"
    }
   ],
   "source": [
    "dataset['BULLET_POINTS'].apply(type).value_counts()"
   ]
  },
  {
   "cell_type": "markdown",
   "id": "ba34ea63",
   "metadata": {
    "heading_collapsed": true,
    "hidden": true
   },
   "source": [
    "## Dumping/Loading"
   ]
  },
  {
   "cell_type": "code",
   "execution_count": 14,
   "id": "73eed38c",
   "metadata": {
    "ExecuteTime": {
     "end_time": "2021-07-30T11:25:36.669766Z",
     "start_time": "2021-07-30T11:25:24.726187Z"
    },
    "hidden": true
   },
   "outputs": [],
   "source": [
    "#Dumping\n",
    "joblib.dump('V1', compress='zlib')"
   ]
  },
  {
   "cell_type": "code",
   "execution_count": 33,
   "id": "75c8eaeb",
   "metadata": {
    "ExecuteTime": {
     "end_time": "2021-07-30T20:07:46.993069Z",
     "start_time": "2021-07-30T19:57:52.222566Z"
    },
    "hidden": true
   },
   "outputs": [],
   "source": [
    "#Loading\n",
    "dataset = joblib.load('V1')"
   ]
  },
  {
   "cell_type": "code",
   "execution_count": 37,
   "id": "8f905b99",
   "metadata": {
    "ExecuteTime": {
     "end_time": "2021-07-30T20:17:22.536684Z",
     "start_time": "2021-07-30T20:17:22.214988Z"
    },
    "hidden": true
   },
   "outputs": [],
   "source": [
    "dataset_original = dataset.copy()\n",
    "dataset_temp = dataset.iloc[:10000,:].copy()"
   ]
  },
  {
   "cell_type": "markdown",
   "id": "1bb851f8",
   "metadata": {},
   "source": [
    "# **NLP**"
   ]
  },
  {
   "cell_type": "markdown",
   "id": "7eb097b5",
   "metadata": {},
   "source": [
    "## Preprocessing"
   ]
  },
  {
   "cell_type": "code",
   "execution_count": 35,
   "id": "0a622599",
   "metadata": {
    "ExecuteTime": {
     "end_time": "2021-07-30T20:12:18.012787Z",
     "start_time": "2021-07-30T20:12:16.638622Z"
    }
   },
   "outputs": [],
   "source": [
    "# Tokenize\n",
    "dataset_temp['TITLE'] = dataset_temp['TITLE'].apply(word_tokenize)"
   ]
  },
  {
   "cell_type": "code",
   "execution_count": 29,
   "id": "146105b6",
   "metadata": {
    "ExecuteTime": {
     "end_time": "2021-07-30T19:54:27.486810Z",
     "start_time": "2021-07-30T19:54:27.257463Z"
    }
   },
   "outputs": [
    {
     "name": "stderr",
     "output_type": "stream",
     "text": [
      "C:\\Users\\AYUSH~1.BAJ\\AppData\\Local\\Temp/ipykernel_4940/4247752062.py:6: SettingWithCopyWarning: \n",
      "A value is trying to be set on a copy of a slice from a DataFrame.\n",
      "Try using .loc[row_indexer,col_indexer] = value instead\n",
      "\n",
      "See the caveats in the documentation: https://pandas.pydata.org/pandas-docs/stable/user_guide/indexing.html#returning-a-view-versus-a-copy\n",
      "  dataset_temp['TITLE'] = dataset_temp['TITLE'].apply(remove_punc)\n"
     ]
    }
   ],
   "source": [
    "def remove_punc(x):\n",
    "    x = [''.join(c for c in s if c not in string.punctuation) for s in x]\n",
    "    x = [s for s in x if s]\n",
    "    return x\n",
    "\n",
    "dataset_temp['TITLE'] = dataset_temp['TITLE'].apply(remove_punc)"
   ]
  },
  {
   "cell_type": "code",
   "execution_count": 38,
   "id": "f5f3042b",
   "metadata": {
    "ExecuteTime": {
     "end_time": "2021-07-30T20:17:26.297926Z",
     "start_time": "2021-07-30T20:17:26.278861Z"
    },
    "collapsed": true
   },
   "outputs": [
    {
     "data": {
      "text/html": [
       "<div>\n",
       "<style scoped>\n",
       "    .dataframe tbody tr th:only-of-type {\n",
       "        vertical-align: middle;\n",
       "    }\n",
       "\n",
       "    .dataframe tbody tr th {\n",
       "        vertical-align: top;\n",
       "    }\n",
       "\n",
       "    .dataframe thead th {\n",
       "        text-align: right;\n",
       "    }\n",
       "</style>\n",
       "<table border=\"1\" class=\"dataframe\">\n",
       "  <thead>\n",
       "    <tr style=\"text-align: right;\">\n",
       "      <th></th>\n",
       "      <th>TITLE</th>\n",
       "      <th>BULLET_POINTS</th>\n",
       "      <th>BRAND</th>\n",
       "      <th>BROWSE_NODE_ID</th>\n",
       "    </tr>\n",
       "  </thead>\n",
       "  <tbody>\n",
       "    <tr>\n",
       "      <th>0</th>\n",
       "      <td>Pete The Cat Bedtime Blues Doll, 14.5 Inch</td>\n",
       "      <td>[Pete the Cat Bedtime Blues plush doll, Based ...</td>\n",
       "      <td>MerryMakers</td>\n",
       "      <td>0</td>\n",
       "    </tr>\n",
       "    <tr>\n",
       "      <th>1</th>\n",
       "      <td>The New Yorker NYHM014 Refrigerator Magnet, 2 ...</td>\n",
       "      <td>[Cat In A Tea Cup by New Yorker cover artist G...</td>\n",
       "      <td>The New Yorker</td>\n",
       "      <td>1</td>\n",
       "    </tr>\n",
       "    <tr>\n",
       "      <th>2</th>\n",
       "      <td>The Ultimate Self-Sufficiency Handbook: A Comp...</td>\n",
       "      <td>[Skyhorse Publishing]</td>\n",
       "      <td>imusti</td>\n",
       "      <td>2</td>\n",
       "    </tr>\n",
       "    <tr>\n",
       "      <th>3</th>\n",
       "      <td>Amway Nutrilite Kids Chewable Iron Tablets (100)</td>\n",
       "      <td>[Nutrilite Kids, Chewable Iron Tablets, Quanti...</td>\n",
       "      <td>Amway</td>\n",
       "      <td>3</td>\n",
       "    </tr>\n",
       "    <tr>\n",
       "      <th>4</th>\n",
       "      <td>Teacher Planner Company A4 6 Lesson Academic T...</td>\n",
       "      <td>[OTHERS]</td>\n",
       "      <td>OTHERS</td>\n",
       "      <td>4</td>\n",
       "    </tr>\n",
       "    <tr>\n",
       "      <th>...</th>\n",
       "      <td>...</td>\n",
       "      <td>...</td>\n",
       "      <td>...</td>\n",
       "      <td>...</td>\n",
       "    </tr>\n",
       "    <tr>\n",
       "      <th>9998</th>\n",
       "      <td>Brass Tabla Set Brass Material … (Hammered Bra...</td>\n",
       "      <td>[Brass Bayan (Bass - Left Metal Drum) Head 9 t...</td>\n",
       "      <td>Fasherati</td>\n",
       "      <td>2603</td>\n",
       "    </tr>\n",
       "    <tr>\n",
       "      <th>9999</th>\n",
       "      <td>Max Men's Slim Fit Jeans (WI18CDGV08_Mid Blue_28)</td>\n",
       "      <td>[Color Name: Mid Blue, Material: Cotton, Zip f...</td>\n",
       "      <td>Max</td>\n",
       "      <td>40</td>\n",
       "    </tr>\n",
       "    <tr>\n",
       "      <th>10000</th>\n",
       "      <td>Gems Gallery Natural &amp; Pure Stone Crystal Bead...</td>\n",
       "      <td>[Rare and Precious gemstone like rose quartz a...</td>\n",
       "      <td>Gems Gallery</td>\n",
       "      <td>1010</td>\n",
       "    </tr>\n",
       "    <tr>\n",
       "      <th>10001</th>\n",
       "      <td>Max Men's Checkered Slim Fit Formal Shirt (FBW...</td>\n",
       "      <td>[Color Name: White, Material: Cotton, Long sle...</td>\n",
       "      <td>Max</td>\n",
       "      <td>1254</td>\n",
       "    </tr>\n",
       "    <tr>\n",
       "      <th>10002</th>\n",
       "      <td>Oris Root Shalimar Ulfat Digital Printed Cotto...</td>\n",
       "      <td>[Shalimar Ulfat Mughal Throw Pillow 16 x 16 in...</td>\n",
       "      <td>Oris Root</td>\n",
       "      <td>912</td>\n",
       "    </tr>\n",
       "  </tbody>\n",
       "</table>\n",
       "<p>10000 rows × 4 columns</p>\n",
       "</div>"
      ],
      "text/plain": [
       "                                                   TITLE  \\\n",
       "0             Pete The Cat Bedtime Blues Doll, 14.5 Inch   \n",
       "1      The New Yorker NYHM014 Refrigerator Magnet, 2 ...   \n",
       "2      The Ultimate Self-Sufficiency Handbook: A Comp...   \n",
       "3       Amway Nutrilite Kids Chewable Iron Tablets (100)   \n",
       "4      Teacher Planner Company A4 6 Lesson Academic T...   \n",
       "...                                                  ...   \n",
       "9998   Brass Tabla Set Brass Material … (Hammered Bra...   \n",
       "9999   Max Men's Slim Fit Jeans (WI18CDGV08_Mid Blue_28)   \n",
       "10000  Gems Gallery Natural & Pure Stone Crystal Bead...   \n",
       "10001  Max Men's Checkered Slim Fit Formal Shirt (FBW...   \n",
       "10002  Oris Root Shalimar Ulfat Digital Printed Cotto...   \n",
       "\n",
       "                                           BULLET_POINTS           BRAND  \\\n",
       "0      [Pete the Cat Bedtime Blues plush doll, Based ...     MerryMakers   \n",
       "1      [Cat In A Tea Cup by New Yorker cover artist G...  The New Yorker   \n",
       "2                                  [Skyhorse Publishing]          imusti   \n",
       "3      [Nutrilite Kids, Chewable Iron Tablets, Quanti...           Amway   \n",
       "4                                               [OTHERS]          OTHERS   \n",
       "...                                                  ...             ...   \n",
       "9998   [Brass Bayan (Bass - Left Metal Drum) Head 9 t...       Fasherati   \n",
       "9999   [Color Name: Mid Blue, Material: Cotton, Zip f...             Max   \n",
       "10000  [Rare and Precious gemstone like rose quartz a...    Gems Gallery   \n",
       "10001  [Color Name: White, Material: Cotton, Long sle...             Max   \n",
       "10002  [Shalimar Ulfat Mughal Throw Pillow 16 x 16 in...       Oris Root   \n",
       "\n",
       "       BROWSE_NODE_ID  \n",
       "0                   0  \n",
       "1                   1  \n",
       "2                   2  \n",
       "3                   3  \n",
       "4                   4  \n",
       "...               ...  \n",
       "9998             2603  \n",
       "9999               40  \n",
       "10000            1010  \n",
       "10001            1254  \n",
       "10002             912  \n",
       "\n",
       "[10000 rows x 4 columns]"
      ]
     },
     "execution_count": 38,
     "metadata": {},
     "output_type": "execute_result"
    }
   ],
   "source": [
    "dataset_temp"
   ]
  },
  {
   "cell_type": "code",
   "execution_count": 39,
   "id": "50b187aa",
   "metadata": {
    "ExecuteTime": {
     "end_time": "2021-07-30T20:19:39.715103Z",
     "start_time": "2021-07-30T20:19:39.710078Z"
    }
   },
   "outputs": [],
   "source": [
    "X = dataset_temp['TITLE']\n",
    "y = dataset_temp['BROWSE_NODE_ID']"
   ]
  },
  {
   "cell_type": "code",
   "execution_count": 41,
   "id": "1031651c",
   "metadata": {
    "ExecuteTime": {
     "end_time": "2021-07-30T20:20:39.051602Z",
     "start_time": "2021-07-30T20:20:39.018683Z"
    }
   },
   "outputs": [],
   "source": [
    "X_train, X_test, y_train, y_test = train_test_split(X, y, test_size=0.3, random_state = 42)"
   ]
  },
  {
   "cell_type": "code",
   "execution_count": 43,
   "id": "b4f0c04e",
   "metadata": {
    "ExecuteTime": {
     "end_time": "2021-07-30T20:23:48.465151Z",
     "start_time": "2021-07-30T20:23:46.871662Z"
    }
   },
   "outputs": [
    {
     "data": {
      "text/plain": [
       "Pipeline(steps=[('vect', CountVectorizer()), ('tfidf', TfidfTransformer()),\n",
       "                ('clf', MultinomialNB())])"
      ]
     },
     "execution_count": 43,
     "metadata": {},
     "output_type": "execute_result"
    }
   ],
   "source": [
    "from sklearn.naive_bayes import MultinomialNB\n",
    "from sklearn.pipeline import Pipeline\n",
    "from sklearn.feature_extraction.text import TfidfTransformer\n",
    "\n",
    "nb = Pipeline([('vect', CountVectorizer()),\n",
    "               ('tfidf', TfidfTransformer()),\n",
    "               ('clf', MultinomialNB()),\n",
    "              ])\n",
    "nb.fit(X_train, y_train)"
   ]
  },
  {
   "cell_type": "code",
   "execution_count": 47,
   "id": "ef3c23b6",
   "metadata": {
    "ExecuteTime": {
     "end_time": "2021-07-30T20:26:29.826090Z",
     "start_time": "2021-07-30T20:26:29.272512Z"
    },
    "scrolled": true
   },
   "outputs": [
    {
     "name": "stdout",
     "output_type": "stream",
     "text": [
      "accuracy 0.138\n",
      "Wall time: 548 ms\n"
     ]
    }
   ],
   "source": [
    "%%time\n",
    "from sklearn.metrics import classification_report\n",
    "y_pred = nb.predict(X_test)\n",
    "\n",
    "print('accuracy %s' % accuracy_score(y_pred, y_test))\n",
    "# print(classification_report(y_test, y_pred))"
   ]
  },
  {
   "cell_type": "code",
   "execution_count": 50,
   "id": "94f695ba",
   "metadata": {
    "ExecuteTime": {
     "end_time": "2021-07-30T20:28:26.157672Z",
     "start_time": "2021-07-30T20:28:26.141685Z"
    }
   },
   "outputs": [
    {
     "data": {
      "text/plain": [
       "(100000, 4)"
      ]
     },
     "execution_count": 50,
     "metadata": {},
     "output_type": "execute_result"
    }
   ],
   "source": [
    "dataset_temp = dataset.iloc[:100000,:].copy()\n",
    "dataset_temp.shape"
   ]
  },
  {
   "cell_type": "code",
   "execution_count": 51,
   "id": "ece13c09",
   "metadata": {
    "ExecuteTime": {
     "end_time": "2021-07-30T20:28:45.400136Z",
     "start_time": "2021-07-30T20:28:39.049762Z"
    }
   },
   "outputs": [
    {
     "ename": "MemoryError",
     "evalue": "Unable to allocate 2.63 GiB for an array with shape (353640000,) and data type float64",
     "output_type": "error",
     "traceback": [
      "\u001b[1;31m---------------------------------------------------------------------------\u001b[0m",
      "\u001b[1;31mMemoryError\u001b[0m                               Traceback (most recent call last)",
      "\u001b[1;32mC:\\Users\\AYUSH~1.BAJ\\AppData\\Local\\Temp/ipykernel_4940/3288596574.py\u001b[0m in \u001b[0;36m<module>\u001b[1;34m\u001b[0m\n\u001b[0;32m     12\u001b[0m                \u001b[1;33m(\u001b[0m\u001b[1;34m'clf'\u001b[0m\u001b[1;33m,\u001b[0m \u001b[0mMultinomialNB\u001b[0m\u001b[1;33m(\u001b[0m\u001b[1;33m)\u001b[0m\u001b[1;33m)\u001b[0m\u001b[1;33m,\u001b[0m\u001b[1;33m\u001b[0m\u001b[1;33m\u001b[0m\u001b[0m\n\u001b[0;32m     13\u001b[0m               ])\n\u001b[1;32m---> 14\u001b[1;33m \u001b[0mnb\u001b[0m\u001b[1;33m.\u001b[0m\u001b[0mfit\u001b[0m\u001b[1;33m(\u001b[0m\u001b[0mX_train\u001b[0m\u001b[1;33m,\u001b[0m \u001b[0my_train\u001b[0m\u001b[1;33m)\u001b[0m\u001b[1;33m\u001b[0m\u001b[1;33m\u001b[0m\u001b[0m\n\u001b[0m\u001b[0;32m     15\u001b[0m \u001b[1;33m\u001b[0m\u001b[0m\n\u001b[0;32m     16\u001b[0m \u001b[0mget_ipython\u001b[0m\u001b[1;33m(\u001b[0m\u001b[1;33m)\u001b[0m\u001b[1;33m.\u001b[0m\u001b[0mrun_line_magic\u001b[0m\u001b[1;33m(\u001b[0m\u001b[1;34m'%time'\u001b[0m\u001b[1;33m,\u001b[0m \u001b[1;34m''\u001b[0m\u001b[1;33m)\u001b[0m\u001b[1;33m\u001b[0m\u001b[1;33m\u001b[0m\u001b[0m\n",
      "\u001b[1;32mc:\\users\\ayush.bajpayee\\.conda\\envs\\amazon_hackathon\\lib\\site-packages\\sklearn\\pipeline.py\u001b[0m in \u001b[0;36mfit\u001b[1;34m(self, X, y, **fit_params)\u001b[0m\n\u001b[0;32m    344\u001b[0m             \u001b[1;32mif\u001b[0m \u001b[0mself\u001b[0m\u001b[1;33m.\u001b[0m\u001b[0m_final_estimator\u001b[0m \u001b[1;33m!=\u001b[0m \u001b[1;34m'passthrough'\u001b[0m\u001b[1;33m:\u001b[0m\u001b[1;33m\u001b[0m\u001b[1;33m\u001b[0m\u001b[0m\n\u001b[0;32m    345\u001b[0m                 \u001b[0mfit_params_last_step\u001b[0m \u001b[1;33m=\u001b[0m \u001b[0mfit_params_steps\u001b[0m\u001b[1;33m[\u001b[0m\u001b[0mself\u001b[0m\u001b[1;33m.\u001b[0m\u001b[0msteps\u001b[0m\u001b[1;33m[\u001b[0m\u001b[1;33m-\u001b[0m\u001b[1;36m1\u001b[0m\u001b[1;33m]\u001b[0m\u001b[1;33m[\u001b[0m\u001b[1;36m0\u001b[0m\u001b[1;33m]\u001b[0m\u001b[1;33m]\u001b[0m\u001b[1;33m\u001b[0m\u001b[1;33m\u001b[0m\u001b[0m\n\u001b[1;32m--> 346\u001b[1;33m                 \u001b[0mself\u001b[0m\u001b[1;33m.\u001b[0m\u001b[0m_final_estimator\u001b[0m\u001b[1;33m.\u001b[0m\u001b[0mfit\u001b[0m\u001b[1;33m(\u001b[0m\u001b[0mXt\u001b[0m\u001b[1;33m,\u001b[0m \u001b[0my\u001b[0m\u001b[1;33m,\u001b[0m \u001b[1;33m**\u001b[0m\u001b[0mfit_params_last_step\u001b[0m\u001b[1;33m)\u001b[0m\u001b[1;33m\u001b[0m\u001b[1;33m\u001b[0m\u001b[0m\n\u001b[0m\u001b[0;32m    347\u001b[0m \u001b[1;33m\u001b[0m\u001b[0m\n\u001b[0;32m    348\u001b[0m         \u001b[1;32mreturn\u001b[0m \u001b[0mself\u001b[0m\u001b[1;33m\u001b[0m\u001b[1;33m\u001b[0m\u001b[0m\n",
      "\u001b[1;32mc:\\users\\ayush.bajpayee\\.conda\\envs\\amazon_hackathon\\lib\\site-packages\\sklearn\\naive_bayes.py\u001b[0m in \u001b[0;36mfit\u001b[1;34m(self, X, y, sample_weight)\u001b[0m\n\u001b[0;32m    636\u001b[0m \u001b[1;33m\u001b[0m\u001b[0m\n\u001b[0;32m    637\u001b[0m         \u001b[0mself\u001b[0m\u001b[1;33m.\u001b[0m\u001b[0m_init_counters\u001b[0m\u001b[1;33m(\u001b[0m\u001b[0mn_effective_classes\u001b[0m\u001b[1;33m,\u001b[0m \u001b[0mn_features\u001b[0m\u001b[1;33m)\u001b[0m\u001b[1;33m\u001b[0m\u001b[1;33m\u001b[0m\u001b[0m\n\u001b[1;32m--> 638\u001b[1;33m         \u001b[0mself\u001b[0m\u001b[1;33m.\u001b[0m\u001b[0m_count\u001b[0m\u001b[1;33m(\u001b[0m\u001b[0mX\u001b[0m\u001b[1;33m,\u001b[0m \u001b[0mY\u001b[0m\u001b[1;33m)\u001b[0m\u001b[1;33m\u001b[0m\u001b[1;33m\u001b[0m\u001b[0m\n\u001b[0m\u001b[0;32m    639\u001b[0m         \u001b[0malpha\u001b[0m \u001b[1;33m=\u001b[0m \u001b[0mself\u001b[0m\u001b[1;33m.\u001b[0m\u001b[0m_check_alpha\u001b[0m\u001b[1;33m(\u001b[0m\u001b[1;33m)\u001b[0m\u001b[1;33m\u001b[0m\u001b[1;33m\u001b[0m\u001b[0m\n\u001b[0;32m    640\u001b[0m         \u001b[0mself\u001b[0m\u001b[1;33m.\u001b[0m\u001b[0m_update_feature_log_prob\u001b[0m\u001b[1;33m(\u001b[0m\u001b[0malpha\u001b[0m\u001b[1;33m)\u001b[0m\u001b[1;33m\u001b[0m\u001b[1;33m\u001b[0m\u001b[0m\n",
      "\u001b[1;32mc:\\users\\ayush.bajpayee\\.conda\\envs\\amazon_hackathon\\lib\\site-packages\\sklearn\\naive_bayes.py\u001b[0m in \u001b[0;36m_count\u001b[1;34m(self, X, Y)\u001b[0m\n\u001b[0;32m    770\u001b[0m         \u001b[1;34m\"\"\"Count and smooth feature occurrences.\"\"\"\u001b[0m\u001b[1;33m\u001b[0m\u001b[1;33m\u001b[0m\u001b[0m\n\u001b[0;32m    771\u001b[0m         \u001b[0mcheck_non_negative\u001b[0m\u001b[1;33m(\u001b[0m\u001b[0mX\u001b[0m\u001b[1;33m,\u001b[0m \u001b[1;34m\"MultinomialNB (input X)\"\u001b[0m\u001b[1;33m)\u001b[0m\u001b[1;33m\u001b[0m\u001b[1;33m\u001b[0m\u001b[0m\n\u001b[1;32m--> 772\u001b[1;33m         \u001b[0mself\u001b[0m\u001b[1;33m.\u001b[0m\u001b[0mfeature_count_\u001b[0m \u001b[1;33m+=\u001b[0m \u001b[0msafe_sparse_dot\u001b[0m\u001b[1;33m(\u001b[0m\u001b[0mY\u001b[0m\u001b[1;33m.\u001b[0m\u001b[0mT\u001b[0m\u001b[1;33m,\u001b[0m \u001b[0mX\u001b[0m\u001b[1;33m)\u001b[0m\u001b[1;33m\u001b[0m\u001b[1;33m\u001b[0m\u001b[0m\n\u001b[0m\u001b[0;32m    773\u001b[0m         \u001b[0mself\u001b[0m\u001b[1;33m.\u001b[0m\u001b[0mclass_count_\u001b[0m \u001b[1;33m+=\u001b[0m \u001b[0mY\u001b[0m\u001b[1;33m.\u001b[0m\u001b[0msum\u001b[0m\u001b[1;33m(\u001b[0m\u001b[0maxis\u001b[0m\u001b[1;33m=\u001b[0m\u001b[1;36m0\u001b[0m\u001b[1;33m)\u001b[0m\u001b[1;33m\u001b[0m\u001b[1;33m\u001b[0m\u001b[0m\n\u001b[0;32m    774\u001b[0m \u001b[1;33m\u001b[0m\u001b[0m\n",
      "\u001b[1;32mc:\\users\\ayush.bajpayee\\.conda\\envs\\amazon_hackathon\\lib\\site-packages\\sklearn\\utils\\validation.py\u001b[0m in \u001b[0;36minner_f\u001b[1;34m(*args, **kwargs)\u001b[0m\n\u001b[0;32m     61\u001b[0m             \u001b[0mextra_args\u001b[0m \u001b[1;33m=\u001b[0m \u001b[0mlen\u001b[0m\u001b[1;33m(\u001b[0m\u001b[0margs\u001b[0m\u001b[1;33m)\u001b[0m \u001b[1;33m-\u001b[0m \u001b[0mlen\u001b[0m\u001b[1;33m(\u001b[0m\u001b[0mall_args\u001b[0m\u001b[1;33m)\u001b[0m\u001b[1;33m\u001b[0m\u001b[1;33m\u001b[0m\u001b[0m\n\u001b[0;32m     62\u001b[0m             \u001b[1;32mif\u001b[0m \u001b[0mextra_args\u001b[0m \u001b[1;33m<=\u001b[0m \u001b[1;36m0\u001b[0m\u001b[1;33m:\u001b[0m\u001b[1;33m\u001b[0m\u001b[1;33m\u001b[0m\u001b[0m\n\u001b[1;32m---> 63\u001b[1;33m                 \u001b[1;32mreturn\u001b[0m \u001b[0mf\u001b[0m\u001b[1;33m(\u001b[0m\u001b[1;33m*\u001b[0m\u001b[0margs\u001b[0m\u001b[1;33m,\u001b[0m \u001b[1;33m**\u001b[0m\u001b[0mkwargs\u001b[0m\u001b[1;33m)\u001b[0m\u001b[1;33m\u001b[0m\u001b[1;33m\u001b[0m\u001b[0m\n\u001b[0m\u001b[0;32m     64\u001b[0m \u001b[1;33m\u001b[0m\u001b[0m\n\u001b[0;32m     65\u001b[0m             \u001b[1;31m# extra_args > 0\u001b[0m\u001b[1;33m\u001b[0m\u001b[1;33m\u001b[0m\u001b[1;33m\u001b[0m\u001b[0m\n",
      "\u001b[1;32mc:\\users\\ayush.bajpayee\\.conda\\envs\\amazon_hackathon\\lib\\site-packages\\sklearn\\utils\\extmath.py\u001b[0m in \u001b[0;36msafe_sparse_dot\u001b[1;34m(a, b, dense_output)\u001b[0m\n\u001b[0;32m    150\u001b[0m             \u001b[0mret\u001b[0m \u001b[1;33m=\u001b[0m \u001b[0mnp\u001b[0m\u001b[1;33m.\u001b[0m\u001b[0mdot\u001b[0m\u001b[1;33m(\u001b[0m\u001b[0ma\u001b[0m\u001b[1;33m,\u001b[0m \u001b[0mb\u001b[0m\u001b[1;33m)\u001b[0m\u001b[1;33m\u001b[0m\u001b[1;33m\u001b[0m\u001b[0m\n\u001b[0;32m    151\u001b[0m     \u001b[1;32melse\u001b[0m\u001b[1;33m:\u001b[0m\u001b[1;33m\u001b[0m\u001b[1;33m\u001b[0m\u001b[0m\n\u001b[1;32m--> 152\u001b[1;33m         \u001b[0mret\u001b[0m \u001b[1;33m=\u001b[0m \u001b[0ma\u001b[0m \u001b[1;33m@\u001b[0m \u001b[0mb\u001b[0m\u001b[1;33m\u001b[0m\u001b[1;33m\u001b[0m\u001b[0m\n\u001b[0m\u001b[0;32m    153\u001b[0m \u001b[1;33m\u001b[0m\u001b[0m\n\u001b[0;32m    154\u001b[0m     if (sparse.issparse(a) and sparse.issparse(b)\n",
      "\u001b[1;32mc:\\users\\ayush.bajpayee\\.conda\\envs\\amazon_hackathon\\lib\\site-packages\\scipy\\sparse\\base.py\u001b[0m in \u001b[0;36m__rmatmul__\u001b[1;34m(self, other)\u001b[0m\n\u001b[0;32m    564\u001b[0m             raise ValueError(\"Scalar operands are not allowed, \"\n\u001b[0;32m    565\u001b[0m                              \"use '*' instead\")\n\u001b[1;32m--> 566\u001b[1;33m         \u001b[1;32mreturn\u001b[0m \u001b[0mself\u001b[0m\u001b[1;33m.\u001b[0m\u001b[0m__rmul__\u001b[0m\u001b[1;33m(\u001b[0m\u001b[0mother\u001b[0m\u001b[1;33m)\u001b[0m\u001b[1;33m\u001b[0m\u001b[1;33m\u001b[0m\u001b[0m\n\u001b[0m\u001b[0;32m    567\u001b[0m \u001b[1;33m\u001b[0m\u001b[0m\n\u001b[0;32m    568\u001b[0m     \u001b[1;31m####################\u001b[0m\u001b[1;33m\u001b[0m\u001b[1;33m\u001b[0m\u001b[1;33m\u001b[0m\u001b[0m\n",
      "\u001b[1;32mc:\\users\\ayush.bajpayee\\.conda\\envs\\amazon_hackathon\\lib\\site-packages\\scipy\\sparse\\base.py\u001b[0m in \u001b[0;36m__rmul__\u001b[1;34m(self, other)\u001b[0m\n\u001b[0;32m    548\u001b[0m             \u001b[1;32mexcept\u001b[0m \u001b[0mAttributeError\u001b[0m\u001b[1;33m:\u001b[0m\u001b[1;33m\u001b[0m\u001b[1;33m\u001b[0m\u001b[0m\n\u001b[0;32m    549\u001b[0m                 \u001b[0mtr\u001b[0m \u001b[1;33m=\u001b[0m \u001b[0mnp\u001b[0m\u001b[1;33m.\u001b[0m\u001b[0masarray\u001b[0m\u001b[1;33m(\u001b[0m\u001b[0mother\u001b[0m\u001b[1;33m)\u001b[0m\u001b[1;33m.\u001b[0m\u001b[0mtranspose\u001b[0m\u001b[1;33m(\u001b[0m\u001b[1;33m)\u001b[0m\u001b[1;33m\u001b[0m\u001b[1;33m\u001b[0m\u001b[0m\n\u001b[1;32m--> 550\u001b[1;33m             \u001b[1;32mreturn\u001b[0m \u001b[1;33m(\u001b[0m\u001b[0mself\u001b[0m\u001b[1;33m.\u001b[0m\u001b[0mtranspose\u001b[0m\u001b[1;33m(\u001b[0m\u001b[1;33m)\u001b[0m \u001b[1;33m*\u001b[0m \u001b[0mtr\u001b[0m\u001b[1;33m)\u001b[0m\u001b[1;33m.\u001b[0m\u001b[0mtranspose\u001b[0m\u001b[1;33m(\u001b[0m\u001b[1;33m)\u001b[0m\u001b[1;33m\u001b[0m\u001b[1;33m\u001b[0m\u001b[0m\n\u001b[0m\u001b[0;32m    551\u001b[0m \u001b[1;33m\u001b[0m\u001b[0m\n\u001b[0;32m    552\u001b[0m     \u001b[1;31m#######################\u001b[0m\u001b[1;33m\u001b[0m\u001b[1;33m\u001b[0m\u001b[1;33m\u001b[0m\u001b[0m\n",
      "\u001b[1;32mc:\\users\\ayush.bajpayee\\.conda\\envs\\amazon_hackathon\\lib\\site-packages\\scipy\\sparse\\base.py\u001b[0m in \u001b[0;36m__mul__\u001b[1;34m(self, other)\u001b[0m\n\u001b[0;32m    469\u001b[0m                 \u001b[1;32mreturn\u001b[0m \u001b[0mself\u001b[0m\u001b[1;33m.\u001b[0m\u001b[0m_mul_vector\u001b[0m\u001b[1;33m(\u001b[0m\u001b[0mother\u001b[0m\u001b[1;33m.\u001b[0m\u001b[0mravel\u001b[0m\u001b[1;33m(\u001b[0m\u001b[1;33m)\u001b[0m\u001b[1;33m)\u001b[0m\u001b[1;33m.\u001b[0m\u001b[0mreshape\u001b[0m\u001b[1;33m(\u001b[0m\u001b[0mM\u001b[0m\u001b[1;33m,\u001b[0m \u001b[1;36m1\u001b[0m\u001b[1;33m)\u001b[0m\u001b[1;33m\u001b[0m\u001b[1;33m\u001b[0m\u001b[0m\n\u001b[0;32m    470\u001b[0m             \u001b[1;32melif\u001b[0m \u001b[0mother\u001b[0m\u001b[1;33m.\u001b[0m\u001b[0mndim\u001b[0m \u001b[1;33m==\u001b[0m \u001b[1;36m2\u001b[0m \u001b[1;32mand\u001b[0m \u001b[0mother\u001b[0m\u001b[1;33m.\u001b[0m\u001b[0mshape\u001b[0m\u001b[1;33m[\u001b[0m\u001b[1;36m0\u001b[0m\u001b[1;33m]\u001b[0m \u001b[1;33m==\u001b[0m \u001b[0mN\u001b[0m\u001b[1;33m:\u001b[0m\u001b[1;33m\u001b[0m\u001b[1;33m\u001b[0m\u001b[0m\n\u001b[1;32m--> 471\u001b[1;33m                 \u001b[1;32mreturn\u001b[0m \u001b[0mself\u001b[0m\u001b[1;33m.\u001b[0m\u001b[0m_mul_multivector\u001b[0m\u001b[1;33m(\u001b[0m\u001b[0mother\u001b[0m\u001b[1;33m)\u001b[0m\u001b[1;33m\u001b[0m\u001b[1;33m\u001b[0m\u001b[0m\n\u001b[0m\u001b[0;32m    472\u001b[0m \u001b[1;33m\u001b[0m\u001b[0m\n\u001b[0;32m    473\u001b[0m         \u001b[1;32mif\u001b[0m \u001b[0misscalarlike\u001b[0m\u001b[1;33m(\u001b[0m\u001b[0mother\u001b[0m\u001b[1;33m)\u001b[0m\u001b[1;33m:\u001b[0m\u001b[1;33m\u001b[0m\u001b[1;33m\u001b[0m\u001b[0m\n",
      "\u001b[1;32mc:\\users\\ayush.bajpayee\\.conda\\envs\\amazon_hackathon\\lib\\site-packages\\scipy\\sparse\\compressed.py\u001b[0m in \u001b[0;36m_mul_multivector\u001b[1;34m(self, other)\u001b[0m\n\u001b[0;32m    489\u001b[0m         \u001b[1;31m# csr_matvecs or csc_matvecs\u001b[0m\u001b[1;33m\u001b[0m\u001b[1;33m\u001b[0m\u001b[1;33m\u001b[0m\u001b[0m\n\u001b[0;32m    490\u001b[0m         \u001b[0mfn\u001b[0m \u001b[1;33m=\u001b[0m \u001b[0mgetattr\u001b[0m\u001b[1;33m(\u001b[0m\u001b[0m_sparsetools\u001b[0m\u001b[1;33m,\u001b[0m \u001b[0mself\u001b[0m\u001b[1;33m.\u001b[0m\u001b[0mformat\u001b[0m \u001b[1;33m+\u001b[0m \u001b[1;34m'_matvecs'\u001b[0m\u001b[1;33m)\u001b[0m\u001b[1;33m\u001b[0m\u001b[1;33m\u001b[0m\u001b[0m\n\u001b[1;32m--> 491\u001b[1;33m         fn(M, N, n_vecs, self.indptr, self.indices, self.data,\n\u001b[0m\u001b[0;32m    492\u001b[0m            other.ravel(), result.ravel())\n\u001b[0;32m    493\u001b[0m \u001b[1;33m\u001b[0m\u001b[0m\n",
      "\u001b[1;31mMemoryError\u001b[0m: Unable to allocate 2.63 GiB for an array with shape (353640000,) and data type float64"
     ]
    }
   ],
   "source": [
    "X = dataset_temp['TITLE']\n",
    "y = dataset_temp['BROWSE_NODE_ID']\n",
    "\n",
    "X_train, X_test, y_train, y_test = train_test_split(X, y, test_size=0.3, random_state = 42)\n",
    "\n",
    "from sklearn.naive_bayes import MultinomialNB\n",
    "from sklearn.pipeline import Pipeline\n",
    "from sklearn.feature_extraction.text import TfidfTransformer\n",
    "\n",
    "nb = Pipeline([('vect', CountVectorizer()),\n",
    "               ('tfidf', TfidfTransformer()),\n",
    "               ('clf', MultinomialNB()),\n",
    "              ])\n",
    "nb.fit(X_train, y_train)\n",
    "\n",
    "%%time\n",
    "from sklearn.metrics import classification_report\n",
    "y_pred = nb.predict(X_test)\n",
    "\n",
    "print('accuracy %s' % accuracy_score(y_pred, y_test))\n",
    "# print(classification_report(y_test, y_pred))"
   ]
  },
  {
   "cell_type": "code",
   "execution_count": null,
   "id": "1fac225b",
   "metadata": {},
   "outputs": [],
   "source": []
  }
 ],
 "metadata": {
  "kernelspec": {
   "display_name": "Python 3 (ipykernel)",
   "language": "python",
   "name": "python3"
  },
  "language_info": {
   "codemirror_mode": {
    "name": "ipython",
    "version": 3
   },
   "file_extension": ".py",
   "mimetype": "text/x-python",
   "name": "python",
   "nbconvert_exporter": "python",
   "pygments_lexer": "ipython3",
   "version": "3.8.0"
  },
  "toc": {
   "base_numbering": 1,
   "nav_menu": {},
   "number_sections": true,
   "sideBar": true,
   "skip_h1_title": false,
   "title_cell": "Table of Contents",
   "title_sidebar": "Contents",
   "toc_cell": false,
   "toc_position": {
    "height": "calc(100% - 180px)",
    "left": "10px",
    "top": "150px",
    "width": "181px"
   },
   "toc_section_display": true,
   "toc_window_display": false
  },
  "varInspector": {
   "cols": {
    "lenName": 16,
    "lenType": 16,
    "lenVar": 40
   },
   "kernels_config": {
    "python": {
     "delete_cmd_postfix": "",
     "delete_cmd_prefix": "del ",
     "library": "var_list.py",
     "varRefreshCmd": "print(var_dic_list())"
    },
    "r": {
     "delete_cmd_postfix": ") ",
     "delete_cmd_prefix": "rm(",
     "library": "var_list.r",
     "varRefreshCmd": "cat(var_dic_list()) "
    }
   },
   "oldHeight": 122.667,
   "position": {
    "height": "93px",
    "left": "916px",
    "right": "20px",
    "top": "176px",
    "width": "313px"
   },
   "types_to_exclude": [
    "module",
    "function",
    "builtin_function_or_method",
    "instance",
    "_Feature"
   ],
   "varInspector_section_display": "none",
   "window_display": false
  }
 },
 "nbformat": 4,
 "nbformat_minor": 5
}
