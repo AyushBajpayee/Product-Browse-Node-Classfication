{
 "cells": [
  {
   "cell_type": "markdown",
   "id": "1da07f04",
   "metadata": {
    "heading_collapsed": true
   },
   "source": [
    "# Importing Libraries"
   ]
  },
  {
   "cell_type": "code",
   "execution_count": 3,
   "id": "b0dd81c4",
   "metadata": {
    "ExecuteTime": {
     "end_time": "2021-07-30T05:32:02.398486Z",
     "start_time": "2021-07-30T05:32:02.389512Z"
    },
    "hidden": true
   },
   "outputs": [],
   "source": [
    "import numpy as np\n",
    "import pandas as pd \n",
    "import matplotlib.pyplot as plt\n",
    "import csv"
   ]
  },
  {
   "cell_type": "markdown",
   "id": "176d7951",
   "metadata": {},
   "source": [
    "# Data Preprocessing"
   ]
  },
  {
   "cell_type": "code",
   "execution_count": 4,
   "id": "5f8c667f",
   "metadata": {
    "ExecuteTime": {
     "end_time": "2021-07-30T05:33:10.808484Z",
     "start_time": "2021-07-30T05:32:05.394401Z"
    }
   },
   "outputs": [],
   "source": [
    "dataset = pd.read_csv(r'C:\\Users\\ayush.bajpayee\\Desktop\\Amazon Hackathon\\dataset\\train.csv', escapechar='\\\\',\n",
    "                      quoting = csv.QUOTE_NONE)"
   ]
  },
  {
   "cell_type": "code",
   "execution_count": 7,
   "id": "5e94d819",
   "metadata": {
    "ExecuteTime": {
     "end_time": "2021-07-30T06:03:58.852022Z",
     "start_time": "2021-07-30T06:03:58.824139Z"
    }
   },
   "outputs": [
    {
     "data": {
      "text/html": [
       "<div>\n",
       "<style scoped>\n",
       "    .dataframe tbody tr th:only-of-type {\n",
       "        vertical-align: middle;\n",
       "    }\n",
       "\n",
       "    .dataframe tbody tr th {\n",
       "        vertical-align: top;\n",
       "    }\n",
       "\n",
       "    .dataframe thead th {\n",
       "        text-align: right;\n",
       "    }\n",
       "</style>\n",
       "<table border=\"1\" class=\"dataframe\">\n",
       "  <thead>\n",
       "    <tr style=\"text-align: right;\">\n",
       "      <th></th>\n",
       "      <th>TITLE</th>\n",
       "      <th>DESCRIPTION</th>\n",
       "      <th>BULLET_POINTS</th>\n",
       "      <th>BRAND</th>\n",
       "      <th>BROWSE_NODE_ID</th>\n",
       "    </tr>\n",
       "  </thead>\n",
       "  <tbody>\n",
       "    <tr>\n",
       "      <th>0</th>\n",
       "      <td>Pete The Cat Bedtime Blues Doll, 14.5 Inch</td>\n",
       "      <td>Pete the Cat is the coolest, most popular cat ...</td>\n",
       "      <td>[Pete the Cat Bedtime Blues plush doll,Based o...</td>\n",
       "      <td>MerryMakers</td>\n",
       "      <td>0</td>\n",
       "    </tr>\n",
       "    <tr>\n",
       "      <th>1</th>\n",
       "      <td>The New Yorker NYHM014 Refrigerator Magnet, 2 ...</td>\n",
       "      <td>The New Yorker Handsome Cello Wrapped Hard Mag...</td>\n",
       "      <td>[Cat In A Tea Cup by New Yorker cover artist G...</td>\n",
       "      <td>The New Yorker</td>\n",
       "      <td>1</td>\n",
       "    </tr>\n",
       "    <tr>\n",
       "      <th>2</th>\n",
       "      <td>The Ultimate Self-Sufficiency Handbook: A Comp...</td>\n",
       "      <td>NaN</td>\n",
       "      <td>Skyhorse Publishing</td>\n",
       "      <td>imusti</td>\n",
       "      <td>2</td>\n",
       "    </tr>\n",
       "    <tr>\n",
       "      <th>3</th>\n",
       "      <td>Amway Nutrilite Kids Chewable Iron Tablets (100)</td>\n",
       "      <td>NaN</td>\n",
       "      <td>[Nutrilite Kids,Chewable Iron Tablets,Quantity...</td>\n",
       "      <td>Amway</td>\n",
       "      <td>3</td>\n",
       "    </tr>\n",
       "    <tr>\n",
       "      <th>4</th>\n",
       "      <td>Teacher Planner Company A4 6 Lesson Academic T...</td>\n",
       "      <td>NaN</td>\n",
       "      <td>NaN</td>\n",
       "      <td>NaN</td>\n",
       "      <td>4</td>\n",
       "    </tr>\n",
       "    <tr>\n",
       "      <th>...</th>\n",
       "      <td>...</td>\n",
       "      <td>...</td>\n",
       "      <td>...</td>\n",
       "      <td>...</td>\n",
       "      <td>...</td>\n",
       "    </tr>\n",
       "    <tr>\n",
       "      <th>2903019</th>\n",
       "      <td>Premium Aviator Sunglasses - HD Polarized (Bri...</td>\n",
       "      <td>These premium Aviator Sunglasses with 5 color ...</td>\n",
       "      <td>[Frame size: Lens height - 56mm, Lens width - ...</td>\n",
       "      <td>Generic</td>\n",
       "      <td>1040</td>\n",
       "    </tr>\n",
       "    <tr>\n",
       "      <th>2903020</th>\n",
       "      <td>Social Distance Stickers - Set of 5 Sticker Sl...</td>\n",
       "      <td>set of 5 prints social distancing sticker self...</td>\n",
       "      <td>[covid19 safety sticker - set of 5 to maintain...</td>\n",
       "      <td>Generic</td>\n",
       "      <td>15199</td>\n",
       "    </tr>\n",
       "    <tr>\n",
       "      <th>2903021</th>\n",
       "      <td>Torr-to Face Shield PACK OF 5 with Adjustable ...</td>\n",
       "      <td>* COMPLETE FACE PROTECTION: Torr-to Face Shiel...</td>\n",
       "      <td>[350 MICRONS PACK OF 5 PCS,COMPLETE FACE PROTE...</td>\n",
       "      <td>TORR-TO</td>\n",
       "      <td>1044933</td>\n",
       "    </tr>\n",
       "    <tr>\n",
       "      <th>2903022</th>\n",
       "      <td>Type-C to 3.5 MM for Oppo R17 Pro Type-C to 3....</td>\n",
       "      <td>Still want to use your favorite earphones/head...</td>\n",
       "      <td>[Indian Connectors: Made for Indian sockets, t...</td>\n",
       "      <td>SHOPBELL</td>\n",
       "      <td>14790</td>\n",
       "    </tr>\n",
       "    <tr>\n",
       "      <th>2903023</th>\n",
       "      <td>KNG Orange Polo Tshirt (38)</td>\n",
       "      <td>Performance inspired by comfort. The polo shir...</td>\n",
       "      <td>NaN</td>\n",
       "      <td>KNG</td>\n",
       "      <td>1213</td>\n",
       "    </tr>\n",
       "  </tbody>\n",
       "</table>\n",
       "<p>2903024 rows × 5 columns</p>\n",
       "</div>"
      ],
      "text/plain": [
       "                                                     TITLE  \\\n",
       "0               Pete The Cat Bedtime Blues Doll, 14.5 Inch   \n",
       "1        The New Yorker NYHM014 Refrigerator Magnet, 2 ...   \n",
       "2        The Ultimate Self-Sufficiency Handbook: A Comp...   \n",
       "3         Amway Nutrilite Kids Chewable Iron Tablets (100)   \n",
       "4        Teacher Planner Company A4 6 Lesson Academic T...   \n",
       "...                                                    ...   \n",
       "2903019  Premium Aviator Sunglasses - HD Polarized (Bri...   \n",
       "2903020  Social Distance Stickers - Set of 5 Sticker Sl...   \n",
       "2903021  Torr-to Face Shield PACK OF 5 with Adjustable ...   \n",
       "2903022  Type-C to 3.5 MM for Oppo R17 Pro Type-C to 3....   \n",
       "2903023                        KNG Orange Polo Tshirt (38)   \n",
       "\n",
       "                                               DESCRIPTION  \\\n",
       "0        Pete the Cat is the coolest, most popular cat ...   \n",
       "1        The New Yorker Handsome Cello Wrapped Hard Mag...   \n",
       "2                                                      NaN   \n",
       "3                                                      NaN   \n",
       "4                                                      NaN   \n",
       "...                                                    ...   \n",
       "2903019  These premium Aviator Sunglasses with 5 color ...   \n",
       "2903020  set of 5 prints social distancing sticker self...   \n",
       "2903021  * COMPLETE FACE PROTECTION: Torr-to Face Shiel...   \n",
       "2903022  Still want to use your favorite earphones/head...   \n",
       "2903023  Performance inspired by comfort. The polo shir...   \n",
       "\n",
       "                                             BULLET_POINTS           BRAND  \\\n",
       "0        [Pete the Cat Bedtime Blues plush doll,Based o...     MerryMakers   \n",
       "1        [Cat In A Tea Cup by New Yorker cover artist G...  The New Yorker   \n",
       "2                                      Skyhorse Publishing          imusti   \n",
       "3        [Nutrilite Kids,Chewable Iron Tablets,Quantity...           Amway   \n",
       "4                                                      NaN             NaN   \n",
       "...                                                    ...             ...   \n",
       "2903019  [Frame size: Lens height - 56mm, Lens width - ...         Generic   \n",
       "2903020  [covid19 safety sticker - set of 5 to maintain...         Generic   \n",
       "2903021  [350 MICRONS PACK OF 5 PCS,COMPLETE FACE PROTE...         TORR-TO   \n",
       "2903022  [Indian Connectors: Made for Indian sockets, t...        SHOPBELL   \n",
       "2903023                                                NaN             KNG   \n",
       "\n",
       "         BROWSE_NODE_ID  \n",
       "0                     0  \n",
       "1                     1  \n",
       "2                     2  \n",
       "3                     3  \n",
       "4                     4  \n",
       "...                 ...  \n",
       "2903019            1040  \n",
       "2903020           15199  \n",
       "2903021         1044933  \n",
       "2903022           14790  \n",
       "2903023            1213  \n",
       "\n",
       "[2903024 rows x 5 columns]"
      ]
     },
     "execution_count": 7,
     "metadata": {},
     "output_type": "execute_result"
    }
   ],
   "source": [
    "dataset"
   ]
  },
  {
   "cell_type": "code",
   "execution_count": 12,
   "id": "5274cbb1",
   "metadata": {
    "ExecuteTime": {
     "end_time": "2021-07-30T06:08:18.444399Z",
     "start_time": "2021-07-30T06:08:18.434427Z"
    }
   },
   "outputs": [
    {
     "data": {
      "text/plain": [
       "Index(['TITLE', 'DESCRIPTION', 'BULLET_POINTS', 'BRAND', 'BROWSE_NODE_ID'], dtype='object')"
      ]
     },
     "execution_count": 12,
     "metadata": {},
     "output_type": "execute_result"
    }
   ],
   "source": [
    "dataset.columns"
   ]
  },
  {
   "cell_type": "code",
   "execution_count": 11,
   "id": "8732c471",
   "metadata": {
    "ExecuteTime": {
     "end_time": "2021-07-30T06:07:45.339656Z",
     "start_time": "2021-07-30T06:07:45.302035Z"
    }
   },
   "outputs": [
    {
     "name": "stdout",
     "output_type": "stream",
     "text": [
      "<class 'pandas.core.frame.DataFrame'>\n",
      "RangeIndex: 2903024 entries, 0 to 2903023\n",
      "Data columns (total 5 columns):\n",
      " #   Column          Dtype \n",
      "---  ------          ----- \n",
      " 0   TITLE           object\n",
      " 1   DESCRIPTION     object\n",
      " 2   BULLET_POINTS   object\n",
      " 3   BRAND           object\n",
      " 4   BROWSE_NODE_ID  int64 \n",
      "dtypes: int64(1), object(4)\n",
      "memory usage: 110.7+ MB\n"
     ]
    }
   ],
   "source": [
    "dataset.info()"
   ]
  },
  {
   "cell_type": "code",
   "execution_count": 27,
   "id": "8c05dcd6",
   "metadata": {
    "ExecuteTime": {
     "end_time": "2021-07-30T06:18:49.398222Z",
     "start_time": "2021-07-30T06:18:48.659776Z"
    }
   },
   "outputs": [
    {
     "data": {
      "text/plain": [
       "TITLE             0.000024\n",
       "DESCRIPTION       0.249279\n",
       "BULLET_POINTS     0.057272\n",
       "BRAND             0.019544\n",
       "BROWSE_NODE_ID    0.000000\n",
       "dtype: float64"
      ]
     },
     "execution_count": 27,
     "metadata": {},
     "output_type": "execute_result"
    }
   ],
   "source": [
    "dataset.isna().mean()"
   ]
  },
  {
   "cell_type": "code",
   "execution_count": 25,
   "id": "368946f8",
   "metadata": {
    "ExecuteTime": {
     "end_time": "2021-07-30T06:17:03.611472Z",
     "start_time": "2021-07-30T06:17:02.878120Z"
    }
   },
   "outputs": [
    {
     "data": {
      "text/plain": [
       "TITLE                 71\n",
       "DESCRIPTION       723664\n",
       "BULLET_POINTS     166263\n",
       "BRAND              56737\n",
       "BROWSE_NODE_ID         0\n",
       "dtype: int64"
      ]
     },
     "execution_count": 25,
     "metadata": {},
     "output_type": "execute_result"
    }
   ],
   "source": [
    "dataset.isna().sum()"
   ]
  },
  {
   "cell_type": "code",
   "execution_count": 22,
   "id": "77f25f59",
   "metadata": {
    "ExecuteTime": {
     "end_time": "2021-07-30T06:13:55.827230Z",
     "start_time": "2021-07-30T06:13:55.809325Z"
    }
   },
   "outputs": [
    {
     "data": {
      "text/plain": [
       "'The New Yorker NYHM014 Refrigerator Magnet, 2 x 3.5'"
      ]
     },
     "execution_count": 22,
     "metadata": {},
     "output_type": "execute_result"
    }
   ],
   "source": [
    "dataset['TITLE'][1]"
   ]
  },
  {
   "cell_type": "code",
   "execution_count": null,
   "id": "e3c0f91c",
   "metadata": {},
   "outputs": [],
   "source": []
  },
  {
   "cell_type": "code",
   "execution_count": null,
   "id": "4c11df06",
   "metadata": {},
   "outputs": [],
   "source": []
  }
 ],
 "metadata": {
  "kernelspec": {
   "display_name": "Python 3",
   "language": "python",
   "name": "python3"
  },
  "language_info": {
   "codemirror_mode": {
    "name": "ipython",
    "version": 3
   },
   "file_extension": ".py",
   "mimetype": "text/x-python",
   "name": "python",
   "nbconvert_exporter": "python",
   "pygments_lexer": "ipython3",
   "version": "3.8.8"
  },
  "toc": {
   "base_numbering": 1,
   "nav_menu": {},
   "number_sections": true,
   "sideBar": true,
   "skip_h1_title": false,
   "title_cell": "Table of Contents",
   "title_sidebar": "Contents",
   "toc_cell": false,
   "toc_position": {},
   "toc_section_display": true,
   "toc_window_display": false
  },
  "varInspector": {
   "cols": {
    "lenName": 16,
    "lenType": 16,
    "lenVar": 40
   },
   "kernels_config": {
    "python": {
     "delete_cmd_postfix": "",
     "delete_cmd_prefix": "del ",
     "library": "var_list.py",
     "varRefreshCmd": "print(var_dic_list())"
    },
    "r": {
     "delete_cmd_postfix": ") ",
     "delete_cmd_prefix": "rm(",
     "library": "var_list.r",
     "varRefreshCmd": "cat(var_dic_list()) "
    }
   },
   "types_to_exclude": [
    "module",
    "function",
    "builtin_function_or_method",
    "instance",
    "_Feature"
   ],
   "window_display": false
  }
 },
 "nbformat": 4,
 "nbformat_minor": 5
}
