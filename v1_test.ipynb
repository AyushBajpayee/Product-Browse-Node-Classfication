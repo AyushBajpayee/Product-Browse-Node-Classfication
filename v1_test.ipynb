{
 "cells": [
  {
   "cell_type": "markdown",
   "id": "1da07f04",
   "metadata": {
    "heading_collapsed": true
   },
   "source": [
    "# Importing Libraries"
   ]
  },
  {
   "cell_type": "code",
   "execution_count": 1,
   "id": "b0dd81c4",
   "metadata": {
    "ExecuteTime": {
     "end_time": "2021-07-30T06:25:14.945258Z",
     "start_time": "2021-07-30T06:25:11.666552Z"
    },
    "hidden": true
   },
   "outputs": [],
   "source": [
    "import numpy as np\n",
    "import pandas as pd \n",
    "import matplotlib.pyplot as plt\n",
    "import csv"
   ]
  },
  {
   "cell_type": "markdown",
   "id": "176d7951",
   "metadata": {},
   "source": [
    "# Data Preprocessing"
   ]
  },
  {
   "cell_type": "code",
   "execution_count": 2,
   "id": "5f8c667f",
   "metadata": {
    "ExecuteTime": {
     "end_time": "2021-07-30T06:25:29.198854Z",
     "start_time": "2021-07-30T06:25:26.909993Z"
    }
   },
   "outputs": [],
   "source": [
    "dataset = pd.read_csv(r'C:\\Users\\ayush.bajpayee\\Desktop\\Amazon Hackathon\\dataset\\test.csv', escapechar='\\\\',\n",
    "                      quoting = csv.QUOTE_NONE)"
   ]
  },
  {
   "cell_type": "code",
   "execution_count": 3,
   "id": "5e94d819",
   "metadata": {
    "ExecuteTime": {
     "end_time": "2021-07-30T06:25:30.800932Z",
     "start_time": "2021-07-30T06:25:30.762530Z"
    },
    "scrolled": false
   },
   "outputs": [
    {
     "data": {
      "text/html": [
       "<div>\n",
       "<style scoped>\n",
       "    .dataframe tbody tr th:only-of-type {\n",
       "        vertical-align: middle;\n",
       "    }\n",
       "\n",
       "    .dataframe tbody tr th {\n",
       "        vertical-align: top;\n",
       "    }\n",
       "\n",
       "    .dataframe thead th {\n",
       "        text-align: right;\n",
       "    }\n",
       "</style>\n",
       "<table border=\"1\" class=\"dataframe\">\n",
       "  <thead>\n",
       "    <tr style=\"text-align: right;\">\n",
       "      <th></th>\n",
       "      <th>PRODUCT_ID</th>\n",
       "      <th>TITLE</th>\n",
       "      <th>DESCRIPTION</th>\n",
       "      <th>BULLET_POINTS</th>\n",
       "      <th>BRAND</th>\n",
       "    </tr>\n",
       "  </thead>\n",
       "  <tbody>\n",
       "    <tr>\n",
       "      <th>0</th>\n",
       "      <td>1</td>\n",
       "      <td>Command 3M Small Kitchen Hooks, White, Decorat...</td>\n",
       "      <td>Sale Unit: PACK</td>\n",
       "      <td>[INCLUDES - 9 hooks and 12 small indoor strips...</td>\n",
       "      <td>Command</td>\n",
       "    </tr>\n",
       "    <tr>\n",
       "      <th>1</th>\n",
       "      <td>2</td>\n",
       "      <td>O'Neal Jump Hardware JAG Unisex-Adult Glove (B...</td>\n",
       "      <td>Synthetic leather palm with double-layer thumb...</td>\n",
       "      <td>[Silicone printing for a better grip. Long las...</td>\n",
       "      <td>O'Neal</td>\n",
       "    </tr>\n",
       "    <tr>\n",
       "      <th>2</th>\n",
       "      <td>3</td>\n",
       "      <td>NFL Detroit Lions Portable Party Fridge, 15.8 ...</td>\n",
       "      <td>Boelter Brands lets you celebrate your favorit...</td>\n",
       "      <td>[Runs on 12 Volt DC Power or 110 Volt AC Power...</td>\n",
       "      <td>Boelter Brands</td>\n",
       "    </tr>\n",
       "    <tr>\n",
       "      <th>3</th>\n",
       "      <td>4</td>\n",
       "      <td>Panasonic Single Line KX-TS880MX Corded Phone ...</td>\n",
       "      <td>Features: 50 Station Phonebook Corded Phone Al...</td>\n",
       "      <td>Panasonic Landline Phones doesn't come with a ...</td>\n",
       "      <td>Panasonic</td>\n",
       "    </tr>\n",
       "    <tr>\n",
       "      <th>4</th>\n",
       "      <td>5</td>\n",
       "      <td>Zero Baby Girl's 100% Cotton Innerwear Bloomer...</td>\n",
       "      <td>Zero Baby Girl Panties Set. 100% Cotton, Breat...</td>\n",
       "      <td>[Zero Baby Girl Panties, Pack of 6, 100% Cotto...</td>\n",
       "      <td>Zero</td>\n",
       "    </tr>\n",
       "    <tr>\n",
       "      <th>...</th>\n",
       "      <td>...</td>\n",
       "      <td>...</td>\n",
       "      <td>...</td>\n",
       "      <td>...</td>\n",
       "      <td>...</td>\n",
       "    </tr>\n",
       "    <tr>\n",
       "      <th>110770</th>\n",
       "      <td>110771</td>\n",
       "      <td>AAHNA E MALL OneBlade Hybrid Trimmer Shaver An...</td>\n",
       "      <td>&lt;p&gt;1-All In One Hyper Advanced Smart Rechargea...</td>\n",
       "      <td>[Unique One Blade can style, trim and shave, w...</td>\n",
       "      <td>Generic</td>\n",
       "    </tr>\n",
       "    <tr>\n",
       "      <th>110771</th>\n",
       "      <td>110772</td>\n",
       "      <td>Grin Health N99 Anti Pollution Reusable Washab...</td>\n",
       "      <td>&lt;p&gt;SIZE GUIDE : M - (35- 65 Kg), L - (49- 72 K...</td>\n",
       "      <td>[PROTECTION: Filtration rate up to ≥99 percent...</td>\n",
       "      <td>Grin Health</td>\n",
       "    </tr>\n",
       "    <tr>\n",
       "      <th>110772</th>\n",
       "      <td>110773</td>\n",
       "      <td>Asian Army Pink Ultra reusable respirator clot...</td>\n",
       "      <td>Asian HyperProtect A95 masks have been enginee...</td>\n",
       "      <td>[Reusable and environment friendly: These mask...</td>\n",
       "      <td>ASIAN</td>\n",
       "    </tr>\n",
       "    <tr>\n",
       "      <th>110773</th>\n",
       "      <td>110774</td>\n",
       "      <td>IM Safe 3 Ply Non-Woven Disposable Surgical Fa...</td>\n",
       "      <td>This 3 Ply Disposable face mask is manufacture...</td>\n",
       "      <td>[3 Ply Mask: Genuine 3 Ply Mask. 25 GSM Spun B...</td>\n",
       "      <td>Intermarket</td>\n",
       "    </tr>\n",
       "    <tr>\n",
       "      <th>110774</th>\n",
       "      <td>110775</td>\n",
       "      <td>Artifie 100% Cotton Unisex Reusable Breathable...</td>\n",
       "      <td>Material : Cotton Printed, cotton thread, Soft...</td>\n",
       "      <td>[Eco Friendly, Reusable Cotton Masks for Face ...</td>\n",
       "      <td>Artifie</td>\n",
       "    </tr>\n",
       "  </tbody>\n",
       "</table>\n",
       "<p>110775 rows × 5 columns</p>\n",
       "</div>"
      ],
      "text/plain": [
       "        PRODUCT_ID                                              TITLE  \\\n",
       "0                1  Command 3M Small Kitchen Hooks, White, Decorat...   \n",
       "1                2  O'Neal Jump Hardware JAG Unisex-Adult Glove (B...   \n",
       "2                3  NFL Detroit Lions Portable Party Fridge, 15.8 ...   \n",
       "3                4  Panasonic Single Line KX-TS880MX Corded Phone ...   \n",
       "4                5  Zero Baby Girl's 100% Cotton Innerwear Bloomer...   \n",
       "...            ...                                                ...   \n",
       "110770      110771  AAHNA E MALL OneBlade Hybrid Trimmer Shaver An...   \n",
       "110771      110772  Grin Health N99 Anti Pollution Reusable Washab...   \n",
       "110772      110773  Asian Army Pink Ultra reusable respirator clot...   \n",
       "110773      110774  IM Safe 3 Ply Non-Woven Disposable Surgical Fa...   \n",
       "110774      110775  Artifie 100% Cotton Unisex Reusable Breathable...   \n",
       "\n",
       "                                              DESCRIPTION  \\\n",
       "0                                         Sale Unit: PACK   \n",
       "1       Synthetic leather palm with double-layer thumb...   \n",
       "2       Boelter Brands lets you celebrate your favorit...   \n",
       "3       Features: 50 Station Phonebook Corded Phone Al...   \n",
       "4       Zero Baby Girl Panties Set. 100% Cotton, Breat...   \n",
       "...                                                   ...   \n",
       "110770  <p>1-All In One Hyper Advanced Smart Rechargea...   \n",
       "110771  <p>SIZE GUIDE : M - (35- 65 Kg), L - (49- 72 K...   \n",
       "110772  Asian HyperProtect A95 masks have been enginee...   \n",
       "110773  This 3 Ply Disposable face mask is manufacture...   \n",
       "110774  Material : Cotton Printed, cotton thread, Soft...   \n",
       "\n",
       "                                            BULLET_POINTS           BRAND  \n",
       "0       [INCLUDES - 9 hooks and 12 small indoor strips...         Command  \n",
       "1       [Silicone printing for a better grip. Long las...          O'Neal  \n",
       "2       [Runs on 12 Volt DC Power or 110 Volt AC Power...  Boelter Brands  \n",
       "3       Panasonic Landline Phones doesn't come with a ...       Panasonic  \n",
       "4       [Zero Baby Girl Panties, Pack of 6, 100% Cotto...            Zero  \n",
       "...                                                   ...             ...  \n",
       "110770  [Unique One Blade can style, trim and shave, w...         Generic  \n",
       "110771  [PROTECTION: Filtration rate up to ≥99 percent...     Grin Health  \n",
       "110772  [Reusable and environment friendly: These mask...           ASIAN  \n",
       "110773  [3 Ply Mask: Genuine 3 Ply Mask. 25 GSM Spun B...     Intermarket  \n",
       "110774  [Eco Friendly, Reusable Cotton Masks for Face ...         Artifie  \n",
       "\n",
       "[110775 rows x 5 columns]"
      ]
     },
     "execution_count": 3,
     "metadata": {},
     "output_type": "execute_result"
    }
   ],
   "source": [
    "dataset"
   ]
  },
  {
   "cell_type": "code",
   "execution_count": 7,
   "id": "76c85c02",
   "metadata": {
    "ExecuteTime": {
     "end_time": "2021-07-30T06:38:21.069834Z",
     "start_time": "2021-07-30T06:38:19.975296Z"
    }
   },
   "outputs": [],
   "source": [
    "dataset_to_be_saved = dataset.copy()"
   ]
  },
  {
   "cell_type": "code",
   "execution_count": 9,
   "id": "df9f8d21",
   "metadata": {
    "ExecuteTime": {
     "end_time": "2021-07-30T06:39:49.615785Z",
     "start_time": "2021-07-30T06:39:46.057850Z"
    }
   },
   "outputs": [],
   "source": [
    "dataset_to_be_saved.to_csv('ModifiedTEST.csv', index = False)"
   ]
  },
  {
   "cell_type": "code",
   "execution_count": 4,
   "id": "5274cbb1",
   "metadata": {
    "ExecuteTime": {
     "end_time": "2021-07-30T06:25:39.370434Z",
     "start_time": "2021-07-30T06:25:39.362456Z"
    }
   },
   "outputs": [
    {
     "data": {
      "text/plain": [
       "Index(['PRODUCT_ID', 'TITLE', 'DESCRIPTION', 'BULLET_POINTS', 'BRAND'], dtype='object')"
      ]
     },
     "execution_count": 4,
     "metadata": {},
     "output_type": "execute_result"
    }
   ],
   "source": [
    "dataset.columns"
   ]
  },
  {
   "cell_type": "code",
   "execution_count": 5,
   "id": "8732c471",
   "metadata": {
    "ExecuteTime": {
     "end_time": "2021-07-30T06:25:44.106455Z",
     "start_time": "2021-07-30T06:25:44.039466Z"
    }
   },
   "outputs": [
    {
     "name": "stdout",
     "output_type": "stream",
     "text": [
      "<class 'pandas.core.frame.DataFrame'>\n",
      "RangeIndex: 110775 entries, 0 to 110774\n",
      "Data columns (total 5 columns):\n",
      " #   Column         Non-Null Count   Dtype \n",
      "---  ------         --------------   ----- \n",
      " 0   PRODUCT_ID     110775 non-null  int64 \n",
      " 1   TITLE          110768 non-null  object\n",
      " 2   DESCRIPTION    100306 non-null  object\n",
      " 3   BULLET_POINTS  103989 non-null  object\n",
      " 4   BRAND          108345 non-null  object\n",
      "dtypes: int64(1), object(4)\n",
      "memory usage: 4.2+ MB\n"
     ]
    }
   ],
   "source": [
    "dataset.info()"
   ]
  },
  {
   "cell_type": "code",
   "execution_count": 6,
   "id": "8c05dcd6",
   "metadata": {
    "ExecuteTime": {
     "end_time": "2021-07-30T06:25:50.139269Z",
     "start_time": "2021-07-30T06:25:50.091744Z"
    }
   },
   "outputs": [
    {
     "data": {
      "text/plain": [
       "PRODUCT_ID       0.000000\n",
       "TITLE            0.000063\n",
       "DESCRIPTION      0.094507\n",
       "BULLET_POINTS    0.061259\n",
       "BRAND            0.021936\n",
       "dtype: float64"
      ]
     },
     "execution_count": 6,
     "metadata": {},
     "output_type": "execute_result"
    }
   ],
   "source": [
    "dataset.isna().mean()"
   ]
  },
  {
   "cell_type": "code",
   "execution_count": 25,
   "id": "368946f8",
   "metadata": {
    "ExecuteTime": {
     "end_time": "2021-07-30T06:17:03.611472Z",
     "start_time": "2021-07-30T06:17:02.878120Z"
    }
   },
   "outputs": [
    {
     "data": {
      "text/plain": [
       "TITLE                 71\n",
       "DESCRIPTION       723664\n",
       "BULLET_POINTS     166263\n",
       "BRAND              56737\n",
       "BROWSE_NODE_ID         0\n",
       "dtype: int64"
      ]
     },
     "execution_count": 25,
     "metadata": {},
     "output_type": "execute_result"
    }
   ],
   "source": [
    "dataset.isna().sum()"
   ]
  },
  {
   "cell_type": "code",
   "execution_count": null,
   "id": "e3c0f91c",
   "metadata": {},
   "outputs": [],
   "source": []
  },
  {
   "cell_type": "code",
   "execution_count": null,
   "id": "4c11df06",
   "metadata": {},
   "outputs": [],
   "source": []
  }
 ],
 "metadata": {
  "kernelspec": {
   "display_name": "Python 3",
   "language": "python",
   "name": "python3"
  },
  "language_info": {
   "codemirror_mode": {
    "name": "ipython",
    "version": 3
   },
   "file_extension": ".py",
   "mimetype": "text/x-python",
   "name": "python",
   "nbconvert_exporter": "python",
   "pygments_lexer": "ipython3",
   "version": "3.8.8"
  },
  "toc": {
   "base_numbering": 1,
   "nav_menu": {},
   "number_sections": true,
   "sideBar": true,
   "skip_h1_title": false,
   "title_cell": "Table of Contents",
   "title_sidebar": "Contents",
   "toc_cell": false,
   "toc_position": {},
   "toc_section_display": true,
   "toc_window_display": false
  },
  "varInspector": {
   "cols": {
    "lenName": 16,
    "lenType": 16,
    "lenVar": 40
   },
   "kernels_config": {
    "python": {
     "delete_cmd_postfix": "",
     "delete_cmd_prefix": "del ",
     "library": "var_list.py",
     "varRefreshCmd": "print(var_dic_list())"
    },
    "r": {
     "delete_cmd_postfix": ") ",
     "delete_cmd_prefix": "rm(",
     "library": "var_list.r",
     "varRefreshCmd": "cat(var_dic_list()) "
    }
   },
   "types_to_exclude": [
    "module",
    "function",
    "builtin_function_or_method",
    "instance",
    "_Feature"
   ],
   "window_display": false
  }
 },
 "nbformat": 4,
 "nbformat_minor": 5
}
