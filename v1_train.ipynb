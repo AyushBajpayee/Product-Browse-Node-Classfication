{
 "cells": [
  {
   "cell_type": "markdown",
   "id": "1e3d57fa",
   "metadata": {
    "heading_collapsed": true
   },
   "source": [
    "# **IMPORTING LIBRARIES**"
   ]
  },
  {
   "cell_type": "code",
   "execution_count": 28,
   "id": "48b6ae8c",
   "metadata": {
    "ExecuteTime": {
     "end_time": "2021-07-31T08:24:44.363542Z",
     "start_time": "2021-07-31T08:24:44.351555Z"
    },
    "hidden": true
   },
   "outputs": [],
   "source": [
    "import numpy as np\n",
    "import pandas as pd \n",
    "import string\n",
    "import matplotlib.pyplot as plt\n",
    "import csv\n",
    "import joblib\n",
    "import pandas as pd\n",
    "import tensorflow as tf\n",
    "import numpy as np\n",
    "import xgboost as xgb\n",
    "from tqdm import tqdm\n",
    "from sklearn.svm import SVC\n",
    "from keras.models import Sequential\n",
    "from keras.layers.recurrent import LSTM, GRU\n",
    "from keras.layers.core import Dense, Activation, Dropout\n",
    "from keras.layers.embeddings import Embedding\n",
    "from keras.layers.normalization import BatchNormalization\n",
    "from keras.utils import np_utils\n",
    "from sklearn import preprocessing, decomposition, model_selection, metrics, pipeline\n",
    "from sklearn.model_selection import GridSearchCV\n",
    "from sklearn.feature_extraction.text import TfidfVectorizer, CountVectorizer\n",
    "from sklearn.decomposition import TruncatedSVD\n",
    "from sklearn.linear_model import LogisticRegression\n",
    "from sklearn.model_selection import train_test_split\n",
    "from sklearn.naive_bayes import MultinomialNB\n",
    "from keras.layers import GlobalMaxPooling1D, Conv1D, MaxPooling1D, Flatten, Bidirectional, SpatialDropout1D\n",
    "from keras.preprocessing import sequence, text\n",
    "from keras.callbacks import EarlyStopping\n",
    "from nltk import word_tokenize\n",
    "from nltk.corpus import stopwords\n",
    "from sklearn.model_selection import train_test_split\n",
    "from sklearn.naive_bayes import MultinomialNB\n",
    "from sklearn.pipeline import Pipeline\n",
    "from sklearn.feature_extraction.text import TfidfTransformer\n",
    "import lightgbm as lgb\n",
    "from sklearn.metrics import accuracy_score, confusion_matrix\n",
    "from sklearn.feature_extraction.text import TfidfVectorizer\n",
    "from nltk.stem import WordNetLemmatizer\n",
    "from tensorflow.keras.utils import to_categorical\n",
    "from nltk.tokenize import word_tokenize\n",
    "import nltk\n",
    "stop_words = stopwords.words('english')"
   ]
  },
  {
   "cell_type": "markdown",
   "id": "8cacf0a7",
   "metadata": {
    "heading_collapsed": true
   },
   "source": [
    "# **DATA SANITY**"
   ]
  },
  {
   "cell_type": "code",
   "execution_count": 2,
   "id": "e8d6e1e5",
   "metadata": {
    "ExecuteTime": {
     "end_time": "2021-07-30T11:22:22.755829Z",
     "start_time": "2021-07-30T11:21:41.196711Z"
    },
    "hidden": true
   },
   "outputs": [],
   "source": [
    "#Loading Data\n",
    "dataset = pd.read_csv(r'C:\\Users\\ayush.bajpayee\\Desktop\\Amazon Hackathon\\dataset\\train.csv', escapechar='\\\\',\n",
    "                      quoting = csv.QUOTE_NONE)"
   ]
  },
  {
   "cell_type": "code",
   "execution_count": 4,
   "id": "00c8c349",
   "metadata": {
    "ExecuteTime": {
     "end_time": "2021-07-30T11:22:50.745505Z",
     "start_time": "2021-07-30T11:22:50.497866Z"
    },
    "hidden": true
   },
   "outputs": [],
   "source": [
    "#Do not Tamper this df_original\n",
    "df_original = dataset.copy()"
   ]
  },
  {
   "cell_type": "code",
   "execution_count": 32,
   "id": "da008e37",
   "metadata": {
    "ExecuteTime": {
     "end_time": "2021-07-30T06:34:35.255736Z",
     "start_time": "2021-07-30T06:34:34.905823Z"
    },
    "hidden": true
   },
   "outputs": [],
   "source": [
    "# #DO NOT RUN\n",
    "# dataset_to_be_saved = dataset.copy()\n",
    "# dataset_to_be_saved.to_csv('ModifiedTRAIN.csv', index = False)"
   ]
  },
  {
   "cell_type": "code",
   "execution_count": 35,
   "id": "4f30b469",
   "metadata": {
    "ExecuteTime": {
     "end_time": "2021-07-30T07:32:41.381537Z",
     "start_time": "2021-07-30T07:32:41.358596Z"
    },
    "hidden": true
   },
   "outputs": [
    {
     "data": {
      "text/html": [
       "<div>\n",
       "<style scoped>\n",
       "    .dataframe tbody tr th:only-of-type {\n",
       "        vertical-align: middle;\n",
       "    }\n",
       "\n",
       "    .dataframe tbody tr th {\n",
       "        vertical-align: top;\n",
       "    }\n",
       "\n",
       "    .dataframe thead th {\n",
       "        text-align: right;\n",
       "    }\n",
       "</style>\n",
       "<table border=\"1\" class=\"dataframe\">\n",
       "  <thead>\n",
       "    <tr style=\"text-align: right;\">\n",
       "      <th></th>\n",
       "      <th>TITLE</th>\n",
       "      <th>DESCRIPTION</th>\n",
       "      <th>BULLET_POINTS</th>\n",
       "      <th>BRAND</th>\n",
       "      <th>BROWSE_NODE_ID</th>\n",
       "    </tr>\n",
       "  </thead>\n",
       "  <tbody>\n",
       "    <tr>\n",
       "      <th>0</th>\n",
       "      <td>Pete The Cat Bedtime Blues Doll, 14.5 Inch</td>\n",
       "      <td>Pete the Cat is the coolest, most popular cat ...</td>\n",
       "      <td>[Pete the Cat Bedtime Blues plush doll,Based o...</td>\n",
       "      <td>MerryMakers</td>\n",
       "      <td>0</td>\n",
       "    </tr>\n",
       "    <tr>\n",
       "      <th>1</th>\n",
       "      <td>The New Yorker NYHM014 Refrigerator Magnet, 2 ...</td>\n",
       "      <td>The New Yorker Handsome Cello Wrapped Hard Mag...</td>\n",
       "      <td>[Cat In A Tea Cup by New Yorker cover artist G...</td>\n",
       "      <td>The New Yorker</td>\n",
       "      <td>1</td>\n",
       "    </tr>\n",
       "    <tr>\n",
       "      <th>2</th>\n",
       "      <td>The Ultimate Self-Sufficiency Handbook: A Comp...</td>\n",
       "      <td>NaN</td>\n",
       "      <td>Skyhorse Publishing</td>\n",
       "      <td>imusti</td>\n",
       "      <td>2</td>\n",
       "    </tr>\n",
       "    <tr>\n",
       "      <th>3</th>\n",
       "      <td>Amway Nutrilite Kids Chewable Iron Tablets (100)</td>\n",
       "      <td>NaN</td>\n",
       "      <td>[Nutrilite Kids,Chewable Iron Tablets,Quantity...</td>\n",
       "      <td>Amway</td>\n",
       "      <td>3</td>\n",
       "    </tr>\n",
       "    <tr>\n",
       "      <th>4</th>\n",
       "      <td>Teacher Planner Company A4 6 Lesson Academic T...</td>\n",
       "      <td>NaN</td>\n",
       "      <td>NaN</td>\n",
       "      <td>NaN</td>\n",
       "      <td>4</td>\n",
       "    </tr>\n",
       "  </tbody>\n",
       "</table>\n",
       "</div>"
      ],
      "text/plain": [
       "                                               TITLE  \\\n",
       "0         Pete The Cat Bedtime Blues Doll, 14.5 Inch   \n",
       "1  The New Yorker NYHM014 Refrigerator Magnet, 2 ...   \n",
       "2  The Ultimate Self-Sufficiency Handbook: A Comp...   \n",
       "3   Amway Nutrilite Kids Chewable Iron Tablets (100)   \n",
       "4  Teacher Planner Company A4 6 Lesson Academic T...   \n",
       "\n",
       "                                         DESCRIPTION  \\\n",
       "0  Pete the Cat is the coolest, most popular cat ...   \n",
       "1  The New Yorker Handsome Cello Wrapped Hard Mag...   \n",
       "2                                                NaN   \n",
       "3                                                NaN   \n",
       "4                                                NaN   \n",
       "\n",
       "                                       BULLET_POINTS           BRAND  \\\n",
       "0  [Pete the Cat Bedtime Blues plush doll,Based o...     MerryMakers   \n",
       "1  [Cat In A Tea Cup by New Yorker cover artist G...  The New Yorker   \n",
       "2                                Skyhorse Publishing          imusti   \n",
       "3  [Nutrilite Kids,Chewable Iron Tablets,Quantity...           Amway   \n",
       "4                                                NaN             NaN   \n",
       "\n",
       "   BROWSE_NODE_ID  \n",
       "0               0  \n",
       "1               1  \n",
       "2               2  \n",
       "3               3  \n",
       "4               4  "
      ]
     },
     "execution_count": 35,
     "metadata": {},
     "output_type": "execute_result"
    }
   ],
   "source": [
    "dataset.head()"
   ]
  },
  {
   "cell_type": "code",
   "execution_count": 38,
   "id": "05de52f3",
   "metadata": {
    "ExecuteTime": {
     "end_time": "2021-07-30T07:33:27.769032Z",
     "start_time": "2021-07-30T07:33:27.753095Z"
    },
    "hidden": true
   },
   "outputs": [
    {
     "data": {
      "text/plain": [
       "(2903024, 5)"
      ]
     },
     "execution_count": 38,
     "metadata": {},
     "output_type": "execute_result"
    }
   ],
   "source": [
    "dataset.shape"
   ]
  },
  {
   "cell_type": "code",
   "execution_count": 12,
   "id": "4a8fe7d9",
   "metadata": {
    "ExecuteTime": {
     "end_time": "2021-07-30T06:08:18.444399Z",
     "start_time": "2021-07-30T06:08:18.434427Z"
    },
    "hidden": true
   },
   "outputs": [
    {
     "data": {
      "text/plain": [
       "Index(['TITLE', 'DESCRIPTION', 'BULLET_POINTS', 'BRAND', 'BROWSE_NODE_ID'], dtype='object')"
      ]
     },
     "execution_count": 12,
     "metadata": {},
     "output_type": "execute_result"
    }
   ],
   "source": [
    "dataset.columns"
   ]
  },
  {
   "cell_type": "code",
   "execution_count": 11,
   "id": "e67fe8b3",
   "metadata": {
    "ExecuteTime": {
     "end_time": "2021-07-30T06:07:45.339656Z",
     "start_time": "2021-07-30T06:07:45.302035Z"
    },
    "hidden": true
   },
   "outputs": [
    {
     "name": "stdout",
     "output_type": "stream",
     "text": [
      "<class 'pandas.core.frame.DataFrame'>\n",
      "RangeIndex: 2903024 entries, 0 to 2903023\n",
      "Data columns (total 5 columns):\n",
      " #   Column          Dtype \n",
      "---  ------          ----- \n",
      " 0   TITLE           object\n",
      " 1   DESCRIPTION     object\n",
      " 2   BULLET_POINTS   object\n",
      " 3   BRAND           object\n",
      " 4   BROWSE_NODE_ID  int64 \n",
      "dtypes: int64(1), object(4)\n",
      "memory usage: 110.7+ MB\n"
     ]
    }
   ],
   "source": [
    "dataset.info()"
   ]
  },
  {
   "cell_type": "code",
   "execution_count": 27,
   "id": "b0b230c6",
   "metadata": {
    "ExecuteTime": {
     "end_time": "2021-07-30T06:18:49.398222Z",
     "start_time": "2021-07-30T06:18:48.659776Z"
    },
    "hidden": true
   },
   "outputs": [
    {
     "data": {
      "text/plain": [
       "TITLE             0.000024\n",
       "DESCRIPTION       0.249279\n",
       "BULLET_POINTS     0.057272\n",
       "BRAND             0.019544\n",
       "BROWSE_NODE_ID    0.000000\n",
       "dtype: float64"
      ]
     },
     "execution_count": 27,
     "metadata": {},
     "output_type": "execute_result"
    }
   ],
   "source": [
    "dataset.isna().mean()"
   ]
  },
  {
   "cell_type": "code",
   "execution_count": 25,
   "id": "cf048de0",
   "metadata": {
    "ExecuteTime": {
     "end_time": "2021-07-30T06:17:03.611472Z",
     "start_time": "2021-07-30T06:17:02.878120Z"
    },
    "hidden": true
   },
   "outputs": [
    {
     "data": {
      "text/plain": [
       "TITLE                 71\n",
       "DESCRIPTION       723664\n",
       "BULLET_POINTS     166263\n",
       "BRAND              56737\n",
       "BROWSE_NODE_ID         0\n",
       "dtype: int64"
      ]
     },
     "execution_count": 25,
     "metadata": {},
     "output_type": "execute_result"
    }
   ],
   "source": [
    "dataset.isna().sum()"
   ]
  },
  {
   "cell_type": "code",
   "execution_count": 12,
   "id": "2bf31438",
   "metadata": {
    "ExecuteTime": {
     "end_time": "2021-07-30T07:58:35.570351Z",
     "start_time": "2021-07-30T07:58:35.552193Z"
    },
    "hidden": true
   },
   "outputs": [
    {
     "name": "stdout",
     "output_type": "stream",
     "text": [
      "Pete The Cat Bedtime Blues Doll, 14.5 Inch\n",
      "\n",
      "\n",
      "The New Yorker NYHM014 Refrigerator Magnet, 2 x 3.5\n",
      "\n",
      "\n",
      "The Ultimate Self-Sufficiency Handbook: A Complete Guide to Baking, Crafts, Gardening, Preserving Your Harvest, Raising Animals and More\n",
      "\n",
      "\n",
      "Amway Nutrilite Kids Chewable Iron Tablets (100)\n",
      "\n",
      "\n",
      "Teacher Planner Company A4 6 Lesson Academic Teacher Planner - Leatherette Pink\n"
     ]
    }
   ],
   "source": [
    "print(dataset['TITLE'][0])\n",
    "print('\\n')\n",
    "print(dataset['TITLE'][1])\n",
    "print('\\n')\n",
    "print(dataset['TITLE'][2])\n",
    "print('\\n')\n",
    "print(dataset['TITLE'][3])\n",
    "print('\\n')\n",
    "print(dataset['TITLE'][4])"
   ]
  },
  {
   "cell_type": "code",
   "execution_count": 11,
   "id": "162b57fd",
   "metadata": {
    "ExecuteTime": {
     "end_time": "2021-07-30T07:57:38.784203Z",
     "start_time": "2021-07-30T07:57:38.774059Z"
    },
    "hidden": true
   },
   "outputs": [
    {
     "name": "stdout",
     "output_type": "stream",
     "text": [
      "[Pete the Cat Bedtime Blues plush doll,Based on the popular Pete the Cat books by James Dean,Super cuddly and ready for naptime and bedtime,Safe for all ages, perfect for ages 2 and up,Measures 14. 5 inches]\n",
      "\n",
      "\n",
      "[Cat In A Tea Cup by New Yorker cover artist Gurbuz Dogan Eksioglu,Handsome cello wrapped hard magnet,Ideal for home or office, or for a gift and for any New Yorker magazine lover,It highlight one of the many beautiful New Yorker covers in full color,Rigid magnet measures 2. 5-Inch width by 3. 5-Inch height]\n",
      "\n",
      "\n",
      "Skyhorse Publishing\n",
      "\n",
      "\n",
      "[Nutrilite Kids,Chewable Iron Tablets,Quantity 100 tablets]\n",
      "\n",
      "\n",
      "nan\n",
      "\n",
      "\n",
      "[Color: Blue,Sleeve: Full Sleeve,Material: Cotton,Neck: Round]\n"
     ]
    }
   ],
   "source": [
    "print(dataset['BULLET_POINTS'][0])\n",
    "print('\\n')\n",
    "print(dataset['BULLET_POINTS'][1])\n",
    "print('\\n')\n",
    "print(dataset['BULLET_POINTS'][2])\n",
    "print('\\n')\n",
    "print(dataset['BULLET_POINTS'][3])\n",
    "print('\\n')\n",
    "print(dataset['BULLET_POINTS'][4])\n",
    "print('\\n')\n",
    "print(dataset['BULLET_POINTS'][5])"
   ]
  },
  {
   "cell_type": "code",
   "execution_count": 22,
   "id": "ee725cc8",
   "metadata": {
    "ExecuteTime": {
     "end_time": "2021-07-30T08:14:06.904252Z",
     "start_time": "2021-07-30T08:14:06.192558Z"
    },
    "hidden": true
   },
   "outputs": [
    {
     "data": {
      "text/plain": [
       "<class 'str'>      2736761\n",
       "<class 'float'>     166263\n",
       "Name: BULLET_POINTS, dtype: int64"
      ]
     },
     "execution_count": 22,
     "metadata": {},
     "output_type": "execute_result"
    }
   ],
   "source": [
    "dataset['BULLET_POINTS'].apply(type).value_counts()"
   ]
  },
  {
   "cell_type": "code",
   "execution_count": 17,
   "id": "8df8c61a",
   "metadata": {
    "ExecuteTime": {
     "end_time": "2021-07-30T08:11:32.919147Z",
     "start_time": "2021-07-30T08:11:13.103783Z"
    },
    "hidden": true
   },
   "outputs": [],
   "source": [
    "dataset_onlyfloat = dataset.copy()"
   ]
  },
  {
   "cell_type": "code",
   "execution_count": 31,
   "id": "d118f198",
   "metadata": {
    "ExecuteTime": {
     "end_time": "2021-07-30T09:29:00.568604Z",
     "start_time": "2021-07-30T09:29:00.187926Z"
    },
    "hidden": true
   },
   "outputs": [],
   "source": [
    "dataset_onlyfloat['BULLET_POINTS'].fillna(value = 'OTHERS', inplace=True)"
   ]
  },
  {
   "cell_type": "code",
   "execution_count": 32,
   "id": "ce0b1646",
   "metadata": {
    "ExecuteTime": {
     "end_time": "2021-07-30T09:29:40.764508Z",
     "start_time": "2021-07-30T09:29:39.702972Z"
    },
    "hidden": true
   },
   "outputs": [
    {
     "data": {
      "text/plain": [
       "TITLE                 71\n",
       "DESCRIPTION       723664\n",
       "BULLET_POINTS          0\n",
       "BRAND              56737\n",
       "BROWSE_NODE_ID         0\n",
       "dtype: int64"
      ]
     },
     "execution_count": 32,
     "metadata": {},
     "output_type": "execute_result"
    }
   ],
   "source": [
    "dataset_onlyfloat.isna().sum()"
   ]
  },
  {
   "cell_type": "code",
   "execution_count": 29,
   "id": "e9e2875c",
   "metadata": {
    "ExecuteTime": {
     "end_time": "2021-07-30T08:17:36.182350Z",
     "start_time": "2021-07-30T08:17:35.523781Z"
    },
    "collapsed": true,
    "hidden": true
   },
   "outputs": [
    {
     "data": {
      "text/html": [
       "<div>\n",
       "<style scoped>\n",
       "    .dataframe tbody tr th:only-of-type {\n",
       "        vertical-align: middle;\n",
       "    }\n",
       "\n",
       "    .dataframe tbody tr th {\n",
       "        vertical-align: top;\n",
       "    }\n",
       "\n",
       "    .dataframe thead th {\n",
       "        text-align: right;\n",
       "    }\n",
       "</style>\n",
       "<table border=\"1\" class=\"dataframe\">\n",
       "  <thead>\n",
       "    <tr style=\"text-align: right;\">\n",
       "      <th></th>\n",
       "      <th>TITLE</th>\n",
       "      <th>DESCRIPTION</th>\n",
       "      <th>BULLET_POINTS</th>\n",
       "      <th>BRAND</th>\n",
       "      <th>BROWSE_NODE_ID</th>\n",
       "    </tr>\n",
       "  </thead>\n",
       "  <tbody>\n",
       "    <tr>\n",
       "      <th>0</th>\n",
       "      <td>Pete The Cat Bedtime Blues Doll, 14.5 Inch</td>\n",
       "      <td>Pete the Cat is the coolest, most popular cat ...</td>\n",
       "      <td>[Pete the Cat Bedtime Blues plush doll,Based o...</td>\n",
       "      <td>MerryMakers</td>\n",
       "      <td>0</td>\n",
       "    </tr>\n",
       "    <tr>\n",
       "      <th>1</th>\n",
       "      <td>The New Yorker NYHM014 Refrigerator Magnet, 2 ...</td>\n",
       "      <td>The New Yorker Handsome Cello Wrapped Hard Mag...</td>\n",
       "      <td>[Cat In A Tea Cup by New Yorker cover artist G...</td>\n",
       "      <td>The New Yorker</td>\n",
       "      <td>1</td>\n",
       "    </tr>\n",
       "    <tr>\n",
       "      <th>2</th>\n",
       "      <td>The Ultimate Self-Sufficiency Handbook: A Comp...</td>\n",
       "      <td>NaN</td>\n",
       "      <td>Skyhorse Publishing</td>\n",
       "      <td>imusti</td>\n",
       "      <td>2</td>\n",
       "    </tr>\n",
       "    <tr>\n",
       "      <th>3</th>\n",
       "      <td>Amway Nutrilite Kids Chewable Iron Tablets (100)</td>\n",
       "      <td>NaN</td>\n",
       "      <td>[Nutrilite Kids,Chewable Iron Tablets,Quantity...</td>\n",
       "      <td>Amway</td>\n",
       "      <td>3</td>\n",
       "    </tr>\n",
       "    <tr>\n",
       "      <th>5</th>\n",
       "      <td>Men'S Full Sleeve Raglan T-Shirts Denim T-Shir...</td>\n",
       "      <td>Men'S Full Sleeve Raglan T-Shirts Denim T-Shir...</td>\n",
       "      <td>[Color: Blue,Sleeve: Full Sleeve,Material: Cot...</td>\n",
       "      <td>Bhavya Enterprise</td>\n",
       "      <td>5</td>\n",
       "    </tr>\n",
       "    <tr>\n",
       "      <th>...</th>\n",
       "      <td>...</td>\n",
       "      <td>...</td>\n",
       "      <td>...</td>\n",
       "      <td>...</td>\n",
       "      <td>...</td>\n",
       "    </tr>\n",
       "    <tr>\n",
       "      <th>2903018</th>\n",
       "      <td>The NXT LVL Liquid Silicone Soft Back Cover Ca...</td>\n",
       "      <td>Product color may slightly vary due to photogr...</td>\n",
       "      <td>[Liquid silicone case compatible with apple pr...</td>\n",
       "      <td>Generic</td>\n",
       "      <td>794481</td>\n",
       "    </tr>\n",
       "    <tr>\n",
       "      <th>2903019</th>\n",
       "      <td>Premium Aviator Sunglasses - HD Polarized (Bri...</td>\n",
       "      <td>These premium Aviator Sunglasses with 5 color ...</td>\n",
       "      <td>[Frame size: Lens height - 56mm, Lens width - ...</td>\n",
       "      <td>Generic</td>\n",
       "      <td>1040</td>\n",
       "    </tr>\n",
       "    <tr>\n",
       "      <th>2903020</th>\n",
       "      <td>Social Distance Stickers - Set of 5 Sticker Sl...</td>\n",
       "      <td>set of 5 prints social distancing sticker self...</td>\n",
       "      <td>[covid19 safety sticker - set of 5 to maintain...</td>\n",
       "      <td>Generic</td>\n",
       "      <td>15199</td>\n",
       "    </tr>\n",
       "    <tr>\n",
       "      <th>2903021</th>\n",
       "      <td>Torr-to Face Shield PACK OF 5 with Adjustable ...</td>\n",
       "      <td>* COMPLETE FACE PROTECTION: Torr-to Face Shiel...</td>\n",
       "      <td>[350 MICRONS PACK OF 5 PCS,COMPLETE FACE PROTE...</td>\n",
       "      <td>TORR-TO</td>\n",
       "      <td>1044933</td>\n",
       "    </tr>\n",
       "    <tr>\n",
       "      <th>2903022</th>\n",
       "      <td>Type-C to 3.5 MM for Oppo R17 Pro Type-C to 3....</td>\n",
       "      <td>Still want to use your favorite earphones/head...</td>\n",
       "      <td>[Indian Connectors: Made for Indian sockets, t...</td>\n",
       "      <td>SHOPBELL</td>\n",
       "      <td>14790</td>\n",
       "    </tr>\n",
       "  </tbody>\n",
       "</table>\n",
       "<p>2736761 rows × 5 columns</p>\n",
       "</div>"
      ],
      "text/plain": [
       "                                                     TITLE  \\\n",
       "0               Pete The Cat Bedtime Blues Doll, 14.5 Inch   \n",
       "1        The New Yorker NYHM014 Refrigerator Magnet, 2 ...   \n",
       "2        The Ultimate Self-Sufficiency Handbook: A Comp...   \n",
       "3         Amway Nutrilite Kids Chewable Iron Tablets (100)   \n",
       "5        Men'S Full Sleeve Raglan T-Shirts Denim T-Shir...   \n",
       "...                                                    ...   \n",
       "2903018  The NXT LVL Liquid Silicone Soft Back Cover Ca...   \n",
       "2903019  Premium Aviator Sunglasses - HD Polarized (Bri...   \n",
       "2903020  Social Distance Stickers - Set of 5 Sticker Sl...   \n",
       "2903021  Torr-to Face Shield PACK OF 5 with Adjustable ...   \n",
       "2903022  Type-C to 3.5 MM for Oppo R17 Pro Type-C to 3....   \n",
       "\n",
       "                                               DESCRIPTION  \\\n",
       "0        Pete the Cat is the coolest, most popular cat ...   \n",
       "1        The New Yorker Handsome Cello Wrapped Hard Mag...   \n",
       "2                                                      NaN   \n",
       "3                                                      NaN   \n",
       "5        Men'S Full Sleeve Raglan T-Shirts Denim T-Shir...   \n",
       "...                                                    ...   \n",
       "2903018  Product color may slightly vary due to photogr...   \n",
       "2903019  These premium Aviator Sunglasses with 5 color ...   \n",
       "2903020  set of 5 prints social distancing sticker self...   \n",
       "2903021  * COMPLETE FACE PROTECTION: Torr-to Face Shiel...   \n",
       "2903022  Still want to use your favorite earphones/head...   \n",
       "\n",
       "                                             BULLET_POINTS              BRAND  \\\n",
       "0        [Pete the Cat Bedtime Blues plush doll,Based o...        MerryMakers   \n",
       "1        [Cat In A Tea Cup by New Yorker cover artist G...     The New Yorker   \n",
       "2                                      Skyhorse Publishing             imusti   \n",
       "3        [Nutrilite Kids,Chewable Iron Tablets,Quantity...              Amway   \n",
       "5        [Color: Blue,Sleeve: Full Sleeve,Material: Cot...  Bhavya Enterprise   \n",
       "...                                                    ...                ...   \n",
       "2903018  [Liquid silicone case compatible with apple pr...            Generic   \n",
       "2903019  [Frame size: Lens height - 56mm, Lens width - ...            Generic   \n",
       "2903020  [covid19 safety sticker - set of 5 to maintain...            Generic   \n",
       "2903021  [350 MICRONS PACK OF 5 PCS,COMPLETE FACE PROTE...            TORR-TO   \n",
       "2903022  [Indian Connectors: Made for Indian sockets, t...           SHOPBELL   \n",
       "\n",
       "         BROWSE_NODE_ID  \n",
       "0                     0  \n",
       "1                     1  \n",
       "2                     2  \n",
       "3                     3  \n",
       "5                     5  \n",
       "...                 ...  \n",
       "2903018          794481  \n",
       "2903019            1040  \n",
       "2903020           15199  \n",
       "2903021         1044933  \n",
       "2903022           14790  \n",
       "\n",
       "[2736761 rows x 5 columns]"
      ]
     },
     "execution_count": 29,
     "metadata": {},
     "output_type": "execute_result"
    }
   ],
   "source": [
    "dataset_onlyfloat[dataset_onlyfloat['BULLET_POINTS'].notna()]"
   ]
  },
  {
   "cell_type": "code",
   "execution_count": 23,
   "id": "d0780201",
   "metadata": {
    "ExecuteTime": {
     "end_time": "2021-07-30T08:15:20.386559Z",
     "start_time": "2021-07-30T08:15:10.569746Z"
    },
    "collapsed": true,
    "hidden": true
   },
   "outputs": [
    {
     "data": {
      "text/html": [
       "<div>\n",
       "<style scoped>\n",
       "    .dataframe tbody tr th:only-of-type {\n",
       "        vertical-align: middle;\n",
       "    }\n",
       "\n",
       "    .dataframe tbody tr th {\n",
       "        vertical-align: top;\n",
       "    }\n",
       "\n",
       "    .dataframe thead th {\n",
       "        text-align: right;\n",
       "    }\n",
       "</style>\n",
       "<table border=\"1\" class=\"dataframe\">\n",
       "  <thead>\n",
       "    <tr style=\"text-align: right;\">\n",
       "      <th></th>\n",
       "      <th>TITLE</th>\n",
       "      <th>DESCRIPTION</th>\n",
       "      <th>BULLET_POINTS</th>\n",
       "      <th>BRAND</th>\n",
       "      <th>BROWSE_NODE_ID</th>\n",
       "    </tr>\n",
       "  </thead>\n",
       "  <tbody>\n",
       "    <tr>\n",
       "      <th>0</th>\n",
       "      <td>Pete The Cat Bedtime Blues Doll, 14.5 Inch</td>\n",
       "      <td>Pete the Cat is the coolest, most popular cat ...</td>\n",
       "      <td>[Pete the Cat Bedtime Blues plush doll,Based o...</td>\n",
       "      <td>MerryMakers</td>\n",
       "      <td>0</td>\n",
       "    </tr>\n",
       "    <tr>\n",
       "      <th>1</th>\n",
       "      <td>The New Yorker NYHM014 Refrigerator Magnet, 2 ...</td>\n",
       "      <td>The New Yorker Handsome Cello Wrapped Hard Mag...</td>\n",
       "      <td>[Cat In A Tea Cup by New Yorker cover artist G...</td>\n",
       "      <td>The New Yorker</td>\n",
       "      <td>1</td>\n",
       "    </tr>\n",
       "    <tr>\n",
       "      <th>2</th>\n",
       "      <td>The Ultimate Self-Sufficiency Handbook: A Comp...</td>\n",
       "      <td>NaN</td>\n",
       "      <td>Skyhorse Publishing</td>\n",
       "      <td>imusti</td>\n",
       "      <td>2</td>\n",
       "    </tr>\n",
       "    <tr>\n",
       "      <th>3</th>\n",
       "      <td>Amway Nutrilite Kids Chewable Iron Tablets (100)</td>\n",
       "      <td>NaN</td>\n",
       "      <td>[Nutrilite Kids,Chewable Iron Tablets,Quantity...</td>\n",
       "      <td>Amway</td>\n",
       "      <td>3</td>\n",
       "    </tr>\n",
       "    <tr>\n",
       "      <th>5</th>\n",
       "      <td>Men'S Full Sleeve Raglan T-Shirts Denim T-Shir...</td>\n",
       "      <td>Men'S Full Sleeve Raglan T-Shirts Denim T-Shir...</td>\n",
       "      <td>[Color: Blue,Sleeve: Full Sleeve,Material: Cot...</td>\n",
       "      <td>Bhavya Enterprise</td>\n",
       "      <td>5</td>\n",
       "    </tr>\n",
       "    <tr>\n",
       "      <th>...</th>\n",
       "      <td>...</td>\n",
       "      <td>...</td>\n",
       "      <td>...</td>\n",
       "      <td>...</td>\n",
       "      <td>...</td>\n",
       "    </tr>\n",
       "    <tr>\n",
       "      <th>2903018</th>\n",
       "      <td>The NXT LVL Liquid Silicone Soft Back Cover Ca...</td>\n",
       "      <td>Product color may slightly vary due to photogr...</td>\n",
       "      <td>[Liquid silicone case compatible with apple pr...</td>\n",
       "      <td>Generic</td>\n",
       "      <td>794481</td>\n",
       "    </tr>\n",
       "    <tr>\n",
       "      <th>2903019</th>\n",
       "      <td>Premium Aviator Sunglasses - HD Polarized (Bri...</td>\n",
       "      <td>These premium Aviator Sunglasses with 5 color ...</td>\n",
       "      <td>[Frame size: Lens height - 56mm, Lens width - ...</td>\n",
       "      <td>Generic</td>\n",
       "      <td>1040</td>\n",
       "    </tr>\n",
       "    <tr>\n",
       "      <th>2903020</th>\n",
       "      <td>Social Distance Stickers - Set of 5 Sticker Sl...</td>\n",
       "      <td>set of 5 prints social distancing sticker self...</td>\n",
       "      <td>[covid19 safety sticker - set of 5 to maintain...</td>\n",
       "      <td>Generic</td>\n",
       "      <td>15199</td>\n",
       "    </tr>\n",
       "    <tr>\n",
       "      <th>2903021</th>\n",
       "      <td>Torr-to Face Shield PACK OF 5 with Adjustable ...</td>\n",
       "      <td>* COMPLETE FACE PROTECTION: Torr-to Face Shiel...</td>\n",
       "      <td>[350 MICRONS PACK OF 5 PCS,COMPLETE FACE PROTE...</td>\n",
       "      <td>TORR-TO</td>\n",
       "      <td>1044933</td>\n",
       "    </tr>\n",
       "    <tr>\n",
       "      <th>2903022</th>\n",
       "      <td>Type-C to 3.5 MM for Oppo R17 Pro Type-C to 3....</td>\n",
       "      <td>Still want to use your favorite earphones/head...</td>\n",
       "      <td>[Indian Connectors: Made for Indian sockets, t...</td>\n",
       "      <td>SHOPBELL</td>\n",
       "      <td>14790</td>\n",
       "    </tr>\n",
       "  </tbody>\n",
       "</table>\n",
       "<p>2736761 rows × 5 columns</p>\n",
       "</div>"
      ],
      "text/plain": [
       "                                                     TITLE  \\\n",
       "0               Pete The Cat Bedtime Blues Doll, 14.5 Inch   \n",
       "1        The New Yorker NYHM014 Refrigerator Magnet, 2 ...   \n",
       "2        The Ultimate Self-Sufficiency Handbook: A Comp...   \n",
       "3         Amway Nutrilite Kids Chewable Iron Tablets (100)   \n",
       "5        Men'S Full Sleeve Raglan T-Shirts Denim T-Shir...   \n",
       "...                                                    ...   \n",
       "2903018  The NXT LVL Liquid Silicone Soft Back Cover Ca...   \n",
       "2903019  Premium Aviator Sunglasses - HD Polarized (Bri...   \n",
       "2903020  Social Distance Stickers - Set of 5 Sticker Sl...   \n",
       "2903021  Torr-to Face Shield PACK OF 5 with Adjustable ...   \n",
       "2903022  Type-C to 3.5 MM for Oppo R17 Pro Type-C to 3....   \n",
       "\n",
       "                                               DESCRIPTION  \\\n",
       "0        Pete the Cat is the coolest, most popular cat ...   \n",
       "1        The New Yorker Handsome Cello Wrapped Hard Mag...   \n",
       "2                                                      NaN   \n",
       "3                                                      NaN   \n",
       "5        Men'S Full Sleeve Raglan T-Shirts Denim T-Shir...   \n",
       "...                                                    ...   \n",
       "2903018  Product color may slightly vary due to photogr...   \n",
       "2903019  These premium Aviator Sunglasses with 5 color ...   \n",
       "2903020  set of 5 prints social distancing sticker self...   \n",
       "2903021  * COMPLETE FACE PROTECTION: Torr-to Face Shiel...   \n",
       "2903022  Still want to use your favorite earphones/head...   \n",
       "\n",
       "                                             BULLET_POINTS              BRAND  \\\n",
       "0        [Pete the Cat Bedtime Blues plush doll,Based o...        MerryMakers   \n",
       "1        [Cat In A Tea Cup by New Yorker cover artist G...     The New Yorker   \n",
       "2                                      Skyhorse Publishing             imusti   \n",
       "3        [Nutrilite Kids,Chewable Iron Tablets,Quantity...              Amway   \n",
       "5        [Color: Blue,Sleeve: Full Sleeve,Material: Cot...  Bhavya Enterprise   \n",
       "...                                                    ...                ...   \n",
       "2903018  [Liquid silicone case compatible with apple pr...            Generic   \n",
       "2903019  [Frame size: Lens height - 56mm, Lens width - ...            Generic   \n",
       "2903020  [covid19 safety sticker - set of 5 to maintain...            Generic   \n",
       "2903021  [350 MICRONS PACK OF 5 PCS,COMPLETE FACE PROTE...            TORR-TO   \n",
       "2903022  [Indian Connectors: Made for Indian sockets, t...           SHOPBELL   \n",
       "\n",
       "         BROWSE_NODE_ID  \n",
       "0                     0  \n",
       "1                     1  \n",
       "2                     2  \n",
       "3                     3  \n",
       "5                     5  \n",
       "...                 ...  \n",
       "2903018          794481  \n",
       "2903019            1040  \n",
       "2903020           15199  \n",
       "2903021         1044933  \n",
       "2903022           14790  \n",
       "\n",
       "[2736761 rows x 5 columns]"
      ]
     },
     "execution_count": 23,
     "metadata": {},
     "output_type": "execute_result"
    }
   ],
   "source": [
    "dataset_onlyfloat[dataset_onlyfloat['BULLET_POINTS'].apply(type) == type('csdv')]"
   ]
  },
  {
   "cell_type": "code",
   "execution_count": 34,
   "id": "6743433b",
   "metadata": {
    "ExecuteTime": {
     "end_time": "2021-07-30T09:31:42.297644Z",
     "start_time": "2021-07-30T09:31:41.791392Z"
    },
    "hidden": true
   },
   "outputs": [
    {
     "data": {
      "text/plain": [
       "<class 'str'>      2846287\n",
       "<class 'float'>      56737\n",
       "Name: BRAND, dtype: int64"
      ]
     },
     "execution_count": 34,
     "metadata": {},
     "output_type": "execute_result"
    }
   ],
   "source": [
    "dataset['BRAND'].apply(type).value_counts()"
   ]
  },
  {
   "cell_type": "markdown",
   "id": "99cb3fa5",
   "metadata": {
    "heading_collapsed": true
   },
   "source": [
    "# **DATA PREPROCESSING**"
   ]
  },
  {
   "cell_type": "markdown",
   "id": "693acf61",
   "metadata": {
    "heading_collapsed": true,
    "hidden": true
   },
   "source": [
    "## Dropping Description"
   ]
  },
  {
   "cell_type": "code",
   "execution_count": 20,
   "id": "b4d02d86",
   "metadata": {
    "ExecuteTime": {
     "end_time": "2021-07-30T14:31:25.383292Z",
     "start_time": "2021-07-30T14:31:22.179314Z"
    },
    "hidden": true
   },
   "outputs": [],
   "source": [
    "dataset.drop(columns='DESCRIPTION', inplace = True)"
   ]
  },
  {
   "cell_type": "markdown",
   "id": "25d49607",
   "metadata": {
    "heading_collapsed": true,
    "hidden": true
   },
   "source": [
    "## Handling Duplicates"
   ]
  },
  {
   "cell_type": "code",
   "execution_count": 5,
   "id": "1a62cf0f",
   "metadata": {
    "ExecuteTime": {
     "end_time": "2021-07-30T11:23:39.796443Z",
     "start_time": "2021-07-30T11:23:32.959287Z"
    },
    "hidden": true
   },
   "outputs": [],
   "source": [
    "#Handling Duplicates\n",
    "dataset.drop_duplicates(inplace=True)"
   ]
  },
  {
   "cell_type": "markdown",
   "id": "320f9225",
   "metadata": {
    "heading_collapsed": true,
    "hidden": true
   },
   "source": [
    "## Handling **Nulls**"
   ]
  },
  {
   "cell_type": "markdown",
   "id": "b1ca658c",
   "metadata": {
    "hidden": true
   },
   "source": [
    "All nulls in all columns, will be replaced by **'OTHERS'**"
   ]
  },
  {
   "cell_type": "code",
   "execution_count": 7,
   "id": "d9180d0c",
   "metadata": {
    "ExecuteTime": {
     "end_time": "2021-07-30T11:24:16.196692Z",
     "start_time": "2021-07-30T11:24:15.411605Z"
    },
    "hidden": true
   },
   "outputs": [],
   "source": [
    "#Filling Nulls with OTHERS\n",
    "dataset.fillna('OTHERS', inplace=True)"
   ]
  },
  {
   "cell_type": "code",
   "execution_count": 8,
   "id": "e7c22a08",
   "metadata": {
    "ExecuteTime": {
     "end_time": "2021-07-30T11:24:18.403412Z",
     "start_time": "2021-07-30T11:24:17.693804Z"
    },
    "hidden": true
   },
   "outputs": [
    {
     "data": {
      "text/plain": [
       "TITLE             0\n",
       "DESCRIPTION       0\n",
       "BULLET_POINTS     0\n",
       "BRAND             0\n",
       "BROWSE_NODE_ID    0\n",
       "dtype: int64"
      ]
     },
     "execution_count": 8,
     "metadata": {},
     "output_type": "execute_result"
    }
   ],
   "source": [
    "dataset.isna().sum()"
   ]
  },
  {
   "cell_type": "markdown",
   "id": "fe4cdca6",
   "metadata": {
    "heading_collapsed": true,
    "hidden": true
   },
   "source": [
    "## Handling **BULLET_POINTS**"
   ]
  },
  {
   "cell_type": "markdown",
   "id": "25dbeb06",
   "metadata": {
    "hidden": true
   },
   "source": [
    "BULLET_POINTS contains a string either **containing** '[]' denoting it is a list of strings or **not containing** '[]' denoting there is only one Bullet Point. Will convert Bullet Points into That specific format"
   ]
  },
  {
   "cell_type": "code",
   "execution_count": 9,
   "id": "798b7345",
   "metadata": {
    "ExecuteTime": {
     "end_time": "2021-07-30T11:24:26.658277Z",
     "start_time": "2021-07-30T11:24:26.640359Z"
    },
    "hidden": true
   },
   "outputs": [
    {
     "name": "stdout",
     "output_type": "stream",
     "text": [
      "[Pete the Cat Bedtime Blues plush doll,Based on the popular Pete the Cat books by James Dean,Super cuddly and ready for naptime and bedtime,Safe for all ages, perfect for ages 2 and up,Measures 14. 5 inches]\n",
      "\n",
      "\n",
      "[Cat In A Tea Cup by New Yorker cover artist Gurbuz Dogan Eksioglu,Handsome cello wrapped hard magnet,Ideal for home or office, or for a gift and for any New Yorker magazine lover,It highlight one of the many beautiful New Yorker covers in full color,Rigid magnet measures 2. 5-Inch width by 3. 5-Inch height]\n",
      "\n",
      "\n",
      "Skyhorse Publishing\n",
      "\n",
      "\n",
      "[Nutrilite Kids,Chewable Iron Tablets,Quantity 100 tablets]\n",
      "\n",
      "\n",
      "OTHERS\n",
      "\n",
      "\n",
      "[Color: Blue,Sleeve: Full Sleeve,Material: Cotton,Neck: Round]\n"
     ]
    }
   ],
   "source": [
    "print(dataset['BULLET_POINTS'][0])\n",
    "print('\\n')\n",
    "print(dataset['BULLET_POINTS'][1])\n",
    "print('\\n')\n",
    "print(dataset['BULLET_POINTS'][2])\n",
    "print('\\n')\n",
    "print(dataset['BULLET_POINTS'][3])\n",
    "print('\\n')\n",
    "print(dataset['BULLET_POINTS'][4])\n",
    "print('\\n')\n",
    "print(dataset['BULLET_POINTS'][5])"
   ]
  },
  {
   "cell_type": "code",
   "execution_count": 10,
   "id": "9437ea4e",
   "metadata": {
    "ExecuteTime": {
     "end_time": "2021-07-30T11:24:44.164685Z",
     "start_time": "2021-07-30T11:24:31.135424Z"
    },
    "hidden": true
   },
   "outputs": [
    {
     "name": "stderr",
     "output_type": "stream",
     "text": [
      "<ipython-input-10-88901d48649c>:2: FutureWarning: The default value of regex will change from True to False in a future version. In addition, single character regular expressions will*not* be treated as literal strings when regex=True.\n",
      "  dataset['BULLET_POINTS'] = dataset['BULLET_POINTS'].str.replace('[', '')\n",
      "<ipython-input-10-88901d48649c>:3: FutureWarning: The default value of regex will change from True to False in a future version. In addition, single character regular expressions will*not* be treated as literal strings when regex=True.\n",
      "  dataset['BULLET_POINTS'] = dataset['BULLET_POINTS'].str.replace(']', '')\n"
     ]
    }
   ],
   "source": [
    "#Replacing ] and [ with ''\n",
    "dataset['BULLET_POINTS'] = dataset['BULLET_POINTS'].str.replace('[', '')\n",
    "dataset['BULLET_POINTS'] = dataset['BULLET_POINTS'].str.replace(']', '')"
   ]
  },
  {
   "cell_type": "code",
   "execution_count": 11,
   "id": "3c09564e",
   "metadata": {
    "ExecuteTime": {
     "end_time": "2021-07-30T11:24:46.381115Z",
     "start_time": "2021-07-30T11:24:46.367115Z"
    },
    "hidden": true
   },
   "outputs": [
    {
     "name": "stdout",
     "output_type": "stream",
     "text": [
      "Pete the Cat Bedtime Blues plush doll,Based on the popular Pete the Cat books by James Dean,Super cuddly and ready for naptime and bedtime,Safe for all ages, perfect for ages 2 and up,Measures 14. 5 inches\n",
      "\n",
      "\n",
      "Cat In A Tea Cup by New Yorker cover artist Gurbuz Dogan Eksioglu,Handsome cello wrapped hard magnet,Ideal for home or office, or for a gift and for any New Yorker magazine lover,It highlight one of the many beautiful New Yorker covers in full color,Rigid magnet measures 2. 5-Inch width by 3. 5-Inch height\n",
      "\n",
      "\n",
      "Skyhorse Publishing\n",
      "\n",
      "\n",
      "Nutrilite Kids,Chewable Iron Tablets,Quantity 100 tablets\n",
      "\n",
      "\n",
      "OTHERS\n",
      "\n",
      "\n",
      "Color: Blue,Sleeve: Full Sleeve,Material: Cotton,Neck: Round\n"
     ]
    }
   ],
   "source": [
    "print(dataset['BULLET_POINTS'][0])\n",
    "print('\\n')\n",
    "print(dataset['BULLET_POINTS'][1])\n",
    "print('\\n')\n",
    "print(dataset['BULLET_POINTS'][2])\n",
    "print('\\n')\n",
    "print(dataset['BULLET_POINTS'][3])\n",
    "print('\\n')\n",
    "print(dataset['BULLET_POINTS'][4])\n",
    "print('\\n')\n",
    "print(dataset['BULLET_POINTS'][5])"
   ]
  },
  {
   "cell_type": "code",
   "execution_count": 12,
   "id": "c4558962",
   "metadata": {
    "ExecuteTime": {
     "end_time": "2021-07-30T11:25:02.205591Z",
     "start_time": "2021-07-30T11:24:53.329302Z"
    },
    "hidden": true
   },
   "outputs": [],
   "source": [
    "#Converting BULLET_POINTS from comma seperated values to list containing values\n",
    "dataset['BULLET_POINTS'] = dataset['BULLET_POINTS'].map(lambda x: x.split(','))"
   ]
  },
  {
   "cell_type": "code",
   "execution_count": 13,
   "id": "d451878b",
   "metadata": {
    "ExecuteTime": {
     "end_time": "2021-07-30T11:25:12.812926Z",
     "start_time": "2021-07-30T11:25:12.260461Z"
    },
    "hidden": true
   },
   "outputs": [
    {
     "data": {
      "text/plain": [
       "<class 'list'>    2801530\n",
       "Name: BULLET_POINTS, dtype: int64"
      ]
     },
     "execution_count": 13,
     "metadata": {},
     "output_type": "execute_result"
    }
   ],
   "source": [
    "dataset['BULLET_POINTS'].apply(type).value_counts()"
   ]
  },
  {
   "cell_type": "markdown",
   "id": "ba34ea63",
   "metadata": {
    "heading_collapsed": true,
    "hidden": true
   },
   "source": [
    "## Dumping/Loading"
   ]
  },
  {
   "cell_type": "code",
   "execution_count": 14,
   "id": "73eed38c",
   "metadata": {
    "ExecuteTime": {
     "end_time": "2021-07-30T11:25:36.669766Z",
     "start_time": "2021-07-30T11:25:24.726187Z"
    },
    "hidden": true
   },
   "outputs": [],
   "source": [
    "#Dumping\n",
    "joblib.dump('V1', compress='zlib')"
   ]
  },
  {
   "cell_type": "code",
   "execution_count": 2,
   "id": "75c8eaeb",
   "metadata": {
    "ExecuteTime": {
     "end_time": "2021-07-31T08:03:35.907874Z",
     "start_time": "2021-07-31T08:01:16.115145Z"
    },
    "hidden": true
   },
   "outputs": [],
   "source": [
    "#Loading\n",
    "dataset = joblib.load('V1')"
   ]
  },
  {
   "cell_type": "code",
   "execution_count": 4,
   "id": "dfe3ab6c",
   "metadata": {
    "ExecuteTime": {
     "end_time": "2021-07-31T03:28:46.252974Z",
     "start_time": "2021-07-31T03:28:46.049827Z"
    },
    "hidden": true
   },
   "outputs": [],
   "source": [
    "dataset_original = dataset.copy()\n",
    "dataset_temp = dataset.iloc[:10000,:].copy()"
   ]
  },
  {
   "cell_type": "markdown",
   "id": "da5f8308",
   "metadata": {
    "heading_collapsed": true
   },
   "source": [
    "# **NLP**"
   ]
  },
  {
   "cell_type": "markdown",
   "id": "e13c347f",
   "metadata": {
    "heading_collapsed": true,
    "hidden": true
   },
   "source": [
    "## Preprocessing"
   ]
  },
  {
   "cell_type": "code",
   "execution_count": 35,
   "id": "d9dbbb12",
   "metadata": {
    "ExecuteTime": {
     "end_time": "2021-07-30T20:12:18.012787Z",
     "start_time": "2021-07-30T20:12:16.638622Z"
    },
    "hidden": true
   },
   "outputs": [],
   "source": [
    "# Tokenize\n",
    "dataset_temp['TITLE'] = dataset_temp['TITLE'].apply(word_tokenize)"
   ]
  },
  {
   "cell_type": "code",
   "execution_count": 29,
   "id": "c0d1e1f6",
   "metadata": {
    "ExecuteTime": {
     "end_time": "2021-07-30T19:54:27.486810Z",
     "start_time": "2021-07-30T19:54:27.257463Z"
    },
    "hidden": true
   },
   "outputs": [
    {
     "name": "stderr",
     "output_type": "stream",
     "text": [
      "C:\\Users\\AYUSH~1.BAJ\\AppData\\Local\\Temp/ipykernel_4940/4247752062.py:6: SettingWithCopyWarning: \n",
      "A value is trying to be set on a copy of a slice from a DataFrame.\n",
      "Try using .loc[row_indexer,col_indexer] = value instead\n",
      "\n",
      "See the caveats in the documentation: https://pandas.pydata.org/pandas-docs/stable/user_guide/indexing.html#returning-a-view-versus-a-copy\n",
      "  dataset_temp['TITLE'] = dataset_temp['TITLE'].apply(remove_punc)\n"
     ]
    }
   ],
   "source": [
    "def remove_punc(x):\n",
    "    x = [''.join(c for c in s if c not in string.punctuation) for s in x]\n",
    "    x = [s for s in x if s]\n",
    "    return x\n",
    "\n",
    "dataset_temp['TITLE'] = dataset_temp['TITLE'].apply(remove_punc)"
   ]
  },
  {
   "cell_type": "code",
   "execution_count": 38,
   "id": "4baeba05",
   "metadata": {
    "ExecuteTime": {
     "end_time": "2021-07-30T20:17:26.297926Z",
     "start_time": "2021-07-30T20:17:26.278861Z"
    },
    "collapsed": true,
    "hidden": true
   },
   "outputs": [
    {
     "data": {
      "text/html": [
       "<div>\n",
       "<style scoped>\n",
       "    .dataframe tbody tr th:only-of-type {\n",
       "        vertical-align: middle;\n",
       "    }\n",
       "\n",
       "    .dataframe tbody tr th {\n",
       "        vertical-align: top;\n",
       "    }\n",
       "\n",
       "    .dataframe thead th {\n",
       "        text-align: right;\n",
       "    }\n",
       "</style>\n",
       "<table border=\"1\" class=\"dataframe\">\n",
       "  <thead>\n",
       "    <tr style=\"text-align: right;\">\n",
       "      <th></th>\n",
       "      <th>TITLE</th>\n",
       "      <th>BULLET_POINTS</th>\n",
       "      <th>BRAND</th>\n",
       "      <th>BROWSE_NODE_ID</th>\n",
       "    </tr>\n",
       "  </thead>\n",
       "  <tbody>\n",
       "    <tr>\n",
       "      <th>0</th>\n",
       "      <td>Pete The Cat Bedtime Blues Doll, 14.5 Inch</td>\n",
       "      <td>[Pete the Cat Bedtime Blues plush doll, Based ...</td>\n",
       "      <td>MerryMakers</td>\n",
       "      <td>0</td>\n",
       "    </tr>\n",
       "    <tr>\n",
       "      <th>1</th>\n",
       "      <td>The New Yorker NYHM014 Refrigerator Magnet, 2 ...</td>\n",
       "      <td>[Cat In A Tea Cup by New Yorker cover artist G...</td>\n",
       "      <td>The New Yorker</td>\n",
       "      <td>1</td>\n",
       "    </tr>\n",
       "    <tr>\n",
       "      <th>2</th>\n",
       "      <td>The Ultimate Self-Sufficiency Handbook: A Comp...</td>\n",
       "      <td>[Skyhorse Publishing]</td>\n",
       "      <td>imusti</td>\n",
       "      <td>2</td>\n",
       "    </tr>\n",
       "    <tr>\n",
       "      <th>3</th>\n",
       "      <td>Amway Nutrilite Kids Chewable Iron Tablets (100)</td>\n",
       "      <td>[Nutrilite Kids, Chewable Iron Tablets, Quanti...</td>\n",
       "      <td>Amway</td>\n",
       "      <td>3</td>\n",
       "    </tr>\n",
       "    <tr>\n",
       "      <th>4</th>\n",
       "      <td>Teacher Planner Company A4 6 Lesson Academic T...</td>\n",
       "      <td>[OTHERS]</td>\n",
       "      <td>OTHERS</td>\n",
       "      <td>4</td>\n",
       "    </tr>\n",
       "    <tr>\n",
       "      <th>...</th>\n",
       "      <td>...</td>\n",
       "      <td>...</td>\n",
       "      <td>...</td>\n",
       "      <td>...</td>\n",
       "    </tr>\n",
       "    <tr>\n",
       "      <th>9998</th>\n",
       "      <td>Brass Tabla Set Brass Material … (Hammered Bra...</td>\n",
       "      <td>[Brass Bayan (Bass - Left Metal Drum) Head 9 t...</td>\n",
       "      <td>Fasherati</td>\n",
       "      <td>2603</td>\n",
       "    </tr>\n",
       "    <tr>\n",
       "      <th>9999</th>\n",
       "      <td>Max Men's Slim Fit Jeans (WI18CDGV08_Mid Blue_28)</td>\n",
       "      <td>[Color Name: Mid Blue, Material: Cotton, Zip f...</td>\n",
       "      <td>Max</td>\n",
       "      <td>40</td>\n",
       "    </tr>\n",
       "    <tr>\n",
       "      <th>10000</th>\n",
       "      <td>Gems Gallery Natural &amp; Pure Stone Crystal Bead...</td>\n",
       "      <td>[Rare and Precious gemstone like rose quartz a...</td>\n",
       "      <td>Gems Gallery</td>\n",
       "      <td>1010</td>\n",
       "    </tr>\n",
       "    <tr>\n",
       "      <th>10001</th>\n",
       "      <td>Max Men's Checkered Slim Fit Formal Shirt (FBW...</td>\n",
       "      <td>[Color Name: White, Material: Cotton, Long sle...</td>\n",
       "      <td>Max</td>\n",
       "      <td>1254</td>\n",
       "    </tr>\n",
       "    <tr>\n",
       "      <th>10002</th>\n",
       "      <td>Oris Root Shalimar Ulfat Digital Printed Cotto...</td>\n",
       "      <td>[Shalimar Ulfat Mughal Throw Pillow 16 x 16 in...</td>\n",
       "      <td>Oris Root</td>\n",
       "      <td>912</td>\n",
       "    </tr>\n",
       "  </tbody>\n",
       "</table>\n",
       "<p>10000 rows × 4 columns</p>\n",
       "</div>"
      ],
      "text/plain": [
       "                                                   TITLE  \\\n",
       "0             Pete The Cat Bedtime Blues Doll, 14.5 Inch   \n",
       "1      The New Yorker NYHM014 Refrigerator Magnet, 2 ...   \n",
       "2      The Ultimate Self-Sufficiency Handbook: A Comp...   \n",
       "3       Amway Nutrilite Kids Chewable Iron Tablets (100)   \n",
       "4      Teacher Planner Company A4 6 Lesson Academic T...   \n",
       "...                                                  ...   \n",
       "9998   Brass Tabla Set Brass Material … (Hammered Bra...   \n",
       "9999   Max Men's Slim Fit Jeans (WI18CDGV08_Mid Blue_28)   \n",
       "10000  Gems Gallery Natural & Pure Stone Crystal Bead...   \n",
       "10001  Max Men's Checkered Slim Fit Formal Shirt (FBW...   \n",
       "10002  Oris Root Shalimar Ulfat Digital Printed Cotto...   \n",
       "\n",
       "                                           BULLET_POINTS           BRAND  \\\n",
       "0      [Pete the Cat Bedtime Blues plush doll, Based ...     MerryMakers   \n",
       "1      [Cat In A Tea Cup by New Yorker cover artist G...  The New Yorker   \n",
       "2                                  [Skyhorse Publishing]          imusti   \n",
       "3      [Nutrilite Kids, Chewable Iron Tablets, Quanti...           Amway   \n",
       "4                                               [OTHERS]          OTHERS   \n",
       "...                                                  ...             ...   \n",
       "9998   [Brass Bayan (Bass - Left Metal Drum) Head 9 t...       Fasherati   \n",
       "9999   [Color Name: Mid Blue, Material: Cotton, Zip f...             Max   \n",
       "10000  [Rare and Precious gemstone like rose quartz a...    Gems Gallery   \n",
       "10001  [Color Name: White, Material: Cotton, Long sle...             Max   \n",
       "10002  [Shalimar Ulfat Mughal Throw Pillow 16 x 16 in...       Oris Root   \n",
       "\n",
       "       BROWSE_NODE_ID  \n",
       "0                   0  \n",
       "1                   1  \n",
       "2                   2  \n",
       "3                   3  \n",
       "4                   4  \n",
       "...               ...  \n",
       "9998             2603  \n",
       "9999               40  \n",
       "10000            1010  \n",
       "10001            1254  \n",
       "10002             912  \n",
       "\n",
       "[10000 rows x 4 columns]"
      ]
     },
     "execution_count": 38,
     "metadata": {},
     "output_type": "execute_result"
    }
   ],
   "source": [
    "dataset_temp"
   ]
  },
  {
   "cell_type": "code",
   "execution_count": 39,
   "id": "df1a4fc9",
   "metadata": {
    "ExecuteTime": {
     "end_time": "2021-07-30T20:19:39.715103Z",
     "start_time": "2021-07-30T20:19:39.710078Z"
    },
    "hidden": true
   },
   "outputs": [],
   "source": [
    "X = dataset_temp['TITLE']\n",
    "y = dataset_temp['BROWSE_NODE_ID']"
   ]
  },
  {
   "cell_type": "code",
   "execution_count": 41,
   "id": "b3142632",
   "metadata": {
    "ExecuteTime": {
     "end_time": "2021-07-30T20:20:39.051602Z",
     "start_time": "2021-07-30T20:20:39.018683Z"
    },
    "hidden": true
   },
   "outputs": [],
   "source": [
    "X_train, X_test, y_train, y_test = train_test_split(X, y, test_size=0.3, random_state = 42)"
   ]
  },
  {
   "cell_type": "code",
   "execution_count": 43,
   "id": "6eea0c87",
   "metadata": {
    "ExecuteTime": {
     "end_time": "2021-07-30T20:23:48.465151Z",
     "start_time": "2021-07-30T20:23:46.871662Z"
    },
    "hidden": true
   },
   "outputs": [
    {
     "data": {
      "text/plain": [
       "Pipeline(steps=[('vect', CountVectorizer()), ('tfidf', TfidfTransformer()),\n",
       "                ('clf', MultinomialNB())])"
      ]
     },
     "execution_count": 43,
     "metadata": {},
     "output_type": "execute_result"
    }
   ],
   "source": [
    "from sklearn.naive_bayes import MultinomialNB\n",
    "from sklearn.pipeline import Pipeline\n",
    "from sklearn.feature_extraction.text import TfidfTransformer\n",
    "\n",
    "nb = Pipeline([('vect', CountVectorizer()),\n",
    "               ('tfidf', TfidfTransformer()),\n",
    "               ('clf', MultinomialNB()),\n",
    "              ])\n",
    "nb.fit(X_train, y_train)"
   ]
  },
  {
   "cell_type": "code",
   "execution_count": 47,
   "id": "2d6dd182",
   "metadata": {
    "ExecuteTime": {
     "end_time": "2021-07-30T20:26:29.826090Z",
     "start_time": "2021-07-30T20:26:29.272512Z"
    },
    "hidden": true,
    "scrolled": true
   },
   "outputs": [
    {
     "name": "stdout",
     "output_type": "stream",
     "text": [
      "accuracy 0.138\n",
      "Wall time: 548 ms\n"
     ]
    }
   ],
   "source": [
    "%%time\n",
    "from sklearn.metrics import classification_report\n",
    "y_pred = nb.predict(X_test)\n",
    "\n",
    "print('accuracy %s' % accuracy_score(y_pred, y_test))\n",
    "# print(classification_report(y_test, y_pred))"
   ]
  },
  {
   "cell_type": "code",
   "execution_count": 50,
   "id": "cdbb6c4e",
   "metadata": {
    "ExecuteTime": {
     "end_time": "2021-07-30T20:28:26.157672Z",
     "start_time": "2021-07-30T20:28:26.141685Z"
    },
    "hidden": true
   },
   "outputs": [
    {
     "data": {
      "text/plain": [
       "(100000, 4)"
      ]
     },
     "execution_count": 50,
     "metadata": {},
     "output_type": "execute_result"
    }
   ],
   "source": [
    "dataset_temp = dataset.iloc[:100000,:].copy()\n",
    "dataset_temp.shape"
   ]
  },
  {
   "cell_type": "code",
   "execution_count": 51,
   "id": "da4fc4d5",
   "metadata": {
    "ExecuteTime": {
     "end_time": "2021-07-30T20:28:45.400136Z",
     "start_time": "2021-07-30T20:28:39.049762Z"
    },
    "collapsed": true,
    "hidden": true
   },
   "outputs": [
    {
     "ename": "MemoryError",
     "evalue": "Unable to allocate 2.63 GiB for an array with shape (353640000,) and data type float64",
     "output_type": "error",
     "traceback": [
      "\u001b[1;31m---------------------------------------------------------------------------\u001b[0m",
      "\u001b[1;31mMemoryError\u001b[0m                               Traceback (most recent call last)",
      "\u001b[1;32mC:\\Users\\AYUSH~1.BAJ\\AppData\\Local\\Temp/ipykernel_4940/3288596574.py\u001b[0m in \u001b[0;36m<module>\u001b[1;34m\u001b[0m\n\u001b[0;32m     12\u001b[0m                \u001b[1;33m(\u001b[0m\u001b[1;34m'clf'\u001b[0m\u001b[1;33m,\u001b[0m \u001b[0mMultinomialNB\u001b[0m\u001b[1;33m(\u001b[0m\u001b[1;33m)\u001b[0m\u001b[1;33m)\u001b[0m\u001b[1;33m,\u001b[0m\u001b[1;33m\u001b[0m\u001b[1;33m\u001b[0m\u001b[0m\n\u001b[0;32m     13\u001b[0m               ])\n\u001b[1;32m---> 14\u001b[1;33m \u001b[0mnb\u001b[0m\u001b[1;33m.\u001b[0m\u001b[0mfit\u001b[0m\u001b[1;33m(\u001b[0m\u001b[0mX_train\u001b[0m\u001b[1;33m,\u001b[0m \u001b[0my_train\u001b[0m\u001b[1;33m)\u001b[0m\u001b[1;33m\u001b[0m\u001b[1;33m\u001b[0m\u001b[0m\n\u001b[0m\u001b[0;32m     15\u001b[0m \u001b[1;33m\u001b[0m\u001b[0m\n\u001b[0;32m     16\u001b[0m \u001b[0mget_ipython\u001b[0m\u001b[1;33m(\u001b[0m\u001b[1;33m)\u001b[0m\u001b[1;33m.\u001b[0m\u001b[0mrun_line_magic\u001b[0m\u001b[1;33m(\u001b[0m\u001b[1;34m'%time'\u001b[0m\u001b[1;33m,\u001b[0m \u001b[1;34m''\u001b[0m\u001b[1;33m)\u001b[0m\u001b[1;33m\u001b[0m\u001b[1;33m\u001b[0m\u001b[0m\n",
      "\u001b[1;32mc:\\users\\ayush.bajpayee\\.conda\\envs\\amazon_hackathon\\lib\\site-packages\\sklearn\\pipeline.py\u001b[0m in \u001b[0;36mfit\u001b[1;34m(self, X, y, **fit_params)\u001b[0m\n\u001b[0;32m    344\u001b[0m             \u001b[1;32mif\u001b[0m \u001b[0mself\u001b[0m\u001b[1;33m.\u001b[0m\u001b[0m_final_estimator\u001b[0m \u001b[1;33m!=\u001b[0m \u001b[1;34m'passthrough'\u001b[0m\u001b[1;33m:\u001b[0m\u001b[1;33m\u001b[0m\u001b[1;33m\u001b[0m\u001b[0m\n\u001b[0;32m    345\u001b[0m                 \u001b[0mfit_params_last_step\u001b[0m \u001b[1;33m=\u001b[0m \u001b[0mfit_params_steps\u001b[0m\u001b[1;33m[\u001b[0m\u001b[0mself\u001b[0m\u001b[1;33m.\u001b[0m\u001b[0msteps\u001b[0m\u001b[1;33m[\u001b[0m\u001b[1;33m-\u001b[0m\u001b[1;36m1\u001b[0m\u001b[1;33m]\u001b[0m\u001b[1;33m[\u001b[0m\u001b[1;36m0\u001b[0m\u001b[1;33m]\u001b[0m\u001b[1;33m]\u001b[0m\u001b[1;33m\u001b[0m\u001b[1;33m\u001b[0m\u001b[0m\n\u001b[1;32m--> 346\u001b[1;33m                 \u001b[0mself\u001b[0m\u001b[1;33m.\u001b[0m\u001b[0m_final_estimator\u001b[0m\u001b[1;33m.\u001b[0m\u001b[0mfit\u001b[0m\u001b[1;33m(\u001b[0m\u001b[0mXt\u001b[0m\u001b[1;33m,\u001b[0m \u001b[0my\u001b[0m\u001b[1;33m,\u001b[0m \u001b[1;33m**\u001b[0m\u001b[0mfit_params_last_step\u001b[0m\u001b[1;33m)\u001b[0m\u001b[1;33m\u001b[0m\u001b[1;33m\u001b[0m\u001b[0m\n\u001b[0m\u001b[0;32m    347\u001b[0m \u001b[1;33m\u001b[0m\u001b[0m\n\u001b[0;32m    348\u001b[0m         \u001b[1;32mreturn\u001b[0m \u001b[0mself\u001b[0m\u001b[1;33m\u001b[0m\u001b[1;33m\u001b[0m\u001b[0m\n",
      "\u001b[1;32mc:\\users\\ayush.bajpayee\\.conda\\envs\\amazon_hackathon\\lib\\site-packages\\sklearn\\naive_bayes.py\u001b[0m in \u001b[0;36mfit\u001b[1;34m(self, X, y, sample_weight)\u001b[0m\n\u001b[0;32m    636\u001b[0m \u001b[1;33m\u001b[0m\u001b[0m\n\u001b[0;32m    637\u001b[0m         \u001b[0mself\u001b[0m\u001b[1;33m.\u001b[0m\u001b[0m_init_counters\u001b[0m\u001b[1;33m(\u001b[0m\u001b[0mn_effective_classes\u001b[0m\u001b[1;33m,\u001b[0m \u001b[0mn_features\u001b[0m\u001b[1;33m)\u001b[0m\u001b[1;33m\u001b[0m\u001b[1;33m\u001b[0m\u001b[0m\n\u001b[1;32m--> 638\u001b[1;33m         \u001b[0mself\u001b[0m\u001b[1;33m.\u001b[0m\u001b[0m_count\u001b[0m\u001b[1;33m(\u001b[0m\u001b[0mX\u001b[0m\u001b[1;33m,\u001b[0m \u001b[0mY\u001b[0m\u001b[1;33m)\u001b[0m\u001b[1;33m\u001b[0m\u001b[1;33m\u001b[0m\u001b[0m\n\u001b[0m\u001b[0;32m    639\u001b[0m         \u001b[0malpha\u001b[0m \u001b[1;33m=\u001b[0m \u001b[0mself\u001b[0m\u001b[1;33m.\u001b[0m\u001b[0m_check_alpha\u001b[0m\u001b[1;33m(\u001b[0m\u001b[1;33m)\u001b[0m\u001b[1;33m\u001b[0m\u001b[1;33m\u001b[0m\u001b[0m\n\u001b[0;32m    640\u001b[0m         \u001b[0mself\u001b[0m\u001b[1;33m.\u001b[0m\u001b[0m_update_feature_log_prob\u001b[0m\u001b[1;33m(\u001b[0m\u001b[0malpha\u001b[0m\u001b[1;33m)\u001b[0m\u001b[1;33m\u001b[0m\u001b[1;33m\u001b[0m\u001b[0m\n",
      "\u001b[1;32mc:\\users\\ayush.bajpayee\\.conda\\envs\\amazon_hackathon\\lib\\site-packages\\sklearn\\naive_bayes.py\u001b[0m in \u001b[0;36m_count\u001b[1;34m(self, X, Y)\u001b[0m\n\u001b[0;32m    770\u001b[0m         \u001b[1;34m\"\"\"Count and smooth feature occurrences.\"\"\"\u001b[0m\u001b[1;33m\u001b[0m\u001b[1;33m\u001b[0m\u001b[0m\n\u001b[0;32m    771\u001b[0m         \u001b[0mcheck_non_negative\u001b[0m\u001b[1;33m(\u001b[0m\u001b[0mX\u001b[0m\u001b[1;33m,\u001b[0m \u001b[1;34m\"MultinomialNB (input X)\"\u001b[0m\u001b[1;33m)\u001b[0m\u001b[1;33m\u001b[0m\u001b[1;33m\u001b[0m\u001b[0m\n\u001b[1;32m--> 772\u001b[1;33m         \u001b[0mself\u001b[0m\u001b[1;33m.\u001b[0m\u001b[0mfeature_count_\u001b[0m \u001b[1;33m+=\u001b[0m \u001b[0msafe_sparse_dot\u001b[0m\u001b[1;33m(\u001b[0m\u001b[0mY\u001b[0m\u001b[1;33m.\u001b[0m\u001b[0mT\u001b[0m\u001b[1;33m,\u001b[0m \u001b[0mX\u001b[0m\u001b[1;33m)\u001b[0m\u001b[1;33m\u001b[0m\u001b[1;33m\u001b[0m\u001b[0m\n\u001b[0m\u001b[0;32m    773\u001b[0m         \u001b[0mself\u001b[0m\u001b[1;33m.\u001b[0m\u001b[0mclass_count_\u001b[0m \u001b[1;33m+=\u001b[0m \u001b[0mY\u001b[0m\u001b[1;33m.\u001b[0m\u001b[0msum\u001b[0m\u001b[1;33m(\u001b[0m\u001b[0maxis\u001b[0m\u001b[1;33m=\u001b[0m\u001b[1;36m0\u001b[0m\u001b[1;33m)\u001b[0m\u001b[1;33m\u001b[0m\u001b[1;33m\u001b[0m\u001b[0m\n\u001b[0;32m    774\u001b[0m \u001b[1;33m\u001b[0m\u001b[0m\n",
      "\u001b[1;32mc:\\users\\ayush.bajpayee\\.conda\\envs\\amazon_hackathon\\lib\\site-packages\\sklearn\\utils\\validation.py\u001b[0m in \u001b[0;36minner_f\u001b[1;34m(*args, **kwargs)\u001b[0m\n\u001b[0;32m     61\u001b[0m             \u001b[0mextra_args\u001b[0m \u001b[1;33m=\u001b[0m \u001b[0mlen\u001b[0m\u001b[1;33m(\u001b[0m\u001b[0margs\u001b[0m\u001b[1;33m)\u001b[0m \u001b[1;33m-\u001b[0m \u001b[0mlen\u001b[0m\u001b[1;33m(\u001b[0m\u001b[0mall_args\u001b[0m\u001b[1;33m)\u001b[0m\u001b[1;33m\u001b[0m\u001b[1;33m\u001b[0m\u001b[0m\n\u001b[0;32m     62\u001b[0m             \u001b[1;32mif\u001b[0m \u001b[0mextra_args\u001b[0m \u001b[1;33m<=\u001b[0m \u001b[1;36m0\u001b[0m\u001b[1;33m:\u001b[0m\u001b[1;33m\u001b[0m\u001b[1;33m\u001b[0m\u001b[0m\n\u001b[1;32m---> 63\u001b[1;33m                 \u001b[1;32mreturn\u001b[0m \u001b[0mf\u001b[0m\u001b[1;33m(\u001b[0m\u001b[1;33m*\u001b[0m\u001b[0margs\u001b[0m\u001b[1;33m,\u001b[0m \u001b[1;33m**\u001b[0m\u001b[0mkwargs\u001b[0m\u001b[1;33m)\u001b[0m\u001b[1;33m\u001b[0m\u001b[1;33m\u001b[0m\u001b[0m\n\u001b[0m\u001b[0;32m     64\u001b[0m \u001b[1;33m\u001b[0m\u001b[0m\n\u001b[0;32m     65\u001b[0m             \u001b[1;31m# extra_args > 0\u001b[0m\u001b[1;33m\u001b[0m\u001b[1;33m\u001b[0m\u001b[1;33m\u001b[0m\u001b[0m\n",
      "\u001b[1;32mc:\\users\\ayush.bajpayee\\.conda\\envs\\amazon_hackathon\\lib\\site-packages\\sklearn\\utils\\extmath.py\u001b[0m in \u001b[0;36msafe_sparse_dot\u001b[1;34m(a, b, dense_output)\u001b[0m\n\u001b[0;32m    150\u001b[0m             \u001b[0mret\u001b[0m \u001b[1;33m=\u001b[0m \u001b[0mnp\u001b[0m\u001b[1;33m.\u001b[0m\u001b[0mdot\u001b[0m\u001b[1;33m(\u001b[0m\u001b[0ma\u001b[0m\u001b[1;33m,\u001b[0m \u001b[0mb\u001b[0m\u001b[1;33m)\u001b[0m\u001b[1;33m\u001b[0m\u001b[1;33m\u001b[0m\u001b[0m\n\u001b[0;32m    151\u001b[0m     \u001b[1;32melse\u001b[0m\u001b[1;33m:\u001b[0m\u001b[1;33m\u001b[0m\u001b[1;33m\u001b[0m\u001b[0m\n\u001b[1;32m--> 152\u001b[1;33m         \u001b[0mret\u001b[0m \u001b[1;33m=\u001b[0m \u001b[0ma\u001b[0m \u001b[1;33m@\u001b[0m \u001b[0mb\u001b[0m\u001b[1;33m\u001b[0m\u001b[1;33m\u001b[0m\u001b[0m\n\u001b[0m\u001b[0;32m    153\u001b[0m \u001b[1;33m\u001b[0m\u001b[0m\n\u001b[0;32m    154\u001b[0m     if (sparse.issparse(a) and sparse.issparse(b)\n",
      "\u001b[1;32mc:\\users\\ayush.bajpayee\\.conda\\envs\\amazon_hackathon\\lib\\site-packages\\scipy\\sparse\\base.py\u001b[0m in \u001b[0;36m__rmatmul__\u001b[1;34m(self, other)\u001b[0m\n\u001b[0;32m    564\u001b[0m             raise ValueError(\"Scalar operands are not allowed, \"\n\u001b[0;32m    565\u001b[0m                              \"use '*' instead\")\n\u001b[1;32m--> 566\u001b[1;33m         \u001b[1;32mreturn\u001b[0m \u001b[0mself\u001b[0m\u001b[1;33m.\u001b[0m\u001b[0m__rmul__\u001b[0m\u001b[1;33m(\u001b[0m\u001b[0mother\u001b[0m\u001b[1;33m)\u001b[0m\u001b[1;33m\u001b[0m\u001b[1;33m\u001b[0m\u001b[0m\n\u001b[0m\u001b[0;32m    567\u001b[0m \u001b[1;33m\u001b[0m\u001b[0m\n\u001b[0;32m    568\u001b[0m     \u001b[1;31m####################\u001b[0m\u001b[1;33m\u001b[0m\u001b[1;33m\u001b[0m\u001b[1;33m\u001b[0m\u001b[0m\n",
      "\u001b[1;32mc:\\users\\ayush.bajpayee\\.conda\\envs\\amazon_hackathon\\lib\\site-packages\\scipy\\sparse\\base.py\u001b[0m in \u001b[0;36m__rmul__\u001b[1;34m(self, other)\u001b[0m\n\u001b[0;32m    548\u001b[0m             \u001b[1;32mexcept\u001b[0m \u001b[0mAttributeError\u001b[0m\u001b[1;33m:\u001b[0m\u001b[1;33m\u001b[0m\u001b[1;33m\u001b[0m\u001b[0m\n\u001b[0;32m    549\u001b[0m                 \u001b[0mtr\u001b[0m \u001b[1;33m=\u001b[0m \u001b[0mnp\u001b[0m\u001b[1;33m.\u001b[0m\u001b[0masarray\u001b[0m\u001b[1;33m(\u001b[0m\u001b[0mother\u001b[0m\u001b[1;33m)\u001b[0m\u001b[1;33m.\u001b[0m\u001b[0mtranspose\u001b[0m\u001b[1;33m(\u001b[0m\u001b[1;33m)\u001b[0m\u001b[1;33m\u001b[0m\u001b[1;33m\u001b[0m\u001b[0m\n\u001b[1;32m--> 550\u001b[1;33m             \u001b[1;32mreturn\u001b[0m \u001b[1;33m(\u001b[0m\u001b[0mself\u001b[0m\u001b[1;33m.\u001b[0m\u001b[0mtranspose\u001b[0m\u001b[1;33m(\u001b[0m\u001b[1;33m)\u001b[0m \u001b[1;33m*\u001b[0m \u001b[0mtr\u001b[0m\u001b[1;33m)\u001b[0m\u001b[1;33m.\u001b[0m\u001b[0mtranspose\u001b[0m\u001b[1;33m(\u001b[0m\u001b[1;33m)\u001b[0m\u001b[1;33m\u001b[0m\u001b[1;33m\u001b[0m\u001b[0m\n\u001b[0m\u001b[0;32m    551\u001b[0m \u001b[1;33m\u001b[0m\u001b[0m\n\u001b[0;32m    552\u001b[0m     \u001b[1;31m#######################\u001b[0m\u001b[1;33m\u001b[0m\u001b[1;33m\u001b[0m\u001b[1;33m\u001b[0m\u001b[0m\n",
      "\u001b[1;32mc:\\users\\ayush.bajpayee\\.conda\\envs\\amazon_hackathon\\lib\\site-packages\\scipy\\sparse\\base.py\u001b[0m in \u001b[0;36m__mul__\u001b[1;34m(self, other)\u001b[0m\n\u001b[0;32m    469\u001b[0m                 \u001b[1;32mreturn\u001b[0m \u001b[0mself\u001b[0m\u001b[1;33m.\u001b[0m\u001b[0m_mul_vector\u001b[0m\u001b[1;33m(\u001b[0m\u001b[0mother\u001b[0m\u001b[1;33m.\u001b[0m\u001b[0mravel\u001b[0m\u001b[1;33m(\u001b[0m\u001b[1;33m)\u001b[0m\u001b[1;33m)\u001b[0m\u001b[1;33m.\u001b[0m\u001b[0mreshape\u001b[0m\u001b[1;33m(\u001b[0m\u001b[0mM\u001b[0m\u001b[1;33m,\u001b[0m \u001b[1;36m1\u001b[0m\u001b[1;33m)\u001b[0m\u001b[1;33m\u001b[0m\u001b[1;33m\u001b[0m\u001b[0m\n\u001b[0;32m    470\u001b[0m             \u001b[1;32melif\u001b[0m \u001b[0mother\u001b[0m\u001b[1;33m.\u001b[0m\u001b[0mndim\u001b[0m \u001b[1;33m==\u001b[0m \u001b[1;36m2\u001b[0m \u001b[1;32mand\u001b[0m \u001b[0mother\u001b[0m\u001b[1;33m.\u001b[0m\u001b[0mshape\u001b[0m\u001b[1;33m[\u001b[0m\u001b[1;36m0\u001b[0m\u001b[1;33m]\u001b[0m \u001b[1;33m==\u001b[0m \u001b[0mN\u001b[0m\u001b[1;33m:\u001b[0m\u001b[1;33m\u001b[0m\u001b[1;33m\u001b[0m\u001b[0m\n\u001b[1;32m--> 471\u001b[1;33m                 \u001b[1;32mreturn\u001b[0m \u001b[0mself\u001b[0m\u001b[1;33m.\u001b[0m\u001b[0m_mul_multivector\u001b[0m\u001b[1;33m(\u001b[0m\u001b[0mother\u001b[0m\u001b[1;33m)\u001b[0m\u001b[1;33m\u001b[0m\u001b[1;33m\u001b[0m\u001b[0m\n\u001b[0m\u001b[0;32m    472\u001b[0m \u001b[1;33m\u001b[0m\u001b[0m\n\u001b[0;32m    473\u001b[0m         \u001b[1;32mif\u001b[0m \u001b[0misscalarlike\u001b[0m\u001b[1;33m(\u001b[0m\u001b[0mother\u001b[0m\u001b[1;33m)\u001b[0m\u001b[1;33m:\u001b[0m\u001b[1;33m\u001b[0m\u001b[1;33m\u001b[0m\u001b[0m\n",
      "\u001b[1;32mc:\\users\\ayush.bajpayee\\.conda\\envs\\amazon_hackathon\\lib\\site-packages\\scipy\\sparse\\compressed.py\u001b[0m in \u001b[0;36m_mul_multivector\u001b[1;34m(self, other)\u001b[0m\n\u001b[0;32m    489\u001b[0m         \u001b[1;31m# csr_matvecs or csc_matvecs\u001b[0m\u001b[1;33m\u001b[0m\u001b[1;33m\u001b[0m\u001b[1;33m\u001b[0m\u001b[0m\n\u001b[0;32m    490\u001b[0m         \u001b[0mfn\u001b[0m \u001b[1;33m=\u001b[0m \u001b[0mgetattr\u001b[0m\u001b[1;33m(\u001b[0m\u001b[0m_sparsetools\u001b[0m\u001b[1;33m,\u001b[0m \u001b[0mself\u001b[0m\u001b[1;33m.\u001b[0m\u001b[0mformat\u001b[0m \u001b[1;33m+\u001b[0m \u001b[1;34m'_matvecs'\u001b[0m\u001b[1;33m)\u001b[0m\u001b[1;33m\u001b[0m\u001b[1;33m\u001b[0m\u001b[0m\n\u001b[1;32m--> 491\u001b[1;33m         fn(M, N, n_vecs, self.indptr, self.indices, self.data,\n\u001b[0m\u001b[0;32m    492\u001b[0m            other.ravel(), result.ravel())\n\u001b[0;32m    493\u001b[0m \u001b[1;33m\u001b[0m\u001b[0m\n",
      "\u001b[1;31mMemoryError\u001b[0m: Unable to allocate 2.63 GiB for an array with shape (353640000,) and data type float64"
     ]
    }
   ],
   "source": [
    "X = dataset_temp['TITLE']\n",
    "y = dataset_temp['BROWSE_NODE_ID']\n",
    "\n",
    "X_train, X_test, y_train, y_test = train_test_split(X, y, test_size=0.3, random_state = 42)\n",
    "\n",
    "from sklearn.naive_bayes import MultinomialNB\n",
    "from sklearn.pipeline import Pipeline\n",
    "from sklearn.feature_extraction.text import TfidfTransformer\n",
    "\n",
    "nb = Pipeline([('vect', CountVectorizer()),\n",
    "               ('tfidf', TfidfTransformer()),\n",
    "               ('clf', MultinomialNB()),\n",
    "              ])\n",
    "nb.fit(X_train, y_train)\n",
    "\n",
    "%%time\n",
    "from sklearn.metrics import classification_report\n",
    "y_pred = nb.predict(X_test)\n",
    "\n",
    "print('accuracy %s' % accuracy_score(y_pred, y_test))\n",
    "# print(classification_report(y_test, y_pred))"
   ]
  },
  {
   "cell_type": "markdown",
   "id": "925a8218",
   "metadata": {
    "heading_collapsed": true,
    "hidden": true
   },
   "source": [
    "## Basic Approach"
   ]
  },
  {
   "cell_type": "code",
   "execution_count": 98,
   "id": "0d00c27d",
   "metadata": {
    "ExecuteTime": {
     "end_time": "2021-07-31T05:04:57.150998Z",
     "start_time": "2021-07-31T05:04:53.386259Z"
    },
    "hidden": true
   },
   "outputs": [
    {
     "data": {
      "text/html": [
       "<div>\n",
       "<style scoped>\n",
       "    .dataframe tbody tr th:only-of-type {\n",
       "        vertical-align: middle;\n",
       "    }\n",
       "\n",
       "    .dataframe tbody tr th {\n",
       "        vertical-align: top;\n",
       "    }\n",
       "\n",
       "    .dataframe thead th {\n",
       "        text-align: right;\n",
       "    }\n",
       "</style>\n",
       "<table border=\"1\" class=\"dataframe\">\n",
       "  <thead>\n",
       "    <tr style=\"text-align: right;\">\n",
       "      <th></th>\n",
       "      <th>TITLE</th>\n",
       "      <th>BULLET_POINTS</th>\n",
       "      <th>BRAND</th>\n",
       "      <th>BROWSE_NODE_ID</th>\n",
       "    </tr>\n",
       "  </thead>\n",
       "  <tbody>\n",
       "    <tr>\n",
       "      <th>0</th>\n",
       "      <td>Pete The Cat Bedtime Blues Doll, 14.5 Inch</td>\n",
       "      <td>[Pete the Cat Bedtime Blues plush doll, Based ...</td>\n",
       "      <td>MerryMakers</td>\n",
       "      <td>0</td>\n",
       "    </tr>\n",
       "    <tr>\n",
       "      <th>1</th>\n",
       "      <td>The New Yorker NYHM014 Refrigerator Magnet, 2 ...</td>\n",
       "      <td>[Cat In A Tea Cup by New Yorker cover artist G...</td>\n",
       "      <td>The New Yorker</td>\n",
       "      <td>1</td>\n",
       "    </tr>\n",
       "    <tr>\n",
       "      <th>2</th>\n",
       "      <td>The Ultimate Self-Sufficiency Handbook: A Comp...</td>\n",
       "      <td>[Skyhorse Publishing]</td>\n",
       "      <td>imusti</td>\n",
       "      <td>2</td>\n",
       "    </tr>\n",
       "    <tr>\n",
       "      <th>3</th>\n",
       "      <td>Amway Nutrilite Kids Chewable Iron Tablets (100)</td>\n",
       "      <td>[Nutrilite Kids, Chewable Iron Tablets, Quanti...</td>\n",
       "      <td>Amway</td>\n",
       "      <td>3</td>\n",
       "    </tr>\n",
       "    <tr>\n",
       "      <th>4</th>\n",
       "      <td>Teacher Planner Company A4 6 Lesson Academic T...</td>\n",
       "      <td>[OTHERS]</td>\n",
       "      <td>OTHERS</td>\n",
       "      <td>4</td>\n",
       "    </tr>\n",
       "    <tr>\n",
       "      <th>...</th>\n",
       "      <td>...</td>\n",
       "      <td>...</td>\n",
       "      <td>...</td>\n",
       "      <td>...</td>\n",
       "    </tr>\n",
       "    <tr>\n",
       "      <th>1019467</th>\n",
       "      <td>Macmerise Metallic Captain America Printed Bac...</td>\n",
       "      <td>[Ultra vivid,  razor sharp colour print techno...</td>\n",
       "      <td>Macmerise</td>\n",
       "      <td>1045</td>\n",
       "    </tr>\n",
       "    <tr>\n",
       "      <th>1019468</th>\n",
       "      <td>KD Willmax Stocking Over Knee Soccer Basket Ba...</td>\n",
       "      <td>[FABRIC,  WELL STITCHED and FINISHED: The spor...</td>\n",
       "      <td>KD</td>\n",
       "      <td>27627</td>\n",
       "    </tr>\n",
       "    <tr>\n",
       "      <th>1019469</th>\n",
       "      <td>COVERNEW Flip cover for Microsoft Nokia Lumia ...</td>\n",
       "      <td>[Durable Colour]</td>\n",
       "      <td>COVERNEW</td>\n",
       "      <td>1295</td>\n",
       "    </tr>\n",
       "    <tr>\n",
       "      <th>1019470</th>\n",
       "      <td>DDR3 4 Gb Ram For Gigabyte G1.Sniper 3 (rev. 1...</td>\n",
       "      <td>[4 Gb DDR 3 Desktop Ram, Un-buffered,  Non-ECC...</td>\n",
       "      <td>Bright Solutions</td>\n",
       "      <td>165</td>\n",
       "    </tr>\n",
       "    <tr>\n",
       "      <th>1019471</th>\n",
       "      <td>Mayur Exports Stainless Steel Small Holy Commu...</td>\n",
       "      <td>[Material: Stainless steel, Packing - set of 4...</td>\n",
       "      <td>Mayur Exports</td>\n",
       "      <td>1869</td>\n",
       "    </tr>\n",
       "  </tbody>\n",
       "</table>\n",
       "<p>1000000 rows × 4 columns</p>\n",
       "</div>"
      ],
      "text/plain": [
       "                                                     TITLE  \\\n",
       "0               Pete The Cat Bedtime Blues Doll, 14.5 Inch   \n",
       "1        The New Yorker NYHM014 Refrigerator Magnet, 2 ...   \n",
       "2        The Ultimate Self-Sufficiency Handbook: A Comp...   \n",
       "3         Amway Nutrilite Kids Chewable Iron Tablets (100)   \n",
       "4        Teacher Planner Company A4 6 Lesson Academic T...   \n",
       "...                                                    ...   \n",
       "1019467  Macmerise Metallic Captain America Printed Bac...   \n",
       "1019468  KD Willmax Stocking Over Knee Soccer Basket Ba...   \n",
       "1019469  COVERNEW Flip cover for Microsoft Nokia Lumia ...   \n",
       "1019470  DDR3 4 Gb Ram For Gigabyte G1.Sniper 3 (rev. 1...   \n",
       "1019471  Mayur Exports Stainless Steel Small Holy Commu...   \n",
       "\n",
       "                                             BULLET_POINTS             BRAND  \\\n",
       "0        [Pete the Cat Bedtime Blues plush doll, Based ...       MerryMakers   \n",
       "1        [Cat In A Tea Cup by New Yorker cover artist G...    The New Yorker   \n",
       "2                                    [Skyhorse Publishing]            imusti   \n",
       "3        [Nutrilite Kids, Chewable Iron Tablets, Quanti...             Amway   \n",
       "4                                                 [OTHERS]            OTHERS   \n",
       "...                                                    ...               ...   \n",
       "1019467  [Ultra vivid,  razor sharp colour print techno...         Macmerise   \n",
       "1019468  [FABRIC,  WELL STITCHED and FINISHED: The spor...                KD   \n",
       "1019469                                   [Durable Colour]          COVERNEW   \n",
       "1019470  [4 Gb DDR 3 Desktop Ram, Un-buffered,  Non-ECC...  Bright Solutions   \n",
       "1019471  [Material: Stainless steel, Packing - set of 4...     Mayur Exports   \n",
       "\n",
       "         BROWSE_NODE_ID  \n",
       "0                     0  \n",
       "1                     1  \n",
       "2                     2  \n",
       "3                     3  \n",
       "4                     4  \n",
       "...                 ...  \n",
       "1019467            1045  \n",
       "1019468           27627  \n",
       "1019469            1295  \n",
       "1019470             165  \n",
       "1019471            1869  \n",
       "\n",
       "[1000000 rows x 4 columns]"
      ]
     },
     "execution_count": 98,
     "metadata": {},
     "output_type": "execute_result"
    }
   ],
   "source": [
    "dataset_temp = dataset.iloc[:1000000,:].copy()\n",
    "dataset_temp"
   ]
  },
  {
   "cell_type": "code",
   "execution_count": 99,
   "id": "70255a8e",
   "metadata": {
    "ExecuteTime": {
     "end_time": "2021-07-31T05:05:16.762591Z",
     "start_time": "2021-07-31T05:05:01.525421Z"
    },
    "collapsed": true,
    "hidden": true
   },
   "outputs": [
    {
     "ename": "MemoryError",
     "evalue": "Unable to allocate 50.0 GiB for an array with shape (750000, 8945) and data type int64",
     "output_type": "error",
     "traceback": [
      "\u001b[1;31m---------------------------------------------------------------------------\u001b[0m",
      "\u001b[1;31mMemoryError\u001b[0m                               Traceback (most recent call last)",
      "\u001b[1;32mC:\\Users\\AYUSH~1.BAJ\\AppData\\Local\\Temp/ipykernel_19692/2346594908.py\u001b[0m in \u001b[0;36m<module>\u001b[1;34m\u001b[0m\n\u001b[0;32m      5\u001b[0m \u001b[0mtfidf_transformer\u001b[0m \u001b[1;33m=\u001b[0m \u001b[0mTfidfTransformer\u001b[0m\u001b[1;33m(\u001b[0m\u001b[1;33m)\u001b[0m\u001b[1;33m\u001b[0m\u001b[1;33m\u001b[0m\u001b[0m\n\u001b[0;32m      6\u001b[0m \u001b[0mX_train_tfidf\u001b[0m \u001b[1;33m=\u001b[0m \u001b[0mtfidf_transformer\u001b[0m\u001b[1;33m.\u001b[0m\u001b[0mfit_transform\u001b[0m\u001b[1;33m(\u001b[0m\u001b[0mX_train_counts\u001b[0m\u001b[1;33m)\u001b[0m\u001b[1;33m\u001b[0m\u001b[1;33m\u001b[0m\u001b[0m\n\u001b[1;32m----> 7\u001b[1;33m \u001b[0mclf\u001b[0m \u001b[1;33m=\u001b[0m \u001b[0mMultinomialNB\u001b[0m\u001b[1;33m(\u001b[0m\u001b[1;33m)\u001b[0m\u001b[1;33m.\u001b[0m\u001b[0mfit\u001b[0m\u001b[1;33m(\u001b[0m\u001b[0mX_train_tfidf\u001b[0m\u001b[1;33m,\u001b[0m \u001b[0my_train\u001b[0m\u001b[1;33m)\u001b[0m\u001b[1;33m\u001b[0m\u001b[1;33m\u001b[0m\u001b[0m\n\u001b[0m",
      "\u001b[1;32mc:\\users\\ayush.bajpayee\\.conda\\envs\\amazon_hackathon\\lib\\site-packages\\sklearn\\naive_bayes.py\u001b[0m in \u001b[0;36mfit\u001b[1;34m(self, X, y, sample_weight)\u001b[0m\n\u001b[0;32m    615\u001b[0m \u001b[1;33m\u001b[0m\u001b[0m\n\u001b[0;32m    616\u001b[0m         \u001b[0mlabelbin\u001b[0m \u001b[1;33m=\u001b[0m \u001b[0mLabelBinarizer\u001b[0m\u001b[1;33m(\u001b[0m\u001b[1;33m)\u001b[0m\u001b[1;33m\u001b[0m\u001b[1;33m\u001b[0m\u001b[0m\n\u001b[1;32m--> 617\u001b[1;33m         \u001b[0mY\u001b[0m \u001b[1;33m=\u001b[0m \u001b[0mlabelbin\u001b[0m\u001b[1;33m.\u001b[0m\u001b[0mfit_transform\u001b[0m\u001b[1;33m(\u001b[0m\u001b[0my\u001b[0m\u001b[1;33m)\u001b[0m\u001b[1;33m\u001b[0m\u001b[1;33m\u001b[0m\u001b[0m\n\u001b[0m\u001b[0;32m    618\u001b[0m         \u001b[0mself\u001b[0m\u001b[1;33m.\u001b[0m\u001b[0mclasses_\u001b[0m \u001b[1;33m=\u001b[0m \u001b[0mlabelbin\u001b[0m\u001b[1;33m.\u001b[0m\u001b[0mclasses_\u001b[0m\u001b[1;33m\u001b[0m\u001b[1;33m\u001b[0m\u001b[0m\n\u001b[0;32m    619\u001b[0m         \u001b[1;32mif\u001b[0m \u001b[0mY\u001b[0m\u001b[1;33m.\u001b[0m\u001b[0mshape\u001b[0m\u001b[1;33m[\u001b[0m\u001b[1;36m1\u001b[0m\u001b[1;33m]\u001b[0m \u001b[1;33m==\u001b[0m \u001b[1;36m1\u001b[0m\u001b[1;33m:\u001b[0m\u001b[1;33m\u001b[0m\u001b[1;33m\u001b[0m\u001b[0m\n",
      "\u001b[1;32mc:\\users\\ayush.bajpayee\\.conda\\envs\\amazon_hackathon\\lib\\site-packages\\sklearn\\preprocessing\\_label.py\u001b[0m in \u001b[0;36mfit_transform\u001b[1;34m(self, y)\u001b[0m\n\u001b[0;32m    319\u001b[0m             \u001b[0mwill\u001b[0m \u001b[0mbe\u001b[0m \u001b[0mof\u001b[0m \u001b[0mCSR\u001b[0m \u001b[0mformat\u001b[0m\u001b[1;33m.\u001b[0m\u001b[1;33m\u001b[0m\u001b[1;33m\u001b[0m\u001b[0m\n\u001b[0;32m    320\u001b[0m         \"\"\"\n\u001b[1;32m--> 321\u001b[1;33m         \u001b[1;32mreturn\u001b[0m \u001b[0mself\u001b[0m\u001b[1;33m.\u001b[0m\u001b[0mfit\u001b[0m\u001b[1;33m(\u001b[0m\u001b[0my\u001b[0m\u001b[1;33m)\u001b[0m\u001b[1;33m.\u001b[0m\u001b[0mtransform\u001b[0m\u001b[1;33m(\u001b[0m\u001b[0my\u001b[0m\u001b[1;33m)\u001b[0m\u001b[1;33m\u001b[0m\u001b[1;33m\u001b[0m\u001b[0m\n\u001b[0m\u001b[0;32m    322\u001b[0m \u001b[1;33m\u001b[0m\u001b[0m\n\u001b[0;32m    323\u001b[0m     \u001b[1;32mdef\u001b[0m \u001b[0mtransform\u001b[0m\u001b[1;33m(\u001b[0m\u001b[0mself\u001b[0m\u001b[1;33m,\u001b[0m \u001b[0my\u001b[0m\u001b[1;33m)\u001b[0m\u001b[1;33m:\u001b[0m\u001b[1;33m\u001b[0m\u001b[1;33m\u001b[0m\u001b[0m\n",
      "\u001b[1;32mc:\\users\\ayush.bajpayee\\.conda\\envs\\amazon_hackathon\\lib\\site-packages\\sklearn\\preprocessing\\_label.py\u001b[0m in \u001b[0;36mtransform\u001b[1;34m(self, y)\u001b[0m\n\u001b[0;32m    348\u001b[0m                              \" input.\")\n\u001b[0;32m    349\u001b[0m \u001b[1;33m\u001b[0m\u001b[0m\n\u001b[1;32m--> 350\u001b[1;33m         return label_binarize(y, classes=self.classes_,\n\u001b[0m\u001b[0;32m    351\u001b[0m                               \u001b[0mpos_label\u001b[0m\u001b[1;33m=\u001b[0m\u001b[0mself\u001b[0m\u001b[1;33m.\u001b[0m\u001b[0mpos_label\u001b[0m\u001b[1;33m,\u001b[0m\u001b[1;33m\u001b[0m\u001b[1;33m\u001b[0m\u001b[0m\n\u001b[0;32m    352\u001b[0m                               \u001b[0mneg_label\u001b[0m\u001b[1;33m=\u001b[0m\u001b[0mself\u001b[0m\u001b[1;33m.\u001b[0m\u001b[0mneg_label\u001b[0m\u001b[1;33m,\u001b[0m\u001b[1;33m\u001b[0m\u001b[1;33m\u001b[0m\u001b[0m\n",
      "\u001b[1;32mc:\\users\\ayush.bajpayee\\.conda\\envs\\amazon_hackathon\\lib\\site-packages\\sklearn\\utils\\validation.py\u001b[0m in \u001b[0;36minner_f\u001b[1;34m(*args, **kwargs)\u001b[0m\n\u001b[0;32m     61\u001b[0m             \u001b[0mextra_args\u001b[0m \u001b[1;33m=\u001b[0m \u001b[0mlen\u001b[0m\u001b[1;33m(\u001b[0m\u001b[0margs\u001b[0m\u001b[1;33m)\u001b[0m \u001b[1;33m-\u001b[0m \u001b[0mlen\u001b[0m\u001b[1;33m(\u001b[0m\u001b[0mall_args\u001b[0m\u001b[1;33m)\u001b[0m\u001b[1;33m\u001b[0m\u001b[1;33m\u001b[0m\u001b[0m\n\u001b[0;32m     62\u001b[0m             \u001b[1;32mif\u001b[0m \u001b[0mextra_args\u001b[0m \u001b[1;33m<=\u001b[0m \u001b[1;36m0\u001b[0m\u001b[1;33m:\u001b[0m\u001b[1;33m\u001b[0m\u001b[1;33m\u001b[0m\u001b[0m\n\u001b[1;32m---> 63\u001b[1;33m                 \u001b[1;32mreturn\u001b[0m \u001b[0mf\u001b[0m\u001b[1;33m(\u001b[0m\u001b[1;33m*\u001b[0m\u001b[0margs\u001b[0m\u001b[1;33m,\u001b[0m \u001b[1;33m**\u001b[0m\u001b[0mkwargs\u001b[0m\u001b[1;33m)\u001b[0m\u001b[1;33m\u001b[0m\u001b[1;33m\u001b[0m\u001b[0m\n\u001b[0m\u001b[0;32m     64\u001b[0m \u001b[1;33m\u001b[0m\u001b[0m\n\u001b[0;32m     65\u001b[0m             \u001b[1;31m# extra_args > 0\u001b[0m\u001b[1;33m\u001b[0m\u001b[1;33m\u001b[0m\u001b[1;33m\u001b[0m\u001b[0m\n",
      "\u001b[1;32mc:\\users\\ayush.bajpayee\\.conda\\envs\\amazon_hackathon\\lib\\site-packages\\sklearn\\preprocessing\\_label.py\u001b[0m in \u001b[0;36mlabel_binarize\u001b[1;34m(y, classes, neg_label, pos_label, sparse_output)\u001b[0m\n\u001b[0;32m    545\u001b[0m \u001b[1;33m\u001b[0m\u001b[0m\n\u001b[0;32m    546\u001b[0m     \u001b[1;32mif\u001b[0m \u001b[1;32mnot\u001b[0m \u001b[0msparse_output\u001b[0m\u001b[1;33m:\u001b[0m\u001b[1;33m\u001b[0m\u001b[1;33m\u001b[0m\u001b[0m\n\u001b[1;32m--> 547\u001b[1;33m         \u001b[0mY\u001b[0m \u001b[1;33m=\u001b[0m \u001b[0mY\u001b[0m\u001b[1;33m.\u001b[0m\u001b[0mtoarray\u001b[0m\u001b[1;33m(\u001b[0m\u001b[1;33m)\u001b[0m\u001b[1;33m\u001b[0m\u001b[1;33m\u001b[0m\u001b[0m\n\u001b[0m\u001b[0;32m    548\u001b[0m         \u001b[0mY\u001b[0m \u001b[1;33m=\u001b[0m \u001b[0mY\u001b[0m\u001b[1;33m.\u001b[0m\u001b[0mastype\u001b[0m\u001b[1;33m(\u001b[0m\u001b[0mint\u001b[0m\u001b[1;33m,\u001b[0m \u001b[0mcopy\u001b[0m\u001b[1;33m=\u001b[0m\u001b[1;32mFalse\u001b[0m\u001b[1;33m)\u001b[0m\u001b[1;33m\u001b[0m\u001b[1;33m\u001b[0m\u001b[0m\n\u001b[0;32m    549\u001b[0m \u001b[1;33m\u001b[0m\u001b[0m\n",
      "\u001b[1;32mc:\\users\\ayush.bajpayee\\.conda\\envs\\amazon_hackathon\\lib\\site-packages\\scipy\\sparse\\compressed.py\u001b[0m in \u001b[0;36mtoarray\u001b[1;34m(self, order, out)\u001b[0m\n\u001b[0;32m   1029\u001b[0m         \u001b[1;32mif\u001b[0m \u001b[0mout\u001b[0m \u001b[1;32mis\u001b[0m \u001b[1;32mNone\u001b[0m \u001b[1;32mand\u001b[0m \u001b[0morder\u001b[0m \u001b[1;32mis\u001b[0m \u001b[1;32mNone\u001b[0m\u001b[1;33m:\u001b[0m\u001b[1;33m\u001b[0m\u001b[1;33m\u001b[0m\u001b[0m\n\u001b[0;32m   1030\u001b[0m             \u001b[0morder\u001b[0m \u001b[1;33m=\u001b[0m \u001b[0mself\u001b[0m\u001b[1;33m.\u001b[0m\u001b[0m_swap\u001b[0m\u001b[1;33m(\u001b[0m\u001b[1;34m'cf'\u001b[0m\u001b[1;33m)\u001b[0m\u001b[1;33m[\u001b[0m\u001b[1;36m0\u001b[0m\u001b[1;33m]\u001b[0m\u001b[1;33m\u001b[0m\u001b[1;33m\u001b[0m\u001b[0m\n\u001b[1;32m-> 1031\u001b[1;33m         \u001b[0mout\u001b[0m \u001b[1;33m=\u001b[0m \u001b[0mself\u001b[0m\u001b[1;33m.\u001b[0m\u001b[0m_process_toarray_args\u001b[0m\u001b[1;33m(\u001b[0m\u001b[0morder\u001b[0m\u001b[1;33m,\u001b[0m \u001b[0mout\u001b[0m\u001b[1;33m)\u001b[0m\u001b[1;33m\u001b[0m\u001b[1;33m\u001b[0m\u001b[0m\n\u001b[0m\u001b[0;32m   1032\u001b[0m         \u001b[1;32mif\u001b[0m \u001b[1;32mnot\u001b[0m \u001b[1;33m(\u001b[0m\u001b[0mout\u001b[0m\u001b[1;33m.\u001b[0m\u001b[0mflags\u001b[0m\u001b[1;33m.\u001b[0m\u001b[0mc_contiguous\u001b[0m \u001b[1;32mor\u001b[0m \u001b[0mout\u001b[0m\u001b[1;33m.\u001b[0m\u001b[0mflags\u001b[0m\u001b[1;33m.\u001b[0m\u001b[0mf_contiguous\u001b[0m\u001b[1;33m)\u001b[0m\u001b[1;33m:\u001b[0m\u001b[1;33m\u001b[0m\u001b[1;33m\u001b[0m\u001b[0m\n\u001b[0;32m   1033\u001b[0m             \u001b[1;32mraise\u001b[0m \u001b[0mValueError\u001b[0m\u001b[1;33m(\u001b[0m\u001b[1;34m'Output array must be C or F contiguous'\u001b[0m\u001b[1;33m)\u001b[0m\u001b[1;33m\u001b[0m\u001b[1;33m\u001b[0m\u001b[0m\n",
      "\u001b[1;32mc:\\users\\ayush.bajpayee\\.conda\\envs\\amazon_hackathon\\lib\\site-packages\\scipy\\sparse\\base.py\u001b[0m in \u001b[0;36m_process_toarray_args\u001b[1;34m(self, order, out)\u001b[0m\n\u001b[0;32m   1200\u001b[0m             \u001b[1;32mreturn\u001b[0m \u001b[0mout\u001b[0m\u001b[1;33m\u001b[0m\u001b[1;33m\u001b[0m\u001b[0m\n\u001b[0;32m   1201\u001b[0m         \u001b[1;32melse\u001b[0m\u001b[1;33m:\u001b[0m\u001b[1;33m\u001b[0m\u001b[1;33m\u001b[0m\u001b[0m\n\u001b[1;32m-> 1202\u001b[1;33m             \u001b[1;32mreturn\u001b[0m \u001b[0mnp\u001b[0m\u001b[1;33m.\u001b[0m\u001b[0mzeros\u001b[0m\u001b[1;33m(\u001b[0m\u001b[0mself\u001b[0m\u001b[1;33m.\u001b[0m\u001b[0mshape\u001b[0m\u001b[1;33m,\u001b[0m \u001b[0mdtype\u001b[0m\u001b[1;33m=\u001b[0m\u001b[0mself\u001b[0m\u001b[1;33m.\u001b[0m\u001b[0mdtype\u001b[0m\u001b[1;33m,\u001b[0m \u001b[0morder\u001b[0m\u001b[1;33m=\u001b[0m\u001b[0morder\u001b[0m\u001b[1;33m)\u001b[0m\u001b[1;33m\u001b[0m\u001b[1;33m\u001b[0m\u001b[0m\n\u001b[0m\u001b[0;32m   1203\u001b[0m \u001b[1;33m\u001b[0m\u001b[0m\n\u001b[0;32m   1204\u001b[0m \u001b[1;33m\u001b[0m\u001b[0m\n",
      "\u001b[1;31mMemoryError\u001b[0m: Unable to allocate 50.0 GiB for an array with shape (750000, 8945) and data type int64"
     ]
    }
   ],
   "source": [
    "#Train Test Split\n",
    "X_train, X_test, y_train, y_test = train_test_split(dataset_temp['TITLE'], dataset_temp['BROWSE_NODE_ID'], random_state = 0)\n",
    "count_vect = CountVectorizer()\n",
    "X_train_counts = count_vect.fit_transform(X_train)\n",
    "tfidf_transformer = TfidfTransformer()\n",
    "X_train_tfidf = tfidf_transformer.fit_transform(X_train_counts)\n",
    "clf = MultinomialNB().fit(X_train_tfidf, y_train)"
   ]
  },
  {
   "cell_type": "code",
   "execution_count": 21,
   "id": "71f33e39",
   "metadata": {
    "ExecuteTime": {
     "end_time": "2021-07-31T03:59:28.119589Z",
     "start_time": "2021-07-31T03:59:27.407918Z"
    },
    "hidden": true
   },
   "outputs": [],
   "source": [
    "#Transforming Test\n",
    "X_test_counts = count_vect.transform(X_test)\n",
    "X_test_tfidf = tfidf_transformer.transform(X_test_counts)"
   ]
  },
  {
   "cell_type": "code",
   "execution_count": 12,
   "id": "d0acf2ed",
   "metadata": {
    "ExecuteTime": {
     "end_time": "2021-07-31T03:52:30.333800Z",
     "start_time": "2021-07-31T03:51:36.979724Z"
    },
    "hidden": true
   },
   "outputs": [
    {
     "name": "stdout",
     "output_type": "stream",
     "text": [
      "accuracy 0.25093333333333334\n",
      "Wall time: 53.3 s\n"
     ]
    }
   ],
   "source": [
    "%%time\n",
    "\n",
    "#Train Accuracy\n",
    "y_pred = clf.predict(X_train_tfidf)\n",
    "print('accuracy %s' % accuracy_score(y_pred, y_train))"
   ]
  },
  {
   "cell_type": "code",
   "execution_count": 23,
   "id": "d8b6ca33",
   "metadata": {
    "ExecuteTime": {
     "end_time": "2021-07-31T04:00:21.040125Z",
     "start_time": "2021-07-31T04:00:05.085235Z"
    },
    "hidden": true
   },
   "outputs": [
    {
     "name": "stdout",
     "output_type": "stream",
     "text": [
      "accuracy 0.2306\n",
      "Wall time: 15.9 s\n"
     ]
    }
   ],
   "source": [
    "%%time\n",
    "\n",
    "#Test Accuracy\n",
    "y_pred = clf.predict(X_test_tfidf)\n",
    "print('accuracy %s' % accuracy_score(y_pred, y_test))"
   ]
  },
  {
   "cell_type": "markdown",
   "id": "10b81ddc",
   "metadata": {
    "heading_collapsed": true,
    "hidden": true
   },
   "source": [
    "## Further with Stemming"
   ]
  },
  {
   "cell_type": "code",
   "execution_count": 81,
   "id": "d89b3727",
   "metadata": {
    "ExecuteTime": {
     "end_time": "2021-07-31T04:39:55.011562Z",
     "start_time": "2021-07-31T04:39:54.993556Z"
    },
    "hidden": true
   },
   "outputs": [],
   "source": [
    "tokenizer = nltk.RegexpTokenizer(r\"\\w+\")\n",
    "#Porter Stemmer\n",
    "from nltk.stem.porter import PorterStemmer\n",
    "porter = PorterStemmer()\n",
    "sno = nltk.stem.SnowballStemmer('english')\n",
    "# stemmed = [porter.stem(word) for word in tokens]"
   ]
  },
  {
   "cell_type": "code",
   "execution_count": 96,
   "id": "277388b8",
   "metadata": {
    "ExecuteTime": {
     "end_time": "2021-07-31T05:00:37.144988Z",
     "start_time": "2021-07-31T05:00:37.133018Z"
    },
    "hidden": true
   },
   "outputs": [],
   "source": [
    "dataset_temp = dataset.iloc[:100000,:].copy()"
   ]
  },
  {
   "cell_type": "code",
   "execution_count": 88,
   "id": "ef1ee332",
   "metadata": {
    "ExecuteTime": {
     "end_time": "2021-07-31T04:45:57.050215Z",
     "start_time": "2021-07-31T04:45:54.471449Z"
    },
    "hidden": true
   },
   "outputs": [],
   "source": [
    "#PORTER STEMMING\n",
    "dataset_temp['TITLE'] = dataset_temp['TITLE'].apply(porter.stem)"
   ]
  },
  {
   "cell_type": "code",
   "execution_count": 83,
   "id": "76576b0d",
   "metadata": {
    "ExecuteTime": {
     "end_time": "2021-07-31T04:40:15.255894Z",
     "start_time": "2021-07-31T04:40:15.247880Z"
    },
    "hidden": true
   },
   "outputs": [],
   "source": [
    "#Snowball STEMMING\n",
    "dataset_temp['TITLE'] = dataset_temp['TITLE'].apply(sno.stem)"
   ]
  },
  {
   "cell_type": "code",
   "execution_count": 89,
   "id": "d7a00bf3",
   "metadata": {
    "ExecuteTime": {
     "end_time": "2021-07-31T04:46:01.680872Z",
     "start_time": "2021-07-31T04:46:01.153124Z"
    },
    "hidden": true
   },
   "outputs": [],
   "source": [
    "# dataset_temp['TITLE'].apply(tokenizer.tokenize)\n",
    "dataset_temp['TITLE'] = dataset_temp['TITLE'].apply(tokenizer.tokenize)"
   ]
  },
  {
   "cell_type": "code",
   "execution_count": 90,
   "id": "f693bc69",
   "metadata": {
    "ExecuteTime": {
     "end_time": "2021-07-31T04:46:08.427986Z",
     "start_time": "2021-07-31T04:46:04.926867Z"
    },
    "hidden": true
   },
   "outputs": [],
   "source": [
    "# dataset_temp['TITLE'].apply(lambda x: [item for item in x if item not in stop_words])\n",
    "dataset_temp['TITLE'] = dataset_temp['TITLE'].apply(lambda x: [item for item in x if item not in stop_words])"
   ]
  },
  {
   "cell_type": "code",
   "execution_count": 101,
   "id": "31a530d5",
   "metadata": {
    "ExecuteTime": {
     "end_time": "2021-07-31T05:08:46.514218Z",
     "start_time": "2021-07-31T05:08:32.795963Z"
    },
    "collapsed": true,
    "hidden": true
   },
   "outputs": [
    {
     "ename": "MemoryError",
     "evalue": "Unable to allocate 50.0 GiB for an array with shape (750000, 8945) and data type int64",
     "output_type": "error",
     "traceback": [
      "\u001b[1;31m---------------------------------------------------------------------------\u001b[0m",
      "\u001b[1;31mMemoryError\u001b[0m                               Traceback (most recent call last)",
      "\u001b[1;32m<timed exec>\u001b[0m in \u001b[0;36m<module>\u001b[1;34m\u001b[0m\n",
      "\u001b[1;32mc:\\users\\ayush.bajpayee\\.conda\\envs\\amazon_hackathon\\lib\\site-packages\\sklearn\\naive_bayes.py\u001b[0m in \u001b[0;36mfit\u001b[1;34m(self, X, y, sample_weight)\u001b[0m\n\u001b[0;32m    615\u001b[0m \u001b[1;33m\u001b[0m\u001b[0m\n\u001b[0;32m    616\u001b[0m         \u001b[0mlabelbin\u001b[0m \u001b[1;33m=\u001b[0m \u001b[0mLabelBinarizer\u001b[0m\u001b[1;33m(\u001b[0m\u001b[1;33m)\u001b[0m\u001b[1;33m\u001b[0m\u001b[1;33m\u001b[0m\u001b[0m\n\u001b[1;32m--> 617\u001b[1;33m         \u001b[0mY\u001b[0m \u001b[1;33m=\u001b[0m \u001b[0mlabelbin\u001b[0m\u001b[1;33m.\u001b[0m\u001b[0mfit_transform\u001b[0m\u001b[1;33m(\u001b[0m\u001b[0my\u001b[0m\u001b[1;33m)\u001b[0m\u001b[1;33m\u001b[0m\u001b[1;33m\u001b[0m\u001b[0m\n\u001b[0m\u001b[0;32m    618\u001b[0m         \u001b[0mself\u001b[0m\u001b[1;33m.\u001b[0m\u001b[0mclasses_\u001b[0m \u001b[1;33m=\u001b[0m \u001b[0mlabelbin\u001b[0m\u001b[1;33m.\u001b[0m\u001b[0mclasses_\u001b[0m\u001b[1;33m\u001b[0m\u001b[1;33m\u001b[0m\u001b[0m\n\u001b[0;32m    619\u001b[0m         \u001b[1;32mif\u001b[0m \u001b[0mY\u001b[0m\u001b[1;33m.\u001b[0m\u001b[0mshape\u001b[0m\u001b[1;33m[\u001b[0m\u001b[1;36m1\u001b[0m\u001b[1;33m]\u001b[0m \u001b[1;33m==\u001b[0m \u001b[1;36m1\u001b[0m\u001b[1;33m:\u001b[0m\u001b[1;33m\u001b[0m\u001b[1;33m\u001b[0m\u001b[0m\n",
      "\u001b[1;32mc:\\users\\ayush.bajpayee\\.conda\\envs\\amazon_hackathon\\lib\\site-packages\\sklearn\\preprocessing\\_label.py\u001b[0m in \u001b[0;36mfit_transform\u001b[1;34m(self, y)\u001b[0m\n\u001b[0;32m    319\u001b[0m             \u001b[0mwill\u001b[0m \u001b[0mbe\u001b[0m \u001b[0mof\u001b[0m \u001b[0mCSR\u001b[0m \u001b[0mformat\u001b[0m\u001b[1;33m.\u001b[0m\u001b[1;33m\u001b[0m\u001b[1;33m\u001b[0m\u001b[0m\n\u001b[0;32m    320\u001b[0m         \"\"\"\n\u001b[1;32m--> 321\u001b[1;33m         \u001b[1;32mreturn\u001b[0m \u001b[0mself\u001b[0m\u001b[1;33m.\u001b[0m\u001b[0mfit\u001b[0m\u001b[1;33m(\u001b[0m\u001b[0my\u001b[0m\u001b[1;33m)\u001b[0m\u001b[1;33m.\u001b[0m\u001b[0mtransform\u001b[0m\u001b[1;33m(\u001b[0m\u001b[0my\u001b[0m\u001b[1;33m)\u001b[0m\u001b[1;33m\u001b[0m\u001b[1;33m\u001b[0m\u001b[0m\n\u001b[0m\u001b[0;32m    322\u001b[0m \u001b[1;33m\u001b[0m\u001b[0m\n\u001b[0;32m    323\u001b[0m     \u001b[1;32mdef\u001b[0m \u001b[0mtransform\u001b[0m\u001b[1;33m(\u001b[0m\u001b[0mself\u001b[0m\u001b[1;33m,\u001b[0m \u001b[0my\u001b[0m\u001b[1;33m)\u001b[0m\u001b[1;33m:\u001b[0m\u001b[1;33m\u001b[0m\u001b[1;33m\u001b[0m\u001b[0m\n",
      "\u001b[1;32mc:\\users\\ayush.bajpayee\\.conda\\envs\\amazon_hackathon\\lib\\site-packages\\sklearn\\preprocessing\\_label.py\u001b[0m in \u001b[0;36mtransform\u001b[1;34m(self, y)\u001b[0m\n\u001b[0;32m    348\u001b[0m                              \" input.\")\n\u001b[0;32m    349\u001b[0m \u001b[1;33m\u001b[0m\u001b[0m\n\u001b[1;32m--> 350\u001b[1;33m         return label_binarize(y, classes=self.classes_,\n\u001b[0m\u001b[0;32m    351\u001b[0m                               \u001b[0mpos_label\u001b[0m\u001b[1;33m=\u001b[0m\u001b[0mself\u001b[0m\u001b[1;33m.\u001b[0m\u001b[0mpos_label\u001b[0m\u001b[1;33m,\u001b[0m\u001b[1;33m\u001b[0m\u001b[1;33m\u001b[0m\u001b[0m\n\u001b[0;32m    352\u001b[0m                               \u001b[0mneg_label\u001b[0m\u001b[1;33m=\u001b[0m\u001b[0mself\u001b[0m\u001b[1;33m.\u001b[0m\u001b[0mneg_label\u001b[0m\u001b[1;33m,\u001b[0m\u001b[1;33m\u001b[0m\u001b[1;33m\u001b[0m\u001b[0m\n",
      "\u001b[1;32mc:\\users\\ayush.bajpayee\\.conda\\envs\\amazon_hackathon\\lib\\site-packages\\sklearn\\utils\\validation.py\u001b[0m in \u001b[0;36minner_f\u001b[1;34m(*args, **kwargs)\u001b[0m\n\u001b[0;32m     61\u001b[0m             \u001b[0mextra_args\u001b[0m \u001b[1;33m=\u001b[0m \u001b[0mlen\u001b[0m\u001b[1;33m(\u001b[0m\u001b[0margs\u001b[0m\u001b[1;33m)\u001b[0m \u001b[1;33m-\u001b[0m \u001b[0mlen\u001b[0m\u001b[1;33m(\u001b[0m\u001b[0mall_args\u001b[0m\u001b[1;33m)\u001b[0m\u001b[1;33m\u001b[0m\u001b[1;33m\u001b[0m\u001b[0m\n\u001b[0;32m     62\u001b[0m             \u001b[1;32mif\u001b[0m \u001b[0mextra_args\u001b[0m \u001b[1;33m<=\u001b[0m \u001b[1;36m0\u001b[0m\u001b[1;33m:\u001b[0m\u001b[1;33m\u001b[0m\u001b[1;33m\u001b[0m\u001b[0m\n\u001b[1;32m---> 63\u001b[1;33m                 \u001b[1;32mreturn\u001b[0m \u001b[0mf\u001b[0m\u001b[1;33m(\u001b[0m\u001b[1;33m*\u001b[0m\u001b[0margs\u001b[0m\u001b[1;33m,\u001b[0m \u001b[1;33m**\u001b[0m\u001b[0mkwargs\u001b[0m\u001b[1;33m)\u001b[0m\u001b[1;33m\u001b[0m\u001b[1;33m\u001b[0m\u001b[0m\n\u001b[0m\u001b[0;32m     64\u001b[0m \u001b[1;33m\u001b[0m\u001b[0m\n\u001b[0;32m     65\u001b[0m             \u001b[1;31m# extra_args > 0\u001b[0m\u001b[1;33m\u001b[0m\u001b[1;33m\u001b[0m\u001b[1;33m\u001b[0m\u001b[0m\n",
      "\u001b[1;32mc:\\users\\ayush.bajpayee\\.conda\\envs\\amazon_hackathon\\lib\\site-packages\\sklearn\\preprocessing\\_label.py\u001b[0m in \u001b[0;36mlabel_binarize\u001b[1;34m(y, classes, neg_label, pos_label, sparse_output)\u001b[0m\n\u001b[0;32m    545\u001b[0m \u001b[1;33m\u001b[0m\u001b[0m\n\u001b[0;32m    546\u001b[0m     \u001b[1;32mif\u001b[0m \u001b[1;32mnot\u001b[0m \u001b[0msparse_output\u001b[0m\u001b[1;33m:\u001b[0m\u001b[1;33m\u001b[0m\u001b[1;33m\u001b[0m\u001b[0m\n\u001b[1;32m--> 547\u001b[1;33m         \u001b[0mY\u001b[0m \u001b[1;33m=\u001b[0m \u001b[0mY\u001b[0m\u001b[1;33m.\u001b[0m\u001b[0mtoarray\u001b[0m\u001b[1;33m(\u001b[0m\u001b[1;33m)\u001b[0m\u001b[1;33m\u001b[0m\u001b[1;33m\u001b[0m\u001b[0m\n\u001b[0m\u001b[0;32m    548\u001b[0m         \u001b[0mY\u001b[0m \u001b[1;33m=\u001b[0m \u001b[0mY\u001b[0m\u001b[1;33m.\u001b[0m\u001b[0mastype\u001b[0m\u001b[1;33m(\u001b[0m\u001b[0mint\u001b[0m\u001b[1;33m,\u001b[0m \u001b[0mcopy\u001b[0m\u001b[1;33m=\u001b[0m\u001b[1;32mFalse\u001b[0m\u001b[1;33m)\u001b[0m\u001b[1;33m\u001b[0m\u001b[1;33m\u001b[0m\u001b[0m\n\u001b[0;32m    549\u001b[0m \u001b[1;33m\u001b[0m\u001b[0m\n",
      "\u001b[1;32mc:\\users\\ayush.bajpayee\\.conda\\envs\\amazon_hackathon\\lib\\site-packages\\scipy\\sparse\\compressed.py\u001b[0m in \u001b[0;36mtoarray\u001b[1;34m(self, order, out)\u001b[0m\n\u001b[0;32m   1029\u001b[0m         \u001b[1;32mif\u001b[0m \u001b[0mout\u001b[0m \u001b[1;32mis\u001b[0m \u001b[1;32mNone\u001b[0m \u001b[1;32mand\u001b[0m \u001b[0morder\u001b[0m \u001b[1;32mis\u001b[0m \u001b[1;32mNone\u001b[0m\u001b[1;33m:\u001b[0m\u001b[1;33m\u001b[0m\u001b[1;33m\u001b[0m\u001b[0m\n\u001b[0;32m   1030\u001b[0m             \u001b[0morder\u001b[0m \u001b[1;33m=\u001b[0m \u001b[0mself\u001b[0m\u001b[1;33m.\u001b[0m\u001b[0m_swap\u001b[0m\u001b[1;33m(\u001b[0m\u001b[1;34m'cf'\u001b[0m\u001b[1;33m)\u001b[0m\u001b[1;33m[\u001b[0m\u001b[1;36m0\u001b[0m\u001b[1;33m]\u001b[0m\u001b[1;33m\u001b[0m\u001b[1;33m\u001b[0m\u001b[0m\n\u001b[1;32m-> 1031\u001b[1;33m         \u001b[0mout\u001b[0m \u001b[1;33m=\u001b[0m \u001b[0mself\u001b[0m\u001b[1;33m.\u001b[0m\u001b[0m_process_toarray_args\u001b[0m\u001b[1;33m(\u001b[0m\u001b[0morder\u001b[0m\u001b[1;33m,\u001b[0m \u001b[0mout\u001b[0m\u001b[1;33m)\u001b[0m\u001b[1;33m\u001b[0m\u001b[1;33m\u001b[0m\u001b[0m\n\u001b[0m\u001b[0;32m   1032\u001b[0m         \u001b[1;32mif\u001b[0m \u001b[1;32mnot\u001b[0m \u001b[1;33m(\u001b[0m\u001b[0mout\u001b[0m\u001b[1;33m.\u001b[0m\u001b[0mflags\u001b[0m\u001b[1;33m.\u001b[0m\u001b[0mc_contiguous\u001b[0m \u001b[1;32mor\u001b[0m \u001b[0mout\u001b[0m\u001b[1;33m.\u001b[0m\u001b[0mflags\u001b[0m\u001b[1;33m.\u001b[0m\u001b[0mf_contiguous\u001b[0m\u001b[1;33m)\u001b[0m\u001b[1;33m:\u001b[0m\u001b[1;33m\u001b[0m\u001b[1;33m\u001b[0m\u001b[0m\n\u001b[0;32m   1033\u001b[0m             \u001b[1;32mraise\u001b[0m \u001b[0mValueError\u001b[0m\u001b[1;33m(\u001b[0m\u001b[1;34m'Output array must be C or F contiguous'\u001b[0m\u001b[1;33m)\u001b[0m\u001b[1;33m\u001b[0m\u001b[1;33m\u001b[0m\u001b[0m\n",
      "\u001b[1;32mc:\\users\\ayush.bajpayee\\.conda\\envs\\amazon_hackathon\\lib\\site-packages\\scipy\\sparse\\base.py\u001b[0m in \u001b[0;36m_process_toarray_args\u001b[1;34m(self, order, out)\u001b[0m\n\u001b[0;32m   1200\u001b[0m             \u001b[1;32mreturn\u001b[0m \u001b[0mout\u001b[0m\u001b[1;33m\u001b[0m\u001b[1;33m\u001b[0m\u001b[0m\n\u001b[0;32m   1201\u001b[0m         \u001b[1;32melse\u001b[0m\u001b[1;33m:\u001b[0m\u001b[1;33m\u001b[0m\u001b[1;33m\u001b[0m\u001b[0m\n\u001b[1;32m-> 1202\u001b[1;33m             \u001b[1;32mreturn\u001b[0m \u001b[0mnp\u001b[0m\u001b[1;33m.\u001b[0m\u001b[0mzeros\u001b[0m\u001b[1;33m(\u001b[0m\u001b[0mself\u001b[0m\u001b[1;33m.\u001b[0m\u001b[0mshape\u001b[0m\u001b[1;33m,\u001b[0m \u001b[0mdtype\u001b[0m\u001b[1;33m=\u001b[0m\u001b[0mself\u001b[0m\u001b[1;33m.\u001b[0m\u001b[0mdtype\u001b[0m\u001b[1;33m,\u001b[0m \u001b[0morder\u001b[0m\u001b[1;33m=\u001b[0m\u001b[0morder\u001b[0m\u001b[1;33m)\u001b[0m\u001b[1;33m\u001b[0m\u001b[1;33m\u001b[0m\u001b[0m\n\u001b[0m\u001b[0;32m   1203\u001b[0m \u001b[1;33m\u001b[0m\u001b[0m\n\u001b[0;32m   1204\u001b[0m \u001b[1;33m\u001b[0m\u001b[0m\n",
      "\u001b[1;31mMemoryError\u001b[0m: Unable to allocate 50.0 GiB for an array with shape (750000, 8945) and data type int64"
     ]
    }
   ],
   "source": [
    "%%time\n",
    "#Train Test Split\n",
    "X_train, X_test, y_train, y_test = train_test_split(dataset_temp['TITLE'], dataset_temp['BROWSE_NODE_ID'], random_state = 0)\n",
    "ctv = CountVectorizer(analyzer='word',token_pattern=r'\\w{1,}', stop_words = 'english')\n",
    "# count_vect = CountVectorizer(stop_words='english')\n",
    "X_train_counts = count_vect.fit_transform(X_train)\n",
    "# tfidf_transformer = TfidfTransformer()\n",
    "# X_train_tfidf = tfidf_transformer.fit_transform(X_train_counts)\n",
    "clf = MultinomialNB().fit(X_train_counts, y_train)"
   ]
  },
  {
   "cell_type": "code",
   "execution_count": null,
   "id": "8ef4e6a9",
   "metadata": {
    "hidden": true
   },
   "outputs": [],
   "source": [
    "%%time\n",
    "\n",
    "#Transforming Test\n",
    "X_test_counts = count_vect.transform(X_test)\n",
    "X_test_tfidf = tfidf_transformer.transform(X_test_counts)"
   ]
  },
  {
   "cell_type": "code",
   "execution_count": null,
   "id": "7acc29bf",
   "metadata": {
    "hidden": true
   },
   "outputs": [],
   "source": [
    "%%time\n",
    "\n",
    "#Train Accuracy\n",
    "y_pred = clf.predict(X_train_tfidf)\n",
    "print('accuracy %s' % accuracy_score(y_pred, y_train))"
   ]
  },
  {
   "cell_type": "code",
   "execution_count": null,
   "id": "28daf90c",
   "metadata": {
    "hidden": true
   },
   "outputs": [],
   "source": [
    "%%time\n",
    "\n",
    "#Test Accuracy\n",
    "y_pred = clf.predict(X_test_tfidf)\n",
    "print('accuracy %s' % accuracy_score(y_pred, y_test))"
   ]
  },
  {
   "cell_type": "markdown",
   "id": "836bdd4f",
   "metadata": {},
   "source": [
    "# DEEP LEARNING"
   ]
  },
  {
   "cell_type": "code",
   "execution_count": 7,
   "id": "f3e639f7",
   "metadata": {
    "ExecuteTime": {
     "end_time": "2021-07-31T08:07:01.673279Z",
     "start_time": "2021-07-31T08:06:56.429958Z"
    }
   },
   "outputs": [
    {
     "name": "stderr",
     "output_type": "stream",
     "text": [
      "52343it [00:05, 10001.73it/s]\n"
     ]
    }
   ],
   "source": [
    "embeddings_index = {}\n",
    "try:\n",
    "    f = open('glove.840B.300d.txt', encoding='utf8')\n",
    "    for line in tqdm(f):\n",
    "        values = line.split()\n",
    "        word = values[0]\n",
    "        coefs = np.asarray(values[1:], dtype='float32')\n",
    "        embeddings_index[word] = coefs\n",
    "    f.close()\n",
    "\n",
    "    print('Found %s word vectors.' % len(embeddings_index))\n",
    "    \n",
    "except:\n",
    "    pass"
   ]
  },
  {
   "cell_type": "code",
   "execution_count": 8,
   "id": "e777b63f",
   "metadata": {
    "ExecuteTime": {
     "end_time": "2021-07-31T08:07:52.086230Z",
     "start_time": "2021-07-31T08:07:52.075254Z"
    }
   },
   "outputs": [],
   "source": [
    "def sent2vec(s):\n",
    "    words = str(s).lower()\n",
    "    words = word_tokenize(words)\n",
    "    words = [w for w in words if not w in stop_words]\n",
    "    words = [w for w in words if w.isalpha()]\n",
    "    M = []\n",
    "    for w in words:\n",
    "        try:\n",
    "            M.append(embeddings_index[w])\n",
    "        except:\n",
    "            continue\n",
    "    M = np.array(M)\n",
    "    v = M.sum(axis=0)\n",
    "    if type(v) != np.ndarray:\n",
    "        return np.zeros(300)\n",
    "    return v / np.sqrt((v ** 2).sum())"
   ]
  },
  {
   "cell_type": "code",
   "execution_count": 81,
   "id": "b26fe344",
   "metadata": {
    "ExecuteTime": {
     "end_time": "2021-07-31T10:12:08.883550Z",
     "start_time": "2021-07-31T10:12:08.867595Z"
    }
   },
   "outputs": [
    {
     "data": {
      "text/html": [
       "<div>\n",
       "<style scoped>\n",
       "    .dataframe tbody tr th:only-of-type {\n",
       "        vertical-align: middle;\n",
       "    }\n",
       "\n",
       "    .dataframe tbody tr th {\n",
       "        vertical-align: top;\n",
       "    }\n",
       "\n",
       "    .dataframe thead th {\n",
       "        text-align: right;\n",
       "    }\n",
       "</style>\n",
       "<table border=\"1\" class=\"dataframe\">\n",
       "  <thead>\n",
       "    <tr style=\"text-align: right;\">\n",
       "      <th></th>\n",
       "      <th>TITLE</th>\n",
       "      <th>BULLET_POINTS</th>\n",
       "      <th>BRAND</th>\n",
       "      <th>BROWSE_NODE_ID</th>\n",
       "    </tr>\n",
       "  </thead>\n",
       "  <tbody>\n",
       "    <tr>\n",
       "      <th>0</th>\n",
       "      <td>Pete The Cat Bedtime Blues Doll, 14.5 Inch</td>\n",
       "      <td>[Pete the Cat Bedtime Blues plush doll, Based ...</td>\n",
       "      <td>MerryMakers</td>\n",
       "      <td>0</td>\n",
       "    </tr>\n",
       "    <tr>\n",
       "      <th>1</th>\n",
       "      <td>The New Yorker NYHM014 Refrigerator Magnet, 2 ...</td>\n",
       "      <td>[Cat In A Tea Cup by New Yorker cover artist G...</td>\n",
       "      <td>The New Yorker</td>\n",
       "      <td>1</td>\n",
       "    </tr>\n",
       "    <tr>\n",
       "      <th>2</th>\n",
       "      <td>The Ultimate Self-Sufficiency Handbook: A Comp...</td>\n",
       "      <td>[Skyhorse Publishing]</td>\n",
       "      <td>imusti</td>\n",
       "      <td>2</td>\n",
       "    </tr>\n",
       "    <tr>\n",
       "      <th>3</th>\n",
       "      <td>Amway Nutrilite Kids Chewable Iron Tablets (100)</td>\n",
       "      <td>[Nutrilite Kids, Chewable Iron Tablets, Quanti...</td>\n",
       "      <td>Amway</td>\n",
       "      <td>3</td>\n",
       "    </tr>\n",
       "    <tr>\n",
       "      <th>4</th>\n",
       "      <td>Teacher Planner Company A4 6 Lesson Academic T...</td>\n",
       "      <td>[OTHERS]</td>\n",
       "      <td>OTHERS</td>\n",
       "      <td>4</td>\n",
       "    </tr>\n",
       "    <tr>\n",
       "      <th>...</th>\n",
       "      <td>...</td>\n",
       "      <td>...</td>\n",
       "      <td>...</td>\n",
       "      <td>...</td>\n",
       "    </tr>\n",
       "    <tr>\n",
       "      <th>995</th>\n",
       "      <td>Toteteca Shoulder Bag (Beige) (TT2486Beige)</td>\n",
       "      <td>[Category : Fashion Accessories, Type : hand_m...</td>\n",
       "      <td>Toteteca</td>\n",
       "      <td>636</td>\n",
       "    </tr>\n",
       "    <tr>\n",
       "      <th>996</th>\n",
       "      <td>ADDA Men Big BOSS Black Silver Slippers UK-11</td>\n",
       "      <td>[comfortable, washable, soft]</td>\n",
       "      <td>ADDA</td>\n",
       "      <td>810</td>\n",
       "    </tr>\n",
       "    <tr>\n",
       "      <th>997</th>\n",
       "      <td>Etnies Women's Fader ls W's, Black Pink, 5.5 M US</td>\n",
       "      <td>[Modern version of a long running fan favorite...</td>\n",
       "      <td>Etnies</td>\n",
       "      <td>997</td>\n",
       "    </tr>\n",
       "    <tr>\n",
       "      <th>998</th>\n",
       "      <td>Zensual Kool Kajal, 2.5g</td>\n",
       "      <td>[OTHERS]</td>\n",
       "      <td>Zensual</td>\n",
       "      <td>998</td>\n",
       "    </tr>\n",
       "    <tr>\n",
       "      <th>999</th>\n",
       "      <td>Avarna Terracotta Jhumki Loop In Multi-Color</td>\n",
       "      <td>[Material: Terracotta; Color: Multi-colour, Id...</td>\n",
       "      <td>Avarna</td>\n",
       "      <td>803</td>\n",
       "    </tr>\n",
       "  </tbody>\n",
       "</table>\n",
       "<p>1000 rows × 4 columns</p>\n",
       "</div>"
      ],
      "text/plain": [
       "                                                 TITLE  \\\n",
       "0           Pete The Cat Bedtime Blues Doll, 14.5 Inch   \n",
       "1    The New Yorker NYHM014 Refrigerator Magnet, 2 ...   \n",
       "2    The Ultimate Self-Sufficiency Handbook: A Comp...   \n",
       "3     Amway Nutrilite Kids Chewable Iron Tablets (100)   \n",
       "4    Teacher Planner Company A4 6 Lesson Academic T...   \n",
       "..                                                 ...   \n",
       "995        Toteteca Shoulder Bag (Beige) (TT2486Beige)   \n",
       "996      ADDA Men Big BOSS Black Silver Slippers UK-11   \n",
       "997  Etnies Women's Fader ls W's, Black Pink, 5.5 M US   \n",
       "998                           Zensual Kool Kajal, 2.5g   \n",
       "999       Avarna Terracotta Jhumki Loop In Multi-Color   \n",
       "\n",
       "                                         BULLET_POINTS           BRAND  \\\n",
       "0    [Pete the Cat Bedtime Blues plush doll, Based ...     MerryMakers   \n",
       "1    [Cat In A Tea Cup by New Yorker cover artist G...  The New Yorker   \n",
       "2                                [Skyhorse Publishing]          imusti   \n",
       "3    [Nutrilite Kids, Chewable Iron Tablets, Quanti...           Amway   \n",
       "4                                             [OTHERS]          OTHERS   \n",
       "..                                                 ...             ...   \n",
       "995  [Category : Fashion Accessories, Type : hand_m...        Toteteca   \n",
       "996                      [comfortable, washable, soft]            ADDA   \n",
       "997  [Modern version of a long running fan favorite...          Etnies   \n",
       "998                                           [OTHERS]         Zensual   \n",
       "999  [Material: Terracotta; Color: Multi-colour, Id...          Avarna   \n",
       "\n",
       "     BROWSE_NODE_ID  \n",
       "0                 0  \n",
       "1                 1  \n",
       "2                 2  \n",
       "3                 3  \n",
       "4                 4  \n",
       "..              ...  \n",
       "995             636  \n",
       "996             810  \n",
       "997             997  \n",
       "998             998  \n",
       "999             803  \n",
       "\n",
       "[1000 rows x 4 columns]"
      ]
     },
     "execution_count": 81,
     "metadata": {},
     "output_type": "execute_result"
    }
   ],
   "source": [
    "dataset_temp = dataset.iloc[:1000,:].copy()\n",
    "dataset_temp"
   ]
  },
  {
   "cell_type": "code",
   "execution_count": 82,
   "id": "1c6ab47a",
   "metadata": {
    "ExecuteTime": {
     "end_time": "2021-07-31T10:12:22.247288Z",
     "start_time": "2021-07-31T10:12:22.239321Z"
    }
   },
   "outputs": [
    {
     "data": {
      "text/plain": [
       "array([  0,   1,   2,   3,   4,   5,   6,   7,   7,   9,  10,  11,  12,\n",
       "        13,  14,  15,  16,  17,  18,  19,  20,  21,  22,  23,  24,  25,\n",
       "        26,  27,  28,  28,  30,  31,  32,  33,  34,  35,  36,  37,  38,\n",
       "        39,  40,  38,  42,  43,  44,  45,  46,   4,   4,   4,   4,  45,\n",
       "        52,  53,  54,  55,  56,  57,  58,  59,  60,  61,  62,  63,  64,\n",
       "        65,  66,   4,  68,  69,  70,  38,  72,  55,  74,  75,  76,  77,\n",
       "        78,  79,   0,  81,  82,  83,  84,  85,  86,  87,  88,  89,  90,\n",
       "        91,  92,  93,  94,  95,  96,  97,  98,  99, 100,   3, 102, 103,\n",
       "       104, 105, 106, 107, 108, 109, 110,  55, 112, 113, 114, 115, 116,\n",
       "       117, 118,  55, 120, 121, 122,  82, 124, 125,  55, 127,   4, 129,\n",
       "       130, 131, 132, 133, 134, 135, 136, 137, 138, 139,  40, 133,  82,\n",
       "       143,  69, 145, 146, 147, 148, 149, 150, 151, 152, 153, 154, 155,\n",
       "         4,   4,   4,   4, 160,   4,   4,   4,   4, 165,   4,   4,   4,\n",
       "         4,   4,   4,   4,   4,   4,   4,  11, 133,  55, 179, 180, 181,\n",
       "       149,   4,  69, 185, 186, 187, 188, 189, 190, 191, 192, 193, 194,\n",
       "       195, 196, 197,   4, 199, 200, 201, 202, 112, 204, 205, 206, 207,\n",
       "       208, 209, 210, 211,  55,   4, 214, 215, 216, 217, 218, 219, 220,\n",
       "       221, 222, 223, 224, 225, 226, 227,  69, 229, 230, 231, 232, 233,\n",
       "       234, 235,  69, 237, 238, 239, 240, 241, 242, 243, 244, 245,   4,\n",
       "       247, 248, 249, 112, 251, 252,   4, 254, 255, 256, 257, 258, 259,\n",
       "       211, 261, 262,   4, 264, 265, 266, 267, 268, 269, 270,   4, 272,\n",
       "        76, 134, 275, 276, 277, 278, 279, 280, 117, 282, 283,  84, 285,\n",
       "       255, 287,  69, 289, 290, 291,  74, 293,  69, 295, 296, 265, 256,\n",
       "       241, 300, 301, 302, 209, 304,  55, 306, 307,  38, 309,  98, 311,\n",
       "       312, 313,  98, 315, 316, 317, 318, 319, 304,  55, 322,   4, 324,\n",
       "        55, 150, 207, 328, 329, 330,   4,   4, 333, 334, 270, 247,  35,\n",
       "        75,  55, 340, 341, 132, 343, 133, 241,   4, 347, 348, 349, 350,\n",
       "        55, 241,  38, 289, 223,  55, 357, 358, 359, 360, 361, 362, 363,\n",
       "       110, 365, 118, 367, 368, 369,  36,  36, 372,   5, 374, 375,  85,\n",
       "       377,  55, 379, 380, 381, 382, 383, 115,  84,   4,  23,  35, 389,\n",
       "       390, 391, 392, 393, 394, 395, 396, 397, 398, 209,   4, 243, 154,\n",
       "        84, 216, 405, 406, 407, 408, 409,  55, 411,   4, 413, 251, 165,\n",
       "       416, 417, 194, 419, 420,  55, 422, 423, 152, 425, 426, 427,   5,\n",
       "         0, 430,   4, 290, 215, 434, 435, 197, 437, 438, 439, 440, 135,\n",
       "       442, 443, 362, 209, 300, 447, 448, 449, 450, 451, 452, 453, 454,\n",
       "       455, 108, 457, 458, 459, 362, 289, 462, 290, 362, 465, 466, 467,\n",
       "       468, 469, 230, 471, 472, 473, 474, 266, 277, 477,  55,  23, 480,\n",
       "       481,  84,  55, 362, 485, 486, 487, 488, 489, 490, 392, 155,  75,\n",
       "       204, 495,  55, 133, 498, 499,  35, 209, 291, 503,  11, 505, 506,\n",
       "       507, 508, 509, 510, 511, 118, 513, 514, 515, 301, 517, 209, 519,\n",
       "       520, 521,  55, 523, 289, 525, 526, 293, 143, 529, 530, 531, 532,\n",
       "       241, 534, 535, 536, 537, 538,   4, 427, 541, 530, 543, 544, 545,\n",
       "       546, 423, 548,  38,  55, 551, 552, 553, 554, 555,   4, 557, 558,\n",
       "        55, 560, 405, 562, 563, 564, 565, 154, 567, 568, 569, 570, 571,\n",
       "       572, 573,  69,  85, 576, 407, 578, 579, 580, 180, 582, 583,   4,\n",
       "        37,  23,   4, 588, 589, 590, 591, 103, 593, 594, 595, 596,  98,\n",
       "       598, 423,  22, 601, 602, 603, 604, 605, 563, 607, 341,   5, 610,\n",
       "       611, 612,  55, 614, 615,  27, 200, 618, 619, 620, 621, 622, 322,\n",
       "       300, 625, 215, 627, 209, 629, 630, 631,  69, 633,  69, 635, 636,\n",
       "       637, 241,  85,   4,  15, 536, 289, 637, 241, 646, 232, 648,  89,\n",
       "        55, 651, 601, 653, 654, 655, 498, 576, 658, 659, 660, 215,  86,\n",
       "       663,   4, 665, 666, 667, 132, 426, 670, 216, 216, 413,  69, 675,\n",
       "       676, 677, 216,  85, 190, 681, 245,   4, 684, 653, 686,   4, 688,\n",
       "       689, 154, 691, 692, 693, 694, 408, 696, 697, 698, 699, 700, 701,\n",
       "       702, 407,   4, 705, 686,  11, 708, 709, 710, 711, 152, 713, 714,\n",
       "       715, 716, 362, 505, 154, 720, 721, 721, 723,  69,  55, 726, 727,\n",
       "       216, 130, 730,  58, 732, 733, 330, 735,  89, 737, 738, 739,  55,\n",
       "        16, 742,   4, 744, 745, 746, 747, 748, 409, 750, 751, 752, 753,\n",
       "       754, 755,  85, 757, 758, 759, 473, 761, 762, 763, 764, 216, 766,\n",
       "       567, 768, 151, 770, 771, 285, 773, 773, 775, 209, 777, 778, 709,\n",
       "       780, 781, 782, 615, 784, 785,   4, 787, 788, 789,  89, 289,  55,\n",
       "       362, 794, 789, 796, 797, 798, 589, 800, 801, 237, 803, 804, 805,\n",
       "       805,   4, 808,  55, 810, 811, 812, 509, 489,  98, 816,  91, 818,\n",
       "       819,  22, 821, 409,  89, 824,  69, 826, 827, 828, 829, 830,  75,\n",
       "       832,   4, 834,  92, 836, 837,  91, 839, 840, 841, 842,  55, 651,\n",
       "       750, 846, 847, 840, 849, 850, 851, 852,   5, 714, 855, 856, 251,\n",
       "       858, 411, 153, 534, 862, 863, 864, 110, 866,  82, 868, 869, 653,\n",
       "       871, 872, 873, 714, 875, 876, 877, 878, 423, 880, 881, 709, 883,\n",
       "         4, 205, 886, 887, 816, 663, 890, 891, 892, 249, 134, 434, 896,\n",
       "       572, 530, 899, 900, 259, 471, 903, 532, 905, 906, 245, 908,  69,\n",
       "        55, 911, 912, 272, 914, 125, 916, 917, 918, 919, 876, 289, 922,\n",
       "       923, 924, 925, 926, 872, 928, 929, 851,   5,  74, 819, 631, 935,\n",
       "        37, 277,  91, 939, 940,  17, 245,  32, 944,  55, 946,  69, 546,\n",
       "         4,   4, 951, 243, 953, 954, 230, 956, 782, 958, 959, 960, 961,\n",
       "       962, 963, 964, 965, 966,   5, 968, 969, 970, 971, 972, 973,  55,\n",
       "        58, 976, 977, 978, 979, 980, 981, 982, 983, 984, 985, 204, 362,\n",
       "       988, 989, 990, 165, 636, 993, 994, 636, 810, 997, 998, 803],\n",
       "      dtype=int64)"
      ]
     },
     "execution_count": 82,
     "metadata": {},
     "output_type": "execute_result"
    }
   ],
   "source": [
    "y = dataset_temp['BROWSE_NODE_ID'].values\n",
    "y"
   ]
  },
  {
   "cell_type": "code",
   "execution_count": 39,
   "id": "ad1d0f59",
   "metadata": {
    "ExecuteTime": {
     "end_time": "2021-07-31T08:30:44.799576Z",
     "start_time": "2021-07-31T08:30:44.786566Z"
    },
    "collapsed": true
   },
   "outputs": [
    {
     "data": {
      "text/plain": [
       "array([[  0],\n",
       "       [  1],\n",
       "       [  2],\n",
       "       [  3],\n",
       "       [  4],\n",
       "       [  5],\n",
       "       [  6],\n",
       "       [  7],\n",
       "       [  7],\n",
       "       [  9],\n",
       "       [ 10],\n",
       "       [ 11],\n",
       "       [ 12],\n",
       "       [ 13],\n",
       "       [ 14],\n",
       "       [ 15],\n",
       "       [ 16],\n",
       "       [ 17],\n",
       "       [ 18],\n",
       "       [ 19],\n",
       "       [ 20],\n",
       "       [ 21],\n",
       "       [ 22],\n",
       "       [ 23],\n",
       "       [ 24],\n",
       "       [ 25],\n",
       "       [ 26],\n",
       "       [ 27],\n",
       "       [ 28],\n",
       "       [ 28],\n",
       "       [ 30],\n",
       "       [ 31],\n",
       "       [ 32],\n",
       "       [ 33],\n",
       "       [ 34],\n",
       "       [ 35],\n",
       "       [ 36],\n",
       "       [ 37],\n",
       "       [ 38],\n",
       "       [ 39],\n",
       "       [ 40],\n",
       "       [ 38],\n",
       "       [ 42],\n",
       "       [ 43],\n",
       "       [ 44],\n",
       "       [ 45],\n",
       "       [ 46],\n",
       "       [  4],\n",
       "       [  4],\n",
       "       [  4],\n",
       "       [  4],\n",
       "       [ 45],\n",
       "       [ 52],\n",
       "       [ 53],\n",
       "       [ 54],\n",
       "       [ 55],\n",
       "       [ 56],\n",
       "       [ 57],\n",
       "       [ 58],\n",
       "       [ 59],\n",
       "       [ 60],\n",
       "       [ 61],\n",
       "       [ 62],\n",
       "       [ 63],\n",
       "       [ 64],\n",
       "       [ 65],\n",
       "       [ 66],\n",
       "       [  4],\n",
       "       [ 68],\n",
       "       [ 69],\n",
       "       [ 70],\n",
       "       [ 38],\n",
       "       [ 72],\n",
       "       [ 55],\n",
       "       [ 74],\n",
       "       [ 75],\n",
       "       [ 76],\n",
       "       [ 77],\n",
       "       [ 78],\n",
       "       [ 79],\n",
       "       [  0],\n",
       "       [ 81],\n",
       "       [ 82],\n",
       "       [ 83],\n",
       "       [ 84],\n",
       "       [ 85],\n",
       "       [ 86],\n",
       "       [ 87],\n",
       "       [ 88],\n",
       "       [ 89],\n",
       "       [ 90],\n",
       "       [ 91],\n",
       "       [ 92],\n",
       "       [ 93],\n",
       "       [ 94],\n",
       "       [ 95],\n",
       "       [ 96],\n",
       "       [ 97],\n",
       "       [ 98],\n",
       "       [ 99],\n",
       "       [100],\n",
       "       [  3],\n",
       "       [102],\n",
       "       [103],\n",
       "       [104],\n",
       "       [105],\n",
       "       [106],\n",
       "       [107],\n",
       "       [108],\n",
       "       [109],\n",
       "       [110],\n",
       "       [ 55],\n",
       "       [112],\n",
       "       [113],\n",
       "       [114],\n",
       "       [115],\n",
       "       [116],\n",
       "       [117],\n",
       "       [118],\n",
       "       [ 55],\n",
       "       [120],\n",
       "       [121],\n",
       "       [122],\n",
       "       [ 82],\n",
       "       [124],\n",
       "       [125],\n",
       "       [ 55],\n",
       "       [127],\n",
       "       [  4],\n",
       "       [129],\n",
       "       [130],\n",
       "       [131],\n",
       "       [132],\n",
       "       [133],\n",
       "       [134],\n",
       "       [135],\n",
       "       [136],\n",
       "       [137],\n",
       "       [138],\n",
       "       [139],\n",
       "       [ 40],\n",
       "       [133],\n",
       "       [ 82],\n",
       "       [143],\n",
       "       [ 69],\n",
       "       [145],\n",
       "       [146],\n",
       "       [147],\n",
       "       [148],\n",
       "       [149],\n",
       "       [150],\n",
       "       [151],\n",
       "       [152],\n",
       "       [153],\n",
       "       [154],\n",
       "       [155],\n",
       "       [  4],\n",
       "       [  4],\n",
       "       [  4],\n",
       "       [  4],\n",
       "       [160],\n",
       "       [  4],\n",
       "       [  4],\n",
       "       [  4],\n",
       "       [  4],\n",
       "       [165],\n",
       "       [  4],\n",
       "       [  4],\n",
       "       [  4],\n",
       "       [  4],\n",
       "       [  4],\n",
       "       [  4],\n",
       "       [  4],\n",
       "       [  4],\n",
       "       [  4],\n",
       "       [  4],\n",
       "       [ 11],\n",
       "       [133],\n",
       "       [ 55],\n",
       "       [179],\n",
       "       [180],\n",
       "       [181],\n",
       "       [149],\n",
       "       [  4],\n",
       "       [ 69],\n",
       "       [185],\n",
       "       [186],\n",
       "       [187],\n",
       "       [188],\n",
       "       [189],\n",
       "       [190],\n",
       "       [191],\n",
       "       [192],\n",
       "       [193],\n",
       "       [194],\n",
       "       [195],\n",
       "       [196],\n",
       "       [197],\n",
       "       [  4],\n",
       "       [199],\n",
       "       [200],\n",
       "       [201],\n",
       "       [202],\n",
       "       [112],\n",
       "       [204],\n",
       "       [205],\n",
       "       [206],\n",
       "       [207],\n",
       "       [208],\n",
       "       [209],\n",
       "       [210],\n",
       "       [211],\n",
       "       [ 55],\n",
       "       [  4],\n",
       "       [214],\n",
       "       [215],\n",
       "       [216],\n",
       "       [217],\n",
       "       [218],\n",
       "       [219],\n",
       "       [220],\n",
       "       [221],\n",
       "       [222],\n",
       "       [223],\n",
       "       [224],\n",
       "       [225],\n",
       "       [226],\n",
       "       [227],\n",
       "       [ 69],\n",
       "       [229],\n",
       "       [230],\n",
       "       [231],\n",
       "       [232],\n",
       "       [233],\n",
       "       [234],\n",
       "       [235],\n",
       "       [ 69],\n",
       "       [237],\n",
       "       [238],\n",
       "       [239],\n",
       "       [240],\n",
       "       [241],\n",
       "       [242],\n",
       "       [243],\n",
       "       [244],\n",
       "       [245],\n",
       "       [  4],\n",
       "       [247],\n",
       "       [248],\n",
       "       [249],\n",
       "       [112],\n",
       "       [251],\n",
       "       [252],\n",
       "       [  4],\n",
       "       [254],\n",
       "       [255],\n",
       "       [256],\n",
       "       [257],\n",
       "       [258],\n",
       "       [259],\n",
       "       [211],\n",
       "       [261],\n",
       "       [262],\n",
       "       [  4],\n",
       "       [264],\n",
       "       [265],\n",
       "       [266],\n",
       "       [267],\n",
       "       [268],\n",
       "       [269],\n",
       "       [270],\n",
       "       [  4],\n",
       "       [272],\n",
       "       [ 76],\n",
       "       [134],\n",
       "       [275],\n",
       "       [276],\n",
       "       [277],\n",
       "       [278],\n",
       "       [279],\n",
       "       [280],\n",
       "       [117],\n",
       "       [282],\n",
       "       [283],\n",
       "       [ 84],\n",
       "       [285],\n",
       "       [255],\n",
       "       [287],\n",
       "       [ 69],\n",
       "       [289],\n",
       "       [290],\n",
       "       [291],\n",
       "       [ 74],\n",
       "       [293],\n",
       "       [ 69],\n",
       "       [295],\n",
       "       [296],\n",
       "       [265],\n",
       "       [256],\n",
       "       [241],\n",
       "       [300],\n",
       "       [301],\n",
       "       [302],\n",
       "       [209],\n",
       "       [304],\n",
       "       [ 55],\n",
       "       [306],\n",
       "       [307],\n",
       "       [ 38],\n",
       "       [309],\n",
       "       [ 98],\n",
       "       [311],\n",
       "       [312],\n",
       "       [313],\n",
       "       [ 98],\n",
       "       [315],\n",
       "       [316],\n",
       "       [317],\n",
       "       [318],\n",
       "       [319],\n",
       "       [304],\n",
       "       [ 55],\n",
       "       [322],\n",
       "       [  4],\n",
       "       [324],\n",
       "       [ 55],\n",
       "       [150],\n",
       "       [207],\n",
       "       [328],\n",
       "       [329],\n",
       "       [330],\n",
       "       [  4],\n",
       "       [  4],\n",
       "       [333],\n",
       "       [334],\n",
       "       [270],\n",
       "       [247],\n",
       "       [ 35],\n",
       "       [ 75],\n",
       "       [ 55],\n",
       "       [340],\n",
       "       [341],\n",
       "       [132],\n",
       "       [343],\n",
       "       [133],\n",
       "       [241],\n",
       "       [  4],\n",
       "       [347],\n",
       "       [348],\n",
       "       [349],\n",
       "       [350],\n",
       "       [ 55],\n",
       "       [241],\n",
       "       [ 38],\n",
       "       [289],\n",
       "       [223],\n",
       "       [ 55],\n",
       "       [357],\n",
       "       [358],\n",
       "       [359],\n",
       "       [360],\n",
       "       [361],\n",
       "       [362],\n",
       "       [363],\n",
       "       [110],\n",
       "       [365],\n",
       "       [118],\n",
       "       [367],\n",
       "       [368],\n",
       "       [369],\n",
       "       [ 36],\n",
       "       [ 36],\n",
       "       [372],\n",
       "       [  5],\n",
       "       [374],\n",
       "       [375],\n",
       "       [ 85],\n",
       "       [377],\n",
       "       [ 55],\n",
       "       [379],\n",
       "       [380],\n",
       "       [381],\n",
       "       [382],\n",
       "       [383],\n",
       "       [115],\n",
       "       [ 84],\n",
       "       [  4],\n",
       "       [ 23],\n",
       "       [ 35],\n",
       "       [389],\n",
       "       [390],\n",
       "       [391],\n",
       "       [392],\n",
       "       [393],\n",
       "       [394],\n",
       "       [395],\n",
       "       [396],\n",
       "       [397],\n",
       "       [398],\n",
       "       [209],\n",
       "       [  4],\n",
       "       [243],\n",
       "       [154],\n",
       "       [ 84],\n",
       "       [216],\n",
       "       [405],\n",
       "       [406],\n",
       "       [407],\n",
       "       [408],\n",
       "       [409],\n",
       "       [ 55],\n",
       "       [411],\n",
       "       [  4],\n",
       "       [413],\n",
       "       [251],\n",
       "       [165],\n",
       "       [416],\n",
       "       [417],\n",
       "       [194],\n",
       "       [419],\n",
       "       [420],\n",
       "       [ 55],\n",
       "       [422],\n",
       "       [423],\n",
       "       [152],\n",
       "       [425],\n",
       "       [426],\n",
       "       [427],\n",
       "       [  5],\n",
       "       [  0],\n",
       "       [430],\n",
       "       [  4],\n",
       "       [290],\n",
       "       [215],\n",
       "       [434],\n",
       "       [435],\n",
       "       [197],\n",
       "       [437],\n",
       "       [438],\n",
       "       [439],\n",
       "       [440],\n",
       "       [135],\n",
       "       [442],\n",
       "       [443],\n",
       "       [362],\n",
       "       [209],\n",
       "       [300],\n",
       "       [447],\n",
       "       [448],\n",
       "       [449],\n",
       "       [450],\n",
       "       [451],\n",
       "       [452],\n",
       "       [453],\n",
       "       [454],\n",
       "       [455],\n",
       "       [108],\n",
       "       [457],\n",
       "       [458],\n",
       "       [459],\n",
       "       [362],\n",
       "       [289],\n",
       "       [462],\n",
       "       [290],\n",
       "       [362],\n",
       "       [465],\n",
       "       [466],\n",
       "       [467],\n",
       "       [468],\n",
       "       [469],\n",
       "       [230],\n",
       "       [471],\n",
       "       [472],\n",
       "       [473],\n",
       "       [474],\n",
       "       [266],\n",
       "       [277],\n",
       "       [477],\n",
       "       [ 55],\n",
       "       [ 23],\n",
       "       [480],\n",
       "       [481],\n",
       "       [ 84],\n",
       "       [ 55],\n",
       "       [362],\n",
       "       [485],\n",
       "       [486],\n",
       "       [487],\n",
       "       [488],\n",
       "       [489],\n",
       "       [490],\n",
       "       [392],\n",
       "       [155],\n",
       "       [ 75],\n",
       "       [204],\n",
       "       [495],\n",
       "       [ 55],\n",
       "       [133],\n",
       "       [498],\n",
       "       [499],\n",
       "       [ 35],\n",
       "       [209],\n",
       "       [291],\n",
       "       [503],\n",
       "       [ 11],\n",
       "       [505],\n",
       "       [506],\n",
       "       [507],\n",
       "       [508],\n",
       "       [509],\n",
       "       [510],\n",
       "       [511],\n",
       "       [118],\n",
       "       [513],\n",
       "       [514],\n",
       "       [515],\n",
       "       [301],\n",
       "       [517],\n",
       "       [209],\n",
       "       [519],\n",
       "       [520],\n",
       "       [521],\n",
       "       [ 55],\n",
       "       [523],\n",
       "       [289],\n",
       "       [525],\n",
       "       [526],\n",
       "       [293],\n",
       "       [143],\n",
       "       [529],\n",
       "       [530],\n",
       "       [531],\n",
       "       [532],\n",
       "       [241],\n",
       "       [534],\n",
       "       [535],\n",
       "       [536],\n",
       "       [537],\n",
       "       [538],\n",
       "       [  4],\n",
       "       [427],\n",
       "       [541],\n",
       "       [530],\n",
       "       [543],\n",
       "       [544],\n",
       "       [545],\n",
       "       [546],\n",
       "       [423],\n",
       "       [548],\n",
       "       [ 38],\n",
       "       [ 55],\n",
       "       [551],\n",
       "       [552],\n",
       "       [553],\n",
       "       [554],\n",
       "       [555],\n",
       "       [  4],\n",
       "       [557],\n",
       "       [558],\n",
       "       [ 55],\n",
       "       [560],\n",
       "       [405],\n",
       "       [562],\n",
       "       [563],\n",
       "       [564],\n",
       "       [565],\n",
       "       [154],\n",
       "       [567],\n",
       "       [568],\n",
       "       [569],\n",
       "       [570],\n",
       "       [571],\n",
       "       [572],\n",
       "       [573],\n",
       "       [ 69],\n",
       "       [ 85],\n",
       "       [576],\n",
       "       [407],\n",
       "       [578],\n",
       "       [579],\n",
       "       [580],\n",
       "       [180],\n",
       "       [582],\n",
       "       [583],\n",
       "       [  4],\n",
       "       [ 37],\n",
       "       [ 23],\n",
       "       [  4],\n",
       "       [588],\n",
       "       [589],\n",
       "       [590],\n",
       "       [591],\n",
       "       [103],\n",
       "       [593],\n",
       "       [594],\n",
       "       [595],\n",
       "       [596],\n",
       "       [ 98],\n",
       "       [598],\n",
       "       [423],\n",
       "       [ 22],\n",
       "       [601],\n",
       "       [602],\n",
       "       [603],\n",
       "       [604],\n",
       "       [605],\n",
       "       [563],\n",
       "       [607],\n",
       "       [341],\n",
       "       [  5],\n",
       "       [610],\n",
       "       [611],\n",
       "       [612],\n",
       "       [ 55],\n",
       "       [614],\n",
       "       [615],\n",
       "       [ 27],\n",
       "       [200],\n",
       "       [618],\n",
       "       [619],\n",
       "       [620],\n",
       "       [621],\n",
       "       [622],\n",
       "       [322],\n",
       "       [300],\n",
       "       [625],\n",
       "       [215],\n",
       "       [627],\n",
       "       [209],\n",
       "       [629],\n",
       "       [630],\n",
       "       [631],\n",
       "       [ 69],\n",
       "       [633],\n",
       "       [ 69],\n",
       "       [635],\n",
       "       [636],\n",
       "       [637],\n",
       "       [241],\n",
       "       [ 85],\n",
       "       [  4],\n",
       "       [ 15],\n",
       "       [536],\n",
       "       [289],\n",
       "       [637],\n",
       "       [241],\n",
       "       [646],\n",
       "       [232],\n",
       "       [648],\n",
       "       [ 89],\n",
       "       [ 55],\n",
       "       [651],\n",
       "       [601],\n",
       "       [653],\n",
       "       [654],\n",
       "       [655],\n",
       "       [498],\n",
       "       [576],\n",
       "       [658],\n",
       "       [659],\n",
       "       [660],\n",
       "       [215],\n",
       "       [ 86],\n",
       "       [663],\n",
       "       [  4],\n",
       "       [665],\n",
       "       [666],\n",
       "       [667],\n",
       "       [132],\n",
       "       [426],\n",
       "       [670],\n",
       "       [216],\n",
       "       [216],\n",
       "       [413],\n",
       "       [ 69],\n",
       "       [675],\n",
       "       [676],\n",
       "       [677],\n",
       "       [216],\n",
       "       [ 85],\n",
       "       [190],\n",
       "       [681],\n",
       "       [245],\n",
       "       [  4],\n",
       "       [684],\n",
       "       [653],\n",
       "       [686],\n",
       "       [  4],\n",
       "       [688],\n",
       "       [689],\n",
       "       [154],\n",
       "       [691],\n",
       "       [692],\n",
       "       [693],\n",
       "       [694],\n",
       "       [408],\n",
       "       [696],\n",
       "       [697],\n",
       "       [698],\n",
       "       [699],\n",
       "       [700],\n",
       "       [701],\n",
       "       [702],\n",
       "       [407],\n",
       "       [  4],\n",
       "       [705],\n",
       "       [686],\n",
       "       [ 11],\n",
       "       [708],\n",
       "       [709],\n",
       "       [710],\n",
       "       [711],\n",
       "       [152],\n",
       "       [713],\n",
       "       [714],\n",
       "       [715],\n",
       "       [716],\n",
       "       [362],\n",
       "       [505],\n",
       "       [154],\n",
       "       [720],\n",
       "       [721],\n",
       "       [721],\n",
       "       [723],\n",
       "       [ 69],\n",
       "       [ 55],\n",
       "       [726],\n",
       "       [727],\n",
       "       [216],\n",
       "       [130],\n",
       "       [730],\n",
       "       [ 58],\n",
       "       [732],\n",
       "       [733],\n",
       "       [330],\n",
       "       [735],\n",
       "       [ 89],\n",
       "       [737],\n",
       "       [738],\n",
       "       [739],\n",
       "       [ 55],\n",
       "       [ 16],\n",
       "       [742],\n",
       "       [  4],\n",
       "       [744],\n",
       "       [745],\n",
       "       [746],\n",
       "       [747],\n",
       "       [748],\n",
       "       [409],\n",
       "       [750],\n",
       "       [751],\n",
       "       [752],\n",
       "       [753],\n",
       "       [754],\n",
       "       [755],\n",
       "       [ 85],\n",
       "       [757],\n",
       "       [758],\n",
       "       [759],\n",
       "       [473],\n",
       "       [761],\n",
       "       [762],\n",
       "       [763],\n",
       "       [764],\n",
       "       [216],\n",
       "       [766],\n",
       "       [567],\n",
       "       [768],\n",
       "       [151],\n",
       "       [770],\n",
       "       [771],\n",
       "       [285],\n",
       "       [773],\n",
       "       [773],\n",
       "       [775],\n",
       "       [209],\n",
       "       [777],\n",
       "       [778],\n",
       "       [709],\n",
       "       [780],\n",
       "       [781],\n",
       "       [782],\n",
       "       [615],\n",
       "       [784],\n",
       "       [785],\n",
       "       [  4],\n",
       "       [787],\n",
       "       [788],\n",
       "       [789],\n",
       "       [ 89],\n",
       "       [289],\n",
       "       [ 55],\n",
       "       [362],\n",
       "       [794],\n",
       "       [789],\n",
       "       [796],\n",
       "       [797],\n",
       "       [798],\n",
       "       [589],\n",
       "       [800],\n",
       "       [801],\n",
       "       [237],\n",
       "       [803],\n",
       "       [804],\n",
       "       [805],\n",
       "       [805],\n",
       "       [  4],\n",
       "       [808],\n",
       "       [ 55],\n",
       "       [810],\n",
       "       [811],\n",
       "       [812],\n",
       "       [509],\n",
       "       [489],\n",
       "       [ 98],\n",
       "       [816],\n",
       "       [ 91],\n",
       "       [818],\n",
       "       [819],\n",
       "       [ 22],\n",
       "       [821],\n",
       "       [409],\n",
       "       [ 89],\n",
       "       [824],\n",
       "       [ 69],\n",
       "       [826],\n",
       "       [827],\n",
       "       [828],\n",
       "       [829],\n",
       "       [830],\n",
       "       [ 75],\n",
       "       [832],\n",
       "       [  4],\n",
       "       [834],\n",
       "       [ 92],\n",
       "       [836],\n",
       "       [837],\n",
       "       [ 91],\n",
       "       [839],\n",
       "       [840],\n",
       "       [841],\n",
       "       [842],\n",
       "       [ 55],\n",
       "       [651],\n",
       "       [750],\n",
       "       [846],\n",
       "       [847],\n",
       "       [840],\n",
       "       [849],\n",
       "       [850],\n",
       "       [851],\n",
       "       [852],\n",
       "       [  5],\n",
       "       [714],\n",
       "       [855],\n",
       "       [856],\n",
       "       [251],\n",
       "       [858],\n",
       "       [411],\n",
       "       [153],\n",
       "       [534],\n",
       "       [862],\n",
       "       [863],\n",
       "       [864],\n",
       "       [110],\n",
       "       [866],\n",
       "       [ 82],\n",
       "       [868],\n",
       "       [869],\n",
       "       [653],\n",
       "       [871],\n",
       "       [872],\n",
       "       [873],\n",
       "       [714],\n",
       "       [875],\n",
       "       [876],\n",
       "       [877],\n",
       "       [878],\n",
       "       [423],\n",
       "       [880],\n",
       "       [881],\n",
       "       [709],\n",
       "       [883],\n",
       "       [  4],\n",
       "       [205],\n",
       "       [886],\n",
       "       [887],\n",
       "       [816],\n",
       "       [663],\n",
       "       [890],\n",
       "       [891],\n",
       "       [892],\n",
       "       [249],\n",
       "       [134],\n",
       "       [434],\n",
       "       [896],\n",
       "       [572],\n",
       "       [530],\n",
       "       [899],\n",
       "       [900],\n",
       "       [259],\n",
       "       [471],\n",
       "       [903],\n",
       "       [532],\n",
       "       [905],\n",
       "       [906],\n",
       "       [245],\n",
       "       [908],\n",
       "       [ 69],\n",
       "       [ 55],\n",
       "       [911],\n",
       "       [912],\n",
       "       [272],\n",
       "       [914],\n",
       "       [125],\n",
       "       [916],\n",
       "       [917],\n",
       "       [918],\n",
       "       [919],\n",
       "       [876],\n",
       "       [289],\n",
       "       [922],\n",
       "       [923],\n",
       "       [924],\n",
       "       [925],\n",
       "       [926],\n",
       "       [872],\n",
       "       [928],\n",
       "       [929],\n",
       "       [851],\n",
       "       [  5],\n",
       "       [ 74],\n",
       "       [819],\n",
       "       [631],\n",
       "       [935],\n",
       "       [ 37],\n",
       "       [277],\n",
       "       [ 91],\n",
       "       [939],\n",
       "       [940],\n",
       "       [ 17],\n",
       "       [245],\n",
       "       [ 32],\n",
       "       [944],\n",
       "       [ 55],\n",
       "       [946],\n",
       "       [ 69],\n",
       "       [546],\n",
       "       [  4],\n",
       "       [  4],\n",
       "       [951],\n",
       "       [243],\n",
       "       [953],\n",
       "       [954],\n",
       "       [230],\n",
       "       [956],\n",
       "       [782],\n",
       "       [958],\n",
       "       [959],\n",
       "       [960],\n",
       "       [961],\n",
       "       [962],\n",
       "       [963],\n",
       "       [964],\n",
       "       [965],\n",
       "       [966],\n",
       "       [  5],\n",
       "       [968],\n",
       "       [969],\n",
       "       [970],\n",
       "       [971],\n",
       "       [972],\n",
       "       [973],\n",
       "       [ 55],\n",
       "       [ 58],\n",
       "       [976],\n",
       "       [977],\n",
       "       [978],\n",
       "       [979],\n",
       "       [980],\n",
       "       [981],\n",
       "       [982],\n",
       "       [983],\n",
       "       [984],\n",
       "       [985],\n",
       "       [204],\n",
       "       [362],\n",
       "       [988],\n",
       "       [989],\n",
       "       [990],\n",
       "       [165],\n",
       "       [636],\n",
       "       [993],\n",
       "       [994],\n",
       "       [636],\n",
       "       [810],\n",
       "       [997],\n",
       "       [998],\n",
       "       [803]], dtype=int64)"
      ]
     },
     "execution_count": 39,
     "metadata": {},
     "output_type": "execute_result"
    }
   ],
   "source": [
    "y = np.reshape(y.copy(), (1000, 1))\n",
    "y"
   ]
  },
  {
   "cell_type": "code",
   "execution_count": 83,
   "id": "6b9de390",
   "metadata": {
    "ExecuteTime": {
     "end_time": "2021-07-31T10:12:48.535443Z",
     "start_time": "2021-07-31T10:12:48.529459Z"
    }
   },
   "outputs": [],
   "source": [
    "y_enc = to_categorical(y.copy())"
   ]
  },
  {
   "cell_type": "code",
   "execution_count": 84,
   "id": "540bd504",
   "metadata": {
    "ExecuteTime": {
     "end_time": "2021-07-31T10:12:57.292205Z",
     "start_time": "2021-07-31T10:12:57.286214Z"
    }
   },
   "outputs": [
    {
     "data": {
      "text/plain": [
       "(1000, 999)"
      ]
     },
     "execution_count": 84,
     "metadata": {},
     "output_type": "execute_result"
    }
   ],
   "source": [
    "y_enc.shape"
   ]
  },
  {
   "cell_type": "code",
   "execution_count": 87,
   "id": "19133582",
   "metadata": {
    "ExecuteTime": {
     "end_time": "2021-07-31T10:15:35.621090Z",
     "start_time": "2021-07-31T10:15:35.614108Z"
    }
   },
   "outputs": [],
   "source": [
    "#DO not tamper\n",
    "X_train, X_test, y_train_will_check, y_test_will_check = train_test_split(dataset_temp['TITLE'], y.copy(), shuffle = False, random_state = 0)"
   ]
  },
  {
   "cell_type": "code",
   "execution_count": 88,
   "id": "c1ea4b68",
   "metadata": {
    "ExecuteTime": {
     "end_time": "2021-07-31T10:15:51.872985Z",
     "start_time": "2021-07-31T10:15:51.856936Z"
    }
   },
   "outputs": [],
   "source": [
    "X_train, X_test, y_train, y_test = train_test_split(dataset_temp['TITLE'], y_enc, shuffle = False, random_state = 0)"
   ]
  },
  {
   "cell_type": "code",
   "execution_count": 89,
   "id": "985fe7d8",
   "metadata": {
    "ExecuteTime": {
     "end_time": "2021-07-31T10:15:56.960306Z",
     "start_time": "2021-07-31T10:15:56.954284Z"
    }
   },
   "outputs": [
    {
     "name": "stdout",
     "output_type": "stream",
     "text": [
      "(750,)\n",
      "(250,)\n",
      "(750, 999)\n",
      "(250, 999)\n"
     ]
    }
   ],
   "source": [
    "print(X_train.shape)\n",
    "print(X_test.shape)\n",
    "print(y_train.shape)\n",
    "print(y_test.shape)"
   ]
  },
  {
   "cell_type": "code",
   "execution_count": 90,
   "id": "d903efb9",
   "metadata": {
    "ExecuteTime": {
     "end_time": "2021-07-31T10:16:03.418173Z",
     "start_time": "2021-07-31T10:16:03.075963Z"
    }
   },
   "outputs": [
    {
     "name": "stderr",
     "output_type": "stream",
     "text": [
      "100%|██████████████████████████████████████████████████████████████████████████████| 750/750 [00:00<00:00, 3171.34it/s]\n",
      "100%|██████████████████████████████████████████████████████████████████████████████| 250/250 [00:00<00:00, 2754.56it/s]\n"
     ]
    }
   ],
   "source": [
    "xtrain_glove = [sent2vec(x) for x in tqdm(X_train.copy())]\n",
    "xtest_glove = [sent2vec(x) for x in tqdm(X_test.copy())]"
   ]
  },
  {
   "cell_type": "code",
   "execution_count": 91,
   "id": "4687dfd9",
   "metadata": {
    "ExecuteTime": {
     "end_time": "2021-07-31T10:16:07.909369Z",
     "start_time": "2021-07-31T10:16:07.900392Z"
    }
   },
   "outputs": [],
   "source": [
    "xtrain_glove = np.array(xtrain_glove)\n",
    "xtest_glove = np.array(xtest_glove)"
   ]
  },
  {
   "cell_type": "code",
   "execution_count": 92,
   "id": "b354b0cb",
   "metadata": {
    "ExecuteTime": {
     "end_time": "2021-07-31T10:16:12.562330Z",
     "start_time": "2021-07-31T10:16:12.554353Z"
    }
   },
   "outputs": [
    {
     "name": "stdout",
     "output_type": "stream",
     "text": [
      "(750, 300)\n",
      "(250, 300)\n",
      "(750, 999)\n",
      "(250, 999)\n"
     ]
    }
   ],
   "source": [
    "print(xtrain_glove.shape)\n",
    "print(xtest_glove.shape)\n",
    "print(y_train.shape)\n",
    "print(y_test.shape)"
   ]
  },
  {
   "cell_type": "code",
   "execution_count": 93,
   "id": "98bbc515",
   "metadata": {
    "ExecuteTime": {
     "end_time": "2021-07-31T10:16:17.836201Z",
     "start_time": "2021-07-31T10:16:17.823109Z"
    }
   },
   "outputs": [],
   "source": [
    "scl = preprocessing.StandardScaler()\n",
    "xtrain_glove_scl = scl.fit_transform(xtrain_glove)\n",
    "xtest_glove_scl = scl.transform(xtest_glove)"
   ]
  },
  {
   "cell_type": "code",
   "execution_count": 163,
   "id": "7e4e4516",
   "metadata": {
    "ExecuteTime": {
     "end_time": "2021-07-31T06:50:08.400752Z",
     "start_time": "2021-07-31T06:50:08.379808Z"
    }
   },
   "outputs": [],
   "source": [
    "# ytrain_enc = np_utils.to_categorical(y_train)\n",
    "# ytest_enc = np_utils.to_categorical(y_test)"
   ]
  },
  {
   "cell_type": "code",
   "execution_count": 94,
   "id": "4dea0249",
   "metadata": {
    "ExecuteTime": {
     "end_time": "2021-07-31T10:16:24.748611Z",
     "start_time": "2021-07-31T10:16:24.644657Z"
    }
   },
   "outputs": [
    {
     "name": "stdout",
     "output_type": "stream",
     "text": [
      "Model Initialised\n",
      "3 layers added\n",
      "3 layers added\n",
      "Softmax added\n",
      "Model compiling\n",
      "DONE\n"
     ]
    }
   ],
   "source": [
    "model = Sequential()\n",
    "print('Model Initialised')\n",
    "\n",
    "model.add(Dense(300, input_dim=300, activation='relu'))\n",
    "model.add(Dropout(0.2))\n",
    "model.add(BatchNormalization())\n",
    "print('3 layers added')\n",
    "\n",
    "model.add(Dense(300, activation='relu'))\n",
    "model.add(Dropout(0.3))\n",
    "model.add(BatchNormalization())\n",
    "print('3 layers added')\n",
    "\n",
    "model.add(Dense(999))\n",
    "model.add(Activation('softmax'))\n",
    "print('Softmax added')\n",
    "\n",
    "# compile the model\n",
    "print('Model compiling')\n",
    "model.compile(loss='categorical_crossentropy', optimizer='adam')\n",
    "print('DONE')"
   ]
  },
  {
   "cell_type": "code",
   "execution_count": 95,
   "id": "6e938f0e",
   "metadata": {
    "ExecuteTime": {
     "end_time": "2021-07-31T10:16:34.323403Z",
     "start_time": "2021-07-31T10:16:31.955197Z"
    }
   },
   "outputs": [
    {
     "name": "stdout",
     "output_type": "stream",
     "text": [
      "Epoch 1/2\n",
      "12/12 - 2s - loss: 7.0540 - val_loss: 6.8491\n",
      "Epoch 2/2\n",
      "12/12 - 0s - loss: 6.1662 - val_loss: 6.7466\n"
     ]
    },
    {
     "data": {
      "text/plain": [
       "<keras.callbacks.History at 0x287d8e2b220>"
      ]
     },
     "execution_count": 95,
     "metadata": {},
     "output_type": "execute_result"
    }
   ],
   "source": [
    "model.fit(xtrain_glove_scl, y=y_train, batch_size=64, \n",
    "          epochs=2, verbose=2, \n",
    "          validation_data=(xtest_glove_scl, y_test))"
   ]
  },
  {
   "cell_type": "code",
   "execution_count": 96,
   "id": "bd1b62ed",
   "metadata": {
    "ExecuteTime": {
     "end_time": "2021-07-31T10:16:43.477117Z",
     "start_time": "2021-07-31T10:16:43.035531Z"
    }
   },
   "outputs": [
    {
     "name": "stderr",
     "output_type": "stream",
     "text": [
      "c:\\users\\ayush.bajpayee\\.conda\\envs\\amazon_hackathon\\lib\\site-packages\\keras\\engine\\sequential.py:450: UserWarning: `model.predict_classes()` is deprecated and will be removed after 2021-01-01. Please use instead:* `np.argmax(model.predict(x), axis=-1)`,   if your model does multi-class classification   (e.g. if it uses a `softmax` last-layer activation).* `(model.predict(x) > 0.5).astype(\"int32\")`,   if your model does binary classification   (e.g. if it uses a `sigmoid` last-layer activation).\n",
      "  warnings.warn('`model.predict_classes()` is deprecated and '\n"
     ]
    }
   ],
   "source": [
    "y_pred = model.predict_classes(xtest_glove_scl)"
   ]
  },
  {
   "cell_type": "code",
   "execution_count": 98,
   "id": "08cbc9b9",
   "metadata": {
    "ExecuteTime": {
     "end_time": "2021-07-31T10:17:09.395316Z",
     "start_time": "2021-07-31T10:17:09.388915Z"
    }
   },
   "outputs": [
    {
     "data": {
      "text/plain": [
       "array([750, 751, 752, 753, 754, 755,  85, 757, 758, 759, 473, 761, 762,\n",
       "       763, 764, 216, 766, 567, 768, 151, 770, 771, 285, 773, 773, 775,\n",
       "       209, 777, 778, 709, 780, 781, 782, 615, 784, 785,   4, 787, 788,\n",
       "       789,  89, 289,  55, 362, 794, 789, 796, 797, 798, 589, 800, 801,\n",
       "       237, 803, 804, 805, 805,   4, 808,  55, 810, 811, 812, 509, 489,\n",
       "        98, 816,  91, 818, 819,  22, 821, 409,  89, 824,  69, 826, 827,\n",
       "       828, 829, 830,  75, 832,   4, 834,  92, 836, 837,  91, 839, 840,\n",
       "       841, 842,  55, 651, 750, 846, 847, 840, 849, 850, 851, 852,   5,\n",
       "       714, 855, 856, 251, 858, 411, 153, 534, 862, 863, 864, 110, 866,\n",
       "        82, 868, 869, 653, 871, 872, 873, 714, 875, 876, 877, 878, 423,\n",
       "       880, 881, 709, 883,   4, 205, 886, 887, 816, 663, 890, 891, 892,\n",
       "       249, 134, 434, 896, 572, 530, 899, 900, 259, 471, 903, 532, 905,\n",
       "       906, 245, 908,  69,  55, 911, 912, 272, 914, 125, 916, 917, 918,\n",
       "       919, 876, 289, 922, 923, 924, 925, 926, 872, 928, 929, 851,   5,\n",
       "        74, 819, 631, 935,  37, 277,  91, 939, 940,  17, 245,  32, 944,\n",
       "        55, 946,  69, 546,   4,   4, 951, 243, 953, 954, 230, 956, 782,\n",
       "       958, 959, 960, 961, 962, 963, 964, 965, 966,   5, 968, 969, 970,\n",
       "       971, 972, 973,  55,  58, 976, 977, 978, 979, 980, 981, 982, 983,\n",
       "       984, 985, 204, 362, 988, 989, 990, 165, 636, 993, 994, 636, 810,\n",
       "       997, 998, 803], dtype=int64)"
      ]
     },
     "execution_count": 98,
     "metadata": {},
     "output_type": "execute_result"
    }
   ],
   "source": [
    "y_test_will_check"
   ]
  },
  {
   "cell_type": "code",
   "execution_count": 97,
   "id": "0253cd96",
   "metadata": {
    "ExecuteTime": {
     "end_time": "2021-07-31T10:16:47.533151Z",
     "start_time": "2021-07-31T10:16:47.527178Z"
    }
   },
   "outputs": [
    {
     "data": {
      "text/plain": [
       "array([195,  40, 711, 135, 477, 209, 201,  31,  64, 506,  82, 289, 390,\n",
       "       179, 413, 413,  55, 506, 189, 359, 135, 893, 154, 282,  84, 201,\n",
       "       209, 242, 234, 421, 948, 543, 553, 311, 771,  10,   4, 365, 506,\n",
       "       366,  89, 289, 714, 413, 187, 467, 506, 187, 471, 245, 939, 650,\n",
       "        64, 477,  40, 477, 362, 384,  35,  55, 248, 180,  31, 289, 255,\n",
       "       543, 289, 242, 277, 442, 187, 490,  23, 153, 506, 918, 477,  31,\n",
       "       635, 365,  69, 417, 284,   4, 506, 684, 466, 187, 366,  39, 359,\n",
       "       241, 506, 289, 209, 366, 746, 801, 365, 179,  89, 671, 477, 732,\n",
       "        69, 676,  61,  55,  31, 413,  55, 711, 362, 289,  35, 506, 187,\n",
       "        84, 365, 506,  64, 379, 477, 365, 362, 379, 289, 915, 506, 187,\n",
       "       506, 241, 165, 100,   4,  55, 506, 390, 477,  69,  31, 750, 323,\n",
       "        35, 708, 241,  40, 209, 522, 349, 276,  31, 506, 241, 861, 207,\n",
       "       506, 245,  55,  69,  55, 708, 540, 187, 365,  92,  55, 788, 477,\n",
       "       788, 379, 289,  55, 540, 255, 506, 247, 301, 465, 506, 100,  40,\n",
       "       551, 506,  38,  84, 506, 366, 379, 523, 365, 567, 506, 390, 374,\n",
       "        55, 187,  55, 248,   4,   4, 714, 544, 264, 684, 266, 152, 553,\n",
       "       468, 506, 366, 466,  55, 216, 226, 328, 772,  92, 690, 289, 818,\n",
       "       622, 241, 671, 466,  84, 806,  23, 565, 698, 445, 506, 390, 301,\n",
       "       421, 506, 627, 362, 801, 189,  55, 390, 477, 154, 179, 801, 289,\n",
       "       806, 240, 153], dtype=int64)"
      ]
     },
     "execution_count": 97,
     "metadata": {},
     "output_type": "execute_result"
    }
   ],
   "source": [
    "y_pred"
   ]
  },
  {
   "cell_type": "code",
   "execution_count": 77,
   "id": "b23d1f4b",
   "metadata": {
    "ExecuteTime": {
     "end_time": "2021-07-31T10:03:09.018776Z",
     "start_time": "2021-07-31T10:03:09.011796Z"
    }
   },
   "outputs": [
    {
     "data": {
      "text/plain": [
       "array([[0.00100771, 0.00159982, 0.00112739, ..., 0.00084192, 0.0005378 ,\n",
       "        0.00143024],\n",
       "       [0.00118619, 0.0016276 , 0.00096432, ..., 0.0009725 , 0.00076593,\n",
       "        0.00197639],\n",
       "       [0.00086341, 0.00112254, 0.00102953, ..., 0.00110695, 0.00095087,\n",
       "        0.00121763],\n",
       "       ...,\n",
       "       [0.0012835 , 0.00161267, 0.00072695, ..., 0.00106035, 0.00089834,\n",
       "        0.00104407],\n",
       "       [0.00138175, 0.00111768, 0.00120819, ..., 0.00101625, 0.00088383,\n",
       "        0.00100281],\n",
       "       [0.00089691, 0.00125742, 0.00098179, ..., 0.0011121 , 0.00098312,\n",
       "        0.00116523]], dtype=float32)"
      ]
     },
     "execution_count": 77,
     "metadata": {},
     "output_type": "execute_result"
    }
   ],
   "source": [
    "%%time\n",
    "\n",
    "#Train Accuracy\n",
    "y_pred = model.predict(xtest_glove_scl)\n",
    "print('accuracy %s' % accuracy_score(y_pred, y_train))"
   ]
  },
  {
   "cell_type": "code",
   "execution_count": 99,
   "id": "134cb983",
   "metadata": {
    "ExecuteTime": {
     "end_time": "2021-07-31T10:17:42.861707Z",
     "start_time": "2021-07-31T10:17:42.844733Z"
    }
   },
   "outputs": [
    {
     "name": "stdout",
     "output_type": "stream",
     "text": [
      "accuracy 0.06\n",
      "Wall time: 12 ms\n"
     ]
    }
   ],
   "source": [
    "%%time\n",
    "\n",
    "# #Test Accuracy\n",
    "# y_pred = clf.predict(X_test_tfidf)\n",
    "print('accuracy %s' % accuracy_score(y_pred, y_test_will_check))"
   ]
  },
  {
   "cell_type": "code",
   "execution_count": null,
   "id": "ea3f7ae2",
   "metadata": {},
   "outputs": [],
   "source": []
  }
 ],
 "metadata": {
  "kernelspec": {
   "display_name": "Python 3 (ipykernel)",
   "language": "python",
   "name": "python3"
  },
  "language_info": {
   "codemirror_mode": {
    "name": "ipython",
    "version": 3
   },
   "file_extension": ".py",
   "mimetype": "text/x-python",
   "name": "python",
   "nbconvert_exporter": "python",
   "pygments_lexer": "ipython3",
   "version": "3.8.0"
  },
  "toc": {
   "base_numbering": 1,
   "nav_menu": {},
   "number_sections": true,
   "sideBar": true,
   "skip_h1_title": false,
   "title_cell": "Table of Contents",
   "title_sidebar": "Contents",
   "toc_cell": false,
   "toc_position": {
    "height": "calc(100% - 180px)",
    "left": "10px",
    "top": "150px",
    "width": "181px"
   },
   "toc_section_display": true,
   "toc_window_display": false
  },
  "varInspector": {
   "cols": {
    "lenName": 16,
    "lenType": 16,
    "lenVar": 40
   },
   "kernels_config": {
    "python": {
     "delete_cmd_postfix": "",
     "delete_cmd_prefix": "del ",
     "library": "var_list.py",
     "varRefreshCmd": "print(var_dic_list())"
    },
    "r": {
     "delete_cmd_postfix": ") ",
     "delete_cmd_prefix": "rm(",
     "library": "var_list.r",
     "varRefreshCmd": "cat(var_dic_list()) "
    }
   },
   "oldHeight": 122.667,
   "position": {
    "height": "64px",
    "left": "916px",
    "right": "20px",
    "top": "176px",
    "width": "306px"
   },
   "types_to_exclude": [
    "module",
    "function",
    "builtin_function_or_method",
    "instance",
    "_Feature"
   ],
   "varInspector_section_display": "none",
   "window_display": false
  }
 },
 "nbformat": 4,
 "nbformat_minor": 5
}
